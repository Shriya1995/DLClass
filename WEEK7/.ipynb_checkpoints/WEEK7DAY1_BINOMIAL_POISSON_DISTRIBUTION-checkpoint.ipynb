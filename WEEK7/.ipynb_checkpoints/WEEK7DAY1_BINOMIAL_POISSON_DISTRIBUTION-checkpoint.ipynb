{
 "cells": [
  {
   "cell_type": "code",
   "execution_count": 10,
   "metadata": {},
   "outputs": [],
   "source": [
    "import scipy.stats as stats\n",
    "import numpy as np\n",
    "import pandas as pd\n",
    "import matplotlib.pyplot as plt\n",
    "import seaborn as sns\n"
   ]
  },
  {
   "cell_type": "markdown",
   "metadata": {},
   "source": [
    "# None of the bulbs defective:"
   ]
  },
  {
   "cell_type": "code",
   "execution_count": 4,
   "metadata": {},
   "outputs": [],
   "source": [
    "p=0.05 #failure rate for LED light bulbs that company manufacture is 5%\n",
    "n=10  #sample size\n",
    "k=np.arange(0,11) #an array of quantiles"
   ]
  },
  {
   "cell_type": "code",
   "execution_count": 5,
   "metadata": {},
   "outputs": [],
   "source": [
    "binomial=stats.binom.pmf(k,n,p)"
   ]
  },
  {
   "cell_type": "code",
   "execution_count": 7,
   "metadata": {},
   "outputs": [
    {
     "name": "stdout",
     "output_type": "stream",
     "text": [
      "[5.98736939e-01 3.15124705e-01 7.46347985e-02 1.04750594e-02\n",
      " 9.64808106e-04 6.09352488e-05 2.67259863e-06 8.03789063e-08\n",
      " 1.58642578e-09 1.85546875e-11 9.76562500e-14]\n"
     ]
    }
   ],
   "source": [
    "print(binomial)"
   ]
  },
  {
   "cell_type": "code",
   "execution_count": 13,
   "metadata": {},
   "outputs": [
    {
     "data": {
      "text/plain": [
       "[<matplotlib.lines.Line2D at 0x1a1f950048>]"
      ]
     },
     "execution_count": 13,
     "metadata": {},
     "output_type": "execute_result"
    },
    {
     "data": {
      "image/png": "[encoded data removed]",
      "text/plain": [
       "<Figure size 432x288 with 1 Axes>"
      ]
     },
     "metadata": {
      "needs_background": "light"
     },
     "output_type": "display_data"
    }
   ],
   "source": [
    "plt.plot(binomial)"
   ]
  },
  {
   "cell_type": "code",
   "execution_count": 14,
   "metadata": {},
   "outputs": [
    {
     "name": "stdout",
     "output_type": "stream",
     "text": [
      " a) None of the bulbs defective  is 0.5987\n"
     ]
    }
   ],
   "source": [
    "print(\" a) None of the bulbs defective  is %1.4f\" %binomial[0])"
   ]
  },
  {
   "cell_type": "code",
   "execution_count": 15,
   "metadata": {},
   "outputs": [
    {
     "data": {
      "text/plain": [
       "array([0.59873694, 0.91386164, 0.98849644, 0.9989715 , 0.99993631,\n",
       "       0.99999725, 0.99999992, 1.        , 1.        , 1.        ,\n",
       "       1.        ])"
      ]
     },
     "execution_count": 15,
     "metadata": {},
     "output_type": "execute_result"
    }
   ],
   "source": [
    "cumbinomial=stats.binom.cdf(k,n,p)\n",
    "cumbinomial"
   ]
  },
  {
   "cell_type": "code",
   "execution_count": 24,
   "metadata": {},
   "outputs": [
    {
     "name": "stdout",
     "output_type": "stream",
     "text": [
      " a) Two or fewer  of the bulbs defective  is 0.9885\n"
     ]
    }
   ],
   "source": [
    "print(\" a) Two or fewer  of the bulbs defective  is %1.4f\" %(binomial[0]+binomial[1]+binomial[2]))"
   ]
  },
  {
   "cell_type": "code",
   "execution_count": null,
   "metadata": {},
   "outputs": [],
   "source": [
    "#2 or less than 2"
   ]
  },
  {
   "cell_type": "code",
   "execution_count": 25,
   "metadata": {},
   "outputs": [
    {
     "data": {
      "text/plain": [
       "0.9884964426207031"
      ]
     },
     "execution_count": 25,
     "metadata": {},
     "output_type": "execute_result"
    }
   ],
   "source": [
    "cumbinomial[2]"
   ]
  },
  {
   "cell_type": "code",
   "execution_count": 26,
   "metadata": {},
   "outputs": [],
   "source": [
    "#prob 3 and above"
   ]
  },
  {
   "cell_type": "code",
   "execution_count": 27,
   "metadata": {},
   "outputs": [
    {
     "data": {
      "text/plain": [
       "0.01150355737929687"
      ]
     },
     "execution_count": 27,
     "metadata": {},
     "output_type": "execute_result"
    }
   ],
   "source": [
    "1-cumbinomial[2]"
   ]
  },
  {
   "cell_type": "code",
   "execution_count": 28,
   "metadata": {},
   "outputs": [
    {
     "data": {
      "text/plain": [
       "Text(0, 0.5, 'Probability')"
      ]
     },
     "execution_count": 28,
     "metadata": {},
     "output_type": "execute_result"
    },
    {
     "data": {
      "image/png": "[encoded data removed]",
      "text/plain": [
       "<Figure size 432x288 with 1 Axes>"
      ]
     },
     "metadata": {
      "needs_background": "light"
     },
     "output_type": "display_data"
    }
   ],
   "source": [
    "plt.plot(k,binomial,\"o-\")\n",
    "plt.title(\"Binomial Dist\")\n",
    "plt.xlabel(\"No. of LED def bulbs\")\n",
    "plt.ylabel(\"Probability\")"
   ]
  },
  {
   "cell_type": "code",
   "execution_count": 29,
   "metadata": {},
   "outputs": [
    {
     "data": {
      "image/png": "[encoded data removed]",
      "text/plain": [
       "<Figure size 432x288 with 1 Axes>"
      ]
     },
     "metadata": {
      "needs_background": "light"
     },
     "output_type": "display_data"
    }
   ],
   "source": [
    "plt.stem(k,binomial,\"o-\")\n",
    "plt.title(\"Binomial Dist\")\n",
    "plt.xlabel(\"No. of LED def bulbs\")\n",
    "plt.ylabel(\"Probability\")\n",
    "plt.show()"
   ]
  },
  {
   "cell_type": "code",
   "execution_count": 36,
   "metadata": {},
   "outputs": [],
   "source": [
    "p=0.85\n",
    "n=50\n",
    "k=np.arange(0,51)"
   ]
  },
  {
   "cell_type": "code",
   "execution_count": 37,
   "metadata": {},
   "outputs": [
    {
     "data": {
      "text/plain": [
       "array([6.37621500e-42, 1.80659425e-39, 2.50815502e-37, 2.27406055e-35,\n",
       "       1.51414532e-33, 7.89374425e-32, 3.35484131e-30, 1.19496252e-28,\n",
       "       3.63965668e-27, 9.62486989e-26, 2.23617810e-24, 4.60788216e-23,\n",
       "       8.48618297e-22, 1.40566005e-20, 2.10514327e-19, 2.86299484e-18,\n",
       "       3.54892069e-17, 4.02211012e-16, 4.17852551e-15, 3.98792610e-14,\n",
       "       3.50272842e-13, 2.83554206e-12, 2.11806399e-11, 1.46115719e-10,\n",
       "       9.31487708e-10, 5.48956756e-09, 2.99111053e-08, 1.50663345e-07,\n",
       "       7.01301999e-07, 3.01479250e-06, 1.19586769e-05, 4.37198941e-05,\n",
       "       1.47099227e-04, 4.54670338e-04, 1.28823263e-03, 3.33713594e-03,\n",
       "       7.87934876e-03, 1.68944595e-02, 3.27515399e-02, 5.71052491e-02,\n",
       "       8.89890131e-02, 1.22992945e-01, 1.49348576e-01, 1.57452762e-01,\n",
       "       1.41946051e-01, 1.07248127e-01, 6.60586292e-02, 3.18580623e-02,\n",
       "       1.12830637e-02, 2.60968821e-03, 2.95764664e-04])"
      ]
     },
     "execution_count": 37,
     "metadata": {},
     "output_type": "execute_result"
    }
   ],
   "source": [
    "binomial1=stats.binom.pmf(k,n,p)\n",
    "binomial1"
   ]
  },
  {
   "cell_type": "code",
   "execution_count": 38,
   "metadata": {},
   "outputs": [
    {
     "data": {
      "text/plain": [
       "[<matplotlib.lines.Line2D at 0x1a20aaf2e8>]"
      ]
     },
     "execution_count": 38,
     "metadata": {},
     "output_type": "execute_result"
    },
    {
     "data": {
      "image/png": "[encoded data removed]",
      "text/plain": [
       "<Figure size 432x288 with 1 Axes>"
      ]
     },
     "metadata": {
      "needs_background": "light"
     },
     "output_type": "display_data"
    }
   ],
   "source": [
    "plt.plot(binomial1)"
   ]
  },
  {
   "cell_type": "code",
   "execution_count": 39,
   "metadata": {},
   "outputs": [
    {
     "data": {
      "text/plain": [
       "<StemContainer object of 3 artists>"
      ]
     },
     "execution_count": 39,
     "metadata": {},
     "output_type": "execute_result"
    },
    {
     "data": {
      "image/png": "[encoded data removed]",
      "text/plain": [
       "<Figure size 432x288 with 1 Axes>"
      ]
     },
     "metadata": {
      "needs_background": "light"
     },
     "output_type": "display_data"
    }
   ],
   "source": [
    "plt.stem(k,binomial1,\"o-\")"
   ]
  },
  {
   "cell_type": "code",
   "execution_count": 44,
   "metadata": {},
   "outputs": [
    {
     "data": {
      "text/plain": [
       "array([6.37621500e-42, 1.81297047e-39, 2.52628472e-37, 2.29932340e-35,\n",
       "       1.53713855e-33, 8.04745810e-32, 3.43531589e-30, 1.22931568e-28,\n",
       "       3.76258825e-27, 1.00011287e-25, 2.33618939e-24, 4.84150109e-23,\n",
       "       8.97033308e-22, 1.49536338e-20, 2.25467960e-19, 3.08846280e-18,\n",
       "       3.85776697e-17, 4.40788681e-16, 4.61931419e-15, 4.44985752e-14,\n",
       "       3.94771418e-13, 3.23031348e-12, 2.44109534e-11, 1.70526672e-10,\n",
       "       1.10201438e-09, 6.59158194e-09, 3.65026872e-08, 1.87166032e-07,\n",
       "       8.88468032e-07, 3.90326053e-06, 1.58619375e-05, 5.95818316e-05,\n",
       "       2.06681059e-04, 6.61351397e-04, 1.94958402e-03, 5.28671997e-03,\n",
       "       1.31660687e-02, 3.00605282e-02, 6.28120681e-02, 1.19917317e-01,\n",
       "       2.08906330e-01, 3.31899275e-01, 4.81247851e-01, 6.38700614e-01,\n",
       "       7.80646665e-01, 8.87894792e-01, 9.53953421e-01, 9.85811483e-01,\n",
       "       9.97094547e-01, 9.99704235e-01, 1.00000000e+00])"
      ]
     },
     "execution_count": 44,
     "metadata": {},
     "output_type": "execute_result"
    }
   ],
   "source": [
    "c=stats.binom.cdf(k,n,p)\n",
    "c"
   ]
  },
  {
   "cell_type": "code",
   "execution_count": 46,
   "metadata": {},
   "outputs": [
    {
     "data": {
      "text/plain": [
       "0.8878947919450226"
      ]
     },
     "execution_count": 46,
     "metadata": {},
     "output_type": "execute_result"
    }
   ],
   "source": [
    "c[45]"
   ]
  },
  {
   "cell_type": "code",
   "execution_count": 47,
   "metadata": {},
   "outputs": [
    {
     "data": {
      "text/plain": [
       "0.10724812734645767"
      ]
     },
     "execution_count": 47,
     "metadata": {},
     "output_type": "execute_result"
    }
   ],
   "source": [
    "binomial1[45]"
   ]
  },
  {
   "cell_type": "code",
   "execution_count": 48,
   "metadata": {},
   "outputs": [
    {
     "data": {
      "text/plain": [
       "0.0002957646637126987"
      ]
     },
     "execution_count": 48,
     "metadata": {},
     "output_type": "execute_result"
    }
   ],
   "source": [
    "binomial1[50]"
   ]
  },
  {
   "cell_type": "code",
   "execution_count": 49,
   "metadata": {},
   "outputs": [
    {
     "data": {
      "text/plain": [
       "array([2.95764664e-04, 2.60968821e-03, 1.12830637e-02, 3.18580623e-02,\n",
       "       6.60586292e-02, 1.07248127e-01, 1.41946051e-01, 1.57452762e-01,\n",
       "       1.49348576e-01, 1.22992945e-01, 8.89890131e-02, 5.71052491e-02,\n",
       "       3.27515399e-02, 1.68944595e-02, 7.87934876e-03, 3.33713594e-03,\n",
       "       1.28823263e-03, 4.54670338e-04, 1.47099227e-04, 4.37198941e-05,\n",
       "       1.19586769e-05, 3.01479250e-06, 7.01301999e-07, 1.50663345e-07,\n",
       "       2.99111053e-08, 5.48956756e-09, 9.31487708e-10, 1.46115719e-10,\n",
       "       2.11806399e-11, 2.83554206e-12, 3.50272842e-13, 3.98792610e-14,\n",
       "       4.17852551e-15, 4.02211012e-16, 3.54892069e-17, 2.86299484e-18,\n",
       "       2.10514327e-19, 1.40566005e-20, 8.48618297e-22, 4.60788216e-23,\n",
       "       2.23617810e-24, 9.62486989e-26, 3.63965668e-27, 1.19496252e-28,\n",
       "       3.35484131e-30, 7.89374425e-32, 1.51414532e-33, 2.27406055e-35,\n",
       "       2.50815502e-37, 1.80659425e-39, 6.37621500e-42])"
      ]
     },
     "execution_count": 49,
     "metadata": {},
     "output_type": "execute_result"
    }
   ],
   "source": [
    "p=0.15\n",
    "n=50\n",
    "k=np.arange(0,51)\n",
    "d=stats.binom.pmf(k,n,p)\n",
    "d"
   ]
  },
  {
   "cell_type": "code",
   "execution_count": 50,
   "metadata": {},
   "outputs": [
    {
     "data": {
      "text/plain": [
       "<StemContainer object of 3 artists>"
      ]
     },
     "execution_count": 50,
     "metadata": {},
     "output_type": "execute_result"
    },
    {
     "data": {
      "image/png": "[encoded data removed]",
      "text/plain": [
       "<Figure size 432x288 with 1 Axes>"
      ]
     },
     "metadata": {
      "needs_background": "light"
     },
     "output_type": "display_data"
    }
   ],
   "source": [
    "plt.stem(k,d,\"o-\")"
   ]
  },
  {
   "cell_type": "code",
   "execution_count": 51,
   "metadata": {},
   "outputs": [
    {
     "data": {
      "text/plain": [
       "0.0889890131316154"
      ]
     },
     "execution_count": 51,
     "metadata": {},
     "output_type": "execute_result"
    }
   ],
   "source": [
    "d[10]"
   ]
  },
  {
   "cell_type": "code",
   "execution_count": 55,
   "metadata": {},
   "outputs": [
    {
     "data": {
      "text/plain": [
       "6.375"
      ]
     },
     "execution_count": 55,
     "metadata": {},
     "output_type": "execute_result"
    }
   ],
   "source": [
    "s=(50*0.15)*(0.85)\n",
    "s"
   ]
  },
  {
   "cell_type": "code",
   "execution_count": 56,
   "metadata": {},
   "outputs": [],
   "source": [
    "i=s**0.5"
   ]
  },
  {
   "cell_type": "code",
   "execution_count": 57,
   "metadata": {},
   "outputs": [
    {
     "data": {
      "text/plain": [
       "2.5248762345905194"
      ]
     },
     "execution_count": 57,
     "metadata": {},
     "output_type": "execute_result"
    }
   ],
   "source": [
    "i"
   ]
  },
  {
   "cell_type": "markdown",
   "metadata": {},
   "source": [
    "# Question: On an average, 6 customers arrive every 1 minute at the bank.\n",
    "# what is the probability that  exactly 4 customers arrive in a given minute?"
   ]
  },
  {
   "cell_type": "code",
   "execution_count": 59,
   "metadata": {},
   "outputs": [],
   "source": [
    "n=np.arange(0,50)\n",
    "rate=6\n"
   ]
  },
  {
   "cell_type": "code",
   "execution_count": 60,
   "metadata": {},
   "outputs": [
    {
     "data": {
      "text/plain": [
       "array([2.47875218e-03, 1.48725131e-02, 4.46175392e-02, 8.92350784e-02,\n",
       "       1.33852618e-01, 1.60623141e-01, 1.60623141e-01, 1.37676978e-01,\n",
       "       1.03257734e-01, 6.88384890e-02, 4.13030934e-02, 2.25289600e-02,\n",
       "       1.12644800e-02, 5.19899078e-03, 2.22813891e-03, 8.91255562e-04,\n",
       "       3.34220836e-04, 1.17960295e-04, 3.93200983e-05, 1.24168732e-05,\n",
       "       3.72506195e-06, 1.06430341e-06, 2.90264567e-07, 7.57211915e-08,\n",
       "       1.89302979e-08, 4.54327149e-09, 1.04844727e-09, 2.32988281e-10,\n",
       "       4.99260603e-11, 1.03295297e-11, 2.06590594e-12, 3.99852763e-13,\n",
       "       7.49723931e-14, 1.36313442e-14, 2.40553133e-15, 4.12376799e-16,\n",
       "       6.87294666e-17, 1.11453189e-17, 1.75978720e-18, 2.70736492e-19,\n",
       "       4.06104737e-20, 5.94299616e-21, 8.48999451e-22, 1.18465040e-22,\n",
       "       1.61543236e-23, 2.15390981e-24, 2.80944758e-25, 3.58652883e-26,\n",
       "       4.48316103e-27, 5.48958494e-28])"
      ]
     },
     "execution_count": 60,
     "metadata": {},
     "output_type": "execute_result"
    }
   ],
   "source": [
    "p=stats.poisson.pmf(n,rate)\n",
    "p"
   ]
  },
  {
   "cell_type": "code",
   "execution_count": 61,
   "metadata": {},
   "outputs": [
    {
     "data": {
      "text/plain": [
       "<StemContainer object of 3 artists>"
      ]
     },
     "execution_count": 61,
     "metadata": {},
     "output_type": "execute_result"
    },
    {
     "data": {
      "image/png": "[encoded data removed]",
      "text/plain": [
       "<Figure size 432x288 with 1 Axes>"
      ]
     },
     "metadata": {
      "needs_background": "light"
     },
     "output_type": "display_data"
    }
   ],
   "source": [
    "plt.stem(n,p,\"o-\")"
   ]
  },
  {
   "cell_type": "code",
   "execution_count": 62,
   "metadata": {},
   "outputs": [
    {
     "data": {
      "text/plain": [
       "0.13385261753998332"
      ]
     },
     "execution_count": 62,
     "metadata": {},
     "output_type": "execute_result"
    }
   ],
   "source": [
    "p[4] #Exactly 4 customers arrive in a given minute"
   ]
  },
  {
   "cell_type": "code",
   "execution_count": 63,
   "metadata": {},
   "outputs": [
    {
     "data": {
      "text/plain": [
       "0.08923507835998894"
      ]
     },
     "execution_count": 63,
     "metadata": {},
     "output_type": "execute_result"
    }
   ],
   "source": [
    "p[3] #exactly 3"
   ]
  },
  {
   "cell_type": "code",
   "execution_count": null,
   "metadata": {},
   "outputs": [],
   "source": []
  }
 ],
 "metadata": {
  "kernelspec": {
   "display_name": "Python 3",
   "language": "python",
   "name": "python3"
  },
  "language_info": {
   "codemirror_mode": {
    "name": "ipython",
    "version": 3
   },
   "file_extension": ".py",
   "mimetype": "text/x-python",
   "name": "python",
   "nbconvert_exporter": "python",
   "pygments_lexer": "ipython3",
   "version": "3.7.3"
  }
 },
 "nbformat": 4,
 "nbformat_minor": 2
}
