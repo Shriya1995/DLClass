{
 "cells": [
  {
   "cell_type": "code",
   "execution_count": 1,
   "metadata": {
    "colab": {},
    "colab_type": "code",
    "id": "yItwwRnC-2bU"
   },
   "outputs": [],
   "source": [
    "#importing libs\n",
    "import pandas as pd\n",
    "import numpy as np\n",
    "import seaborn as sns\n",
    "import matplotlib.pyplot as plt\n",
    "import scipy.stats as stats\n",
    "import math"
   ]
  },
  {
   "cell_type": "code",
   "execution_count": 2,
   "metadata": {
    "colab": {},
    "colab_type": "code",
    "id": "GbSaKdCuPYYY"
   },
   "outputs": [],
   "source": [
    "df = pd.read_csv(\"Laliga.csv\")"
   ]
  },
  {
   "cell_type": "code",
   "execution_count": 3,
   "metadata": {
    "colab": {
     "base_uri": "https://localhost:8080/",
     "height": 266
    },
    "colab_type": "code",
    "id": "ELvPt_EMPmGb",
    "outputId": "469f3e07-cb77-42aa-d322-d41043563c9e"
   },
   "outputs": [
    {
     "data": {
      "text/html": [
       "<div>\n",
       "<style scoped>\n",
       "    .dataframe tbody tr th:only-of-type {\n",
       "        vertical-align: middle;\n",
       "    }\n",
       "\n",
       "    .dataframe tbody tr th {\n",
       "        vertical-align: top;\n",
       "    }\n",
       "\n",
       "    .dataframe thead th {\n",
       "        text-align: right;\n",
       "    }\n",
       "</style>\n",
       "<table border=\"1\" class=\"dataframe\">\n",
       "  <thead>\n",
       "    <tr style=\"text-align: right;\">\n",
       "      <th></th>\n",
       "      <th>Unnamed: 0</th>\n",
       "      <th>Unnamed: 1</th>\n",
       "      <th>Unnamed: 2</th>\n",
       "      <th>Unnamed: 3</th>\n",
       "      <th>Unnamed: 4</th>\n",
       "      <th>Unnamed: 5</th>\n",
       "      <th>Unnamed: 6</th>\n",
       "      <th>Unnamed: 7</th>\n",
       "      <th>Unnamed: 8</th>\n",
       "      <th>Unnamed: 9</th>\n",
       "      <th>Unnamed: 10</th>\n",
       "      <th>Unnamed: 11</th>\n",
       "      <th>Unnamed: 12</th>\n",
       "      <th>Unnamed: 13</th>\n",
       "      <th>Unnamed: 14</th>\n",
       "      <th>Unnamed: 15</th>\n",
       "      <th>Unnamed: 16</th>\n",
       "      <th>Unnamed: 17</th>\n",
       "      <th>Unnamed: 18</th>\n",
       "      <th>Unnamed: 19</th>\n",
       "    </tr>\n",
       "  </thead>\n",
       "  <tbody>\n",
       "    <tr>\n",
       "      <th>0</th>\n",
       "      <td>Pos</td>\n",
       "      <td>Team</td>\n",
       "      <td>Seasons</td>\n",
       "      <td>Points</td>\n",
       "      <td>GamesPlayed</td>\n",
       "      <td>GamesWon</td>\n",
       "      <td>GamesDrawn</td>\n",
       "      <td>GamesLost</td>\n",
       "      <td>GoalsFor</td>\n",
       "      <td>GoalsAgainst</td>\n",
       "      <td>Champion</td>\n",
       "      <td>Runner-up</td>\n",
       "      <td>Third</td>\n",
       "      <td>Fourth</td>\n",
       "      <td>Fifth</td>\n",
       "      <td>Sixth</td>\n",
       "      <td>T</td>\n",
       "      <td>Debut</td>\n",
       "      <td>Since/LastApp</td>\n",
       "      <td>BestPosition</td>\n",
       "    </tr>\n",
       "    <tr>\n",
       "      <th>1</th>\n",
       "      <td>1</td>\n",
       "      <td>Real Madrid</td>\n",
       "      <td>86</td>\n",
       "      <td>4385</td>\n",
       "      <td>2762</td>\n",
       "      <td>1647</td>\n",
       "      <td>552</td>\n",
       "      <td>563</td>\n",
       "      <td>5947</td>\n",
       "      <td>3140</td>\n",
       "      <td>33</td>\n",
       "      <td>23</td>\n",
       "      <td>8</td>\n",
       "      <td>8</td>\n",
       "      <td>3</td>\n",
       "      <td>4</td>\n",
       "      <td>79</td>\n",
       "      <td>1929</td>\n",
       "      <td>1929</td>\n",
       "      <td>1</td>\n",
       "    </tr>\n",
       "    <tr>\n",
       "      <th>2</th>\n",
       "      <td>2</td>\n",
       "      <td>Barcelona</td>\n",
       "      <td>86</td>\n",
       "      <td>4262</td>\n",
       "      <td>2762</td>\n",
       "      <td>1581</td>\n",
       "      <td>573</td>\n",
       "      <td>608</td>\n",
       "      <td>5900</td>\n",
       "      <td>3114</td>\n",
       "      <td>25</td>\n",
       "      <td>25</td>\n",
       "      <td>12</td>\n",
       "      <td>12</td>\n",
       "      <td>4</td>\n",
       "      <td>6</td>\n",
       "      <td>83</td>\n",
       "      <td>1929</td>\n",
       "      <td>1929</td>\n",
       "      <td>1</td>\n",
       "    </tr>\n",
       "    <tr>\n",
       "      <th>3</th>\n",
       "      <td>3</td>\n",
       "      <td>Atletico Madrid</td>\n",
       "      <td>80</td>\n",
       "      <td>3442</td>\n",
       "      <td>2614</td>\n",
       "      <td>1241</td>\n",
       "      <td>598</td>\n",
       "      <td>775</td>\n",
       "      <td>4534</td>\n",
       "      <td>3309</td>\n",
       "      <td>10</td>\n",
       "      <td>8</td>\n",
       "      <td>16</td>\n",
       "      <td>9</td>\n",
       "      <td>7</td>\n",
       "      <td>6</td>\n",
       "      <td>56</td>\n",
       "      <td>1929</td>\n",
       "      <td>2002-03</td>\n",
       "      <td>1</td>\n",
       "    </tr>\n",
       "    <tr>\n",
       "      <th>4</th>\n",
       "      <td>4</td>\n",
       "      <td>Valencia</td>\n",
       "      <td>82</td>\n",
       "      <td>3386</td>\n",
       "      <td>2664</td>\n",
       "      <td>1187</td>\n",
       "      <td>616</td>\n",
       "      <td>861</td>\n",
       "      <td>4398</td>\n",
       "      <td>3469</td>\n",
       "      <td>6</td>\n",
       "      <td>6</td>\n",
       "      <td>10</td>\n",
       "      <td>11</td>\n",
       "      <td>10</td>\n",
       "      <td>7</td>\n",
       "      <td>50</td>\n",
       "      <td>1931-32</td>\n",
       "      <td>1987-88</td>\n",
       "      <td>1</td>\n",
       "    </tr>\n",
       "  </tbody>\n",
       "</table>\n",
       "</div>"
      ],
      "text/plain": [
       "  Unnamed: 0       Unnamed: 1 Unnamed: 2 Unnamed: 3   Unnamed: 4 Unnamed: 5  \\\n",
       "0        Pos             Team    Seasons     Points  GamesPlayed   GamesWon   \n",
       "1          1      Real Madrid         86       4385         2762       1647   \n",
       "2          2        Barcelona         86       4262         2762       1581   \n",
       "3          3  Atletico Madrid         80       3442         2614       1241   \n",
       "4          4         Valencia         82       3386         2664       1187   \n",
       "\n",
       "   Unnamed: 6 Unnamed: 7 Unnamed: 8    Unnamed: 9 Unnamed: 10 Unnamed: 11  \\\n",
       "0  GamesDrawn  GamesLost   GoalsFor  GoalsAgainst    Champion   Runner-up   \n",
       "1         552        563       5947          3140          33          23   \n",
       "2         573        608       5900          3114          25          25   \n",
       "3         598        775       4534          3309          10           8   \n",
       "4         616        861       4398          3469           6           6   \n",
       "\n",
       "  Unnamed: 12 Unnamed: 13 Unnamed: 14 Unnamed: 15 Unnamed: 16 Unnamed: 17  \\\n",
       "0       Third      Fourth       Fifth       Sixth           T       Debut   \n",
       "1           8           8           3           4          79        1929   \n",
       "2          12          12           4           6          83        1929   \n",
       "3          16           9           7           6          56        1929   \n",
       "4          10          11          10           7          50     1931-32   \n",
       "\n",
       "     Unnamed: 18   Unnamed: 19  \n",
       "0  Since/LastApp  BestPosition  \n",
       "1           1929             1  \n",
       "2           1929             1  \n",
       "3        2002-03             1  \n",
       "4        1987-88             1  "
      ]
     },
     "execution_count": 3,
     "metadata": {},
     "output_type": "execute_result"
    }
   ],
   "source": [
    "df.head()"
   ]
  },
  {
   "cell_type": "code",
   "execution_count": 4,
   "metadata": {
    "colab": {},
    "colab_type": "code",
    "id": "jh0twIkCPnF5"
   },
   "outputs": [],
   "source": [
    "#making first row as header\n",
    "new_header = df.iloc[0]\n",
    "df = df[1:]\n",
    "df.columns = new_header"
   ]
  },
  {
   "cell_type": "code",
   "execution_count": 5,
   "metadata": {
    "colab": {
     "base_uri": "https://localhost:8080/",
     "height": 299
    },
    "colab_type": "code",
    "id": "64Gq2SnOP4B3",
    "outputId": "0963dfe1-c890-478c-bb1b-31d47e439694"
   },
   "outputs": [
    {
     "data": {
      "text/html": [
       "<div>\n",
       "<style scoped>\n",
       "    .dataframe tbody tr th:only-of-type {\n",
       "        vertical-align: middle;\n",
       "    }\n",
       "\n",
       "    .dataframe tbody tr th {\n",
       "        vertical-align: top;\n",
       "    }\n",
       "\n",
       "    .dataframe thead th {\n",
       "        text-align: right;\n",
       "    }\n",
       "</style>\n",
       "<table border=\"1\" class=\"dataframe\">\n",
       "  <thead>\n",
       "    <tr style=\"text-align: right;\">\n",
       "      <th></th>\n",
       "      <th>Pos</th>\n",
       "      <th>Team</th>\n",
       "      <th>Seasons</th>\n",
       "      <th>Points</th>\n",
       "      <th>GamesPlayed</th>\n",
       "      <th>GamesWon</th>\n",
       "      <th>GamesDrawn</th>\n",
       "      <th>GamesLost</th>\n",
       "      <th>GoalsFor</th>\n",
       "      <th>GoalsAgainst</th>\n",
       "      <th>Champion</th>\n",
       "      <th>Runner-up</th>\n",
       "      <th>Third</th>\n",
       "      <th>Fourth</th>\n",
       "      <th>Fifth</th>\n",
       "      <th>Sixth</th>\n",
       "      <th>T</th>\n",
       "      <th>Debut</th>\n",
       "      <th>Since/LastApp</th>\n",
       "      <th>BestPosition</th>\n",
       "    </tr>\n",
       "  </thead>\n",
       "  <tbody>\n",
       "    <tr>\n",
       "      <th>1</th>\n",
       "      <td>1</td>\n",
       "      <td>Real Madrid</td>\n",
       "      <td>86</td>\n",
       "      <td>4385</td>\n",
       "      <td>2762</td>\n",
       "      <td>1647</td>\n",
       "      <td>552</td>\n",
       "      <td>563</td>\n",
       "      <td>5947</td>\n",
       "      <td>3140</td>\n",
       "      <td>33</td>\n",
       "      <td>23</td>\n",
       "      <td>8</td>\n",
       "      <td>8</td>\n",
       "      <td>3</td>\n",
       "      <td>4</td>\n",
       "      <td>79</td>\n",
       "      <td>1929</td>\n",
       "      <td>1929</td>\n",
       "      <td>1</td>\n",
       "    </tr>\n",
       "    <tr>\n",
       "      <th>2</th>\n",
       "      <td>2</td>\n",
       "      <td>Barcelona</td>\n",
       "      <td>86</td>\n",
       "      <td>4262</td>\n",
       "      <td>2762</td>\n",
       "      <td>1581</td>\n",
       "      <td>573</td>\n",
       "      <td>608</td>\n",
       "      <td>5900</td>\n",
       "      <td>3114</td>\n",
       "      <td>25</td>\n",
       "      <td>25</td>\n",
       "      <td>12</td>\n",
       "      <td>12</td>\n",
       "      <td>4</td>\n",
       "      <td>6</td>\n",
       "      <td>83</td>\n",
       "      <td>1929</td>\n",
       "      <td>1929</td>\n",
       "      <td>1</td>\n",
       "    </tr>\n",
       "    <tr>\n",
       "      <th>3</th>\n",
       "      <td>3</td>\n",
       "      <td>Atletico Madrid</td>\n",
       "      <td>80</td>\n",
       "      <td>3442</td>\n",
       "      <td>2614</td>\n",
       "      <td>1241</td>\n",
       "      <td>598</td>\n",
       "      <td>775</td>\n",
       "      <td>4534</td>\n",
       "      <td>3309</td>\n",
       "      <td>10</td>\n",
       "      <td>8</td>\n",
       "      <td>16</td>\n",
       "      <td>9</td>\n",
       "      <td>7</td>\n",
       "      <td>6</td>\n",
       "      <td>56</td>\n",
       "      <td>1929</td>\n",
       "      <td>2002-03</td>\n",
       "      <td>1</td>\n",
       "    </tr>\n",
       "    <tr>\n",
       "      <th>4</th>\n",
       "      <td>4</td>\n",
       "      <td>Valencia</td>\n",
       "      <td>82</td>\n",
       "      <td>3386</td>\n",
       "      <td>2664</td>\n",
       "      <td>1187</td>\n",
       "      <td>616</td>\n",
       "      <td>861</td>\n",
       "      <td>4398</td>\n",
       "      <td>3469</td>\n",
       "      <td>6</td>\n",
       "      <td>6</td>\n",
       "      <td>10</td>\n",
       "      <td>11</td>\n",
       "      <td>10</td>\n",
       "      <td>7</td>\n",
       "      <td>50</td>\n",
       "      <td>1931-32</td>\n",
       "      <td>1987-88</td>\n",
       "      <td>1</td>\n",
       "    </tr>\n",
       "    <tr>\n",
       "      <th>5</th>\n",
       "      <td>5</td>\n",
       "      <td>Athletic Bilbao</td>\n",
       "      <td>86</td>\n",
       "      <td>3368</td>\n",
       "      <td>2762</td>\n",
       "      <td>1209</td>\n",
       "      <td>633</td>\n",
       "      <td>920</td>\n",
       "      <td>4631</td>\n",
       "      <td>3700</td>\n",
       "      <td>8</td>\n",
       "      <td>7</td>\n",
       "      <td>10</td>\n",
       "      <td>5</td>\n",
       "      <td>8</td>\n",
       "      <td>10</td>\n",
       "      <td>49</td>\n",
       "      <td>1929</td>\n",
       "      <td>1929</td>\n",
       "      <td>1</td>\n",
       "    </tr>\n",
       "  </tbody>\n",
       "</table>\n",
       "</div>"
      ],
      "text/plain": [
       "0 Pos             Team Seasons Points GamesPlayed GamesWon GamesDrawn  \\\n",
       "1   1      Real Madrid      86   4385        2762     1647        552   \n",
       "2   2        Barcelona      86   4262        2762     1581        573   \n",
       "3   3  Atletico Madrid      80   3442        2614     1241        598   \n",
       "4   4         Valencia      82   3386        2664     1187        616   \n",
       "5   5  Athletic Bilbao      86   3368        2762     1209        633   \n",
       "\n",
       "0 GamesLost GoalsFor GoalsAgainst Champion Runner-up Third Fourth Fifth Sixth  \\\n",
       "1       563     5947         3140       33        23     8      8     3     4   \n",
       "2       608     5900         3114       25        25    12     12     4     6   \n",
       "3       775     4534         3309       10         8    16      9     7     6   \n",
       "4       861     4398         3469        6         6    10     11    10     7   \n",
       "5       920     4631         3700        8         7    10      5     8    10   \n",
       "\n",
       "0   T    Debut Since/LastApp BestPosition  \n",
       "1  79     1929          1929            1  \n",
       "2  83     1929          1929            1  \n",
       "3  56     1929       2002-03            1  \n",
       "4  50  1931-32       1987-88            1  \n",
       "5  49     1929          1929            1  "
      ]
     },
     "execution_count": 5,
     "metadata": {},
     "output_type": "execute_result"
    }
   ],
   "source": [
    "df.head()"
   ]
  },
  {
   "cell_type": "code",
   "execution_count": 6,
   "metadata": {
    "colab": {
     "base_uri": "https://localhost:8080/",
     "height": 386
    },
    "colab_type": "code",
    "id": "hptEs1MaP4--",
    "outputId": "c16362cc-dc50-4c1d-8dab-47e32ce02230"
   },
   "outputs": [
    {
     "data": {
      "text/plain": [
       "0\n",
       "Pos              0\n",
       "Team             0\n",
       "Seasons          0\n",
       "Points           0\n",
       "GamesPlayed      0\n",
       "GamesWon         0\n",
       "GamesDrawn       0\n",
       "GamesLost        0\n",
       "GoalsFor         0\n",
       "GoalsAgainst     0\n",
       "Champion         0\n",
       "Runner-up        0\n",
       "Third            0\n",
       "Fourth           0\n",
       "Fifth            0\n",
       "Sixth            0\n",
       "T                0\n",
       "Debut            0\n",
       "Since/LastApp    0\n",
       "BestPosition     0\n",
       "dtype: int64"
      ]
     },
     "execution_count": 6,
     "metadata": {},
     "output_type": "execute_result"
    }
   ],
   "source": [
    "df.isnull().sum()"
   ]
  },
  {
   "cell_type": "code",
   "execution_count": 7,
   "metadata": {
    "colab": {},
    "colab_type": "code",
    "id": "nvKBEVhkQi4Q"
   },
   "outputs": [],
   "source": [
    "def removeHyphen(col):\n",
    "  print(col)\n",
    "  df[str(col)] = df[str(col)].map(lambda x: x.replace('-','0')).astype(int)"
   ]
  },
  {
   "cell_type": "code",
   "execution_count": 8,
   "metadata": {
    "colab": {
     "base_uri": "https://localhost:8080/",
     "height": 302
    },
    "colab_type": "code",
    "id": "JqeWtFOhWYcw",
    "outputId": "898ab5d7-0fbd-4caf-dbdf-1d17d82a865b"
   },
   "outputs": [
    {
     "name": "stdout",
     "output_type": "stream",
     "text": [
      "Pos\n",
      "Seasons\n",
      "Points\n",
      "GamesPlayed\n",
      "GamesWon\n",
      "GamesDrawn\n",
      "GamesLost\n",
      "GoalsFor\n",
      "GoalsAgainst\n",
      "Champion\n",
      "Runner-up\n",
      "Third\n",
      "Fourth\n",
      "Fifth\n",
      "Sixth\n",
      "T\n",
      "BestPosition\n"
     ]
    }
   ],
   "source": [
    "#remove hyphen from all the columsn other than debut and Since/LastApp\n",
    "for x in df.columns:\n",
    "  if(x!=\"Debut\" and x!=\"Since/LastApp\" and x!=\"Team\"):\n",
    "    removeHyphen(x)"
   ]
  },
  {
   "cell_type": "code",
   "execution_count": 9,
   "metadata": {
    "colab": {},
    "colab_type": "code",
    "id": "V-Sd7dp3XGgK"
   },
   "outputs": [],
   "source": [
    "#handle - of debut and Since/LastApp\n",
    "df['Debut'] = df['Debut'].astype(str).str[:4].astype(int)\n",
    "df['Since/LastApp'] = df['Since/LastApp'].astype(str).str[:4].astype(int)"
   ]
  },
  {
   "cell_type": "code",
   "execution_count": 16,
   "metadata": {
    "colab": {
     "base_uri": "https://localhost:8080/",
     "height": 655
    },
    "colab_type": "code",
    "id": "jvoZMuftYLTR",
    "outputId": "be3fc0e9-8229-40aa-d7c0-704fccac58e8"
   },
   "outputs": [
    {
     "data": {
      "text/plain": [
       "4                Valencia\n",
       "6                 Sevilla\n",
       "9                Zaragoza\n",
       "10             Real Betis\n",
       "11    Deportivo La Coruna\n",
       "12             Celta Vigo\n",
       "13             Valladolid\n",
       "15         Sporting Gijon\n",
       "16                Osasuna\n",
       "17                 Malaga\n",
       "18                 Oviedo\n",
       "19               Mallorca\n",
       "20             Las Palmas\n",
       "22                Granada\n",
       "23         Rayo Vallecano\n",
       "24                  Elche\n",
       "26               Hercules\n",
       "27               Tenerife\n",
       "28                 Murcia\n",
       "29                 Alaves\n",
       "30                Levante\n",
       "31              Salamanca\n",
       "32               Sabadell\n",
       "33                  Cadiz\n",
       "35              Castellon\n",
       "38                Cordoba\n",
       "40             Recreativo\n",
       "41              Burgos CF\n",
       "42             Pontevedra\n",
       "47              Gimnastic\n",
       "50               Alcoyano\n",
       "51                   Jaen\n",
       "53             AD Almeria\n",
       "55                 Lleida\n",
       "58                 Condal\n",
       "59        Atletico Tetuan\n",
       "60       Cultural Leonesa\n",
       "Name: Team, dtype: object"
      ]
     },
     "execution_count": 16,
     "metadata": {},
     "output_type": "execute_result"
    }
   ],
   "source": [
    "#Question1: started playing 1930-1980\n",
    "df_new = df[df['Debut'].between(1930, 1980)]\n",
    "df_new['Team']"
   ]
  },
  {
   "cell_type": "code",
   "execution_count": 10,
   "metadata": {
    "colab": {
     "base_uri": "https://localhost:8080/",
     "height": 282
    },
    "colab_type": "code",
    "id": "K7dsHb_EYNHx",
    "outputId": "43bbcc97-533c-4251-8fb6-c73a42416806"
   },
   "outputs": [
    {
     "data": {
      "text/html": [
       "<div>\n",
       "<style scoped>\n",
       "    .dataframe tbody tr th:only-of-type {\n",
       "        vertical-align: middle;\n",
       "    }\n",
       "\n",
       "    .dataframe tbody tr th {\n",
       "        vertical-align: top;\n",
       "    }\n",
       "\n",
       "    .dataframe thead th {\n",
       "        text-align: right;\n",
       "    }\n",
       "</style>\n",
       "<table border=\"1\" class=\"dataframe\">\n",
       "  <thead>\n",
       "    <tr style=\"text-align: right;\">\n",
       "      <th></th>\n",
       "      <th>Pos</th>\n",
       "      <th>Team</th>\n",
       "      <th>Seasons</th>\n",
       "      <th>Points</th>\n",
       "      <th>GamesPlayed</th>\n",
       "      <th>GamesWon</th>\n",
       "      <th>GamesDrawn</th>\n",
       "      <th>GamesLost</th>\n",
       "      <th>GoalsFor</th>\n",
       "      <th>GoalsAgainst</th>\n",
       "      <th>Champion</th>\n",
       "      <th>Runner-up</th>\n",
       "      <th>Third</th>\n",
       "      <th>Fourth</th>\n",
       "      <th>Fifth</th>\n",
       "      <th>Sixth</th>\n",
       "      <th>T</th>\n",
       "      <th>Debut</th>\n",
       "      <th>Since/LastApp</th>\n",
       "      <th>BestPosition</th>\n",
       "    </tr>\n",
       "  </thead>\n",
       "  <tbody>\n",
       "    <tr>\n",
       "      <th>1</th>\n",
       "      <td>1</td>\n",
       "      <td>Real Madrid</td>\n",
       "      <td>86</td>\n",
       "      <td>4385</td>\n",
       "      <td>2762</td>\n",
       "      <td>1647</td>\n",
       "      <td>552</td>\n",
       "      <td>563</td>\n",
       "      <td>5947</td>\n",
       "      <td>3140</td>\n",
       "      <td>33</td>\n",
       "      <td>23</td>\n",
       "      <td>8</td>\n",
       "      <td>8</td>\n",
       "      <td>3</td>\n",
       "      <td>4</td>\n",
       "      <td>79</td>\n",
       "      <td>1929</td>\n",
       "      <td>1929</td>\n",
       "      <td>1</td>\n",
       "    </tr>\n",
       "    <tr>\n",
       "      <th>2</th>\n",
       "      <td>2</td>\n",
       "      <td>Barcelona</td>\n",
       "      <td>86</td>\n",
       "      <td>4262</td>\n",
       "      <td>2762</td>\n",
       "      <td>1581</td>\n",
       "      <td>573</td>\n",
       "      <td>608</td>\n",
       "      <td>5900</td>\n",
       "      <td>3114</td>\n",
       "      <td>25</td>\n",
       "      <td>25</td>\n",
       "      <td>12</td>\n",
       "      <td>12</td>\n",
       "      <td>4</td>\n",
       "      <td>6</td>\n",
       "      <td>83</td>\n",
       "      <td>1929</td>\n",
       "      <td>1929</td>\n",
       "      <td>1</td>\n",
       "    </tr>\n",
       "    <tr>\n",
       "      <th>3</th>\n",
       "      <td>3</td>\n",
       "      <td>Atletico Madrid</td>\n",
       "      <td>80</td>\n",
       "      <td>3442</td>\n",
       "      <td>2614</td>\n",
       "      <td>1241</td>\n",
       "      <td>598</td>\n",
       "      <td>775</td>\n",
       "      <td>4534</td>\n",
       "      <td>3309</td>\n",
       "      <td>10</td>\n",
       "      <td>8</td>\n",
       "      <td>16</td>\n",
       "      <td>9</td>\n",
       "      <td>7</td>\n",
       "      <td>6</td>\n",
       "      <td>56</td>\n",
       "      <td>1929</td>\n",
       "      <td>2002</td>\n",
       "      <td>1</td>\n",
       "    </tr>\n",
       "    <tr>\n",
       "      <th>4</th>\n",
       "      <td>4</td>\n",
       "      <td>Valencia</td>\n",
       "      <td>82</td>\n",
       "      <td>3386</td>\n",
       "      <td>2664</td>\n",
       "      <td>1187</td>\n",
       "      <td>616</td>\n",
       "      <td>861</td>\n",
       "      <td>4398</td>\n",
       "      <td>3469</td>\n",
       "      <td>6</td>\n",
       "      <td>6</td>\n",
       "      <td>10</td>\n",
       "      <td>11</td>\n",
       "      <td>10</td>\n",
       "      <td>7</td>\n",
       "      <td>50</td>\n",
       "      <td>1931</td>\n",
       "      <td>1987</td>\n",
       "      <td>1</td>\n",
       "    </tr>\n",
       "    <tr>\n",
       "      <th>5</th>\n",
       "      <td>5</td>\n",
       "      <td>Athletic Bilbao</td>\n",
       "      <td>86</td>\n",
       "      <td>3368</td>\n",
       "      <td>2762</td>\n",
       "      <td>1209</td>\n",
       "      <td>633</td>\n",
       "      <td>920</td>\n",
       "      <td>4631</td>\n",
       "      <td>3700</td>\n",
       "      <td>8</td>\n",
       "      <td>7</td>\n",
       "      <td>10</td>\n",
       "      <td>5</td>\n",
       "      <td>8</td>\n",
       "      <td>10</td>\n",
       "      <td>49</td>\n",
       "      <td>1929</td>\n",
       "      <td>1929</td>\n",
       "      <td>1</td>\n",
       "    </tr>\n",
       "  </tbody>\n",
       "</table>\n",
       "</div>"
      ],
      "text/plain": [
       "0  Pos             Team  Seasons  Points  GamesPlayed  GamesWon  GamesDrawn  \\\n",
       "1    1      Real Madrid       86    4385         2762      1647         552   \n",
       "2    2        Barcelona       86    4262         2762      1581         573   \n",
       "3    3  Atletico Madrid       80    3442         2614      1241         598   \n",
       "4    4         Valencia       82    3386         2664      1187         616   \n",
       "5    5  Athletic Bilbao       86    3368         2762      1209         633   \n",
       "\n",
       "0  GamesLost  GoalsFor  GoalsAgainst  Champion  Runner-up  Third  Fourth  \\\n",
       "1        563      5947          3140        33         23      8       8   \n",
       "2        608      5900          3114        25         25     12      12   \n",
       "3        775      4534          3309        10          8     16       9   \n",
       "4        861      4398          3469         6          6     10      11   \n",
       "5        920      4631          3700         8          7     10       5   \n",
       "\n",
       "0  Fifth  Sixth   T  Debut  Since/LastApp  BestPosition  \n",
       "1      3      4  79   1929           1929             1  \n",
       "2      4      6  83   1929           1929             1  \n",
       "3      7      6  56   1929           2002             1  \n",
       "4     10      7  50   1931           1987             1  \n",
       "5      8     10  49   1929           1929             1  "
      ]
     },
     "execution_count": 10,
     "metadata": {},
     "output_type": "execute_result"
    }
   ],
   "source": [
    "#Question2: Top 5 teams in points\n",
    "df.nlargest(5,'Points')"
   ]
  },
  {
   "cell_type": "code",
   "execution_count": 11,
   "metadata": {
    "colab": {},
    "colab_type": "code",
    "id": "mvp-O3kDZF85"
   },
   "outputs": [],
   "source": [
    "#Question3: Wining percentage distribution\n",
    "df['WinningPercent'] = (df['GamesWon']/df['GamesPlayed'])*100"
   ]
  },
  {
   "cell_type": "code",
   "execution_count": 12,
   "metadata": {
    "colab": {
     "base_uri": "https://localhost:8080/",
     "height": 282
    },
    "colab_type": "code",
    "id": "dgshqWbbZy6O",
    "outputId": "8f1e9f7f-ec19-491d-8b7a-07e2b08a4388"
   },
   "outputs": [
    {
     "data": {
      "text/html": [
       "<div>\n",
       "<style scoped>\n",
       "    .dataframe tbody tr th:only-of-type {\n",
       "        vertical-align: middle;\n",
       "    }\n",
       "\n",
       "    .dataframe tbody tr th {\n",
       "        vertical-align: top;\n",
       "    }\n",
       "\n",
       "    .dataframe thead th {\n",
       "        text-align: right;\n",
       "    }\n",
       "</style>\n",
       "<table border=\"1\" class=\"dataframe\">\n",
       "  <thead>\n",
       "    <tr style=\"text-align: right;\">\n",
       "      <th></th>\n",
       "      <th>Pos</th>\n",
       "      <th>Team</th>\n",
       "      <th>Seasons</th>\n",
       "      <th>Points</th>\n",
       "      <th>GamesPlayed</th>\n",
       "      <th>GamesWon</th>\n",
       "      <th>GamesDrawn</th>\n",
       "      <th>GamesLost</th>\n",
       "      <th>GoalsFor</th>\n",
       "      <th>GoalsAgainst</th>\n",
       "      <th>...</th>\n",
       "      <th>Runner-up</th>\n",
       "      <th>Third</th>\n",
       "      <th>Fourth</th>\n",
       "      <th>Fifth</th>\n",
       "      <th>Sixth</th>\n",
       "      <th>T</th>\n",
       "      <th>Debut</th>\n",
       "      <th>Since/LastApp</th>\n",
       "      <th>BestPosition</th>\n",
       "      <th>WinningPercent</th>\n",
       "    </tr>\n",
       "  </thead>\n",
       "  <tbody>\n",
       "    <tr>\n",
       "      <th>1</th>\n",
       "      <td>1</td>\n",
       "      <td>Real Madrid</td>\n",
       "      <td>86</td>\n",
       "      <td>4385</td>\n",
       "      <td>2762</td>\n",
       "      <td>1647</td>\n",
       "      <td>552</td>\n",
       "      <td>563</td>\n",
       "      <td>5947</td>\n",
       "      <td>3140</td>\n",
       "      <td>...</td>\n",
       "      <td>23</td>\n",
       "      <td>8</td>\n",
       "      <td>8</td>\n",
       "      <td>3</td>\n",
       "      <td>4</td>\n",
       "      <td>79</td>\n",
       "      <td>1929</td>\n",
       "      <td>1929</td>\n",
       "      <td>1</td>\n",
       "      <td>59.630702</td>\n",
       "    </tr>\n",
       "    <tr>\n",
       "      <th>2</th>\n",
       "      <td>2</td>\n",
       "      <td>Barcelona</td>\n",
       "      <td>86</td>\n",
       "      <td>4262</td>\n",
       "      <td>2762</td>\n",
       "      <td>1581</td>\n",
       "      <td>573</td>\n",
       "      <td>608</td>\n",
       "      <td>5900</td>\n",
       "      <td>3114</td>\n",
       "      <td>...</td>\n",
       "      <td>25</td>\n",
       "      <td>12</td>\n",
       "      <td>12</td>\n",
       "      <td>4</td>\n",
       "      <td>6</td>\n",
       "      <td>83</td>\n",
       "      <td>1929</td>\n",
       "      <td>1929</td>\n",
       "      <td>1</td>\n",
       "      <td>57.241130</td>\n",
       "    </tr>\n",
       "    <tr>\n",
       "      <th>3</th>\n",
       "      <td>3</td>\n",
       "      <td>Atletico Madrid</td>\n",
       "      <td>80</td>\n",
       "      <td>3442</td>\n",
       "      <td>2614</td>\n",
       "      <td>1241</td>\n",
       "      <td>598</td>\n",
       "      <td>775</td>\n",
       "      <td>4534</td>\n",
       "      <td>3309</td>\n",
       "      <td>...</td>\n",
       "      <td>8</td>\n",
       "      <td>16</td>\n",
       "      <td>9</td>\n",
       "      <td>7</td>\n",
       "      <td>6</td>\n",
       "      <td>56</td>\n",
       "      <td>1929</td>\n",
       "      <td>2002</td>\n",
       "      <td>1</td>\n",
       "      <td>47.475134</td>\n",
       "    </tr>\n",
       "    <tr>\n",
       "      <th>4</th>\n",
       "      <td>4</td>\n",
       "      <td>Valencia</td>\n",
       "      <td>82</td>\n",
       "      <td>3386</td>\n",
       "      <td>2664</td>\n",
       "      <td>1187</td>\n",
       "      <td>616</td>\n",
       "      <td>861</td>\n",
       "      <td>4398</td>\n",
       "      <td>3469</td>\n",
       "      <td>...</td>\n",
       "      <td>6</td>\n",
       "      <td>10</td>\n",
       "      <td>11</td>\n",
       "      <td>10</td>\n",
       "      <td>7</td>\n",
       "      <td>50</td>\n",
       "      <td>1931</td>\n",
       "      <td>1987</td>\n",
       "      <td>1</td>\n",
       "      <td>44.557057</td>\n",
       "    </tr>\n",
       "    <tr>\n",
       "      <th>5</th>\n",
       "      <td>5</td>\n",
       "      <td>Athletic Bilbao</td>\n",
       "      <td>86</td>\n",
       "      <td>3368</td>\n",
       "      <td>2762</td>\n",
       "      <td>1209</td>\n",
       "      <td>633</td>\n",
       "      <td>920</td>\n",
       "      <td>4631</td>\n",
       "      <td>3700</td>\n",
       "      <td>...</td>\n",
       "      <td>7</td>\n",
       "      <td>10</td>\n",
       "      <td>5</td>\n",
       "      <td>8</td>\n",
       "      <td>10</td>\n",
       "      <td>49</td>\n",
       "      <td>1929</td>\n",
       "      <td>1929</td>\n",
       "      <td>1</td>\n",
       "      <td>43.772629</td>\n",
       "    </tr>\n",
       "  </tbody>\n",
       "</table>\n",
       "<p>5 rows × 21 columns</p>\n",
       "</div>"
      ],
      "text/plain": [
       "0  Pos             Team  Seasons  Points  GamesPlayed  GamesWon  GamesDrawn  \\\n",
       "1    1      Real Madrid       86    4385         2762      1647         552   \n",
       "2    2        Barcelona       86    4262         2762      1581         573   \n",
       "3    3  Atletico Madrid       80    3442         2614      1241         598   \n",
       "4    4         Valencia       82    3386         2664      1187         616   \n",
       "5    5  Athletic Bilbao       86    3368         2762      1209         633   \n",
       "\n",
       "0  GamesLost  GoalsFor  GoalsAgainst  ...  Runner-up  Third  Fourth  Fifth  \\\n",
       "1        563      5947          3140  ...         23      8       8      3   \n",
       "2        608      5900          3114  ...         25     12      12      4   \n",
       "3        775      4534          3309  ...          8     16       9      7   \n",
       "4        861      4398          3469  ...          6     10      11     10   \n",
       "5        920      4631          3700  ...          7     10       5      8   \n",
       "\n",
       "0  Sixth   T  Debut  Since/LastApp  BestPosition  WinningPercent  \n",
       "1      4  79   1929           1929             1       59.630702  \n",
       "2      6  83   1929           1929             1       57.241130  \n",
       "3      6  56   1929           2002             1       47.475134  \n",
       "4      7  50   1931           1987             1       44.557057  \n",
       "5     10  49   1929           1929             1       43.772629  \n",
       "\n",
       "[5 rows x 21 columns]"
      ]
     },
     "execution_count": 12,
     "metadata": {},
     "output_type": "execute_result"
    }
   ],
   "source": [
    "#top 5 in wining percent\n",
    "df.nlargest(5,'WinningPercent')"
   ]
  },
  {
   "cell_type": "code",
   "execution_count": 13,
   "metadata": {
    "colab": {},
    "colab_type": "code",
    "id": "z26091AtaY4W"
   },
   "outputs": [],
   "source": [
    "dfPlot = df['WinningPercent'].dropna()"
   ]
  },
  {
   "cell_type": "code",
   "execution_count": 21,
   "metadata": {
    "colab": {
     "base_uri": "https://localhost:8080/",
     "height": 300
    },
    "colab_type": "code",
    "id": "1VFEzgH5bZ3i",
    "outputId": "f5e91d56-ba2d-4148-e92c-ac7cc48d913c"
   },
   "outputs": [
    {
     "data": {
      "text/plain": [
       "<matplotlib.axes._subplots.AxesSubplot at 0x1a17b41e80>"
      ]
     },
     "execution_count": 21,
     "metadata": {},
     "output_type": "execute_result"
    },
    {
     "data": {
      "image/png": "[encoded data removed]",
      "text/plain": [
       "<Figure size 432x288 with 1 Axes>"
      ]
     },
     "metadata": {
      "needs_background": "light"
     },
     "output_type": "display_data"
    }
   ],
   "source": [
    "sns.distplot(dfPlot)"
   ]
  },
  {
   "cell_type": "code",
   "execution_count": 14,
   "metadata": {
    "colab": {
     "base_uri": "https://localhost:8080/",
     "height": 342
    },
    "colab_type": "code",
    "id": "6-2IyU_Xbe0x",
    "outputId": "3ac64839-08cf-4e9a-a987-cdefd7c6d2dd"
   },
   "outputs": [
    {
     "data": {
      "text/html": [
       "<div>\n",
       "<style scoped>\n",
       "    .dataframe tbody tr th:only-of-type {\n",
       "        vertical-align: middle;\n",
       "    }\n",
       "\n",
       "    .dataframe tbody tr th {\n",
       "        vertical-align: top;\n",
       "    }\n",
       "\n",
       "    .dataframe thead th {\n",
       "        text-align: right;\n",
       "    }\n",
       "</style>\n",
       "<table border=\"1\" class=\"dataframe\">\n",
       "  <thead>\n",
       "    <tr style=\"text-align: right;\">\n",
       "      <th></th>\n",
       "      <th>Pos</th>\n",
       "      <th>Team</th>\n",
       "      <th>Seasons</th>\n",
       "      <th>Points</th>\n",
       "      <th>GamesPlayed</th>\n",
       "      <th>GamesWon</th>\n",
       "      <th>GamesDrawn</th>\n",
       "      <th>GamesLost</th>\n",
       "      <th>GoalsFor</th>\n",
       "      <th>GoalsAgainst</th>\n",
       "      <th>...</th>\n",
       "      <th>Runner-up</th>\n",
       "      <th>Third</th>\n",
       "      <th>Fourth</th>\n",
       "      <th>Fifth</th>\n",
       "      <th>Sixth</th>\n",
       "      <th>T</th>\n",
       "      <th>Debut</th>\n",
       "      <th>Since/LastApp</th>\n",
       "      <th>BestPosition</th>\n",
       "      <th>WinningPercent</th>\n",
       "    </tr>\n",
       "  </thead>\n",
       "  <tbody>\n",
       "    <tr>\n",
       "      <th>1</th>\n",
       "      <td>1</td>\n",
       "      <td>Real Madrid</td>\n",
       "      <td>86</td>\n",
       "      <td>4385</td>\n",
       "      <td>2762</td>\n",
       "      <td>1647</td>\n",
       "      <td>552</td>\n",
       "      <td>563</td>\n",
       "      <td>5947</td>\n",
       "      <td>3140</td>\n",
       "      <td>...</td>\n",
       "      <td>23</td>\n",
       "      <td>8</td>\n",
       "      <td>8</td>\n",
       "      <td>3</td>\n",
       "      <td>4</td>\n",
       "      <td>79</td>\n",
       "      <td>1929</td>\n",
       "      <td>1929</td>\n",
       "      <td>1</td>\n",
       "      <td>59.630702</td>\n",
       "    </tr>\n",
       "    <tr>\n",
       "      <th>2</th>\n",
       "      <td>2</td>\n",
       "      <td>Barcelona</td>\n",
       "      <td>86</td>\n",
       "      <td>4262</td>\n",
       "      <td>2762</td>\n",
       "      <td>1581</td>\n",
       "      <td>573</td>\n",
       "      <td>608</td>\n",
       "      <td>5900</td>\n",
       "      <td>3114</td>\n",
       "      <td>...</td>\n",
       "      <td>25</td>\n",
       "      <td>12</td>\n",
       "      <td>12</td>\n",
       "      <td>4</td>\n",
       "      <td>6</td>\n",
       "      <td>83</td>\n",
       "      <td>1929</td>\n",
       "      <td>1929</td>\n",
       "      <td>1</td>\n",
       "      <td>57.241130</td>\n",
       "    </tr>\n",
       "    <tr>\n",
       "      <th>3</th>\n",
       "      <td>3</td>\n",
       "      <td>Atletico Madrid</td>\n",
       "      <td>80</td>\n",
       "      <td>3442</td>\n",
       "      <td>2614</td>\n",
       "      <td>1241</td>\n",
       "      <td>598</td>\n",
       "      <td>775</td>\n",
       "      <td>4534</td>\n",
       "      <td>3309</td>\n",
       "      <td>...</td>\n",
       "      <td>8</td>\n",
       "      <td>16</td>\n",
       "      <td>9</td>\n",
       "      <td>7</td>\n",
       "      <td>6</td>\n",
       "      <td>56</td>\n",
       "      <td>1929</td>\n",
       "      <td>2002</td>\n",
       "      <td>1</td>\n",
       "      <td>47.475134</td>\n",
       "    </tr>\n",
       "    <tr>\n",
       "      <th>4</th>\n",
       "      <td>4</td>\n",
       "      <td>Valencia</td>\n",
       "      <td>82</td>\n",
       "      <td>3386</td>\n",
       "      <td>2664</td>\n",
       "      <td>1187</td>\n",
       "      <td>616</td>\n",
       "      <td>861</td>\n",
       "      <td>4398</td>\n",
       "      <td>3469</td>\n",
       "      <td>...</td>\n",
       "      <td>6</td>\n",
       "      <td>10</td>\n",
       "      <td>11</td>\n",
       "      <td>10</td>\n",
       "      <td>7</td>\n",
       "      <td>50</td>\n",
       "      <td>1931</td>\n",
       "      <td>1987</td>\n",
       "      <td>1</td>\n",
       "      <td>44.557057</td>\n",
       "    </tr>\n",
       "    <tr>\n",
       "      <th>5</th>\n",
       "      <td>5</td>\n",
       "      <td>Athletic Bilbao</td>\n",
       "      <td>86</td>\n",
       "      <td>3368</td>\n",
       "      <td>2762</td>\n",
       "      <td>1209</td>\n",
       "      <td>633</td>\n",
       "      <td>920</td>\n",
       "      <td>4631</td>\n",
       "      <td>3700</td>\n",
       "      <td>...</td>\n",
       "      <td>7</td>\n",
       "      <td>10</td>\n",
       "      <td>5</td>\n",
       "      <td>8</td>\n",
       "      <td>10</td>\n",
       "      <td>49</td>\n",
       "      <td>1929</td>\n",
       "      <td>1929</td>\n",
       "      <td>1</td>\n",
       "      <td>43.772629</td>\n",
       "    </tr>\n",
       "    <tr>\n",
       "      <th>21</th>\n",
       "      <td>21</td>\n",
       "      <td>Villarreal</td>\n",
       "      <td>17</td>\n",
       "      <td>970</td>\n",
       "      <td>646</td>\n",
       "      <td>266</td>\n",
       "      <td>172</td>\n",
       "      <td>208</td>\n",
       "      <td>892</td>\n",
       "      <td>789</td>\n",
       "      <td>...</td>\n",
       "      <td>1</td>\n",
       "      <td>1</td>\n",
       "      <td>2</td>\n",
       "      <td>3</td>\n",
       "      <td>2</td>\n",
       "      <td>9</td>\n",
       "      <td>1998</td>\n",
       "      <td>2013</td>\n",
       "      <td>2</td>\n",
       "      <td>41.176471</td>\n",
       "    </tr>\n",
       "    <tr>\n",
       "      <th>6</th>\n",
       "      <td>6</td>\n",
       "      <td>Sevilla</td>\n",
       "      <td>73</td>\n",
       "      <td>2819</td>\n",
       "      <td>2408</td>\n",
       "      <td>990</td>\n",
       "      <td>531</td>\n",
       "      <td>887</td>\n",
       "      <td>3680</td>\n",
       "      <td>3373</td>\n",
       "      <td>...</td>\n",
       "      <td>4</td>\n",
       "      <td>4</td>\n",
       "      <td>5</td>\n",
       "      <td>12</td>\n",
       "      <td>6</td>\n",
       "      <td>32</td>\n",
       "      <td>1934</td>\n",
       "      <td>2001</td>\n",
       "      <td>1</td>\n",
       "      <td>41.112957</td>\n",
       "    </tr>\n",
       "  </tbody>\n",
       "</table>\n",
       "<p>7 rows × 21 columns</p>\n",
       "</div>"
      ],
      "text/plain": [
       "0   Pos             Team  Seasons  Points  GamesPlayed  GamesWon  GamesDrawn  \\\n",
       "1     1      Real Madrid       86    4385         2762      1647         552   \n",
       "2     2        Barcelona       86    4262         2762      1581         573   \n",
       "3     3  Atletico Madrid       80    3442         2614      1241         598   \n",
       "4     4         Valencia       82    3386         2664      1187         616   \n",
       "5     5  Athletic Bilbao       86    3368         2762      1209         633   \n",
       "21   21       Villarreal       17     970          646       266         172   \n",
       "6     6          Sevilla       73    2819         2408       990         531   \n",
       "\n",
       "0   GamesLost  GoalsFor  GoalsAgainst  ...  Runner-up  Third  Fourth  Fifth  \\\n",
       "1         563      5947          3140  ...         23      8       8      3   \n",
       "2         608      5900          3114  ...         25     12      12      4   \n",
       "3         775      4534          3309  ...          8     16       9      7   \n",
       "4         861      4398          3469  ...          6     10      11     10   \n",
       "5         920      4631          3700  ...          7     10       5      8   \n",
       "21        208       892           789  ...          1      1       2      3   \n",
       "6         887      3680          3373  ...          4      4       5     12   \n",
       "\n",
       "0   Sixth   T  Debut  Since/LastApp  BestPosition  WinningPercent  \n",
       "1       4  79   1929           1929             1       59.630702  \n",
       "2       6  83   1929           1929             1       57.241130  \n",
       "3       6  56   1929           2002             1       47.475134  \n",
       "4       7  50   1931           1987             1       44.557057  \n",
       "5      10  49   1929           1929             1       43.772629  \n",
       "21      2   9   1998           2013             2       41.176471  \n",
       "6       6  32   1934           2001             1       41.112957  \n",
       "\n",
       "[7 rows x 21 columns]"
      ]
     },
     "execution_count": 14,
     "metadata": {},
     "output_type": "execute_result"
    }
   ],
   "source": [
    "#Question 4\n",
    "df.nlargest(7,'WinningPercent')\n",
    "#YEs there is a significant difference of around 18%"
   ]
  },
  {
   "cell_type": "code",
   "execution_count": 15,
   "metadata": {
    "colab": {
     "base_uri": "https://localhost:8080/",
     "height": 34
    },
    "colab_type": "code",
    "id": "4DxcHYYzbo2_",
    "outputId": "ff4a8892-95d7-4f16-e7fe-de5b91c1958c"
   },
   "outputs": [
    {
     "data": {
      "text/plain": [
       "1.7677669529663687"
      ]
     },
     "execution_count": 15,
     "metadata": {},
     "output_type": "execute_result"
    }
   ],
   "source": [
    "#Section 2\n",
    "#Question 1\n",
    "mu = 140\n",
    "sigma = 25\n",
    "n = 200\n",
    "SE = sigma/math.sqrt(200)\n",
    "SE\n",
    "\n",
    "#the standard error is very small compared with the mean. This indicates that the variability of values within the sample is relatively small"
   ]
  },
  {
   "cell_type": "code",
   "execution_count": 24,
   "metadata": {
    "colab": {
     "base_uri": "https://localhost:8080/",
     "height": 50
    },
    "colab_type": "code",
    "id": "5kmkzfKzdCUd",
    "outputId": "3c5dcc2f-7078-4567-f63e-f034e522754c"
   },
   "outputs": [
    {
     "name": "stdout",
     "output_type": "stream",
     "text": [
      "The interval 136.5352 to 143.4648\n"
     ]
    },
    {
     "data": {
      "text/plain": [
       "6.929519121748399"
      ]
     },
     "execution_count": 24,
     "metadata": {},
     "output_type": "execute_result"
    }
   ],
   "source": [
    "#Question 2- 95% confidence interval\n",
    "\n",
    "LCI_POP, UCI_POP = stats.norm.interval(0.95, loc = mu, scale=SE)\n",
    "print('The interval %1.4f to %1.4f'%(LCI_POP,UCI_POP))\n",
    "intervalDiff = UCI_POP-LCI_POP\n",
    "intervalDiff"
   ]
  },
  {
   "cell_type": "code",
   "execution_count": 25,
   "metadata": {
    "colab": {
     "base_uri": "https://localhost:8080/",
     "height": 50
    },
    "colab_type": "code",
    "id": "mzVw1ccoelIN",
    "outputId": "88728688-c9fb-4a9f-92db-31420b44ec25"
   },
   "outputs": [
    {
     "name": "stdout",
     "output_type": "stream",
     "text": [
      "The interval 135.1001 to 144.8999\n"
     ]
    },
    {
     "data": {
      "text/plain": [
       "9.799819922700294"
      ]
     },
     "execution_count": 25,
     "metadata": {},
     "output_type": "execute_result"
    }
   ],
   "source": [
    "#Question 3 - 95% confidence interval with 100 sample\n",
    "SE = sigma/math.sqrt(100)\n",
    "LCI_POP, UCI_POP = stats.norm.interval(0.95, loc = mu, scale=SE)\n",
    "print('The interval %1.4f to %1.4f'%(LCI_POP,UCI_POP))\n",
    "intervalDiff = UCI_POP-LCI_POP\n",
    "intervalDiff"
   ]
  },
  {
   "cell_type": "code",
   "execution_count": 0,
   "metadata": {
    "colab": {},
    "colab_type": "code",
    "id": "1SD7IDvtfJMr"
   },
   "outputs": [],
   "source": [
    "#with 100 sample of same mean interval is wider"
   ]
  },
  {
   "cell_type": "code",
   "execution_count": 0,
   "metadata": {
    "colab": {},
    "colab_type": "code",
    "id": "fV2rvXoZfnAy"
   },
   "outputs": [],
   "source": [
    "#Question 4\n",
    "\n",
    "#From the error formula we can see that as the samplesize (n) increases, the standard error of the mean(SEM) decreases."
   ]
  },
  {
   "cell_type": "code",
   "execution_count": 16,
   "metadata": {
    "colab": {},
    "colab_type": "code",
    "id": "azrP_pZQf7b5"
   },
   "outputs": [],
   "source": [
    "#Section 3\n",
    "df = pd.read_csv('Golf.csv')"
   ]
  },
  {
   "cell_type": "code",
   "execution_count": 17,
   "metadata": {
    "colab": {
     "base_uri": "https://localhost:8080/",
     "height": 195
    },
    "colab_type": "code",
    "id": "6oVu8cTkgEbB",
    "outputId": "960a7ec9-8110-4792-fa05-8bc0ddecef0b"
   },
   "outputs": [
    {
     "data": {
      "text/html": [
       "<div>\n",
       "<style scoped>\n",
       "    .dataframe tbody tr th:only-of-type {\n",
       "        vertical-align: middle;\n",
       "    }\n",
       "\n",
       "    .dataframe tbody tr th {\n",
       "        vertical-align: top;\n",
       "    }\n",
       "\n",
       "    .dataframe thead th {\n",
       "        text-align: right;\n",
       "    }\n",
       "</style>\n",
       "<table border=\"1\" class=\"dataframe\">\n",
       "  <thead>\n",
       "    <tr style=\"text-align: right;\">\n",
       "      <th></th>\n",
       "      <th>Current</th>\n",
       "      <th>New</th>\n",
       "    </tr>\n",
       "  </thead>\n",
       "  <tbody>\n",
       "    <tr>\n",
       "      <th>0</th>\n",
       "      <td>264</td>\n",
       "      <td>277</td>\n",
       "    </tr>\n",
       "    <tr>\n",
       "      <th>1</th>\n",
       "      <td>261</td>\n",
       "      <td>269</td>\n",
       "    </tr>\n",
       "    <tr>\n",
       "      <th>2</th>\n",
       "      <td>267</td>\n",
       "      <td>263</td>\n",
       "    </tr>\n",
       "    <tr>\n",
       "      <th>3</th>\n",
       "      <td>272</td>\n",
       "      <td>266</td>\n",
       "    </tr>\n",
       "    <tr>\n",
       "      <th>4</th>\n",
       "      <td>258</td>\n",
       "      <td>262</td>\n",
       "    </tr>\n",
       "  </tbody>\n",
       "</table>\n",
       "</div>"
      ],
      "text/plain": [
       "   Current  New\n",
       "0      264  277\n",
       "1      261  269\n",
       "2      267  263\n",
       "3      272  266\n",
       "4      258  262"
      ]
     },
     "execution_count": 17,
     "metadata": {},
     "output_type": "execute_result"
    }
   ],
   "source": [
    "df.head()"
   ]
  },
  {
   "cell_type": "code",
   "execution_count": 18,
   "metadata": {
    "colab": {
     "base_uri": "https://localhost:8080/",
     "height": 34
    },
    "colab_type": "code",
    "id": "-99xVk7GgFcs",
    "outputId": "aa08ec19-cccf-44aa-e812-d6cb9a9abf1c"
   },
   "outputs": [
    {
     "data": {
      "text/plain": [
       "(40, 2)"
      ]
     },
     "execution_count": 18,
     "metadata": {},
     "output_type": "execute_result"
    }
   ],
   "source": [
    "df.shape"
   ]
  },
  {
   "cell_type": "code",
   "execution_count": 74,
   "metadata": {
    "colab": {
     "base_uri": "https://localhost:8080/",
     "height": 50
    },
    "colab_type": "code",
    "id": "Wl9gmFt9gJOW",
    "outputId": "14702e52-4da1-446f-db23-e93f5d651641"
   },
   "outputs": [
    {
     "name": "stdout",
     "output_type": "stream",
     "text": [
      "p-value 0.18793228491854663\n",
      "we accept null hypothesis\n"
     ]
    }
   ],
   "source": [
    "#Question 1,2\n",
    "#We will use two sample t test\n",
    "from scipy.stats import ttest_ind\n",
    "ttest,pval = ttest_ind(df['Current'],df['New'])\n",
    "print(\"p-value\",pval)\n",
    "\n",
    "if pval <0.05:\n",
    "  print(\"we reject null hypothesis\")\n",
    "else:\n",
    "  print(\"we accept null hypothesis\")\n",
    "  \n",
    "#mean driving distance for two balls are equal"
   ]
  },
  {
   "cell_type": "code",
   "execution_count": 20,
   "metadata": {
    "colab": {
     "base_uri": "https://localhost:8080/",
     "height": 34
    },
    "colab_type": "code",
    "id": "XLDJ83DajPxA",
    "outputId": "bf72395e-984f-41a0-fd4f-9d609a13e947"
   },
   "outputs": [
    {
     "name": "stdout",
     "output_type": "stream",
     "text": [
      "The 95 percent Confidence Interval for Current Balls is from 267.5625 to 272.9875\n",
      "The 95 percent Confidence Interval for New Balls is from 264.4330 to 270.5670\n"
     ]
    }
   ],
   "source": [
    "#Question 3\n",
    "s_cur = df.Current.std()/np.sqrt(len(df.Current))\n",
    "s_new = df.New.std()/np.sqrt(len(df.New))\n",
    "LCI_cur,UCI_cur = stats.norm.interval(0.95,loc=df.Current.mean(),scale=s_cur)\n",
    "LCI_new,UCI_new = stats.norm.interval(0.95,loc=df.New.mean(),scale=s_new)\n",
    "\n",
    "print(\"The 95 percent Confidence Interval for Current Balls is from %1.4f to %1.4f\"%(LCI_cur,UCI_cur))\n",
    "print(\"The 95 percent Confidence Interval for New Balls is from %1.4f to %1.4f\"%(LCI_new,UCI_new))"
   ]
  },
  {
   "cell_type": "code",
   "execution_count": 21,
   "metadata": {
    "colab": {
     "base_uri": "https://localhost:8080/",
     "height": 34
    },
    "colab_type": "code",
    "id": "w7hVZfp5kRRf",
    "outputId": "d8b25798-4438-4d5f-cb45-d51ef3484963"
   },
   "outputs": [],
   "source": [
    "z = 1.96 # This is because the z score value for 95% Conf Interval is 1.96\n",
    "x1 = df.Current.mean()\n",
    "x2 = df.New.mean()\n",
    "sigma1 = df.Current.std()\n",
    "sigma2 = df.New.std()\n",
    "n1 = n2 =40"
   ]
  },
  {
   "cell_type": "code",
   "execution_count": 22,
   "metadata": {
    "colab": {},
    "colab_type": "code",
    "id": "N4g4kgyakTjU"
   },
   "outputs": [
    {
     "data": {
      "text/plain": [
       "2.7749999999999773"
      ]
     },
     "execution_count": 22,
     "metadata": {},
     "output_type": "execute_result"
    }
   ],
   "source": [
    "a = x1-x2\n",
    "a"
   ]
  },
  {
   "cell_type": "code",
   "execution_count": 24,
   "metadata": {},
   "outputs": [],
   "source": [
    "#This means the average for Current balls minus the average for New balls is positive,\n",
    "#making Current balls the larger of the two varieties, in terms of this sample"
   ]
  },
  {
   "cell_type": "code",
   "execution_count": 25,
   "metadata": {},
   "outputs": [],
   "source": [
    "dr = np.sqrt(((sigma1**2)/n1)+((sigma2**2)/n2))"
   ]
  },
  {
   "cell_type": "code",
   "execution_count": 26,
   "metadata": {},
   "outputs": [
    {
     "data": {
      "text/plain": [
       "4.094517657325933"
      ]
     },
     "execution_count": 26,
     "metadata": {},
     "output_type": "execute_result"
    }
   ],
   "source": [
    "err = 1.96*dr\n",
    "err"
   ]
  },
  {
   "cell_type": "code",
   "execution_count": 27,
   "metadata": {},
   "outputs": [
    {
     "name": "stdout",
     "output_type": "stream",
     "text": [
      "6.86951765732591 -1.3195176573259557\n"
     ]
    }
   ],
   "source": [
    "upper = a+err\n",
    "lower = a-err\n",
    "print(upper,lower)"
   ]
  },
  {
   "cell_type": "code",
   "execution_count": null,
   "metadata": {},
   "outputs": [],
   "source": [
    "#To interpret these results in the context of the problem,\n",
    "#you can say with 95% confidence that the Current ball travels longer,\n",
    "#on average, than the new ball, by somewhere between -1.319 and 6.869 yards, based on sample."
   ]
  }
 ],
 "metadata": {
  "colab": {
   "collapsed_sections": [],
   "name": "Mini Project",
   "provenance": [],
   "version": "0.3.2"
  },
  "kernelspec": {
   "display_name": "Python 3",
   "language": "python",
   "name": "python3"
  },
  "language_info": {
   "codemirror_mode": {
    "name": "ipython",
    "version": 3
   },
   "file_extension": ".py",
   "mimetype": "text/x-python",
   "name": "python",
   "nbconvert_exporter": "python",
   "pygments_lexer": "ipython3",
   "version": "3.7.3"
  }
 },
 "nbformat": 4,
 "nbformat_minor": 1
}
