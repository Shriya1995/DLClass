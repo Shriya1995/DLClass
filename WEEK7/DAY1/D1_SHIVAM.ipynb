{
  "nbformat": 4,
  "nbformat_minor": 0,
  "metadata": {
    "kernelspec": {
      "display_name": "Python 3",
      "language": "python",
      "name": "python3"
    },
    "language_info": {
      "codemirror_mode": {
        "name": "ipython",
        "version": 3
      },
      "file_extension": ".py",
      "mimetype": "text/x-python",
      "name": "python",
      "nbconvert_exporter": "python",
      "pygments_lexer": "ipython3",
      "version": "3.7.3"
    },
    "colab": {
      "name": "D1",
      "version": "0.3.2",
      "provenance": []
    }
  },
  "cells": [
    {
      "cell_type": "code",
      "metadata": {
        "id": "BC9h3jShA2zT",
        "colab_type": "code",
        "colab": {}
      },
      "source": [
        "## CALLING LIBRARIES\n",
        "import numpy             as np\n",
        "import pandas            as pd\n",
        "import scipy.stats       as stats\n",
        "import matplotlib.pyplot as plt\n",
        "%matplotlib inline\n",
        "import seaborn           as sns\n",
        "import math"
      ],
      "execution_count": 0,
      "outputs": []
    },
    {
      "cell_type": "markdown",
      "metadata": {
        "id": "pz2cmKYbA2zW",
        "colab_type": "text"
      },
      "source": [
        "## Normal Distribution"
      ]
    },
    {
      "cell_type": "markdown",
      "metadata": {
        "id": "K9wDPVV7A2zX",
        "colab_type": "text"
      },
      "source": [
        "**Problem:** The fill amount in 2-liter soft drink bottles is normally distributed, with a mean of 2.0 liters and a standard deviation of 0.05 liter. If the bottles contain less than 95% of the listed net content (1.90 liters, in our case), the manufacturer may be subject to penalty by the state office of consumer affairs. Bottles that have a net content above 2.1 liters may cause excess spillage upon opening. What is the proportion of bottles that will contain\n",
        "\n",
        "* a) between 1.9 and 2.0 liters\n",
        "* b) between 1.9 and 2.1 liters\n",
        "* c) below 1.9 liters or above 2.1 liters\n",
        "* d) At least how much soft drink is contained in 99% of the bottles?"
      ]
    },
    {
      "cell_type": "code",
      "metadata": {
        "id": "_B5g4o0cA2zX",
        "colab_type": "code",
        "colab": {}
      },
      "source": [
        "mu     = 2\n",
        "sigma  = 0.05"
      ],
      "execution_count": 0,
      "outputs": []
    },
    {
      "cell_type": "markdown",
      "metadata": {
        "id": "dCaZgaJCA2za",
        "colab_type": "text"
      },
      "source": [
        "#### a. between 1.9 and 2.0 liters\n",
        "----------"
      ]
    },
    {
      "cell_type": "code",
      "metadata": {
        "id": "Su4UJlG5A2zb",
        "colab_type": "code",
        "colab": {
          "base_uri": "https://localhost:8080/",
          "height": 34
        },
        "outputId": "4b5a3e45-e68f-4ca1-a27b-b6e87d9e9d67"
      },
      "source": [
        "z1=(1.9-mu)/sigma\n",
        "z2=(2-mu)/sigma\n",
        "P1=stats.norm.cdf(z1)\n",
        "P2=stats.norm.cdf(z2)\n",
        "\n",
        "print(P2-P1)"
      ],
      "execution_count": 37,
      "outputs": [
        {
          "output_type": "stream",
          "text": [
            "0.4772498680518209\n"
          ],
          "name": "stdout"
        }
      ]
    },
    {
      "cell_type": "markdown",
      "metadata": {
        "id": "yxH56mMYA2zd",
        "colab_type": "text"
      },
      "source": [
        "#### b) between 1.9 and 2.1 liters\n",
        "-------"
      ]
    },
    {
      "cell_type": "code",
      "metadata": {
        "id": "ies5XpotA2ze",
        "colab_type": "code",
        "colab": {
          "base_uri": "https://localhost:8080/",
          "height": 67
        },
        "outputId": "d322e676-3c7e-491e-a832-b54cf86b0f46"
      },
      "source": [
        "z1=(1.9-mu)/sigma\n",
        "z2=(2.1-mu)/sigma\n",
        "P1=stats.norm.cdf(z1)\n",
        "P2=stats.norm.cdf(z2)\n",
        "print(P1)\n",
        "print(P2)\n",
        "print(P2-P1)"
      ],
      "execution_count": 38,
      "outputs": [
        {
          "output_type": "stream",
          "text": [
            "0.0227501319481791\n",
            "0.9772498680518209\n",
            "0.9544997361036418\n"
          ],
          "name": "stdout"
        }
      ]
    },
    {
      "cell_type": "markdown",
      "metadata": {
        "id": "QOeFW2vTA2zg",
        "colab_type": "text"
      },
      "source": [
        "#### c. below 1.9 liters or above 2.1 liters\n",
        "------"
      ]
    },
    {
      "cell_type": "code",
      "metadata": {
        "id": "TauH4jSGA2zh",
        "colab_type": "code",
        "colab": {
          "base_uri": "https://localhost:8080/",
          "height": 67
        },
        "outputId": "b74dff3a-bc0d-42bd-bd86-411306e686bf"
      },
      "source": [
        "z1=(1.9-mu)/sigma\n",
        "z2=(2.1-mu)/sigma\n",
        "P1=stats.norm.cdf(z1)\n",
        "P2=1-stats.norm.cdf(z2)\n",
        "print(P1)\n",
        "print(P2)\n",
        "print(P2+P1)"
      ],
      "execution_count": 39,
      "outputs": [
        {
          "output_type": "stream",
          "text": [
            "0.0227501319481791\n",
            "0.022750131948179098\n",
            "0.045500263896358195\n"
          ],
          "name": "stdout"
        }
      ]
    },
    {
      "cell_type": "markdown",
      "metadata": {
        "id": "yiD2nnCsA2zk",
        "colab_type": "text"
      },
      "source": [
        "#### d) At least how much soft drink is contained in 99% of the bottles?\n",
        "-----------"
      ]
    },
    {
      "cell_type": "code",
      "metadata": {
        "id": "eX7eePOXA2zk",
        "colab_type": "code",
        "colab": {
          "base_uri": "https://localhost:8080/",
          "height": 34
        },
        "outputId": "c4a0f885-5d54-46eb-a3ae-cdfa9e88ed36"
      },
      "source": [
        "z=2.58\n",
        "x=(z*sigma)+mu\n",
        "x"
      ],
      "execution_count": 40,
      "outputs": [
        {
          "output_type": "execute_result",
          "data": {
            "text/plain": [
              "2.129"
            ]
          },
          "metadata": {
            "tags": []
          },
          "execution_count": 40
        }
      ]
    },
    {
      "cell_type": "markdown",
      "metadata": {
        "id": "O84etG5iA2zn",
        "colab_type": "text"
      },
      "source": [
        "------"
      ]
    },
    {
      "cell_type": "markdown",
      "metadata": {
        "id": "FOPKjC1uA2zn",
        "colab_type": "text"
      },
      "source": [
        "**Problem)**. The following table contains the age of the vistors in the cricket stadium  ( n =50).**\n",
        "* Decide whether the data appears to be normally distributed by\n",
        "* a. Mean and median "
      ]
    },
    {
      "cell_type": "markdown",
      "metadata": {
        "id": "h3QebNx9A2zo",
        "colab_type": "text"
      },
      "source": [
        "**solution :**"
      ]
    },
    {
      "cell_type": "code",
      "metadata": {
        "id": "jEjRlFdcA2zp",
        "colab_type": "code",
        "outputId": "58400d1f-8d99-4926-e637-22251a6ebcd5",
        "colab": {
          "base_uri": "https://localhost:8080/",
          "height": 67
        }
      },
      "source": [
        "mpg = np.array([38,36,31,30, 28,25, 26, 20, 20, 20, 21, 19, 21, 19, 21, 20, 20, 20, 19, 21, 21, 22, 20, 22, 20, 20, 22, 20, 22, 21, 19,\n",
        "                             19, 20, 20, 21, 20, 19, 18, 20, 21, 21, 20, 21, 21, 20,  21, 24, 32, 35,38])\n",
        "print(mpg)"
      ],
      "execution_count": 41,
      "outputs": [
        {
          "output_type": "stream",
          "text": [
            "[38 36 31 30 28 25 26 20 20 20 21 19 21 19 21 20 20 20 19 21 21 22 20 22\n",
            " 20 20 22 20 22 21 19 19 20 20 21 20 19 18 20 21 21 20 21 21 20 21 24 32\n",
            " 35 38]\n"
          ],
          "name": "stdout"
        }
      ]
    },
    {
      "cell_type": "code",
      "metadata": {
        "id": "Ef8r_vKZA2zs",
        "colab_type": "code",
        "outputId": "36c90950-008a-4d01-d2bf-7fd8f9e7fc46",
        "colab": {
          "base_uri": "https://localhost:8080/",
          "height": 34
        }
      },
      "source": [
        "mpg.mean()"
      ],
      "execution_count": 42,
      "outputs": [
        {
          "output_type": "execute_result",
          "data": {
            "text/plain": [
              "22.7"
            ]
          },
          "metadata": {
            "tags": []
          },
          "execution_count": 42
        }
      ]
    },
    {
      "cell_type": "code",
      "metadata": {
        "id": "fP7b_6WbCkJl",
        "colab_type": "code",
        "outputId": "d6d9f6df-e183-49b9-fe85-2e76e7aeff3c",
        "colab": {
          "base_uri": "https://localhost:8080/",
          "height": 34
        }
      },
      "source": [
        "np.median(mpg)"
      ],
      "execution_count": 43,
      "outputs": [
        {
          "output_type": "execute_result",
          "data": {
            "text/plain": [
              "21.0"
            ]
          },
          "metadata": {
            "tags": []
          },
          "execution_count": 43
        }
      ]
    },
    {
      "cell_type": "markdown",
      "metadata": {
        "id": "TKohj6KIA2zu",
        "colab_type": "text"
      },
      "source": [
        "------------------"
      ]
    },
    {
      "cell_type": "markdown",
      "metadata": {
        "id": "kQBA16KtA2zv",
        "colab_type": "text"
      },
      "source": [
        "**Problem**). The mean filling capacity for a coke bottle is 500 ml with a standard deviation of 20ml. The random variable filled     \n",
        "       capacity of the bottles follows a normal distribution.**\n",
        "\n",
        "* a. What is the probability that the bottle filled less than 480 ml ?\n",
        "* b. What is the probability that the bottle filled more than  520 ml? \n",
        "* c. What is the probability that the bottle filled between 470 ml to 525 ml? "
      ]
    },
    {
      "cell_type": "markdown",
      "metadata": {
        "id": "DEpC6x0UA2zw",
        "colab_type": "text"
      },
      "source": [
        "**solution :**"
      ]
    },
    {
      "cell_type": "code",
      "metadata": {
        "id": "1VYfqFPGA2zw",
        "colab_type": "code",
        "colab": {
          "base_uri": "https://localhost:8080/",
          "height": 67
        },
        "outputId": "2d8c802b-b443-40b2-f694-a3fdb7fe748a"
      },
      "source": [
        "mu = 500\n",
        "sigma = 20\n",
        "z1 = (480-mu)/sigma\n",
        "P1=stats.norm.cdf(z1)\n",
        "print(P1)\n",
        "\n",
        "\n",
        "z1 = (520-mu)/sigma\n",
        "P1=1-stats.norm.cdf(z1)\n",
        "print(P1)\n",
        "\n",
        "z1 = (470-mu)/sigma\n",
        "P1=stats.norm.cdf(z1)\n",
        "z2 = (525-mu)/sigma\n",
        "P2=stats.norm.cdf(z2)\n",
        "print(P2-P1)\n",
        "\n"
      ],
      "execution_count": 56,
      "outputs": [
        {
          "output_type": "stream",
          "text": [
            "0.15865525393145707\n",
            "0.15865525393145707\n",
            "0.8275430250642866\n"
          ],
          "name": "stdout"
        }
      ]
    },
    {
      "cell_type": "markdown",
      "metadata": {
        "id": "nw3DgEcKA2zz",
        "colab_type": "text"
      },
      "source": [
        "-------------------"
      ]
    },
    {
      "cell_type": "markdown",
      "metadata": {
        "id": "LoVFq7baA2zz",
        "colab_type": "text"
      },
      "source": [
        "**Problem:** ) Provided the Population data and sample data.\n",
        "\n",
        "#### a).plot the population data and sample data check how the data is distributed.Give inference wheather the sampling distribution similar to population data."
      ]
    },
    {
      "cell_type": "code",
      "metadata": {
        "id": "nGT-lao7A2z0",
        "colab_type": "code",
        "outputId": "30f3cabc-bec7-4258-a69b-2c22f4c77b24",
        "colab": {
          "base_uri": "https://localhost:8080/",
          "height": 34
        }
      },
      "source": [
        "np.random.seed(7)\n",
        "population_horsepower1 = stats.poisson.rvs(loc=1800, mu=25, size=15000)\n",
        "population_horsepower2 = stats.poisson.rvs(loc=1800, mu=5, size=10000)\n",
        "population_hp = np.concatenate((population_horsepower1, population_horsepower2))\n",
        "\n",
        "print(population_hp) # population data"
      ],
      "execution_count": 44,
      "outputs": [
        {
          "output_type": "stream",
          "text": [
            "[1824 1825 1821 ... 1812 1807 1805]\n"
          ],
          "name": "stdout"
        }
      ]
    },
    {
      "cell_type": "code",
      "metadata": {
        "id": "Shczu4stA2z2",
        "colab_type": "code",
        "outputId": "47546b30-adf2-47e3-9dc0-8391e4d6212f",
        "colab": {
          "base_uri": "https://localhost:8080/",
          "height": 151
        }
      },
      "source": [
        "np.random.seed(7)\n",
        "sample_hp = np.random.choice(a= population_hp,size=100)            # Sample 100 values\n",
        "print(sample_hp) #sample data"
      ],
      "execution_count": 45,
      "outputs": [
        {
          "output_type": "stream",
          "text": [
            "[1806 1816 1833 1809 1834 1819 1818 1803 1823 1803 1824 1807 1823 1835\n",
            " 1804 1802 1812 1804 1802 1821 1819 1829 1822 1826 1841 1831 1804 1820\n",
            " 1805 1828 1821 1826 1801 1820 1807 1806 1806 1807 1817 1824 1828 1806\n",
            " 1824 1819 1823 1818 1827 1803 1829 1824 1804 1802 1826 1827 1824 1809\n",
            " 1828 1822 1805 1805 1806 1805 1801 1810 1827 1822 1831 1822 1803 1820\n",
            " 1806 1822 1811 1816 1830 1835 1828 1822 1826 1803 1835 1827 1827 1824\n",
            " 1819 1826 1831 1803 1807 1831 1811 1818 1817 1832 1805 1808 1802 1821\n",
            " 1804 1836]\n"
          ],
          "name": "stdout"
        }
      ]
    },
    {
      "cell_type": "markdown",
      "metadata": {
        "id": "wsg0tjOnA2z5",
        "colab_type": "text"
      },
      "source": [
        "**Solution :**"
      ]
    },
    {
      "cell_type": "code",
      "metadata": {
        "id": "IAyD6abrqGHt",
        "colab_type": "code",
        "colab": {
          "base_uri": "https://localhost:8080/",
          "height": 586
        },
        "outputId": "4053b082-108a-4a8d-e89b-dfea157fd464"
      },
      "source": [
        "pd.DataFrame(population_hp).hist(bins=58,figsize=(9,9))"
      ],
      "execution_count": 46,
      "outputs": [
        {
          "output_type": "execute_result",
          "data": {
            "text/plain": [
              "array([[<matplotlib.axes._subplots.AxesSubplot object at 0x7f8f87c91320>]],\n",
              "      dtype=object)"
            ]
          },
          "metadata": {
            "tags": []
          },
          "execution_count": 46
        },
        {
          "output_type": "display_data",
          "data": {
            "image/png": "[encoded data removed]",
            "text/plain": [
              "<Figure size 648x648 with 1 Axes>"
            ]
          },
          "metadata": {
            "tags": []
          }
        }
      ]
    },
    {
      "cell_type": "code",
      "metadata": {
        "id": "L6QydcOZA2z5",
        "colab_type": "code",
        "colab": {
          "base_uri": "https://localhost:8080/",
          "height": 586
        },
        "outputId": "c058c2fe-2c48-4512-eb9e-8d965fa0cfe3"
      },
      "source": [
        "pd.DataFrame(sample_hp).hist(bins=58,figsize=(9,9))"
      ],
      "execution_count": 47,
      "outputs": [
        {
          "output_type": "execute_result",
          "data": {
            "text/plain": [
              "array([[<matplotlib.axes._subplots.AxesSubplot object at 0x7f8f87c485c0>]],\n",
              "      dtype=object)"
            ]
          },
          "metadata": {
            "tags": []
          },
          "execution_count": 47
        },
        {
          "output_type": "display_data",
          "data": {
            "image/png": "[encoded data removed]",
            "text/plain": [
              "<Figure size 648x648 with 1 Axes>"
            ]
          },
          "metadata": {
            "tags": []
          }
        }
      ]
    },
    {
      "cell_type": "markdown",
      "metadata": {
        "id": "FNYK2fpOA2z7",
        "colab_type": "text"
      },
      "source": [
        "---------------"
      ]
    },
    {
      "cell_type": "markdown",
      "metadata": {
        "id": "sImAaqlRA2z8",
        "colab_type": "text"
      },
      "source": [
        "**Problem:**) Provided the Population data and sample data.\n",
        "\n",
        "#### a).calculate a 90% confidence for our mean point estimate?"
      ]
    },
    {
      "cell_type": "code",
      "metadata": {
        "id": "HNfg7cAFA2z9",
        "colab_type": "code",
        "outputId": "4e1e786b-5cd4-436c-b43f-8f145b042623",
        "colab": {
          "base_uri": "https://localhost:8080/",
          "height": 34
        }
      },
      "source": [
        "np.random.seed(11)\n",
        "population_horsepower1 = stats.poisson.rvs(loc=1800, mu=25, size=15000)\n",
        "population_horsepower2 = stats.poisson.rvs(loc=1800, mu=5, size=10000)\n",
        "population_hp = np.concatenate((population_horsepower1, population_horsepower2))\n",
        "\n",
        "print(population_hp) # population data"
      ],
      "execution_count": 48,
      "outputs": [
        {
          "output_type": "stream",
          "text": [
            "[1820 1824 1824 ... 1808 1806 1804]\n"
          ],
          "name": "stdout"
        }
      ]
    },
    {
      "cell_type": "code",
      "metadata": {
        "id": "U5Nqb7VdA2z_",
        "colab_type": "code",
        "colab": {}
      },
      "source": [
        "np.random.seed(11)\n",
        "\n",
        "sample_size = 100\n",
        "sample = np.random.choice(a= population_hp, size = sample_size)"
      ],
      "execution_count": 0,
      "outputs": []
    },
    {
      "cell_type": "markdown",
      "metadata": {
        "id": "GcuKnuj_A20B",
        "colab_type": "text"
      },
      "source": [
        "**Solution :**"
      ]
    },
    {
      "cell_type": "code",
      "metadata": {
        "id": "JEukoHjhA20C",
        "colab_type": "code",
        "colab": {
          "base_uri": "https://localhost:8080/",
          "height": 101
        },
        "outputId": "052ceaa9-d68f-4840-aefb-b87e9f2f272e"
      },
      "source": [
        "sample_mean = sample.mean()\n",
        "\n",
        "z_critical = stats.norm.ppf(q = 0.975)  # Get the z-critical value*\n",
        "\n",
        "print(\"z-critical value:\")              # Check the z-critical value\n",
        "print(z_critical)                        \n",
        "\n",
        "pop_stdev = population_hp.std()  \n",
        "\n",
        "print(pop_stdev)\n",
        "\n",
        "margin_of_error = z_critical * (pop_stdev/math.sqrt(sample_size))\n",
        "\n",
        "confidence_interval = (sample_mean - margin_of_error,\n",
        "                       sample_mean + margin_of_error)  \n",
        "\n",
        "print(\"Confidence interval:\")\n",
        "print(confidence_interval)"
      ],
      "execution_count": 50,
      "outputs": [
        {
          "output_type": "stream",
          "text": [
            "z-critical value:\n",
            "1.959963984540054\n",
            "10.632982467774504\n",
            "Confidence interval:\n",
            "(1814.0859737314918, 1818.2540262685084)\n"
          ],
          "name": "stdout"
        }
      ]
    },
    {
      "cell_type": "markdown",
      "metadata": {
        "id": "MIgUxL4wA20F",
        "colab_type": "text"
      },
      "source": [
        "----------------"
      ]
    },
    {
      "cell_type": "markdown",
      "metadata": {
        "id": "vUwhK0bdA20G",
        "colab_type": "text"
      },
      "source": [
        "**Problem:**. Hindustan Pencils Pvt. Ltd. is an Indian manufacturer of pencils, writing materials and other stationery items, established in 1958 in Mumbai. Nataraj brand of pencils manufactured by the company is expected to have a mean length of 172 mm and the standard deviation of the length is 0.02 mm.\n",
        "To ensure quality, a sample is selected at periodic intervals to determine whether the length is still 172 mm and other dimensions of the pencil meet the quality standards set by the company.You select a random sample of 100 pencils follows a normal distribution and the mean is 170 mm.**\n",
        "\n",
        "* a).Construct a 99% confidence interval for the pencil length."
      ]
    },
    {
      "cell_type": "markdown",
      "metadata": {
        "id": "IYJJ3gWcA20H",
        "colab_type": "text"
      },
      "source": [
        "**Solution :**"
      ]
    },
    {
      "cell_type": "markdown",
      "metadata": {
        "id": "C9EZ30Z3A20I",
        "colab_type": "text"
      },
      "source": [
        "It is known that \n",
        "* $\\overline{X}$ = 172 mm\n",
        "* $\\sigma$       = 0.02 mm\n",
        "* n              = 100\n",
        "We need to compute $\\overline{X} \\quad \\pm 1.64 \\frac {\\sigma} {\\sqrt{n}}$ "
      ]
    },
    {
      "cell_type": "code",
      "metadata": {
        "id": "L8gAypIsA20J",
        "colab_type": "code",
        "colab": {
          "base_uri": "https://localhost:8080/",
          "height": 34
        },
        "outputId": "f7523381-64e7-41d2-ba12-609686a2b29b"
      },
      "source": [
        "s_pop = 0.02/10\n",
        "\n",
        "LCI_POP, UCI_POP = stats.norm.interval(0.99, loc = 172, scale=s_pop)\n",
        "print('The interval %1.4f to %1.4f'%(LCI_POP,UCI_POP))"
      ],
      "execution_count": 51,
      "outputs": [
        {
          "output_type": "stream",
          "text": [
            "The interval 171.9948 to 172.0052\n"
          ],
          "name": "stdout"
        }
      ]
    },
    {
      "cell_type": "code",
      "metadata": {
        "id": "lJOjG4TtxDsU",
        "colab_type": "code",
        "colab": {}
      },
      "source": [
        ""
      ],
      "execution_count": 0,
      "outputs": []
    }
  ]
}