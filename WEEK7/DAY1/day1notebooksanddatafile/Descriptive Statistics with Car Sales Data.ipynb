{
 "cells": [
  {
   "cell_type": "code",
   "execution_count": 1,
   "metadata": {
    "colab": {},
    "colab_type": "code",
    "id": "gvluzfWLge8Q"
   },
   "outputs": [],
   "source": [
    "import numpy as np\n",
    "import pandas as pd\n",
    "import matplotlib.pyplot as plt\n",
    "%matplotlib inline"
   ]
  },
  {
   "cell_type": "code",
   "execution_count": 2,
   "metadata": {
    "colab": {
     "base_uri": "https://localhost:8080/",
     "height": 124
    },
    "colab_type": "code",
    "executionInfo": {
     "elapsed": 53839,
     "status": "ok",
     "timestamp": 1566799680093,
     "user": {
      "displayName": "Mahesh Anand",
      "photoUrl": "https://lh3.googleusercontent.com/a-/AAuE7mDwRqsBffQmzXsc6rHxDVmepWB7mxD_zfhcK5E1=s64",
      "userId": "06788086636039591358"
     },
     "user_tz": -330
    },
    "id": "E3A8iVxYiNZy",
    "outputId": "edaaa596-6bff-4cff-95b8-e84046b8d68a"
   },
   "outputs": [
    {
     "ename": "ModuleNotFoundError",
     "evalue": "No module named 'google'",
     "output_type": "error",
     "traceback": [
      "\u001b[0;31m---------------------------------------------------------------------------\u001b[0m",
      "\u001b[0;31mModuleNotFoundError\u001b[0m                       Traceback (most recent call last)",
      "\u001b[0;32m<ipython-input-2-d5df0069828e>\u001b[0m in \u001b[0;36m<module>\u001b[0;34m\u001b[0m\n\u001b[0;32m----> 1\u001b[0;31m \u001b[0;32mfrom\u001b[0m \u001b[0mgoogle\u001b[0m\u001b[0;34m.\u001b[0m\u001b[0mcolab\u001b[0m \u001b[0;32mimport\u001b[0m \u001b[0mdrive\u001b[0m\u001b[0;34m\u001b[0m\u001b[0;34m\u001b[0m\u001b[0m\n\u001b[0m\u001b[1;32m      2\u001b[0m \u001b[0mdrive\u001b[0m\u001b[0;34m.\u001b[0m\u001b[0mmount\u001b[0m\u001b[0;34m(\u001b[0m\u001b[0;34m'/content/drive'\u001b[0m\u001b[0;34m)\u001b[0m\u001b[0;34m\u001b[0m\u001b[0;34m\u001b[0m\u001b[0m\n",
      "\u001b[0;31mModuleNotFoundError\u001b[0m: No module named 'google'"
     ]
    }
   ],
   "source": [
    "from google.colab import drive\n",
    "drive.mount('/content/drive')"
   ]
  },
  {
   "cell_type": "code",
   "execution_count": 0,
   "metadata": {
    "colab": {},
    "colab_type": "code",
    "id": "X4wUINmmge8U",
    "outputId": "693e3a56-ba7a-4296-d949-2c6c00d2ef7e"
   },
   "outputs": [
    {
     "data": {
      "text/html": [
       "<div>\n",
       "<style scoped>\n",
       "    .dataframe tbody tr th:only-of-type {\n",
       "        vertical-align: middle;\n",
       "    }\n",
       "\n",
       "    .dataframe tbody tr th {\n",
       "        vertical-align: top;\n",
       "    }\n",
       "\n",
       "    .dataframe thead th {\n",
       "        text-align: right;\n",
       "    }\n",
       "</style>\n",
       "<table border=\"1\" class=\"dataframe\">\n",
       "  <thead>\n",
       "    <tr style=\"text-align: right;\">\n",
       "      <th></th>\n",
       "      <th>0</th>\n",
       "    </tr>\n",
       "  </thead>\n",
       "  <tbody>\n",
       "    <tr>\n",
       "      <th>count</th>\n",
       "      <td>8.000000</td>\n",
       "    </tr>\n",
       "    <tr>\n",
       "      <th>mean</th>\n",
       "      <td>37.375000</td>\n",
       "    </tr>\n",
       "    <tr>\n",
       "      <th>std</th>\n",
       "      <td>18.700172</td>\n",
       "    </tr>\n",
       "    <tr>\n",
       "      <th>min</th>\n",
       "      <td>25.000000</td>\n",
       "    </tr>\n",
       "    <tr>\n",
       "      <th>25%</th>\n",
       "      <td>25.750000</td>\n",
       "    </tr>\n",
       "    <tr>\n",
       "      <th>50%</th>\n",
       "      <td>29.000000</td>\n",
       "    </tr>\n",
       "    <tr>\n",
       "      <th>75%</th>\n",
       "      <td>38.500000</td>\n",
       "    </tr>\n",
       "    <tr>\n",
       "      <th>max</th>\n",
       "      <td>75.000000</td>\n",
       "    </tr>\n",
       "  </tbody>\n",
       "</table>\n",
       "</div>"
      ],
      "text/plain": [
       "               0\n",
       "count   8.000000\n",
       "mean   37.375000\n",
       "std    18.700172\n",
       "min    25.000000\n",
       "25%    25.750000\n",
       "50%    29.000000\n",
       "75%    38.500000\n",
       "max    75.000000"
      ]
     },
     "execution_count": 40,
     "metadata": {
      "tags": []
     },
     "output_type": "execute_result"
    }
   ],
   "source": [
    "age=pd.DataFrame(np.array([25,25,26,28,30,32,58,75]))\n",
    "np.mean(age)\n",
    "age_std=(age-np.mean(age))/np.std(age)\n",
    "age_std\n",
    "np.std(age)\n",
    "np.max(age)-np.min(age)\n",
    "age.describe()"
   ]
  },
  {
   "cell_type": "code",
   "execution_count": 0,
   "metadata": {
    "colab": {},
    "colab_type": "code",
    "id": "gjmE6q7Dge8X",
    "outputId": "e27ff0bb-7e35-40bc-ab1d-95e1cc2dcfb9"
   },
   "outputs": [
    {
     "data": {
      "text/plain": [
       "18.700171886146624"
      ]
     },
     "execution_count": 36,
     "metadata": {
      "tags": []
     },
     "output_type": "execute_result"
    }
   ],
   "source": [
    "np.sqrt(np.sum((age-np.mean(age))**2)/(len(age)-1))"
   ]
  },
  {
   "cell_type": "code",
   "execution_count": 0,
   "metadata": {
    "colab": {},
    "colab_type": "code",
    "id": "PH-BmUeige8a",
    "outputId": "102b1a80-8a64-4ec4-f76b-f16ce5a6d448"
   },
   "outputs": [
    {
     "data": {
      "text/plain": [
       "0.816496580927726"
      ]
     },
     "execution_count": 29,
     "metadata": {
      "tags": []
     },
     "output_type": "execute_result"
    }
   ],
   "source": [
    "np.std([3,4,5])"
   ]
  },
  {
   "cell_type": "code",
   "execution_count": 0,
   "metadata": {
    "colab": {},
    "colab_type": "code",
    "id": "PmxI9mLnge8b",
    "outputId": "80050ebf-3e62-403d-ecf3-3c8d20d13fe5"
   },
   "outputs": [
    {
     "data": {
      "text/plain": [
       "1.0"
      ]
     },
     "execution_count": 31,
     "metadata": {
      "tags": []
     },
     "output_type": "execute_result"
    }
   ],
   "source": [
    "np.sqrt(2/2)"
   ]
  },
  {
   "cell_type": "code",
   "execution_count": 0,
   "metadata": {
    "colab": {},
    "colab_type": "code",
    "id": "elTvRMiage8e",
    "outputId": "0e447e3a-1133-41a5-db75-1cc52f900e85"
   },
   "outputs": [
    {
     "data": {
      "text/plain": [
       "array([False, False, False, False, False, False, False,  True])"
      ]
     },
     "execution_count": 28,
     "metadata": {
      "tags": []
     },
     "output_type": "execute_result"
    }
   ],
   "source": [
    "age_std-np.mean(age_std)>2*(np.std(age_std))"
   ]
  },
  {
   "cell_type": "code",
   "execution_count": 0,
   "metadata": {
    "colab": {},
    "colab_type": "code",
    "id": "hHuru_Owge8g",
    "outputId": "a4abc0f6-c29b-4965-86c9-ef6805f27233"
   },
   "outputs": [
    {
     "data": {
      "text/plain": [
       "'/mnt/home/gl_faculty_greatlearning/AIML_Statistical_Learning_Mahesh Anand'"
      ]
     },
     "execution_count": 42,
     "metadata": {
      "tags": []
     },
     "output_type": "execute_result"
    }
   ],
   "source": [
    "#import os\n",
    "#os.getcwd()"
   ]
  },
  {
   "cell_type": "code",
   "execution_count": 0,
   "metadata": {
    "colab": {},
    "colab_type": "code",
    "id": "V8bG6iN-ge8h"
   },
   "outputs": [],
   "source": [
    "A=pd.read_csv('/content/drive/My Drive/AIML_Statistical_Learning_Mahesh Anand/car_sales.csv',index_col=0)"
   ]
  },
  {
   "cell_type": "code",
   "execution_count": 6,
   "metadata": {
    "colab": {
     "base_uri": "https://localhost:8080/",
     "height": 139
    },
    "colab_type": "code",
    "executionInfo": {
     "elapsed": 1043,
     "status": "ok",
     "timestamp": 1566800290531,
     "user": {
      "displayName": "Mahesh Anand",
      "photoUrl": "https://lh3.googleusercontent.com/a-/AAuE7mDwRqsBffQmzXsc6rHxDVmepWB7mxD_zfhcK5E1=s64",
      "userId": "06788086636039591358"
     },
     "user_tz": -330
    },
    "id": "8pK2TFTljOMg",
    "outputId": "6730788a-34cf-480d-b2c6-fd4855d0ba84"
   },
   "outputs": [
    {
     "data": {
      "text/plain": [
       "Index(['Manufacturer', 'Model', 'Type', 'Min.Price', 'Price', 'Max.Price',\n",
       "       'MPG.city', 'MPG.highway', 'AirBags', 'DriveTrain', 'Cylinders',\n",
       "       'EngineSize', 'Horsepower', 'RPM', 'Rev.per.mile', 'Man.trans.avail',\n",
       "       'Fuel.tank.capacity', 'Passengers', 'Length', 'Wheelbase', 'Width',\n",
       "       'Turn.circle', 'Rear.seat.room', 'Luggage.room', 'Weight', 'Origin',\n",
       "       'Make'],\n",
       "      dtype='object')"
      ]
     },
     "execution_count": 6,
     "metadata": {
      "tags": []
     },
     "output_type": "execute_result"
    }
   ],
   "source": [
    "A.columns"
   ]
  },
  {
   "cell_type": "code",
   "execution_count": 4,
   "metadata": {
    "colab": {
     "base_uri": "https://localhost:8080/",
     "height": 35
    },
    "colab_type": "code",
    "executionInfo": {
     "elapsed": 1038,
     "status": "ok",
     "timestamp": 1566799879106,
     "user": {
      "displayName": "Mahesh Anand",
      "photoUrl": "https://lh3.googleusercontent.com/a-/AAuE7mDwRqsBffQmzXsc6rHxDVmepWB7mxD_zfhcK5E1=s64",
      "userId": "06788086636039591358"
     },
     "user_tz": -330
    },
    "id": "Mlk_atg2ge8k",
    "outputId": "15e735c7-0f38-4fd4-bce6-37d337536e1e"
   },
   "outputs": [
    {
     "data": {
      "text/plain": [
       "(93, 27)"
      ]
     },
     "execution_count": 4,
     "metadata": {
      "tags": []
     },
     "output_type": "execute_result"
    }
   ],
   "source": [
    "A.shape"
   ]
  },
  {
   "cell_type": "code",
   "execution_count": 0,
   "metadata": {
    "colab": {},
    "colab_type": "code",
    "id": "8EjD1BZYge8m",
    "outputId": "09742814-90f0-4dd5-b3f9-7eddcd17f42b"
   },
   "outputs": [
    {
     "data": {
      "text/plain": [
       "(93, 27)"
      ]
     },
     "execution_count": 3,
     "metadata": {
      "tags": []
     },
     "output_type": "execute_result"
    }
   ],
   "source": [
    "A.shape"
   ]
  },
  {
   "cell_type": "code",
   "execution_count": 7,
   "metadata": {
    "colab": {
     "base_uri": "https://localhost:8080/",
     "height": 283
    },
    "colab_type": "code",
    "executionInfo": {
     "elapsed": 1077,
     "status": "ok",
     "timestamp": 1566802451455,
     "user": {
      "displayName": "Mahesh Anand",
      "photoUrl": "https://lh3.googleusercontent.com/a-/AAuE7mDwRqsBffQmzXsc6rHxDVmepWB7mxD_zfhcK5E1=s64",
      "userId": "06788086636039591358"
     },
     "user_tz": -330
    },
    "id": "qoin3AZrge8o",
    "outputId": "c3a5f5dc-a66b-45a9-ac13-372936b61a69"
   },
   "outputs": [
    {
     "data": {
      "text/plain": [
       "<matplotlib.axes._subplots.AxesSubplot at 0x7f13de123f98>"
      ]
     },
     "execution_count": 7,
     "metadata": {
      "tags": []
     },
     "output_type": "execute_result"
    },
    {
     "data": {
      "image/png": "[encoded data removed]",
      "text/plain": [
       "<Figure size 432x288 with 1 Axes>"
      ]
     },
     "metadata": {
      "tags": []
     },
     "output_type": "display_data"
    }
   ],
   "source": [
    "f_pass=A['Passengers'].value_counts()\n",
    "f_pass.plot(kind='bar',grid=True)"
   ]
  },
  {
   "cell_type": "code",
   "execution_count": 0,
   "metadata": {
    "colab": {},
    "colab_type": "code",
    "id": "Hkl-b44wge8q",
    "outputId": "2a7673fe-f7e2-418b-b440-31513059f047"
   },
   "outputs": [
    {
     "data": {
      "text/plain": [
       "<matplotlib.axes._subplots.AxesSubplot at 0x7fbd47db10b8>"
      ]
     },
     "execution_count": 53,
     "metadata": {
      "tags": []
     },
     "output_type": "execute_result"
    },
    {
     "data": {
      "image/png": "[encoded data removed]",
      "text/plain": [
       "<Figure size 432x288 with 1 Axes>"
      ]
     },
     "metadata": {
      "tags": []
     },
     "output_type": "display_data"
    }
   ],
   "source": [
    "f_pass.plot(kind='pie')"
   ]
  },
  {
   "cell_type": "code",
   "execution_count": 0,
   "metadata": {
    "colab": {},
    "colab_type": "code",
    "id": "xjKZCHQfge8s",
    "outputId": "9fd29824-0019-430d-e551-4d282eae709a"
   },
   "outputs": [
    {
     "data": {
      "text/plain": [
       "Midsize    22\n",
       "Small      21\n",
       "Compact    16\n",
       "Sporty     14\n",
       "Large      11\n",
       "Van         9\n",
       "Name: Type, dtype: int64"
      ]
     },
     "execution_count": 30,
     "metadata": {
      "tags": []
     },
     "output_type": "execute_result"
    }
   ],
   "source": [
    "A['Type'].value_counts()"
   ]
  },
  {
   "cell_type": "code",
   "execution_count": 0,
   "metadata": {
    "colab": {},
    "colab_type": "code",
    "id": "qBe7RY7-ge8u",
    "outputId": "df3a47b1-b719-4ddb-fc97-ec28709fe680"
   },
   "outputs": [
    {
     "data": {
      "text/plain": [
       "<matplotlib.axes._subplots.AxesSubplot at 0x7fbd466c0400>"
      ]
     },
     "execution_count": 58,
     "metadata": {
      "tags": []
     },
     "output_type": "execute_result"
    },
    {
     "data": {
      "image/png": "[encoded data removed]",
      "text/plain": [
       "<Figure size 432x288 with 1 Axes>"
      ]
     },
     "metadata": {
      "tags": []
     },
     "output_type": "display_data"
    }
   ],
   "source": [
    "f4=pd.crosstab(A['Type'],A['DriveTrain'])\n",
    "f4.plot(kind='bar',grid=True)"
   ]
  },
  {
   "cell_type": "code",
   "execution_count": 0,
   "metadata": {
    "colab": {},
    "colab_type": "code",
    "id": "XYMuz_hxge8w",
    "outputId": "56d6b9e2-2f34-4595-9df8-8624cc5423bb"
   },
   "outputs": [
    {
     "data": {
      "text/html": [
       "<div>\n",
       "<style scoped>\n",
       "    .dataframe tbody tr th:only-of-type {\n",
       "        vertical-align: middle;\n",
       "    }\n",
       "\n",
       "    .dataframe tbody tr th {\n",
       "        vertical-align: top;\n",
       "    }\n",
       "\n",
       "    .dataframe thead th {\n",
       "        text-align: right;\n",
       "    }\n",
       "</style>\n",
       "<table border=\"1\" class=\"dataframe\">\n",
       "  <thead>\n",
       "    <tr style=\"text-align: right;\">\n",
       "      <th>DriveTrain</th>\n",
       "      <th>4WD</th>\n",
       "      <th>Front</th>\n",
       "      <th>Rear</th>\n",
       "    </tr>\n",
       "    <tr>\n",
       "      <th>Type</th>\n",
       "      <th></th>\n",
       "      <th></th>\n",
       "      <th></th>\n",
       "    </tr>\n",
       "  </thead>\n",
       "  <tbody>\n",
       "    <tr>\n",
       "      <th>Compact</th>\n",
       "      <td>1</td>\n",
       "      <td>13</td>\n",
       "      <td>2</td>\n",
       "    </tr>\n",
       "    <tr>\n",
       "      <th>Large</th>\n",
       "      <td>0</td>\n",
       "      <td>7</td>\n",
       "      <td>4</td>\n",
       "    </tr>\n",
       "    <tr>\n",
       "      <th>Midsize</th>\n",
       "      <td>0</td>\n",
       "      <td>17</td>\n",
       "      <td>5</td>\n",
       "    </tr>\n",
       "    <tr>\n",
       "      <th>Small</th>\n",
       "      <td>2</td>\n",
       "      <td>19</td>\n",
       "      <td>0</td>\n",
       "    </tr>\n",
       "    <tr>\n",
       "      <th>Sporty</th>\n",
       "      <td>2</td>\n",
       "      <td>7</td>\n",
       "      <td>5</td>\n",
       "    </tr>\n",
       "    <tr>\n",
       "      <th>Van</th>\n",
       "      <td>5</td>\n",
       "      <td>4</td>\n",
       "      <td>0</td>\n",
       "    </tr>\n",
       "  </tbody>\n",
       "</table>\n",
       "</div>"
      ],
      "text/plain": [
       "DriveTrain  4WD  Front  Rear\n",
       "Type                        \n",
       "Compact       1     13     2\n",
       "Large         0      7     4\n",
       "Midsize       0     17     5\n",
       "Small         2     19     0\n",
       "Sporty        2      7     5\n",
       "Van           5      4     0"
      ]
     },
     "execution_count": 56,
     "metadata": {
      "tags": []
     },
     "output_type": "execute_result"
    }
   ],
   "source": [
    "f4"
   ]
  },
  {
   "cell_type": "code",
   "execution_count": 0,
   "metadata": {
    "colab": {},
    "colab_type": "code",
    "id": "K3EnFk_gge8y",
    "outputId": "1a1bd4c6-372e-4bb8-aac8-80b6639c0cb2"
   },
   "outputs": [
    {
     "data": {
      "text/plain": [
       "Driver only           43\n",
       "None                  34\n",
       "Driver & Passenger    16\n",
       "Name: AirBags, dtype: int64"
      ]
     },
     "execution_count": 8,
     "metadata": {
      "tags": []
     },
     "output_type": "execute_result"
    }
   ],
   "source": [
    "f=A['AirBags'].value_counts()\n",
    "f"
   ]
  },
  {
   "cell_type": "code",
   "execution_count": 0,
   "metadata": {
    "colab": {},
    "colab_type": "code",
    "id": "SGE5Jgexge80",
    "outputId": "c8a6632a-63be-4d26-ca62-7b323137645a"
   },
   "outputs": [
    {
     "data": {
      "text/plain": [
       "<matplotlib.axes._subplots.AxesSubplot at 0x7fbd4f8e5d68>"
      ]
     },
     "execution_count": 9,
     "metadata": {
      "tags": []
     },
     "output_type": "execute_result"
    },
    {
     "data": {
      "image/png": "[encoded data removed]",
      "text/plain": [
       "<Figure size 432x288 with 1 Axes>"
      ]
     },
     "metadata": {
      "tags": []
     },
     "output_type": "display_data"
    }
   ],
   "source": [
    "f.plot(kind='bar',grid=True)"
   ]
  },
  {
   "cell_type": "code",
   "execution_count": 0,
   "metadata": {
    "colab": {},
    "colab_type": "code",
    "id": "3fgZwWMDge82",
    "outputId": "bd3c9762-4666-4ecc-ba4a-1bd2e3d36e9d"
   },
   "outputs": [
    {
     "data": {
      "text/plain": [
       "Front    67\n",
       "Rear     16\n",
       "4WD      10\n",
       "Name: DriveTrain, dtype: int64"
      ]
     },
     "execution_count": 24,
     "metadata": {
      "tags": []
     },
     "output_type": "execute_result"
    }
   ],
   "source": [
    "f1=A['DriveTrain'].value_counts()\n",
    "f1"
   ]
  },
  {
   "cell_type": "code",
   "execution_count": 0,
   "metadata": {
    "colab": {},
    "colab_type": "code",
    "id": "K79YrLuege84",
    "outputId": "9544fb37-3b1f-4bcb-b8bb-add4b055c976"
   },
   "outputs": [
    {
     "data": {
      "text/html": [
       "<div>\n",
       "<style scoped>\n",
       "    .dataframe tbody tr th:only-of-type {\n",
       "        vertical-align: middle;\n",
       "    }\n",
       "\n",
       "    .dataframe tbody tr th {\n",
       "        vertical-align: top;\n",
       "    }\n",
       "\n",
       "    .dataframe thead th {\n",
       "        text-align: right;\n",
       "    }\n",
       "</style>\n",
       "<table border=\"1\" class=\"dataframe\">\n",
       "  <thead>\n",
       "    <tr style=\"text-align: right;\">\n",
       "      <th>DriveTrain</th>\n",
       "      <th>4WD</th>\n",
       "      <th>Front</th>\n",
       "      <th>Rear</th>\n",
       "    </tr>\n",
       "    <tr>\n",
       "      <th>AirBags</th>\n",
       "      <th></th>\n",
       "      <th></th>\n",
       "      <th></th>\n",
       "    </tr>\n",
       "  </thead>\n",
       "  <tbody>\n",
       "    <tr>\n",
       "      <th>Driver &amp; Passenger</th>\n",
       "      <td>0</td>\n",
       "      <td>11</td>\n",
       "      <td>5</td>\n",
       "    </tr>\n",
       "    <tr>\n",
       "      <th>Driver only</th>\n",
       "      <td>5</td>\n",
       "      <td>28</td>\n",
       "      <td>10</td>\n",
       "    </tr>\n",
       "    <tr>\n",
       "      <th>None</th>\n",
       "      <td>5</td>\n",
       "      <td>28</td>\n",
       "      <td>1</td>\n",
       "    </tr>\n",
       "  </tbody>\n",
       "</table>\n",
       "</div>"
      ],
      "text/plain": [
       "DriveTrain          4WD  Front  Rear\n",
       "AirBags                             \n",
       "Driver & Passenger    0     11     5\n",
       "Driver only           5     28    10\n",
       "None                  5     28     1"
      ]
     },
     "execution_count": 10,
     "metadata": {
      "tags": []
     },
     "output_type": "execute_result"
    }
   ],
   "source": [
    "f3=pd.crosstab(A['AirBags'],A['DriveTrain'])\n",
    "f3"
   ]
  },
  {
   "cell_type": "code",
   "execution_count": 0,
   "metadata": {
    "colab": {},
    "colab_type": "code",
    "id": "u63JV914ge86",
    "outputId": "479e74ad-a5bd-45bc-fc26-0ff0c1d31fe3"
   },
   "outputs": [
    {
     "data": {
      "text/plain": [
       "<matplotlib.axes._subplots.AxesSubplot at 0x7fbd4f8b5080>"
      ]
     },
     "execution_count": 11,
     "metadata": {
      "tags": []
     },
     "output_type": "execute_result"
    },
    {
     "data": {
      "image/png": "[encoded data removed]",
      "text/plain": [
       "<Figure size 432x288 with 1 Axes>"
      ]
     },
     "metadata": {
      "tags": []
     },
     "output_type": "display_data"
    }
   ],
   "source": [
    "f3.plot(kind='bar',grid=True)"
   ]
  },
  {
   "cell_type": "code",
   "execution_count": 0,
   "metadata": {
    "colab": {},
    "colab_type": "code",
    "id": "hX66Yj0dge89",
    "outputId": "ec3567c1-260d-4eca-b75d-fbed0f826192"
   },
   "outputs": [
    {
     "data": {
      "text/plain": [
       "<matplotlib.axes._subplots.AxesSubplot at 0x7f2cf4cf3588>"
      ]
     },
     "execution_count": 29,
     "metadata": {
      "tags": []
     },
     "output_type": "execute_result"
    },
    {
     "data": {
      "image/png": "[encoded data removed]",
      "text/plain": [
       "<Figure size 432x288 with 1 Axes>"
      ]
     },
     "metadata": {
      "tags": []
     },
     "output_type": "display_data"
    }
   ],
   "source": [
    "f3.plot(kind='bar',stacked=True,grid=True)"
   ]
  },
  {
   "cell_type": "code",
   "execution_count": 8,
   "metadata": {
    "colab": {
     "base_uri": "https://localhost:8080/",
     "height": 170
    },
    "colab_type": "code",
    "executionInfo": {
     "elapsed": 1154,
     "status": "ok",
     "timestamp": 1566803011703,
     "user": {
      "displayName": "Mahesh Anand",
      "photoUrl": "https://lh3.googleusercontent.com/a-/AAuE7mDwRqsBffQmzXsc6rHxDVmepWB7mxD_zfhcK5E1=s64",
      "userId": "06788086636039591358"
     },
     "user_tz": -330
    },
    "id": "i-Rt9gupvHjd",
    "outputId": "2bf78223-bb56-45f2-f8c4-35836768a901"
   },
   "outputs": [
    {
     "data": {
      "text/plain": [
       "count    93.000000\n",
       "mean     19.509677\n",
       "std       9.659430\n",
       "min       7.400000\n",
       "25%      12.200000\n",
       "50%      17.700000\n",
       "75%      23.300000\n",
       "max      61.900000\n",
       "Name: Price, dtype: float64"
      ]
     },
     "execution_count": 8,
     "metadata": {
      "tags": []
     },
     "output_type": "execute_result"
    }
   ],
   "source": [
    "A['Price'].describe()"
   ]
  },
  {
   "cell_type": "code",
   "execution_count": 10,
   "metadata": {
    "colab": {
     "base_uri": "https://localhost:8080/",
     "height": 170
    },
    "colab_type": "code",
    "executionInfo": {
     "elapsed": 1044,
     "status": "ok",
     "timestamp": 1566806461297,
     "user": {
      "displayName": "Mahesh Anand",
      "photoUrl": "https://lh3.googleusercontent.com/a-/AAuE7mDwRqsBffQmzXsc6rHxDVmepWB7mxD_zfhcK5E1=s64",
      "userId": "06788086636039591358"
     },
     "user_tz": -330
    },
    "id": "Ok_Fq8Tb8INu",
    "outputId": "9dccef17-b978-4777-e4e9-6a31f3776dcf"
   },
   "outputs": [
    {
     "data": {
      "text/plain": [
       "array([ 7.4,  8. ,  8.3,  8.4,  8.4,  8.6,  9. ,  9.1,  9.2,  9.8, 10. ,\n",
       "       10. , 10.1, 10.3, 10.9, 11.1, 11.1, 11.3, 11.3, 11.4, 11.6, 11.8,\n",
       "       12.1, 12.2, 12.5, 13.3, 13.4, 13.5, 13.9, 14. , 14.1, 14.4, 14.9,\n",
       "       15.1, 15.6, 15.7, 15.7, 15.8, 15.9, 15.9, 15.9, 16.3, 16.3, 16.5,\n",
       "       16.6, 17.5, 17.7, 18.2, 18.4, 18.4, 18.5, 18.8, 19. , 19.1, 19.1,\n",
       "       19.3, 19.5, 19.5, 19.7, 19.8, 19.9, 20. , 20.2, 20.7, 20.8, 20.9,\n",
       "       21.5, 22.7, 22.7, 23.3, 23.7, 24.4, 25.8, 26.1, 26.3, 26.7, 28. ,\n",
       "       28.7, 29.1, 29.5, 30. , 31.9, 32.5, 33.9, 34.3, 34.7, 35.2, 36.1,\n",
       "       37.7, 38. , 40.1, 47.9, 61.9])"
      ]
     },
     "execution_count": 10,
     "metadata": {
      "tags": []
     },
     "output_type": "execute_result"
    }
   ],
   "source": [
    "np.sort(A['Price'])"
   ]
  },
  {
   "cell_type": "code",
   "execution_count": 0,
   "metadata": {
    "colab": {},
    "colab_type": "code",
    "id": "of5bDFZrge9B",
    "outputId": "bf382a9a-178a-44ce-b29c-ccda4a8c471e"
   },
   "outputs": [
    {
     "data": {
      "text/plain": [
       "<matplotlib.axes._subplots.AxesSubplot at 0x7f2cf4bbedd8>"
      ]
     },
     "execution_count": 44,
     "metadata": {
      "tags": []
     },
     "output_type": "execute_result"
    },
    {
     "data": {
      "image/png": "[encoded data removed]",
      "text/plain": [
       "<Figure size 432x288 with 1 Axes>"
      ]
     },
     "metadata": {
      "tags": []
     },
     "output_type": "display_data"
    }
   ],
   "source": [
    "A['Price'].hist(bins=20)"
   ]
  },
  {
   "cell_type": "code",
   "execution_count": 0,
   "metadata": {
    "colab": {},
    "colab_type": "code",
    "id": "EgFyNMSage9E",
    "outputId": "ad3f07f8-1e2f-40b5-e06a-191f39e380bc"
   },
   "outputs": [
    {
     "data": {
      "text/plain": [
       "<matplotlib.axes._subplots.AxesSubplot at 0x7fa4822c4f28>"
      ]
     },
     "execution_count": 12,
     "metadata": {
      "tags": []
     },
     "output_type": "execute_result"
    },
    {
     "data": {
      "image/png": "[encoded data removed]",
      "text/plain": [
       "<matplotlib.figure.Figure at 0x7fa4822c4908>"
      ]
     },
     "metadata": {
      "tags": []
     },
     "output_type": "display_data"
    }
   ],
   "source": [
    "A.boxplot(column='Price')"
   ]
  },
  {
   "cell_type": "code",
   "execution_count": 0,
   "metadata": {
    "colab": {},
    "colab_type": "code",
    "id": "Xwq-ZXNyge9F",
    "outputId": "24fe8c1c-f152-4c86-bdeb-4d1df6bac8d2"
   },
   "outputs": [
    {
     "data": {
      "text/plain": [
       "count    93.000000\n",
       "mean     19.509677\n",
       "std       9.659430\n",
       "min       7.400000\n",
       "25%      12.200000\n",
       "50%      17.700000\n",
       "75%      23.300000\n",
       "max      61.900000\n",
       "Name: Price, dtype: float64"
      ]
     },
     "execution_count": 13,
     "metadata": {
      "tags": []
     },
     "output_type": "execute_result"
    }
   ],
   "source": [
    "A['Price'].describe()"
   ]
  },
  {
   "cell_type": "code",
   "execution_count": 0,
   "metadata": {
    "colab": {},
    "colab_type": "code",
    "id": "do4Xm0Stge9H",
    "outputId": "60af676a-e93c-4958-be75-780217d2bc7d"
   },
   "outputs": [
    {
     "data": {
      "text/plain": [
       "array([ 7.4,  8. ,  8.3,  8.4,  8.4,  8.6,  9. ,  9.1,  9.2,  9.8, 10. ,\n",
       "       10. , 10.1, 10.3, 10.9, 11.1, 11.1, 11.3, 11.3, 11.4, 11.6, 11.8,\n",
       "       12.1, 12.2, 12.5, 13.3, 13.4, 13.5, 13.9, 14. , 14.1, 14.4, 14.9,\n",
       "       15.1, 15.6, 15.7, 15.7, 15.8, 15.9, 15.9, 15.9, 16.3, 16.3, 16.5,\n",
       "       16.6, 17.5, 17.7, 18.2, 18.4, 18.4, 18.5, 18.8, 19. , 19.1, 19.1,\n",
       "       19.3, 19.5, 19.5, 19.7, 19.8, 19.9, 20. , 20.2, 20.7, 20.8, 20.9,\n",
       "       21.5, 22.7, 22.7, 23.3, 23.7, 24.4, 25.8, 26.1, 26.3, 26.7, 28. ,\n",
       "       28.7, 29.1, 29.5, 30. , 31.9, 32.5, 33.9, 34.3, 34.7, 35.2, 36.1,\n",
       "       37.7, 38. , 40.1, 47.9, 61.9])"
      ]
     },
     "execution_count": 14,
     "metadata": {
      "tags": []
     },
     "output_type": "execute_result"
    }
   ],
   "source": [
    "np.sort(A['Price'])"
   ]
  },
  {
   "cell_type": "code",
   "execution_count": 0,
   "metadata": {
    "colab": {},
    "colab_type": "code",
    "id": "GaqBIxu5ge9J",
    "outputId": "cb6ab81f-f597-4b68-b779-82e37220cd17"
   },
   "outputs": [
    {
     "data": {
      "text/plain": [
       "count    91.000000\n",
       "mean     27.829670\n",
       "std       2.989072\n",
       "min      19.000000\n",
       "25%      26.000000\n",
       "50%      27.500000\n",
       "75%      30.000000\n",
       "max      36.000000\n",
       "Name: Rear.seat.room, dtype: float64"
      ]
     },
     "execution_count": 32,
     "metadata": {
      "tags": []
     },
     "output_type": "execute_result"
    }
   ],
   "source": [
    "A['Rear.seat.room'].describe()"
   ]
  },
  {
   "cell_type": "code",
   "execution_count": 0,
   "metadata": {
    "colab": {},
    "colab_type": "code",
    "id": "Dly4JGPcge9L",
    "outputId": "e7a07912-3dc6-4621-c348-f8e33a4351de"
   },
   "outputs": [
    {
     "data": {
      "text/plain": [
       "32    28.0\n",
       "33    27.5\n",
       "34    24.0\n",
       "35    23.0\n",
       "36    30.0\n",
       "37    27.5\n",
       "38    30.0\n",
       "39    27.5\n",
       "40    24.5\n",
       "41    23.5\n",
       "42    28.0\n",
       "43    28.0\n",
       "44    26.0\n",
       "45    28.0\n",
       "46    23.5\n",
       "47    31.0\n",
       "48    29.0\n",
       "49    27.5\n",
       "50    25.0\n",
       "51    30.0\n",
       "52    31.5\n",
       "53    27.0\n",
       "54    26.5\n",
       "55    29.5\n",
       "56    27.5\n",
       "57     NaN\n",
       "58    26.0\n",
       "59    27.0\n",
       "60    19.0\n",
       "61    28.0\n",
       "62    26.0\n",
       "63    27.5\n",
       "Name: Rear.seat.room, dtype: float64"
      ]
     },
     "execution_count": 34,
     "metadata": {
      "tags": []
     },
     "output_type": "execute_result"
    }
   ],
   "source": [
    "A['Rear.seat.room'][31:63]"
   ]
  },
  {
   "cell_type": "code",
   "execution_count": 0,
   "metadata": {
    "colab": {},
    "colab_type": "code",
    "id": "sylreBJAge9M"
   },
   "outputs": [],
   "source": [
    "import copy\n",
    "B=copy.deepcopy(A)"
   ]
  },
  {
   "cell_type": "code",
   "execution_count": 11,
   "metadata": {
    "colab": {
     "base_uri": "https://localhost:8080/",
     "height": 34
    },
    "colab_type": "code",
    "executionInfo": {
     "elapsed": 954,
     "status": "ok",
     "timestamp": 1566808826634,
     "user": {
      "displayName": "Mahesh Anand",
      "photoUrl": "https://lh3.googleusercontent.com/a-/AAuE7mDwRqsBffQmzXsc6rHxDVmepWB7mxD_zfhcK5E1=s64",
      "userId": "06788086636039591358"
     },
     "user_tz": -330
    },
    "id": "ojPu2UcyFPAT",
    "outputId": "a5384173-aa57-4e50-c344-327ed80245b1"
   },
   "outputs": [
    {
     "name": "stdout",
     "output_type": "stream",
     "text": [
      "[3, 50, 8]\n"
     ]
    }
   ],
   "source": [
    "p=[3,10,8]\n",
    "q=p\n",
    "q[1]=50\n",
    "print(q)"
   ]
  },
  {
   "cell_type": "code",
   "execution_count": 12,
   "metadata": {
    "colab": {
     "base_uri": "https://localhost:8080/",
     "height": 34
    },
    "colab_type": "code",
    "executionInfo": {
     "elapsed": 890,
     "status": "ok",
     "timestamp": 1566808838279,
     "user": {
      "displayName": "Mahesh Anand",
      "photoUrl": "https://lh3.googleusercontent.com/a-/AAuE7mDwRqsBffQmzXsc6rHxDVmepWB7mxD_zfhcK5E1=s64",
      "userId": "06788086636039591358"
     },
     "user_tz": -330
    },
    "id": "r35xsrImFXO7",
    "outputId": "093d1be2-3342-48c0-c9ca-720a2eaf4aaa"
   },
   "outputs": [
    {
     "name": "stdout",
     "output_type": "stream",
     "text": [
      "[3, 50, 8]\n"
     ]
    }
   ],
   "source": [
    "print(p)"
   ]
  },
  {
   "cell_type": "code",
   "execution_count": 0,
   "metadata": {
    "colab": {},
    "colab_type": "code",
    "id": "FZr-fy5oge9O",
    "outputId": "7f4d973a-ed3d-4832-88ab-1aa358a2e48f"
   },
   "outputs": [
    {
     "name": "stdout",
     "output_type": "stream",
     "text": [
      "[3, 4, 5, 6]\n"
     ]
    }
   ],
   "source": [
    "a=[3,4,5,6]\n",
    "\n",
    "b=copy.deepcopy(a)\n",
    "print(b)"
   ]
  },
  {
   "cell_type": "code",
   "execution_count": 0,
   "metadata": {
    "colab": {},
    "colab_type": "code",
    "id": "CTr70Fjcge9Q",
    "outputId": "179c90ed-946d-42da-b0f1-60d13cf3b06f"
   },
   "outputs": [
    {
     "name": "stdout",
     "output_type": "stream",
     "text": [
      "[3, 4, 100, 6]\n"
     ]
    }
   ],
   "source": [
    "b[2]=100\n",
    "print(b)"
   ]
  },
  {
   "cell_type": "code",
   "execution_count": 0,
   "metadata": {
    "colab": {},
    "colab_type": "code",
    "id": "NoGWOlzWge9S",
    "outputId": "6709c3f0-9fa3-4f69-9329-1d13ee0bd884"
   },
   "outputs": [
    {
     "data": {
      "text/plain": [
       "array([ 7.4,  8. ,  8.3,  8.4,  8.4,  8.6,  9. ,  9.1,  9.2,  9.8, 10. ,\n",
       "       10. , 10.1, 10.3, 10.9, 11.1, 11.1, 11.3, 11.3, 11.4, 11.6, 11.8,\n",
       "       12.1, 12.2, 12.5, 13.3, 13.4, 13.5, 13.9, 14. , 14.1, 14.4, 14.9,\n",
       "       15.1, 15.6, 15.7, 15.7, 15.8, 15.9, 15.9, 15.9, 16.3, 16.3, 16.5,\n",
       "       16.6, 17.5, 17.7, 18.2, 18.4, 18.4, 18.5, 18.8, 19. , 19.1, 19.1,\n",
       "       19.3, 19.5, 19.5, 19.7, 19.8, 19.9, 20. , 20.2, 20.7, 20.8, 20.9,\n",
       "       21.5, 22.7, 22.7, 23.3, 23.7, 24.4, 25.8, 26.1, 26.3, 26.7, 28. ,\n",
       "       28.7, 29.1, 29.5, 30. , 31.9, 32.5, 33.9, 34.3, 34.7, 35.2, 36.1,\n",
       "       37.7, 38. , 40.1, 47.9, 61.9])"
      ]
     },
     "execution_count": 43,
     "metadata": {
      "tags": []
     },
     "output_type": "execute_result"
    }
   ],
   "source": [
    "np.sort(A['Price'])"
   ]
  },
  {
   "cell_type": "code",
   "execution_count": 0,
   "metadata": {
    "colab": {},
    "colab_type": "code",
    "id": "smV_gGjGge9W"
   },
   "outputs": [],
   "source": [
    "B['Price']=np.log(A['Price'])"
   ]
  },
  {
   "cell_type": "code",
   "execution_count": 0,
   "metadata": {
    "colab": {},
    "colab_type": "code",
    "id": "5fKOILOUge9Y",
    "outputId": "b9f105e5-3568-4a3f-89df-9fa924241a58"
   },
   "outputs": [
    {
     "data": {
      "text/plain": [
       "<matplotlib.axes._subplots.AxesSubplot at 0x7f2cf4c1f710>"
      ]
     },
     "execution_count": 42,
     "metadata": {
      "tags": []
     },
     "output_type": "execute_result"
    },
    {
     "data": {
      "image/png": "[encoded data removed]",
      "text/plain": [
       "<Figure size 432x288 with 1 Axes>"
      ]
     },
     "metadata": {
      "tags": []
     },
     "output_type": "display_data"
    }
   ],
   "source": [
    "B['Price'].hist()"
   ]
  },
  {
   "cell_type": "code",
   "execution_count": 0,
   "metadata": {
    "colab": {},
    "colab_type": "code",
    "id": "iq74ZP2Tge9a"
   },
   "outputs": [],
   "source": [
    "p=[9,15,4,5]\n",
    "q=p #shallow copy (only reference of object is copied)"
   ]
  },
  {
   "cell_type": "code",
   "execution_count": 0,
   "metadata": {
    "colab": {},
    "colab_type": "code",
    "id": "GlzCXc7jge9c"
   },
   "outputs": [],
   "source": [
    "q[1]=100"
   ]
  },
  {
   "cell_type": "code",
   "execution_count": 0,
   "metadata": {
    "colab": {},
    "colab_type": "code",
    "id": "1GDS3rcKge9f",
    "outputId": "a0d3f34a-21c0-4a3a-f0ab-61d2a0e44ab3"
   },
   "outputs": [
    {
     "data": {
      "text/plain": [
       "[9, 100, 4, 5]"
      ]
     },
     "execution_count": 22,
     "metadata": {
      "tags": []
     },
     "output_type": "execute_result"
    }
   ],
   "source": [
    "q"
   ]
  },
  {
   "cell_type": "code",
   "execution_count": 0,
   "metadata": {
    "colab": {},
    "colab_type": "code",
    "id": "802nM4DOge9g",
    "outputId": "101897e1-6ad6-480f-f51e-78efa19a9e93"
   },
   "outputs": [
    {
     "data": {
      "text/plain": [
       "[9, 100, 4, 5]"
      ]
     },
     "execution_count": 23,
     "metadata": {
      "tags": []
     },
     "output_type": "execute_result"
    }
   ],
   "source": [
    "p"
   ]
  },
  {
   "cell_type": "code",
   "execution_count": 0,
   "metadata": {
    "colab": {},
    "colab_type": "code",
    "id": "jv-8t2PDge9j",
    "outputId": "0f2eb721-8997-443f-80d8-052e27ac82ae"
   },
   "outputs": [
    {
     "data": {
      "text/plain": [
       "<matplotlib.axes._subplots.AxesSubplot at 0x7fa48212da90>"
      ]
     },
     "execution_count": 24,
     "metadata": {
      "tags": []
     },
     "output_type": "execute_result"
    },
    {
     "data": {
      "image/png": "[encoded data removed]",
      "text/plain": [
       "<matplotlib.figure.Figure at 0x7fa48216fb38>"
      ]
     },
     "metadata": {
      "tags": []
     },
     "output_type": "display_data"
    }
   ],
   "source": [
    "A.boxplot(column='Price',by='DriveTrain')"
   ]
  },
  {
   "cell_type": "code",
   "execution_count": 0,
   "metadata": {
    "colab": {},
    "colab_type": "code",
    "id": "-x5V6_u1ge9l",
    "outputId": "63016467-e0e2-45f7-df0e-370cc1dc5b03"
   },
   "outputs": [
    {
     "data": {
      "text/plain": [
       "<matplotlib.axes._subplots.AxesSubplot at 0x7fa48213fa90>"
      ]
     },
     "execution_count": 28,
     "metadata": {
      "tags": []
     },
     "output_type": "execute_result"
    },
    {
     "data": {
      "image/png": "[encoded data removed]",
      "text/plain": [
       "<matplotlib.figure.Figure at 0x7fa4820eddd8>"
      ]
     },
     "metadata": {
      "tags": []
     },
     "output_type": "display_data"
    }
   ],
   "source": [
    "f1=A['Type'].value_counts()\n",
    "f1.plot(kind='bar')"
   ]
  },
  {
   "cell_type": "code",
   "execution_count": 0,
   "metadata": {
    "colab": {},
    "colab_type": "code",
    "id": "i3Zk0Lugge9n",
    "outputId": "0b3689dd-e201-401f-cc78-34d9186c889f"
   },
   "outputs": [
    {
     "data": {
      "text/plain": [
       "<matplotlib.axes._subplots.AxesSubplot at 0x7fa48207e7b8>"
      ]
     },
     "execution_count": 30,
     "metadata": {
      "tags": []
     },
     "output_type": "execute_result"
    },
    {
     "data": {
      "image/png": "[encoded data removed]",
      "text/plain": [
       "<matplotlib.figure.Figure at 0x7fa48203d2b0>"
      ]
     },
     "metadata": {
      "tags": []
     },
     "output_type": "display_data"
    }
   ],
   "source": [
    "f2=A['DriveTrain'].value_counts()\n",
    "f2.plot(kind='bar')"
   ]
  },
  {
   "cell_type": "code",
   "execution_count": 0,
   "metadata": {
    "colab": {},
    "colab_type": "code",
    "id": "h9Oa5olzge9p",
    "outputId": "bfecd4e5-8b87-4e82-cee4-a985d51ae64e"
   },
   "outputs": [
    {
     "data": {
      "text/html": [
       "<div>\n",
       "<style scoped>\n",
       "    .dataframe tbody tr th:only-of-type {\n",
       "        vertical-align: middle;\n",
       "    }\n",
       "\n",
       "    .dataframe tbody tr th {\n",
       "        vertical-align: top;\n",
       "    }\n",
       "\n",
       "    .dataframe thead th {\n",
       "        text-align: right;\n",
       "    }\n",
       "</style>\n",
       "<table border=\"1\" class=\"dataframe\">\n",
       "  <thead>\n",
       "    <tr style=\"text-align: right;\">\n",
       "      <th>DriveTrain</th>\n",
       "      <th>4WD</th>\n",
       "      <th>Front</th>\n",
       "      <th>Rear</th>\n",
       "    </tr>\n",
       "    <tr>\n",
       "      <th>Type</th>\n",
       "      <th></th>\n",
       "      <th></th>\n",
       "      <th></th>\n",
       "    </tr>\n",
       "  </thead>\n",
       "  <tbody>\n",
       "    <tr>\n",
       "      <th>Compact</th>\n",
       "      <td>1</td>\n",
       "      <td>13</td>\n",
       "      <td>2</td>\n",
       "    </tr>\n",
       "    <tr>\n",
       "      <th>Large</th>\n",
       "      <td>0</td>\n",
       "      <td>7</td>\n",
       "      <td>4</td>\n",
       "    </tr>\n",
       "    <tr>\n",
       "      <th>Midsize</th>\n",
       "      <td>0</td>\n",
       "      <td>17</td>\n",
       "      <td>5</td>\n",
       "    </tr>\n",
       "    <tr>\n",
       "      <th>Small</th>\n",
       "      <td>2</td>\n",
       "      <td>19</td>\n",
       "      <td>0</td>\n",
       "    </tr>\n",
       "    <tr>\n",
       "      <th>Sporty</th>\n",
       "      <td>2</td>\n",
       "      <td>7</td>\n",
       "      <td>5</td>\n",
       "    </tr>\n",
       "    <tr>\n",
       "      <th>Van</th>\n",
       "      <td>5</td>\n",
       "      <td>4</td>\n",
       "      <td>0</td>\n",
       "    </tr>\n",
       "  </tbody>\n",
       "</table>\n",
       "</div>"
      ],
      "text/plain": [
       "DriveTrain  4WD  Front  Rear\n",
       "Type                        \n",
       "Compact       1     13     2\n",
       "Large         0      7     4\n",
       "Midsize       0     17     5\n",
       "Small         2     19     0\n",
       "Sporty        2      7     5\n",
       "Van           5      4     0"
      ]
     },
     "execution_count": 31,
     "metadata": {
      "tags": []
     },
     "output_type": "execute_result"
    }
   ],
   "source": [
    "#stacked barplot or Crosstab\n",
    "f3=pd.crosstab(A['Type'],A['DriveTrain'])\n",
    "f3"
   ]
  },
  {
   "cell_type": "code",
   "execution_count": 0,
   "metadata": {
    "colab": {},
    "colab_type": "code",
    "id": "qo7wfPpZge9r",
    "outputId": "52e4ee6f-17b0-4386-e72c-b3dfabe2d75c"
   },
   "outputs": [
    {
     "data": {
      "text/plain": [
       "<matplotlib.axes._subplots.AxesSubplot at 0x7fa481fb11d0>"
      ]
     },
     "execution_count": 32,
     "metadata": {
      "tags": []
     },
     "output_type": "execute_result"
    },
    {
     "data": {
      "image/png": "[encoded data removed]",
      "text/plain": [
       "<matplotlib.figure.Figure at 0x7fa48214fa90>"
      ]
     },
     "metadata": {
      "tags": []
     },
     "output_type": "display_data"
    }
   ],
   "source": [
    "f3.plot(kind='bar',stacked=True)"
   ]
  },
  {
   "cell_type": "code",
   "execution_count": 0,
   "metadata": {
    "colab": {},
    "colab_type": "code",
    "id": "QRL5LQ-Zge9s",
    "outputId": "832694ae-61ec-44ae-d76c-87aa6fb20709"
   },
   "outputs": [
    {
     "data": {
      "text/plain": [
       "7.535363389199064"
      ]
     },
     "execution_count": 37,
     "metadata": {
      "tags": []
     },
     "output_type": "execute_result"
    }
   ],
   "source": [
    "1+3.32*np.log10(93) #optimal bin size selection with Sturges rule"
   ]
  },
  {
   "cell_type": "code",
   "execution_count": 0,
   "metadata": {
    "colab": {},
    "colab_type": "code",
    "id": "3Em9dnrfge9u",
    "outputId": "22cec954-5f43-412e-b78d-cf045095db98"
   },
   "outputs": [
    {
     "data": {
      "text/plain": [
       "(array([25., 48., 71., 79., 85., 90., 91., 92., 92., 93.]),\n",
       " array([ 7.4 , 12.85, 18.3 , 23.75, 29.2 , 34.65, 40.1 , 45.55, 51.  ,\n",
       "        56.45, 61.9 ]),\n",
       " <a list of 1 Patch objects>)"
      ]
     },
     "execution_count": 13,
     "metadata": {
      "tags": []
     },
     "output_type": "execute_result"
    },
    {
     "data": {
      "image/png": "[encoded data removed]",
      "text/plain": [
       "<Figure size 432x288 with 1 Axes>"
      ]
     },
     "metadata": {
      "tags": []
     },
     "output_type": "display_data"
    }
   ],
   "source": [
    "plt.hist(A['Price'],bins=10,histtype='step',cumulative=True) #ogive plot"
   ]
  },
  {
   "cell_type": "markdown",
   "metadata": {
    "colab_type": "text",
    "id": "P3-yoEeuge9y"
   },
   "source": [
    "# Quantile Plot to check the measure of normality"
   ]
  },
  {
   "cell_type": "code",
   "execution_count": 0,
   "metadata": {
    "colab": {},
    "colab_type": "code",
    "collapsed": true,
    "id": "-ZUNNNNEge9z"
   },
   "outputs": [],
   "source": [
    "import scipy.stats as stats\n",
    "import pylab"
   ]
  },
  {
   "cell_type": "code",
   "execution_count": 0,
   "metadata": {
    "colab": {},
    "colab_type": "code",
    "id": "augtaEOUge91",
    "outputId": "5e8772b6-d75f-4491-d3c8-28297da8c1e0"
   },
   "outputs": [
    {
     "data": {
      "text/plain": [
       "((array([-2.43599284, -2.09646069, -1.89977505, -1.75719868, -1.64337556,\n",
       "         -1.5475671 , -1.4641687 , -1.38986734, -1.32253378, -1.26071438,\n",
       "         -1.20337025, -1.14973174, -1.09921183, -1.05135193, -1.00578649,\n",
       "         -0.96221903, -0.9204055 , -0.88014235, -0.84125784, -0.80360557,\n",
       "         -0.76705955, -0.73151047, -0.69686271, -0.66303206, -0.62994385,\n",
       "         -0.59753143, -0.56573501, -0.5345006 , -0.50377921, -0.47352616,\n",
       "         -0.44370049, -0.41426445, -0.38518312, -0.35642401, -0.32795676,\n",
       "         -0.29975288, -0.27178549, -0.24402912, -0.21645952, -0.18905351,\n",
       "         -0.16178879, -0.13464383, -0.10759774, -0.08063015, -0.05372107,\n",
       "         -0.02685085,  0.        ,  0.02685085,  0.05372107,  0.08063015,\n",
       "          0.10759774,  0.13464383,  0.16178879,  0.18905351,  0.21645952,\n",
       "          0.24402912,  0.27178549,  0.29975288,  0.32795676,  0.35642401,\n",
       "          0.38518312,  0.41426445,  0.44370049,  0.47352616,  0.50377921,\n",
       "          0.5345006 ,  0.56573501,  0.59753143,  0.62994385,  0.66303206,\n",
       "          0.69686271,  0.73151047,  0.76705955,  0.80360557,  0.84125784,\n",
       "          0.88014235,  0.9204055 ,  0.96221903,  1.00578649,  1.05135193,\n",
       "          1.09921183,  1.14973174,  1.20337025,  1.26071438,  1.32253378,\n",
       "          1.38986734,  1.4641687 ,  1.5475671 ,  1.64337556,  1.75719868,\n",
       "          1.89977505,  2.09646069,  2.43599284]),\n",
       "  array([ 7.4,  8. ,  8.3,  8.4,  8.4,  8.6,  9. ,  9.1,  9.2,  9.8, 10. ,\n",
       "         10. , 10.1, 10.3, 10.9, 11.1, 11.1, 11.3, 11.3, 11.4, 11.6, 11.8,\n",
       "         12.1, 12.2, 12.5, 13.3, 13.4, 13.5, 13.9, 14. , 14.1, 14.4, 14.9,\n",
       "         15.1, 15.6, 15.7, 15.7, 15.8, 15.9, 15.9, 15.9, 16.3, 16.3, 16.5,\n",
       "         16.6, 17.5, 17.7, 18.2, 18.4, 18.4, 18.5, 18.8, 19. , 19.1, 19.1,\n",
       "         19.3, 19.5, 19.5, 19.7, 19.8, 19.9, 20. , 20.2, 20.7, 20.8, 20.9,\n",
       "         21.5, 22.7, 22.7, 23.3, 23.7, 24.4, 25.8, 26.1, 26.3, 26.7, 28. ,\n",
       "         28.7, 29.1, 29.5, 30. , 31.9, 32.5, 33.9, 34.3, 34.7, 35.2, 36.1,\n",
       "         37.7, 38. , 40.1, 47.9, 61.9])),\n",
       " (9.18893491809851, 19.50967741935484, 0.9360920619100462))"
      ]
     },
     "execution_count": 7,
     "metadata": {
      "tags": []
     },
     "output_type": "execute_result"
    },
    {
     "data": {
      "image/png": "[encoded data removed]",
      "text/plain": [
       "<Figure size 432x288 with 1 Axes>"
      ]
     },
     "metadata": {
      "tags": []
     },
     "output_type": "display_data"
    }
   ],
   "source": [
    "stats.probplot(A['Price'], dist=\"norm\",plot=pylab)"
   ]
  },
  {
   "cell_type": "code",
   "execution_count": 0,
   "metadata": {
    "colab": {},
    "colab_type": "code",
    "id": "FIL_tMdlge94",
    "outputId": "687cc6f0-a78c-4a9c-dfa8-70d9ad16c042"
   },
   "outputs": [
    {
     "data": {
      "text/plain": [
       "((array([-2.43599284, -2.09646069, -1.89977505, -1.75719868, -1.64337556,\n",
       "         -1.5475671 , -1.4641687 , -1.38986734, -1.32253378, -1.26071438,\n",
       "         -1.20337025, -1.14973174, -1.09921183, -1.05135193, -1.00578649,\n",
       "         -0.96221903, -0.9204055 , -0.88014235, -0.84125784, -0.80360557,\n",
       "         -0.76705955, -0.73151047, -0.69686271, -0.66303206, -0.62994385,\n",
       "         -0.59753143, -0.56573501, -0.5345006 , -0.50377921, -0.47352616,\n",
       "         -0.44370049, -0.41426445, -0.38518312, -0.35642401, -0.32795676,\n",
       "         -0.29975288, -0.27178549, -0.24402912, -0.21645952, -0.18905351,\n",
       "         -0.16178879, -0.13464383, -0.10759774, -0.08063015, -0.05372107,\n",
       "         -0.02685085,  0.        ,  0.02685085,  0.05372107,  0.08063015,\n",
       "          0.10759774,  0.13464383,  0.16178879,  0.18905351,  0.21645952,\n",
       "          0.24402912,  0.27178549,  0.29975288,  0.32795676,  0.35642401,\n",
       "          0.38518312,  0.41426445,  0.44370049,  0.47352616,  0.50377921,\n",
       "          0.5345006 ,  0.56573501,  0.59753143,  0.62994385,  0.66303206,\n",
       "          0.69686271,  0.73151047,  0.76705955,  0.80360557,  0.84125784,\n",
       "          0.88014235,  0.9204055 ,  0.96221903,  1.00578649,  1.05135193,\n",
       "          1.09921183,  1.14973174,  1.20337025,  1.26071438,  1.32253378,\n",
       "          1.38986734,  1.4641687 ,  1.5475671 ,  1.64337556,  1.75719868,\n",
       "          1.89977505,  2.09646069,  2.43599284]),\n",
       "  array([2.00148   , 2.07944154, 2.11625551, 2.12823171, 2.12823171,\n",
       "         2.1517622 , 2.19722458, 2.20827441, 2.21920348, 2.28238239,\n",
       "         2.30258509, 2.30258509, 2.31253542, 2.3321439 , 2.38876279,\n",
       "         2.40694511, 2.40694511, 2.42480273, 2.42480273, 2.43361336,\n",
       "         2.4510051 , 2.46809953, 2.49320545, 2.50143595, 2.52572864,\n",
       "         2.58776404, 2.59525471, 2.60268969, 2.63188884, 2.63905733,\n",
       "         2.6461748 , 2.66722821, 2.70136121, 2.71469474, 2.74727091,\n",
       "         2.75366071, 2.75366071, 2.76000994, 2.76631911, 2.76631911,\n",
       "         2.76631911, 2.79116511, 2.79116511, 2.80336038, 2.8094027 ,\n",
       "         2.86220088, 2.87356464, 2.90142159, 2.91235066, 2.91235066,\n",
       "         2.91777073, 2.93385687, 2.94443898, 2.94968834, 2.94968834,\n",
       "         2.9601051 , 2.97041447, 2.97041447, 2.98061864, 2.98568194,\n",
       "         2.99071973, 2.99573227, 3.0056826 , 3.0301337 , 3.03495299,\n",
       "         3.03974916, 3.06805294, 3.12236492, 3.12236492, 3.14845336,\n",
       "         3.16547505, 3.19458313, 3.25037449, 3.26193531, 3.26956894,\n",
       "         3.28466357, 3.33220451, 3.35689712, 3.37073817, 3.38439026,\n",
       "         3.40119738, 3.46260601, 3.48124009, 3.52341501, 3.53514535,\n",
       "         3.54673969, 3.56104608, 3.58629287, 3.62966009, 3.63758616,\n",
       "         3.69137633, 3.8691155 , 4.12552018])),\n",
       " (0.4590377510717748, 2.8654515505308233, 0.9934403246848394))"
      ]
     },
     "execution_count": 12,
     "metadata": {
      "tags": []
     },
     "output_type": "execute_result"
    },
    {
     "data": {
      "image/png": "[encoded data removed]",
      "text/plain": [
       "<Figure size 432x288 with 1 Axes>"
      ]
     },
     "metadata": {
      "tags": []
     },
     "output_type": "display_data"
    }
   ],
   "source": [
    "stats.probplot(B['Price'], dist=\"norm\",plot=pylab)"
   ]
  },
  {
   "cell_type": "code",
   "execution_count": 0,
   "metadata": {
    "colab": {},
    "colab_type": "code",
    "id": "YFrMSEP2ge97",
    "outputId": "a5ad673c-36ec-4a6d-ef32-09fc8d604e2a"
   },
   "outputs": [
    {
     "data": {
      "text/plain": [
       "Index(['Manufacturer', 'Model', 'Type', 'Min.Price', 'Price', 'Max.Price',\n",
       "       'MPG.city', 'MPG.highway', 'AirBags', 'DriveTrain', 'Cylinders',\n",
       "       'EngineSize', 'Horsepower', 'RPM', 'Rev.per.mile', 'Man.trans.avail',\n",
       "       'Fuel.tank.capacity', 'Passengers', 'Length', 'Wheelbase', 'Width',\n",
       "       'Turn.circle', 'Rear.seat.room', 'Luggage.room', 'Weight', 'Origin',\n",
       "       'Make'],\n",
       "      dtype='object')"
      ]
     },
     "execution_count": 15,
     "metadata": {
      "tags": []
     },
     "output_type": "execute_result"
    }
   ],
   "source": [
    "A.columns"
   ]
  },
  {
   "cell_type": "code",
   "execution_count": 0,
   "metadata": {
    "colab": {},
    "colab_type": "code",
    "id": "AZWUkUFbge9-",
    "outputId": "76c8ccb7-8290-4962-dd29-4dc510e57412"
   },
   "outputs": [
    {
     "data": {
      "text/plain": [
       "<matplotlib.axes._subplots.AxesSubplot at 0x7fbd47c9ef28>"
      ]
     },
     "execution_count": 16,
     "metadata": {
      "tags": []
     },
     "output_type": "execute_result"
    },
    {
     "data": {
      "image/png": "[encoded data removed]",
      "text/plain": [
       "<Figure size 432x288 with 1 Axes>"
      ]
     },
     "metadata": {
      "tags": []
     },
     "output_type": "display_data"
    }
   ],
   "source": [
    "A.plot.scatter(x='Horsepower',y='MPG.city')"
   ]
  },
  {
   "cell_type": "code",
   "execution_count": 0,
   "metadata": {
    "colab": {},
    "colab_type": "code",
    "id": "TmRO0mvuge-B",
    "outputId": "f90e320d-779a-41ba-e171-17193978c4e5"
   },
   "outputs": [
    {
     "data": {
      "text/plain": [
       "array([[ 1.        , -0.67263615],\n",
       "       [-0.67263615,  1.        ]])"
      ]
     },
     "execution_count": 18,
     "metadata": {
      "tags": []
     },
     "output_type": "execute_result"
    }
   ],
   "source": [
    "np.corrcoef(A['Horsepower'],A['MPG.city'])"
   ]
  },
  {
   "cell_type": "code",
   "execution_count": 0,
   "metadata": {
    "colab": {},
    "colab_type": "code",
    "id": "rlydUCXdge-D",
    "outputId": "273faa49-9b93-46c4-e279-3806d8088f4f"
   },
   "outputs": [
    {
     "data": {
      "text/html": [
       "<div>\n",
       "<style scoped>\n",
       "    .dataframe tbody tr th:only-of-type {\n",
       "        vertical-align: middle;\n",
       "    }\n",
       "\n",
       "    .dataframe tbody tr th {\n",
       "        vertical-align: top;\n",
       "    }\n",
       "\n",
       "    .dataframe thead th {\n",
       "        text-align: right;\n",
       "    }\n",
       "</style>\n",
       "<table border=\"1\" class=\"dataframe\">\n",
       "  <thead>\n",
       "    <tr style=\"text-align: right;\">\n",
       "      <th></th>\n",
       "      <th>Min.Price</th>\n",
       "      <th>Price</th>\n",
       "      <th>Max.Price</th>\n",
       "      <th>MPG.city</th>\n",
       "      <th>MPG.highway</th>\n",
       "      <th>EngineSize</th>\n",
       "      <th>Horsepower</th>\n",
       "      <th>RPM</th>\n",
       "      <th>Rev.per.mile</th>\n",
       "      <th>Fuel.tank.capacity</th>\n",
       "      <th>Passengers</th>\n",
       "      <th>Length</th>\n",
       "      <th>Wheelbase</th>\n",
       "      <th>Width</th>\n",
       "      <th>Turn.circle</th>\n",
       "      <th>Rear.seat.room</th>\n",
       "      <th>Luggage.room</th>\n",
       "      <th>Weight</th>\n",
       "    </tr>\n",
       "  </thead>\n",
       "  <tbody>\n",
       "    <tr>\n",
       "      <th>Min.Price</th>\n",
       "      <td>1.000000</td>\n",
       "      <td>0.970601</td>\n",
       "      <td>0.906756</td>\n",
       "      <td>-0.622875</td>\n",
       "      <td>-0.579966</td>\n",
       "      <td>0.645488</td>\n",
       "      <td>0.802444</td>\n",
       "      <td>-0.042598</td>\n",
       "      <td>-0.470395</td>\n",
       "      <td>0.635369</td>\n",
       "      <td>0.061236</td>\n",
       "      <td>0.553859</td>\n",
       "      <td>0.516758</td>\n",
       "      <td>0.492878</td>\n",
       "      <td>0.428603</td>\n",
       "      <td>0.376642</td>\n",
       "      <td>0.413485</td>\n",
       "      <td>0.666554</td>\n",
       "    </tr>\n",
       "    <tr>\n",
       "      <th>Price</th>\n",
       "      <td>0.970601</td>\n",
       "      <td>1.000000</td>\n",
       "      <td>0.981580</td>\n",
       "      <td>-0.594562</td>\n",
       "      <td>-0.560680</td>\n",
       "      <td>0.597425</td>\n",
       "      <td>0.788218</td>\n",
       "      <td>-0.004955</td>\n",
       "      <td>-0.426395</td>\n",
       "      <td>0.619480</td>\n",
       "      <td>0.057860</td>\n",
       "      <td>0.503628</td>\n",
       "      <td>0.500864</td>\n",
       "      <td>0.456028</td>\n",
       "      <td>0.392590</td>\n",
       "      <td>0.311499</td>\n",
       "      <td>0.366569</td>\n",
       "      <td>0.647179</td>\n",
       "    </tr>\n",
       "    <tr>\n",
       "      <th>Max.Price</th>\n",
       "      <td>0.906756</td>\n",
       "      <td>0.981580</td>\n",
       "      <td>1.000000</td>\n",
       "      <td>-0.547811</td>\n",
       "      <td>-0.522561</td>\n",
       "      <td>0.535012</td>\n",
       "      <td>0.744445</td>\n",
       "      <td>0.025015</td>\n",
       "      <td>-0.374024</td>\n",
       "      <td>0.581294</td>\n",
       "      <td>0.053216</td>\n",
       "      <td>0.442933</td>\n",
       "      <td>0.467501</td>\n",
       "      <td>0.408414</td>\n",
       "      <td>0.347785</td>\n",
       "      <td>0.247260</td>\n",
       "      <td>0.315315</td>\n",
       "      <td>0.605142</td>\n",
       "    </tr>\n",
       "    <tr>\n",
       "      <th>MPG.city</th>\n",
       "      <td>-0.622875</td>\n",
       "      <td>-0.594562</td>\n",
       "      <td>-0.547811</td>\n",
       "      <td>1.000000</td>\n",
       "      <td>0.943936</td>\n",
       "      <td>-0.710003</td>\n",
       "      <td>-0.672636</td>\n",
       "      <td>0.363045</td>\n",
       "      <td>0.695857</td>\n",
       "      <td>-0.813144</td>\n",
       "      <td>-0.416856</td>\n",
       "      <td>-0.666239</td>\n",
       "      <td>-0.667108</td>\n",
       "      <td>-0.720534</td>\n",
       "      <td>-0.666389</td>\n",
       "      <td>-0.384347</td>\n",
       "      <td>-0.494894</td>\n",
       "      <td>-0.843139</td>\n",
       "    </tr>\n",
       "    <tr>\n",
       "      <th>MPG.highway</th>\n",
       "      <td>-0.579966</td>\n",
       "      <td>-0.560680</td>\n",
       "      <td>-0.522561</td>\n",
       "      <td>0.943936</td>\n",
       "      <td>1.000000</td>\n",
       "      <td>-0.626795</td>\n",
       "      <td>-0.619044</td>\n",
       "      <td>0.313469</td>\n",
       "      <td>0.587497</td>\n",
       "      <td>-0.786039</td>\n",
       "      <td>-0.466386</td>\n",
       "      <td>-0.542897</td>\n",
       "      <td>-0.615384</td>\n",
       "      <td>-0.640359</td>\n",
       "      <td>-0.593683</td>\n",
       "      <td>-0.366684</td>\n",
       "      <td>-0.371629</td>\n",
       "      <td>-0.810658</td>\n",
       "    </tr>\n",
       "    <tr>\n",
       "      <th>EngineSize</th>\n",
       "      <td>0.645488</td>\n",
       "      <td>0.597425</td>\n",
       "      <td>0.535012</td>\n",
       "      <td>-0.710003</td>\n",
       "      <td>-0.626795</td>\n",
       "      <td>1.000000</td>\n",
       "      <td>0.732120</td>\n",
       "      <td>-0.547898</td>\n",
       "      <td>-0.824009</td>\n",
       "      <td>0.759306</td>\n",
       "      <td>0.372721</td>\n",
       "      <td>0.780283</td>\n",
       "      <td>0.732484</td>\n",
       "      <td>0.867110</td>\n",
       "      <td>0.778464</td>\n",
       "      <td>0.502750</td>\n",
       "      <td>0.680827</td>\n",
       "      <td>0.845075</td>\n",
       "    </tr>\n",
       "    <tr>\n",
       "      <th>Horsepower</th>\n",
       "      <td>0.802444</td>\n",
       "      <td>0.788218</td>\n",
       "      <td>0.744445</td>\n",
       "      <td>-0.672636</td>\n",
       "      <td>-0.619044</td>\n",
       "      <td>0.732120</td>\n",
       "      <td>1.000000</td>\n",
       "      <td>0.036688</td>\n",
       "      <td>-0.600314</td>\n",
       "      <td>0.711790</td>\n",
       "      <td>0.009264</td>\n",
       "      <td>0.550865</td>\n",
       "      <td>0.486854</td>\n",
       "      <td>0.644413</td>\n",
       "      <td>0.561216</td>\n",
       "      <td>0.256732</td>\n",
       "      <td>0.359217</td>\n",
       "      <td>0.738798</td>\n",
       "    </tr>\n",
       "    <tr>\n",
       "      <th>RPM</th>\n",
       "      <td>-0.042598</td>\n",
       "      <td>-0.004955</td>\n",
       "      <td>0.025015</td>\n",
       "      <td>0.363045</td>\n",
       "      <td>0.313469</td>\n",
       "      <td>-0.547898</td>\n",
       "      <td>0.036688</td>\n",
       "      <td>1.000000</td>\n",
       "      <td>0.494764</td>\n",
       "      <td>-0.333345</td>\n",
       "      <td>-0.467138</td>\n",
       "      <td>-0.441249</td>\n",
       "      <td>-0.467812</td>\n",
       "      <td>-0.539721</td>\n",
       "      <td>-0.505651</td>\n",
       "      <td>-0.342175</td>\n",
       "      <td>-0.524845</td>\n",
       "      <td>-0.427931</td>\n",
       "    </tr>\n",
       "    <tr>\n",
       "      <th>Rev.per.mile</th>\n",
       "      <td>-0.470395</td>\n",
       "      <td>-0.426395</td>\n",
       "      <td>-0.374024</td>\n",
       "      <td>0.695857</td>\n",
       "      <td>0.587497</td>\n",
       "      <td>-0.824009</td>\n",
       "      <td>-0.600314</td>\n",
       "      <td>0.494764</td>\n",
       "      <td>1.000000</td>\n",
       "      <td>-0.609710</td>\n",
       "      <td>-0.334976</td>\n",
       "      <td>-0.690233</td>\n",
       "      <td>-0.636824</td>\n",
       "      <td>-0.780460</td>\n",
       "      <td>-0.733160</td>\n",
       "      <td>-0.377010</td>\n",
       "      <td>-0.592792</td>\n",
       "      <td>-0.735264</td>\n",
       "    </tr>\n",
       "    <tr>\n",
       "      <th>Fuel.tank.capacity</th>\n",
       "      <td>0.635369</td>\n",
       "      <td>0.619480</td>\n",
       "      <td>0.581294</td>\n",
       "      <td>-0.813144</td>\n",
       "      <td>-0.786039</td>\n",
       "      <td>0.759306</td>\n",
       "      <td>0.711790</td>\n",
       "      <td>-0.333345</td>\n",
       "      <td>-0.609710</td>\n",
       "      <td>1.000000</td>\n",
       "      <td>0.472095</td>\n",
       "      <td>0.690461</td>\n",
       "      <td>0.757674</td>\n",
       "      <td>0.798719</td>\n",
       "      <td>0.671343</td>\n",
       "      <td>0.509689</td>\n",
       "      <td>0.613437</td>\n",
       "      <td>0.894018</td>\n",
       "    </tr>\n",
       "    <tr>\n",
       "      <th>Passengers</th>\n",
       "      <td>0.061236</td>\n",
       "      <td>0.057860</td>\n",
       "      <td>0.053216</td>\n",
       "      <td>-0.416856</td>\n",
       "      <td>-0.466386</td>\n",
       "      <td>0.372721</td>\n",
       "      <td>0.009264</td>\n",
       "      <td>-0.467138</td>\n",
       "      <td>-0.334976</td>\n",
       "      <td>0.472095</td>\n",
       "      <td>1.000000</td>\n",
       "      <td>0.485294</td>\n",
       "      <td>0.694054</td>\n",
       "      <td>0.489979</td>\n",
       "      <td>0.449025</td>\n",
       "      <td>0.694134</td>\n",
       "      <td>0.653317</td>\n",
       "      <td>0.553273</td>\n",
       "    </tr>\n",
       "    <tr>\n",
       "      <th>Length</th>\n",
       "      <td>0.553859</td>\n",
       "      <td>0.503628</td>\n",
       "      <td>0.442933</td>\n",
       "      <td>-0.666239</td>\n",
       "      <td>-0.542897</td>\n",
       "      <td>0.780283</td>\n",
       "      <td>0.550865</td>\n",
       "      <td>-0.441249</td>\n",
       "      <td>-0.690233</td>\n",
       "      <td>0.690461</td>\n",
       "      <td>0.485294</td>\n",
       "      <td>1.000000</td>\n",
       "      <td>0.823650</td>\n",
       "      <td>0.822148</td>\n",
       "      <td>0.738955</td>\n",
       "      <td>0.549958</td>\n",
       "      <td>0.712962</td>\n",
       "      <td>0.806274</td>\n",
       "    </tr>\n",
       "    <tr>\n",
       "      <th>Wheelbase</th>\n",
       "      <td>0.516758</td>\n",
       "      <td>0.500864</td>\n",
       "      <td>0.467501</td>\n",
       "      <td>-0.667108</td>\n",
       "      <td>-0.615384</td>\n",
       "      <td>0.732484</td>\n",
       "      <td>0.486854</td>\n",
       "      <td>-0.467812</td>\n",
       "      <td>-0.636824</td>\n",
       "      <td>0.757674</td>\n",
       "      <td>0.694054</td>\n",
       "      <td>0.823650</td>\n",
       "      <td>1.000000</td>\n",
       "      <td>0.807213</td>\n",
       "      <td>0.723324</td>\n",
       "      <td>0.667259</td>\n",
       "      <td>0.734127</td>\n",
       "      <td>0.871895</td>\n",
       "    </tr>\n",
       "    <tr>\n",
       "      <th>Width</th>\n",
       "      <td>0.492878</td>\n",
       "      <td>0.456028</td>\n",
       "      <td>0.408414</td>\n",
       "      <td>-0.720534</td>\n",
       "      <td>-0.640359</td>\n",
       "      <td>0.867110</td>\n",
       "      <td>0.644413</td>\n",
       "      <td>-0.539721</td>\n",
       "      <td>-0.780460</td>\n",
       "      <td>0.798719</td>\n",
       "      <td>0.489979</td>\n",
       "      <td>0.822148</td>\n",
       "      <td>0.807213</td>\n",
       "      <td>1.000000</td>\n",
       "      <td>0.817854</td>\n",
       "      <td>0.465618</td>\n",
       "      <td>0.673490</td>\n",
       "      <td>0.874961</td>\n",
       "    </tr>\n",
       "    <tr>\n",
       "      <th>Turn.circle</th>\n",
       "      <td>0.428603</td>\n",
       "      <td>0.392590</td>\n",
       "      <td>0.347785</td>\n",
       "      <td>-0.666389</td>\n",
       "      <td>-0.593683</td>\n",
       "      <td>0.778464</td>\n",
       "      <td>0.561216</td>\n",
       "      <td>-0.505651</td>\n",
       "      <td>-0.733160</td>\n",
       "      <td>0.671343</td>\n",
       "      <td>0.449025</td>\n",
       "      <td>0.738955</td>\n",
       "      <td>0.723324</td>\n",
       "      <td>0.817854</td>\n",
       "      <td>1.000000</td>\n",
       "      <td>0.466328</td>\n",
       "      <td>0.585018</td>\n",
       "      <td>0.778043</td>\n",
       "    </tr>\n",
       "    <tr>\n",
       "      <th>Rear.seat.room</th>\n",
       "      <td>0.376642</td>\n",
       "      <td>0.311499</td>\n",
       "      <td>0.247260</td>\n",
       "      <td>-0.384347</td>\n",
       "      <td>-0.366684</td>\n",
       "      <td>0.502750</td>\n",
       "      <td>0.256732</td>\n",
       "      <td>-0.342175</td>\n",
       "      <td>-0.377010</td>\n",
       "      <td>0.509689</td>\n",
       "      <td>0.694134</td>\n",
       "      <td>0.549958</td>\n",
       "      <td>0.667259</td>\n",
       "      <td>0.465618</td>\n",
       "      <td>0.466328</td>\n",
       "      <td>1.000000</td>\n",
       "      <td>0.651968</td>\n",
       "      <td>0.526250</td>\n",
       "    </tr>\n",
       "    <tr>\n",
       "      <th>Luggage.room</th>\n",
       "      <td>0.413485</td>\n",
       "      <td>0.366569</td>\n",
       "      <td>0.315315</td>\n",
       "      <td>-0.494894</td>\n",
       "      <td>-0.371629</td>\n",
       "      <td>0.680827</td>\n",
       "      <td>0.359217</td>\n",
       "      <td>-0.524845</td>\n",
       "      <td>-0.592792</td>\n",
       "      <td>0.613437</td>\n",
       "      <td>0.653317</td>\n",
       "      <td>0.712962</td>\n",
       "      <td>0.734127</td>\n",
       "      <td>0.673490</td>\n",
       "      <td>0.585018</td>\n",
       "      <td>0.651968</td>\n",
       "      <td>1.000000</td>\n",
       "      <td>0.637226</td>\n",
       "    </tr>\n",
       "    <tr>\n",
       "      <th>Weight</th>\n",
       "      <td>0.666554</td>\n",
       "      <td>0.647179</td>\n",
       "      <td>0.605142</td>\n",
       "      <td>-0.843139</td>\n",
       "      <td>-0.810658</td>\n",
       "      <td>0.845075</td>\n",
       "      <td>0.738798</td>\n",
       "      <td>-0.427931</td>\n",
       "      <td>-0.735264</td>\n",
       "      <td>0.894018</td>\n",
       "      <td>0.553273</td>\n",
       "      <td>0.806274</td>\n",
       "      <td>0.871895</td>\n",
       "      <td>0.874961</td>\n",
       "      <td>0.778043</td>\n",
       "      <td>0.526250</td>\n",
       "      <td>0.637226</td>\n",
       "      <td>1.000000</td>\n",
       "    </tr>\n",
       "  </tbody>\n",
       "</table>\n",
       "</div>"
      ],
      "text/plain": [
       "                    Min.Price     Price  Max.Price  MPG.city  MPG.highway  \\\n",
       "Min.Price            1.000000  0.970601   0.906756 -0.622875    -0.579966   \n",
       "Price                0.970601  1.000000   0.981580 -0.594562    -0.560680   \n",
       "Max.Price            0.906756  0.981580   1.000000 -0.547811    -0.522561   \n",
       "MPG.city            -0.622875 -0.594562  -0.547811  1.000000     0.943936   \n",
       "MPG.highway         -0.579966 -0.560680  -0.522561  0.943936     1.000000   \n",
       "EngineSize           0.645488  0.597425   0.535012 -0.710003    -0.626795   \n",
       "Horsepower           0.802444  0.788218   0.744445 -0.672636    -0.619044   \n",
       "RPM                 -0.042598 -0.004955   0.025015  0.363045     0.313469   \n",
       "Rev.per.mile        -0.470395 -0.426395  -0.374024  0.695857     0.587497   \n",
       "Fuel.tank.capacity   0.635369  0.619480   0.581294 -0.813144    -0.786039   \n",
       "Passengers           0.061236  0.057860   0.053216 -0.416856    -0.466386   \n",
       "Length               0.553859  0.503628   0.442933 -0.666239    -0.542897   \n",
       "Wheelbase            0.516758  0.500864   0.467501 -0.667108    -0.615384   \n",
       "Width                0.492878  0.456028   0.408414 -0.720534    -0.640359   \n",
       "Turn.circle          0.428603  0.392590   0.347785 -0.666389    -0.593683   \n",
       "Rear.seat.room       0.376642  0.311499   0.247260 -0.384347    -0.366684   \n",
       "Luggage.room         0.413485  0.366569   0.315315 -0.494894    -0.371629   \n",
       "Weight               0.666554  0.647179   0.605142 -0.843139    -0.810658   \n",
       "\n",
       "                    EngineSize  Horsepower       RPM  Rev.per.mile  \\\n",
       "Min.Price             0.645488    0.802444 -0.042598     -0.470395   \n",
       "Price                 0.597425    0.788218 -0.004955     -0.426395   \n",
       "Max.Price             0.535012    0.744445  0.025015     -0.374024   \n",
       "MPG.city             -0.710003   -0.672636  0.363045      0.695857   \n",
       "MPG.highway          -0.626795   -0.619044  0.313469      0.587497   \n",
       "EngineSize            1.000000    0.732120 -0.547898     -0.824009   \n",
       "Horsepower            0.732120    1.000000  0.036688     -0.600314   \n",
       "RPM                  -0.547898    0.036688  1.000000      0.494764   \n",
       "Rev.per.mile         -0.824009   -0.600314  0.494764      1.000000   \n",
       "Fuel.tank.capacity    0.759306    0.711790 -0.333345     -0.609710   \n",
       "Passengers            0.372721    0.009264 -0.467138     -0.334976   \n",
       "Length                0.780283    0.550865 -0.441249     -0.690233   \n",
       "Wheelbase             0.732484    0.486854 -0.467812     -0.636824   \n",
       "Width                 0.867110    0.644413 -0.539721     -0.780460   \n",
       "Turn.circle           0.778464    0.561216 -0.505651     -0.733160   \n",
       "Rear.seat.room        0.502750    0.256732 -0.342175     -0.377010   \n",
       "Luggage.room          0.680827    0.359217 -0.524845     -0.592792   \n",
       "Weight                0.845075    0.738798 -0.427931     -0.735264   \n",
       "\n",
       "                    Fuel.tank.capacity  Passengers    Length  Wheelbase  \\\n",
       "Min.Price                     0.635369    0.061236  0.553859   0.516758   \n",
       "Price                         0.619480    0.057860  0.503628   0.500864   \n",
       "Max.Price                     0.581294    0.053216  0.442933   0.467501   \n",
       "MPG.city                     -0.813144   -0.416856 -0.666239  -0.667108   \n",
       "MPG.highway                  -0.786039   -0.466386 -0.542897  -0.615384   \n",
       "EngineSize                    0.759306    0.372721  0.780283   0.732484   \n",
       "Horsepower                    0.711790    0.009264  0.550865   0.486854   \n",
       "RPM                          -0.333345   -0.467138 -0.441249  -0.467812   \n",
       "Rev.per.mile                 -0.609710   -0.334976 -0.690233  -0.636824   \n",
       "Fuel.tank.capacity            1.000000    0.472095  0.690461   0.757674   \n",
       "Passengers                    0.472095    1.000000  0.485294   0.694054   \n",
       "Length                        0.690461    0.485294  1.000000   0.823650   \n",
       "Wheelbase                     0.757674    0.694054  0.823650   1.000000   \n",
       "Width                         0.798719    0.489979  0.822148   0.807213   \n",
       "Turn.circle                   0.671343    0.449025  0.738955   0.723324   \n",
       "Rear.seat.room                0.509689    0.694134  0.549958   0.667259   \n",
       "Luggage.room                  0.613437    0.653317  0.712962   0.734127   \n",
       "Weight                        0.894018    0.553273  0.806274   0.871895   \n",
       "\n",
       "                       Width  Turn.circle  Rear.seat.room  Luggage.room  \\\n",
       "Min.Price           0.492878     0.428603        0.376642      0.413485   \n",
       "Price               0.456028     0.392590        0.311499      0.366569   \n",
       "Max.Price           0.408414     0.347785        0.247260      0.315315   \n",
       "MPG.city           -0.720534    -0.666389       -0.384347     -0.494894   \n",
       "MPG.highway        -0.640359    -0.593683       -0.366684     -0.371629   \n",
       "EngineSize          0.867110     0.778464        0.502750      0.680827   \n",
       "Horsepower          0.644413     0.561216        0.256732      0.359217   \n",
       "RPM                -0.539721    -0.505651       -0.342175     -0.524845   \n",
       "Rev.per.mile       -0.780460    -0.733160       -0.377010     -0.592792   \n",
       "Fuel.tank.capacity  0.798719     0.671343        0.509689      0.613437   \n",
       "Passengers          0.489979     0.449025        0.694134      0.653317   \n",
       "Length              0.822148     0.738955        0.549958      0.712962   \n",
       "Wheelbase           0.807213     0.723324        0.667259      0.734127   \n",
       "Width               1.000000     0.817854        0.465618      0.673490   \n",
       "Turn.circle         0.817854     1.000000        0.466328      0.585018   \n",
       "Rear.seat.room      0.465618     0.466328        1.000000      0.651968   \n",
       "Luggage.room        0.673490     0.585018        0.651968      1.000000   \n",
       "Weight              0.874961     0.778043        0.526250      0.637226   \n",
       "\n",
       "                      Weight  \n",
       "Min.Price           0.666554  \n",
       "Price               0.647179  \n",
       "Max.Price           0.605142  \n",
       "MPG.city           -0.843139  \n",
       "MPG.highway        -0.810658  \n",
       "EngineSize          0.845075  \n",
       "Horsepower          0.738798  \n",
       "RPM                -0.427931  \n",
       "Rev.per.mile       -0.735264  \n",
       "Fuel.tank.capacity  0.894018  \n",
       "Passengers          0.553273  \n",
       "Length              0.806274  \n",
       "Wheelbase           0.871895  \n",
       "Width               0.874961  \n",
       "Turn.circle         0.778043  \n",
       "Rear.seat.room      0.526250  \n",
       "Luggage.room        0.637226  \n",
       "Weight              1.000000  "
      ]
     },
     "execution_count": 19,
     "metadata": {
      "tags": []
     },
     "output_type": "execute_result"
    }
   ],
   "source": [
    "A.corr()"
   ]
  }
 ],
 "metadata": {
  "colab": {
   "collapsed_sections": [
    "P3-yoEeuge9y"
   ],
   "name": "Descriptive Statistics with Car Sales Data.ipynb",
   "provenance": [],
   "version": "0.3.2"
  },
  "kernelspec": {
   "display_name": "Python 3",
   "language": "python",
   "name": "python3"
  },
  "language_info": {
   "codemirror_mode": {
    "name": "ipython",
    "version": 3
   },
   "file_extension": ".py",
   "mimetype": "text/x-python",
   "name": "python",
   "nbconvert_exporter": "python",
   "pygments_lexer": "ipython3",
   "version": "3.7.3"
  }
 },
 "nbformat": 4,
 "nbformat_minor": 1
}
