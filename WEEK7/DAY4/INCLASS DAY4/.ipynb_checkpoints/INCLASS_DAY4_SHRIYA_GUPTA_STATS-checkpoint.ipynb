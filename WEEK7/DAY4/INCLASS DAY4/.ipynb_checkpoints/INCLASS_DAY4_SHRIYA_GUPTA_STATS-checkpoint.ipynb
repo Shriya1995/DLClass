{
 "cells": [
  {
   "cell_type": "code",
   "execution_count": 1,
   "metadata": {},
   "outputs": [],
   "source": [
    "import numpy as np\n",
    "import pandas as pd\n",
    "from scipy.stats import ttest_1samp,wilcoxon,shapiro,ttest_ind,levene,bartlett,mannwhitneyu\n",
    "import math\n",
    "import matplotlib.pyplot as plt\n",
    "import statsmodels.formula.api as sm\n",
    "from statsmodels.formula.api import ols\n",
    "%matplotlib inline\n",
    "from statsmodels.stats.power import ttest_power\n",
    "import seaborn as sns\n",
    "from scipy.stats import f_oneway\n",
    "from sklearn.linear_model import LinearRegression\n",
    "from sklearn import metrics"
   ]
  },
  {
   "cell_type": "code",
   "execution_count": 6,
   "metadata": {},
   "outputs": [
    {
     "data": {
      "text/html": [
       "<div>\n",
       "<style scoped>\n",
       "    .dataframe tbody tr th:only-of-type {\n",
       "        vertical-align: middle;\n",
       "    }\n",
       "\n",
       "    .dataframe tbody tr th {\n",
       "        vertical-align: top;\n",
       "    }\n",
       "\n",
       "    .dataframe thead th {\n",
       "        text-align: right;\n",
       "    }\n",
       "</style>\n",
       "<table border=\"1\" class=\"dataframe\">\n",
       "  <thead>\n",
       "    <tr style=\"text-align: right;\">\n",
       "      <th></th>\n",
       "      <th>0</th>\n",
       "      <th>1</th>\n",
       "      <th>2</th>\n",
       "      <th>3</th>\n",
       "      <th>4</th>\n",
       "      <th>5</th>\n",
       "      <th>6</th>\n",
       "      <th>7</th>\n",
       "      <th>8</th>\n",
       "      <th>9</th>\n",
       "      <th>10</th>\n",
       "    </tr>\n",
       "  </thead>\n",
       "  <tbody>\n",
       "    <tr>\n",
       "      <th>0</th>\n",
       "      <td>CAK</td>\n",
       "      <td>ATL</td>\n",
       "      <td>114.47</td>\n",
       "      <td>528</td>\n",
       "      <td>424.56</td>\n",
       "      <td>FL</td>\n",
       "      <td>70.19</td>\n",
       "      <td>111.03</td>\n",
       "      <td>FL</td>\n",
       "      <td>70.19</td>\n",
       "      <td>111.03</td>\n",
       "    </tr>\n",
       "    <tr>\n",
       "      <th>1</th>\n",
       "      <td>CAK</td>\n",
       "      <td>MCO</td>\n",
       "      <td>122.47</td>\n",
       "      <td>860</td>\n",
       "      <td>276.84</td>\n",
       "      <td>FL</td>\n",
       "      <td>75.10</td>\n",
       "      <td>123.09</td>\n",
       "      <td>DL</td>\n",
       "      <td>17.23</td>\n",
       "      <td>118.94</td>\n",
       "    </tr>\n",
       "    <tr>\n",
       "      <th>2</th>\n",
       "      <td>ALB</td>\n",
       "      <td>ATL</td>\n",
       "      <td>214.42</td>\n",
       "      <td>852</td>\n",
       "      <td>215.76</td>\n",
       "      <td>DL</td>\n",
       "      <td>78.89</td>\n",
       "      <td>223.98</td>\n",
       "      <td>CO</td>\n",
       "      <td>2.77</td>\n",
       "      <td>167.12</td>\n",
       "    </tr>\n",
       "    <tr>\n",
       "      <th>3</th>\n",
       "      <td>ALB</td>\n",
       "      <td>BWI</td>\n",
       "      <td>69.40</td>\n",
       "      <td>288</td>\n",
       "      <td>606.84</td>\n",
       "      <td>WN</td>\n",
       "      <td>96.97</td>\n",
       "      <td>68.86</td>\n",
       "      <td>WN</td>\n",
       "      <td>96.97</td>\n",
       "      <td>68.86</td>\n",
       "    </tr>\n",
       "    <tr>\n",
       "      <th>4</th>\n",
       "      <td>ALB</td>\n",
       "      <td>ORD</td>\n",
       "      <td>158.13</td>\n",
       "      <td>723</td>\n",
       "      <td>313.04</td>\n",
       "      <td>UA</td>\n",
       "      <td>39.79</td>\n",
       "      <td>161.36</td>\n",
       "      <td>WN</td>\n",
       "      <td>15.34</td>\n",
       "      <td>145.42</td>\n",
       "    </tr>\n",
       "  </tbody>\n",
       "</table>\n",
       "</div>"
      ],
      "text/plain": [
       "    0    1       2    3       4   5      6       7   8      9       10\n",
       "0  CAK  ATL  114.47  528  424.56  FL  70.19  111.03  FL  70.19  111.03\n",
       "1  CAK  MCO  122.47  860  276.84  FL  75.10  123.09  DL  17.23  118.94\n",
       "2  ALB  ATL  214.42  852  215.76  DL  78.89  223.98  CO   2.77  167.12\n",
       "3  ALB  BWI   69.40  288  606.84  WN  96.97   68.86  WN  96.97   68.86\n",
       "4  ALB  ORD  158.13  723  313.04  UA  39.79  161.36  WN  15.34  145.42"
      ]
     },
     "execution_count": 6,
     "metadata": {},
     "output_type": "execute_result"
    }
   ],
   "source": [
    "df = pd.DataFrame([i.strip().split() for i in open(\"airq402.dat\").readlines()])\n",
    "df.head()"
   ]
  },
  {
   "cell_type": "code",
   "execution_count": 7,
   "metadata": {},
   "outputs": [],
   "source": [
    "#1.Import the data and assign appropriate column names.\n"
   ]
  },
  {
   "cell_type": "code",
   "execution_count": null,
   "metadata": {},
   "outputs": [],
   "source": [
    "City1   1-3\n",
    "City2   5-7\n",
    "Average Fare    11-17\n",
    "Distance      20-23\n",
    "Average weekly passengers   26-33\n",
    "market leading airline    36-37\n",
    "market share     40-45\n",
    "Average fare    48-54\n",
    "Low price airline   57-58\n",
    "market share    61-66\n",
    "price     69-75"
   ]
  },
  {
   "cell_type": "code",
   "execution_count": 20,
   "metadata": {},
   "outputs": [],
   "source": [
    "df.columns=[\"City1\",\"City2\",\"Average Fare\",\"Distance\",\"Average weekly passengers\",\"market leading airline\",\n",
    "            \"market share leading\",\"Price Leading\",\"Low price airline\",\"market share trailing\",\"Price Trailing\"]"
   ]
  },
  {
   "cell_type": "code",
   "execution_count": 21,
   "metadata": {
    "scrolled": true
   },
   "outputs": [
    {
     "data": {
      "text/html": [
       "<div>\n",
       "<style scoped>\n",
       "    .dataframe tbody tr th:only-of-type {\n",
       "        vertical-align: middle;\n",
       "    }\n",
       "\n",
       "    .dataframe tbody tr th {\n",
       "        vertical-align: top;\n",
       "    }\n",
       "\n",
       "    .dataframe thead th {\n",
       "        text-align: right;\n",
       "    }\n",
       "</style>\n",
       "<table border=\"1\" class=\"dataframe\">\n",
       "  <thead>\n",
       "    <tr style=\"text-align: right;\">\n",
       "      <th></th>\n",
       "      <th>City1</th>\n",
       "      <th>City2</th>\n",
       "      <th>Average Fare</th>\n",
       "      <th>Distance</th>\n",
       "      <th>Average weekly passengers</th>\n",
       "      <th>market leading airline</th>\n",
       "      <th>market share leading</th>\n",
       "      <th>Price Leading</th>\n",
       "      <th>Low price airline</th>\n",
       "      <th>market share trailing</th>\n",
       "      <th>Price Trailing</th>\n",
       "    </tr>\n",
       "  </thead>\n",
       "  <tbody>\n",
       "    <tr>\n",
       "      <th>0</th>\n",
       "      <td>CAK</td>\n",
       "      <td>ATL</td>\n",
       "      <td>114.47</td>\n",
       "      <td>528</td>\n",
       "      <td>424.56</td>\n",
       "      <td>FL</td>\n",
       "      <td>70.19</td>\n",
       "      <td>111.03</td>\n",
       "      <td>FL</td>\n",
       "      <td>70.19</td>\n",
       "      <td>111.03</td>\n",
       "    </tr>\n",
       "    <tr>\n",
       "      <th>1</th>\n",
       "      <td>CAK</td>\n",
       "      <td>MCO</td>\n",
       "      <td>122.47</td>\n",
       "      <td>860</td>\n",
       "      <td>276.84</td>\n",
       "      <td>FL</td>\n",
       "      <td>75.10</td>\n",
       "      <td>123.09</td>\n",
       "      <td>DL</td>\n",
       "      <td>17.23</td>\n",
       "      <td>118.94</td>\n",
       "    </tr>\n",
       "    <tr>\n",
       "      <th>2</th>\n",
       "      <td>ALB</td>\n",
       "      <td>ATL</td>\n",
       "      <td>214.42</td>\n",
       "      <td>852</td>\n",
       "      <td>215.76</td>\n",
       "      <td>DL</td>\n",
       "      <td>78.89</td>\n",
       "      <td>223.98</td>\n",
       "      <td>CO</td>\n",
       "      <td>2.77</td>\n",
       "      <td>167.12</td>\n",
       "    </tr>\n",
       "    <tr>\n",
       "      <th>3</th>\n",
       "      <td>ALB</td>\n",
       "      <td>BWI</td>\n",
       "      <td>69.40</td>\n",
       "      <td>288</td>\n",
       "      <td>606.84</td>\n",
       "      <td>WN</td>\n",
       "      <td>96.97</td>\n",
       "      <td>68.86</td>\n",
       "      <td>WN</td>\n",
       "      <td>96.97</td>\n",
       "      <td>68.86</td>\n",
       "    </tr>\n",
       "    <tr>\n",
       "      <th>4</th>\n",
       "      <td>ALB</td>\n",
       "      <td>ORD</td>\n",
       "      <td>158.13</td>\n",
       "      <td>723</td>\n",
       "      <td>313.04</td>\n",
       "      <td>UA</td>\n",
       "      <td>39.79</td>\n",
       "      <td>161.36</td>\n",
       "      <td>WN</td>\n",
       "      <td>15.34</td>\n",
       "      <td>145.42</td>\n",
       "    </tr>\n",
       "  </tbody>\n",
       "</table>\n",
       "</div>"
      ],
      "text/plain": [
       "  City1 City2 Average Fare Distance Average weekly passengers  \\\n",
       "0   CAK   ATL       114.47      528                    424.56   \n",
       "1   CAK   MCO       122.47      860                    276.84   \n",
       "2   ALB   ATL       214.42      852                    215.76   \n",
       "3   ALB   BWI        69.40      288                    606.84   \n",
       "4   ALB   ORD       158.13      723                    313.04   \n",
       "\n",
       "  market leading airline market share leading Price Leading Low price airline  \\\n",
       "0                     FL                70.19        111.03                FL   \n",
       "1                     FL                75.10        123.09                DL   \n",
       "2                     DL                78.89        223.98                CO   \n",
       "3                     WN                96.97         68.86                WN   \n",
       "4                     UA                39.79        161.36                WN   \n",
       "\n",
       "  market share trailing Price Trailing  \n",
       "0                 70.19         111.03  \n",
       "1                 17.23         118.94  \n",
       "2                  2.77         167.12  \n",
       "3                 96.97          68.86  \n",
       "4                 15.34         145.42  "
      ]
     },
     "execution_count": 21,
     "metadata": {},
     "output_type": "execute_result"
    }
   ],
   "source": [
    "df.head()"
   ]
  },
  {
   "cell_type": "code",
   "execution_count": 108,
   "metadata": {},
   "outputs": [],
   "source": [
    "#2. Drop the variables which has textual information (categorical variables)\n"
   ]
  },
  {
   "cell_type": "code",
   "execution_count": 22,
   "metadata": {},
   "outputs": [
    {
     "data": {
      "text/html": [
       "<div>\n",
       "<style scoped>\n",
       "    .dataframe tbody tr th:only-of-type {\n",
       "        vertical-align: middle;\n",
       "    }\n",
       "\n",
       "    .dataframe tbody tr th {\n",
       "        vertical-align: top;\n",
       "    }\n",
       "\n",
       "    .dataframe thead th {\n",
       "        text-align: right;\n",
       "    }\n",
       "</style>\n",
       "<table border=\"1\" class=\"dataframe\">\n",
       "  <thead>\n",
       "    <tr style=\"text-align: right;\">\n",
       "      <th></th>\n",
       "      <th>Average Fare</th>\n",
       "      <th>Distance</th>\n",
       "      <th>Average weekly passengers</th>\n",
       "      <th>market share leading</th>\n",
       "      <th>Price Leading</th>\n",
       "      <th>market share trailing</th>\n",
       "      <th>Price Trailing</th>\n",
       "    </tr>\n",
       "  </thead>\n",
       "  <tbody>\n",
       "    <tr>\n",
       "      <th>0</th>\n",
       "      <td>114.47</td>\n",
       "      <td>528</td>\n",
       "      <td>424.56</td>\n",
       "      <td>70.19</td>\n",
       "      <td>111.03</td>\n",
       "      <td>70.19</td>\n",
       "      <td>111.03</td>\n",
       "    </tr>\n",
       "    <tr>\n",
       "      <th>1</th>\n",
       "      <td>122.47</td>\n",
       "      <td>860</td>\n",
       "      <td>276.84</td>\n",
       "      <td>75.10</td>\n",
       "      <td>123.09</td>\n",
       "      <td>17.23</td>\n",
       "      <td>118.94</td>\n",
       "    </tr>\n",
       "    <tr>\n",
       "      <th>2</th>\n",
       "      <td>214.42</td>\n",
       "      <td>852</td>\n",
       "      <td>215.76</td>\n",
       "      <td>78.89</td>\n",
       "      <td>223.98</td>\n",
       "      <td>2.77</td>\n",
       "      <td>167.12</td>\n",
       "    </tr>\n",
       "    <tr>\n",
       "      <th>3</th>\n",
       "      <td>69.40</td>\n",
       "      <td>288</td>\n",
       "      <td>606.84</td>\n",
       "      <td>96.97</td>\n",
       "      <td>68.86</td>\n",
       "      <td>96.97</td>\n",
       "      <td>68.86</td>\n",
       "    </tr>\n",
       "    <tr>\n",
       "      <th>4</th>\n",
       "      <td>158.13</td>\n",
       "      <td>723</td>\n",
       "      <td>313.04</td>\n",
       "      <td>39.79</td>\n",
       "      <td>161.36</td>\n",
       "      <td>15.34</td>\n",
       "      <td>145.42</td>\n",
       "    </tr>\n",
       "  </tbody>\n",
       "</table>\n",
       "</div>"
      ],
      "text/plain": [
       "  Average Fare Distance Average weekly passengers market share leading  \\\n",
       "0       114.47      528                    424.56                70.19   \n",
       "1       122.47      860                    276.84                75.10   \n",
       "2       214.42      852                    215.76                78.89   \n",
       "3        69.40      288                    606.84                96.97   \n",
       "4       158.13      723                    313.04                39.79   \n",
       "\n",
       "  Price Leading market share trailing Price Trailing  \n",
       "0        111.03                 70.19         111.03  \n",
       "1        123.09                 17.23         118.94  \n",
       "2        223.98                  2.77         167.12  \n",
       "3         68.86                 96.97          68.86  \n",
       "4        161.36                 15.34         145.42  "
      ]
     },
     "execution_count": 22,
     "metadata": {},
     "output_type": "execute_result"
    }
   ],
   "source": [
    "df1=df.drop([\"City1\",\"City2\",\"market leading airline\",\"Low price airline\"],axis=1)\n",
    "df1.head()"
   ]
  },
  {
   "cell_type": "code",
   "execution_count": 109,
   "metadata": {},
   "outputs": [],
   "source": [
    "#3.Convert all the variable’s datatype to Integer .\n"
   ]
  },
  {
   "cell_type": "code",
   "execution_count": 36,
   "metadata": {},
   "outputs": [],
   "source": [
    "df1[\"Average Fare\"]=df1[\"Average Fare\"].astype(float)\n",
    "df1[\"Distance\"]=df1[\"Distance\"].astype(float)\n",
    "df1[\"Average weekly passengers\"]=df1[\"Average weekly passengers\"].astype(float)\n",
    "df1[\"market share leading\"]=df1[\"market share leading\"].astype(float)\n",
    "df1[\"Price Leading\"]=df1[\"Price Leading\"].astype(float)\n",
    "df1[\"market share trailing\"]=df1[\"market share trailing\"].astype(float)\n",
    "df1[\"Price Trailing\"]=df1[\"Price Trailing\"].astype(float)"
   ]
  },
  {
   "cell_type": "code",
   "execution_count": 37,
   "metadata": {},
   "outputs": [
    {
     "name": "stdout",
     "output_type": "stream",
     "text": [
      "<class 'pandas.core.frame.DataFrame'>\n",
      "RangeIndex: 1000 entries, 0 to 999\n",
      "Data columns (total 7 columns):\n",
      "Average Fare                 1000 non-null float64\n",
      "Distance                     1000 non-null float64\n",
      "Average weekly passengers    1000 non-null float64\n",
      "market share leading         1000 non-null float64\n",
      "Price Leading                1000 non-null float64\n",
      "market share trailing        1000 non-null float64\n",
      "Price Trailing               1000 non-null float64\n",
      "dtypes: float64(7)\n",
      "memory usage: 54.8 KB\n"
     ]
    }
   ],
   "source": [
    "df1.info()"
   ]
  },
  {
   "cell_type": "code",
   "execution_count": 38,
   "metadata": {},
   "outputs": [],
   "source": [
    "df1[\"Average Fare\"]=df1[\"Average Fare\"].astype(int)\n",
    "df1[\"Distance\"]=df1[\"Distance\"].astype(int)\n",
    "df1[\"Average weekly passengers\"]=df1[\"Average weekly passengers\"].astype(int)\n",
    "df1[\"market share leading\"]=df1[\"market share leading\"].astype(int)\n",
    "df1[\"Price Leading\"]=df1[\"Price Leading\"].astype(int)\n",
    "df1[\"market share trailing\"]=df1[\"market share trailing\"].astype(int)\n",
    "df1[\"Price Trailing\"]=df1[\"Price Trailing\"].astype(int)"
   ]
  },
  {
   "cell_type": "code",
   "execution_count": null,
   "metadata": {},
   "outputs": [],
   "source": []
  },
  {
   "cell_type": "code",
   "execution_count": 39,
   "metadata": {},
   "outputs": [
    {
     "name": "stdout",
     "output_type": "stream",
     "text": [
      "Average Fare\n",
      "Distance\n",
      "Average weekly passengers\n",
      "market share leading\n",
      "Price Leading\n",
      "market share trailing\n",
      "Price Trailing\n"
     ]
    }
   ],
   "source": [
    "for col in df1.columns:\n",
    "    print(col)\n",
    "df1[col]=df1[col].astype(float)"
   ]
  },
  {
   "cell_type": "code",
   "execution_count": 40,
   "metadata": {},
   "outputs": [
    {
     "name": "stdout",
     "output_type": "stream",
     "text": [
      "Average Fare\n",
      "Distance\n",
      "Average weekly passengers\n",
      "market share leading\n",
      "Price Leading\n",
      "market share trailing\n",
      "Price Trailing\n"
     ]
    }
   ],
   "source": [
    "for col in df1.columns:\n",
    "    print(col)\n",
    "df1[col]=df1[col].astype(int)"
   ]
  },
  {
   "cell_type": "code",
   "execution_count": 41,
   "metadata": {},
   "outputs": [
    {
     "name": "stdout",
     "output_type": "stream",
     "text": [
      "<class 'pandas.core.frame.DataFrame'>\n",
      "RangeIndex: 1000 entries, 0 to 999\n",
      "Data columns (total 7 columns):\n",
      "Average Fare                 1000 non-null int64\n",
      "Distance                     1000 non-null int64\n",
      "Average weekly passengers    1000 non-null int64\n",
      "market share leading         1000 non-null int64\n",
      "Price Leading                1000 non-null int64\n",
      "market share trailing        1000 non-null int64\n",
      "Price Trailing               1000 non-null int64\n",
      "dtypes: int64(7)\n",
      "memory usage: 54.8 KB\n"
     ]
    }
   ],
   "source": [
    "df1.info()"
   ]
  },
  {
   "cell_type": "code",
   "execution_count": 110,
   "metadata": {},
   "outputs": [],
   "source": [
    "#4. Remove all the outliers from the data using IQR method (Retain data points within 1.5 * IQR) \n"
   ]
  },
  {
   "cell_type": "code",
   "execution_count": 43,
   "metadata": {},
   "outputs": [],
   "source": [
    "def out(df_in,col):\n",
    "    q1 = df_in[col].quantile(0.25)\n",
    "    q3 = df_in[col].quantile(0.75)\n",
    "    IQR = q3-q1\n",
    "    uw = q3+(1.5*IQR)\n",
    "    lw = q1-(1.5*IQR)\n",
    "    df_out = df_in[~((df_in < (q1 - 1.5 * IQR)) |(df_in > (q3 + 1.5 * IQR))).any(axis=1)]\n",
    "    return df_out"
   ]
  },
  {
   "cell_type": "code",
   "execution_count": 45,
   "metadata": {},
   "outputs": [],
   "source": [
    "df1=out(df1,df1.columns)"
   ]
  },
  {
   "cell_type": "code",
   "execution_count": 46,
   "metadata": {},
   "outputs": [
    {
     "data": {
      "text/plain": [
       "<matplotlib.axes._subplots.AxesSubplot at 0x1a26a110f0>"
      ]
     },
     "execution_count": 46,
     "metadata": {},
     "output_type": "execute_result"
    },
    {
     "data": {
      "image/png": "[encoded data removed]",
      "text/plain": [
       "<Figure size 432x288 with 1 Axes>"
      ]
     },
     "metadata": {
      "needs_background": "light"
     },
     "output_type": "display_data"
    }
   ],
   "source": [
    "sns.boxplot(df1[\"Average Fare\"])"
   ]
  },
  {
   "cell_type": "code",
   "execution_count": 111,
   "metadata": {},
   "outputs": [],
   "source": [
    "# 5.Print the correlation matrix. \n"
   ]
  },
  {
   "cell_type": "code",
   "execution_count": 48,
   "metadata": {},
   "outputs": [
    {
     "data": {
      "text/html": [
       "<div>\n",
       "<style scoped>\n",
       "    .dataframe tbody tr th:only-of-type {\n",
       "        vertical-align: middle;\n",
       "    }\n",
       "\n",
       "    .dataframe tbody tr th {\n",
       "        vertical-align: top;\n",
       "    }\n",
       "\n",
       "    .dataframe thead th {\n",
       "        text-align: right;\n",
       "    }\n",
       "</style>\n",
       "<table border=\"1\" class=\"dataframe\">\n",
       "  <thead>\n",
       "    <tr style=\"text-align: right;\">\n",
       "      <th></th>\n",
       "      <th>Average Fare</th>\n",
       "      <th>Distance</th>\n",
       "      <th>Average weekly passengers</th>\n",
       "      <th>market share leading</th>\n",
       "      <th>Price Leading</th>\n",
       "      <th>market share trailing</th>\n",
       "      <th>Price Trailing</th>\n",
       "    </tr>\n",
       "  </thead>\n",
       "  <tbody>\n",
       "    <tr>\n",
       "      <th>Average Fare</th>\n",
       "      <td>1.000000</td>\n",
       "      <td>0.522609</td>\n",
       "      <td>-0.197014</td>\n",
       "      <td>-0.207874</td>\n",
       "      <td>0.979620</td>\n",
       "      <td>-0.494021</td>\n",
       "      <td>0.840969</td>\n",
       "    </tr>\n",
       "    <tr>\n",
       "      <th>Distance</th>\n",
       "      <td>0.522609</td>\n",
       "      <td>1.000000</td>\n",
       "      <td>-0.129640</td>\n",
       "      <td>-0.547132</td>\n",
       "      <td>0.489541</td>\n",
       "      <td>-0.361448</td>\n",
       "      <td>0.539772</td>\n",
       "    </tr>\n",
       "    <tr>\n",
       "      <th>Average weekly passengers</th>\n",
       "      <td>-0.197014</td>\n",
       "      <td>-0.129640</td>\n",
       "      <td>1.000000</td>\n",
       "      <td>0.022685</td>\n",
       "      <td>-0.163634</td>\n",
       "      <td>0.076881</td>\n",
       "      <td>-0.208752</td>\n",
       "    </tr>\n",
       "    <tr>\n",
       "      <th>market share leading</th>\n",
       "      <td>-0.207874</td>\n",
       "      <td>-0.547132</td>\n",
       "      <td>0.022685</td>\n",
       "      <td>1.000000</td>\n",
       "      <td>-0.193264</td>\n",
       "      <td>0.280838</td>\n",
       "      <td>-0.314804</td>\n",
       "    </tr>\n",
       "    <tr>\n",
       "      <th>Price Leading</th>\n",
       "      <td>0.979620</td>\n",
       "      <td>0.489541</td>\n",
       "      <td>-0.163634</td>\n",
       "      <td>-0.193264</td>\n",
       "      <td>1.000000</td>\n",
       "      <td>-0.519736</td>\n",
       "      <td>0.794175</td>\n",
       "    </tr>\n",
       "    <tr>\n",
       "      <th>market share trailing</th>\n",
       "      <td>-0.494021</td>\n",
       "      <td>-0.361448</td>\n",
       "      <td>0.076881</td>\n",
       "      <td>0.280838</td>\n",
       "      <td>-0.519736</td>\n",
       "      <td>1.000000</td>\n",
       "      <td>-0.261183</td>\n",
       "    </tr>\n",
       "    <tr>\n",
       "      <th>Price Trailing</th>\n",
       "      <td>0.840969</td>\n",
       "      <td>0.539772</td>\n",
       "      <td>-0.208752</td>\n",
       "      <td>-0.314804</td>\n",
       "      <td>0.794175</td>\n",
       "      <td>-0.261183</td>\n",
       "      <td>1.000000</td>\n",
       "    </tr>\n",
       "  </tbody>\n",
       "</table>\n",
       "</div>"
      ],
      "text/plain": [
       "                           Average Fare  Distance  Average weekly passengers  \\\n",
       "Average Fare                   1.000000  0.522609                  -0.197014   \n",
       "Distance                       0.522609  1.000000                  -0.129640   \n",
       "Average weekly passengers     -0.197014 -0.129640                   1.000000   \n",
       "market share leading          -0.207874 -0.547132                   0.022685   \n",
       "Price Leading                  0.979620  0.489541                  -0.163634   \n",
       "market share trailing         -0.494021 -0.361448                   0.076881   \n",
       "Price Trailing                 0.840969  0.539772                  -0.208752   \n",
       "\n",
       "                           market share leading  Price Leading  \\\n",
       "Average Fare                          -0.207874       0.979620   \n",
       "Distance                              -0.547132       0.489541   \n",
       "Average weekly passengers              0.022685      -0.163634   \n",
       "market share leading                   1.000000      -0.193264   \n",
       "Price Leading                         -0.193264       1.000000   \n",
       "market share trailing                  0.280838      -0.519736   \n",
       "Price Trailing                        -0.314804       0.794175   \n",
       "\n",
       "                           market share trailing  Price Trailing  \n",
       "Average Fare                           -0.494021        0.840969  \n",
       "Distance                               -0.361448        0.539772  \n",
       "Average weekly passengers               0.076881       -0.208752  \n",
       "market share leading                    0.280838       -0.314804  \n",
       "Price Leading                          -0.519736        0.794175  \n",
       "market share trailing                   1.000000       -0.261183  \n",
       "Price Trailing                         -0.261183        1.000000  "
      ]
     },
     "execution_count": 48,
     "metadata": {},
     "output_type": "execute_result"
    }
   ],
   "source": [
    "df1.corr()"
   ]
  },
  {
   "cell_type": "code",
   "execution_count": 113,
   "metadata": {},
   "outputs": [],
   "source": [
    "# 6.\tTreat “Average Fare” –  as your Dependent Variable and the variable which\n",
    "# has the highest correlation with Average Fare as the Independent Variable. Drop all the other variables \n"
   ]
  },
  {
   "cell_type": "code",
   "execution_count": 64,
   "metadata": {},
   "outputs": [
    {
     "data": {
      "text/html": [
       "<div>\n",
       "<style scoped>\n",
       "    .dataframe tbody tr th:only-of-type {\n",
       "        vertical-align: middle;\n",
       "    }\n",
       "\n",
       "    .dataframe tbody tr th {\n",
       "        vertical-align: top;\n",
       "    }\n",
       "\n",
       "    .dataframe thead th {\n",
       "        text-align: right;\n",
       "    }\n",
       "</style>\n",
       "<table border=\"1\" class=\"dataframe\">\n",
       "  <thead>\n",
       "    <tr style=\"text-align: right;\">\n",
       "      <th></th>\n",
       "      <th>Average Fare</th>\n",
       "      <th>Price Leading</th>\n",
       "    </tr>\n",
       "  </thead>\n",
       "  <tbody>\n",
       "    <tr>\n",
       "      <th>0</th>\n",
       "      <td>114</td>\n",
       "      <td>111</td>\n",
       "    </tr>\n",
       "    <tr>\n",
       "      <th>1</th>\n",
       "      <td>122</td>\n",
       "      <td>123</td>\n",
       "    </tr>\n",
       "    <tr>\n",
       "      <th>2</th>\n",
       "      <td>214</td>\n",
       "      <td>223</td>\n",
       "    </tr>\n",
       "    <tr>\n",
       "      <th>3</th>\n",
       "      <td>69</td>\n",
       "      <td>68</td>\n",
       "    </tr>\n",
       "    <tr>\n",
       "      <th>4</th>\n",
       "      <td>158</td>\n",
       "      <td>161</td>\n",
       "    </tr>\n",
       "  </tbody>\n",
       "</table>\n",
       "</div>"
      ],
      "text/plain": [
       "   Average Fare  Price Leading\n",
       "0           114            111\n",
       "1           122            123\n",
       "2           214            223\n",
       "3            69             68\n",
       "4           158            161"
      ]
     },
     "execution_count": 64,
     "metadata": {},
     "output_type": "execute_result"
    }
   ],
   "source": [
    "y=df1[\"Average Fare\"]\n",
    "x=df1[[\"Price Leading\"]]\n",
    "df2=df1.drop([\"Distance\",\"Average weekly passengers\",\"market share leading\",\"market share trailing\",\"Price Trailing\"],axis=1)\n",
    "df2.head()"
   ]
  },
  {
   "cell_type": "code",
   "execution_count": 114,
   "metadata": {},
   "outputs": [],
   "source": [
    "#7.\tCreate Scatter Plot of Independent Variable Vs Dependent Variable.\n"
   ]
  },
  {
   "cell_type": "code",
   "execution_count": 65,
   "metadata": {},
   "outputs": [
    {
     "data": {
      "text/plain": [
       "<matplotlib.collections.PathCollection at 0x1a26c38f98>"
      ]
     },
     "execution_count": 65,
     "metadata": {},
     "output_type": "execute_result"
    },
    {
     "data": {
      "image/png": "[encoded data removed]",
      "text/plain": [
       "<Figure size 432x288 with 1 Axes>"
      ]
     },
     "metadata": {
      "needs_background": "light"
     },
     "output_type": "display_data"
    }
   ],
   "source": [
    "plt.scatter(df2[\"Average Fare\"],df2[\"Price Leading\"])"
   ]
  },
  {
   "cell_type": "code",
   "execution_count": 115,
   "metadata": {},
   "outputs": [],
   "source": [
    "#8.\tDivide the data set into training and test data set and build a Linear Regression model. \n"
   ]
  },
  {
   "cell_type": "code",
   "execution_count": 75,
   "metadata": {},
   "outputs": [],
   "source": [
    "from sklearn.linear_model import LinearRegression\n",
    "from sklearn.model_selection import train_test_split\n",
    "\n",
    "model = LinearRegression()\n",
    "\n",
    "x_train,x_test,y_train,y_test=train_test_split(x,y,test_size=0.3)\n"
   ]
  },
  {
   "cell_type": "code",
   "execution_count": 76,
   "metadata": {},
   "outputs": [],
   "source": [
    "LR=LinearRegression()\n",
    "model=LR.fit(x_train,y_train)\n",
    "y_pred=LR.predict(x_test)"
   ]
  },
  {
   "cell_type": "code",
   "execution_count": 68,
   "metadata": {},
   "outputs": [
    {
     "data": {
      "text/plain": [
       "(619, 1)"
      ]
     },
     "execution_count": 68,
     "metadata": {},
     "output_type": "execute_result"
    }
   ],
   "source": [
    "x_train.shape"
   ]
  },
  {
   "cell_type": "code",
   "execution_count": 69,
   "metadata": {},
   "outputs": [
    {
     "data": {
      "text/plain": [
       "(619,)"
      ]
     },
     "execution_count": 69,
     "metadata": {},
     "output_type": "execute_result"
    }
   ],
   "source": [
    "y_train.shape"
   ]
  },
  {
   "cell_type": "code",
   "execution_count": 70,
   "metadata": {},
   "outputs": [
    {
     "data": {
      "text/plain": [
       "array([0.88483829])"
      ]
     },
     "execution_count": 70,
     "metadata": {},
     "output_type": "execute_result"
    }
   ],
   "source": [
    "LR.coef_"
   ]
  },
  {
   "cell_type": "code",
   "execution_count": 71,
   "metadata": {
    "scrolled": true
   },
   "outputs": [
    {
     "data": {
      "text/plain": [
       "16.1154252791778"
      ]
     },
     "execution_count": 71,
     "metadata": {},
     "output_type": "execute_result"
    }
   ],
   "source": [
    "LR.intercept_"
   ]
  },
  {
   "cell_type": "code",
   "execution_count": 56,
   "metadata": {},
   "outputs": [],
   "source": []
  },
  {
   "cell_type": "code",
   "execution_count": 73,
   "metadata": {},
   "outputs": [],
   "source": [
    "#RMSE"
   ]
  },
  {
   "cell_type": "code",
   "execution_count": 77,
   "metadata": {},
   "outputs": [
    {
     "data": {
      "text/plain": [
       "8.928165429648958"
      ]
     },
     "execution_count": 77,
     "metadata": {},
     "output_type": "execute_result"
    }
   ],
   "source": [
    "from sklearn import metrics\n",
    "np.sqrt(metrics.mean_squared_error(y_test,y_pred))"
   ]
  },
  {
   "cell_type": "code",
   "execution_count": 78,
   "metadata": {},
   "outputs": [],
   "source": [
    "#Multivariate analysis:"
   ]
  },
  {
   "cell_type": "code",
   "execution_count": 79,
   "metadata": {},
   "outputs": [
    {
     "data": {
      "text/html": [
       "<div>\n",
       "<style scoped>\n",
       "    .dataframe tbody tr th:only-of-type {\n",
       "        vertical-align: middle;\n",
       "    }\n",
       "\n",
       "    .dataframe tbody tr th {\n",
       "        vertical-align: top;\n",
       "    }\n",
       "\n",
       "    .dataframe thead th {\n",
       "        text-align: right;\n",
       "    }\n",
       "</style>\n",
       "<table border=\"1\" class=\"dataframe\">\n",
       "  <thead>\n",
       "    <tr style=\"text-align: right;\">\n",
       "      <th></th>\n",
       "      <th>Average Fare</th>\n",
       "      <th>Distance</th>\n",
       "      <th>Average weekly passengers</th>\n",
       "      <th>market share leading</th>\n",
       "      <th>Price Leading</th>\n",
       "      <th>market share trailing</th>\n",
       "      <th>Price Trailing</th>\n",
       "    </tr>\n",
       "  </thead>\n",
       "  <tbody>\n",
       "    <tr>\n",
       "      <th>0</th>\n",
       "      <td>114</td>\n",
       "      <td>528</td>\n",
       "      <td>424</td>\n",
       "      <td>70</td>\n",
       "      <td>111</td>\n",
       "      <td>70</td>\n",
       "      <td>111</td>\n",
       "    </tr>\n",
       "    <tr>\n",
       "      <th>1</th>\n",
       "      <td>122</td>\n",
       "      <td>860</td>\n",
       "      <td>276</td>\n",
       "      <td>75</td>\n",
       "      <td>123</td>\n",
       "      <td>17</td>\n",
       "      <td>118</td>\n",
       "    </tr>\n",
       "    <tr>\n",
       "      <th>2</th>\n",
       "      <td>214</td>\n",
       "      <td>852</td>\n",
       "      <td>215</td>\n",
       "      <td>78</td>\n",
       "      <td>223</td>\n",
       "      <td>2</td>\n",
       "      <td>167</td>\n",
       "    </tr>\n",
       "    <tr>\n",
       "      <th>3</th>\n",
       "      <td>69</td>\n",
       "      <td>288</td>\n",
       "      <td>606</td>\n",
       "      <td>96</td>\n",
       "      <td>68</td>\n",
       "      <td>96</td>\n",
       "      <td>68</td>\n",
       "    </tr>\n",
       "    <tr>\n",
       "      <th>4</th>\n",
       "      <td>158</td>\n",
       "      <td>723</td>\n",
       "      <td>313</td>\n",
       "      <td>39</td>\n",
       "      <td>161</td>\n",
       "      <td>15</td>\n",
       "      <td>145</td>\n",
       "    </tr>\n",
       "  </tbody>\n",
       "</table>\n",
       "</div>"
      ],
      "text/plain": [
       "   Average Fare  Distance  Average weekly passengers  market share leading  \\\n",
       "0           114       528                        424                    70   \n",
       "1           122       860                        276                    75   \n",
       "2           214       852                        215                    78   \n",
       "3            69       288                        606                    96   \n",
       "4           158       723                        313                    39   \n",
       "\n",
       "   Price Leading  market share trailing  Price Trailing  \n",
       "0            111                     70             111  \n",
       "1            123                     17             118  \n",
       "2            223                      2             167  \n",
       "3             68                     96              68  \n",
       "4            161                     15             145  "
      ]
     },
     "execution_count": 79,
     "metadata": {},
     "output_type": "execute_result"
    }
   ],
   "source": [
    "df1.head()"
   ]
  },
  {
   "cell_type": "code",
   "execution_count": 94,
   "metadata": {},
   "outputs": [],
   "source": [
    "x=df1[[\"Distance\",\"Average weekly passengers\",\"market share leading\",\n",
    "      \"Price Leading\",\"market share trailing\",\"Price Trailing\"]]\n",
    "y=df1[\"Average Fare\"]\n",
    "x_train,x_test,y_train,y_test=train_test_split(x,y,test_size=0.3)\n",
    "\n",
    "LR=LinearRegression()\n",
    "model=LR.fit(x_train,y_train)\n",
    "y_pred=LR.predict(x_test)\n"
   ]
  },
  {
   "cell_type": "code",
   "execution_count": 83,
   "metadata": {},
   "outputs": [
    {
     "data": {
      "text/plain": [
       "(619, 6)"
      ]
     },
     "execution_count": 83,
     "metadata": {},
     "output_type": "execute_result"
    }
   ],
   "source": [
    "x_train.shape"
   ]
  },
  {
   "cell_type": "code",
   "execution_count": 84,
   "metadata": {},
   "outputs": [
    {
     "data": {
      "text/plain": [
       "(619,)"
      ]
     },
     "execution_count": 84,
     "metadata": {},
     "output_type": "execute_result"
    }
   ],
   "source": [
    "y_train.shape"
   ]
  },
  {
   "cell_type": "code",
   "execution_count": 85,
   "metadata": {},
   "outputs": [
    {
     "data": {
      "text/plain": [
       "array([ 0.00370446, -0.00306758,  0.05960338,  0.75425803, -0.01515077,\n",
       "        0.1935902 ])"
      ]
     },
     "execution_count": 85,
     "metadata": {},
     "output_type": "execute_result"
    }
   ],
   "source": [
    "LR.coef_"
   ]
  },
  {
   "cell_type": "code",
   "execution_count": 86,
   "metadata": {},
   "outputs": [
    {
     "data": {
      "text/plain": [
       "4.9575621394901646"
      ]
     },
     "execution_count": 86,
     "metadata": {},
     "output_type": "execute_result"
    }
   ],
   "source": [
    "LR.intercept_"
   ]
  },
  {
   "cell_type": "code",
   "execution_count": 95,
   "metadata": {},
   "outputs": [
    {
     "data": {
      "text/plain": [
       "7.6259530822839245"
      ]
     },
     "execution_count": 95,
     "metadata": {},
     "output_type": "execute_result"
    }
   ],
   "source": [
    "from sklearn import metrics\n",
    "np.sqrt(metrics.mean_squared_error(y_test,y_pred))"
   ]
  },
  {
   "cell_type": "code",
   "execution_count": 96,
   "metadata": {},
   "outputs": [],
   "source": [
    "# As seen above, RMSE value has been decreased after doing multivariate analysis. \n",
    "#Multivariate is good as compared to univariate analysis."
   ]
  },
  {
   "cell_type": "code",
   "execution_count": 97,
   "metadata": {},
   "outputs": [],
   "source": [
    "#Trying the same using OLS method:\n"
   ]
  },
  {
   "cell_type": "code",
   "execution_count": 98,
   "metadata": {},
   "outputs": [],
   "source": [
    "import statsmodels.formula.api as smf"
   ]
  },
  {
   "cell_type": "code",
   "execution_count": 100,
   "metadata": {},
   "outputs": [
    {
     "data": {
      "text/html": [
       "<table class=\"simpletable\">\n",
       "<caption>OLS Regression Results</caption>\n",
       "<tr>\n",
       "  <th>Dep. Variable:</th>            <td>y</td>        <th>  R-squared:         </th> <td>   0.972</td>\n",
       "</tr>\n",
       "<tr>\n",
       "  <th>Model:</th>                   <td>OLS</td>       <th>  Adj. R-squared:    </th> <td>   0.972</td>\n",
       "</tr>\n",
       "<tr>\n",
       "  <th>Method:</th>             <td>Least Squares</td>  <th>  F-statistic:       </th> <td>   5076.</td>\n",
       "</tr>\n",
       "<tr>\n",
       "  <th>Date:</th>             <td>Thu, 29 Aug 2019</td> <th>  Prob (F-statistic):</th>  <td>  0.00</td> \n",
       "</tr>\n",
       "<tr>\n",
       "  <th>Time:</th>                 <td>19:17:46</td>     <th>  Log-Likelihood:    </th> <td> -3107.9</td>\n",
       "</tr>\n",
       "<tr>\n",
       "  <th>No. Observations:</th>      <td>   885</td>      <th>  AIC:               </th> <td>   6230.</td>\n",
       "</tr>\n",
       "<tr>\n",
       "  <th>Df Residuals:</th>          <td>   878</td>      <th>  BIC:               </th> <td>   6263.</td>\n",
       "</tr>\n",
       "<tr>\n",
       "  <th>Df Model:</th>              <td>     6</td>      <th>                     </th>     <td> </td>   \n",
       "</tr>\n",
       "<tr>\n",
       "  <th>Covariance Type:</th>      <td>nonrobust</td>    <th>                     </th>     <td> </td>   \n",
       "</tr>\n",
       "</table>\n",
       "<table class=\"simpletable\">\n",
       "<tr>\n",
       "      <td></td>         <th>coef</th>     <th>std err</th>      <th>t</th>      <th>P>|t|</th>  <th>[0.025</th>    <th>0.975]</th>  \n",
       "</tr>\n",
       "<tr>\n",
       "  <th>Intercept</th> <td>    5.1349</td> <td>    1.886</td> <td>    2.722</td> <td> 0.007</td> <td>    1.433</td> <td>    8.837</td>\n",
       "</tr>\n",
       "<tr>\n",
       "  <th>x[0]</th>      <td>    0.0029</td> <td>    0.001</td> <td>    4.663</td> <td> 0.000</td> <td>    0.002</td> <td>    0.004</td>\n",
       "</tr>\n",
       "<tr>\n",
       "  <th>x[1]</th>      <td>   -0.0032</td> <td>    0.001</td> <td>   -3.781</td> <td> 0.000</td> <td>   -0.005</td> <td>   -0.002</td>\n",
       "</tr>\n",
       "<tr>\n",
       "  <th>x[2]</th>      <td>    0.0737</td> <td>    0.018</td> <td>    4.160</td> <td> 0.000</td> <td>    0.039</td> <td>    0.109</td>\n",
       "</tr>\n",
       "<tr>\n",
       "  <th>x[3]</th>      <td>    0.7454</td> <td>    0.010</td> <td>   71.699</td> <td> 0.000</td> <td>    0.725</td> <td>    0.766</td>\n",
       "</tr>\n",
       "<tr>\n",
       "  <th>x[4]</th>      <td>   -0.0302</td> <td>    0.013</td> <td>   -2.304</td> <td> 0.021</td> <td>   -0.056</td> <td>   -0.004</td>\n",
       "</tr>\n",
       "<tr>\n",
       "  <th>x[5]</th>      <td>    0.2077</td> <td>    0.013</td> <td>   15.930</td> <td> 0.000</td> <td>    0.182</td> <td>    0.233</td>\n",
       "</tr>\n",
       "</table>\n",
       "<table class=\"simpletable\">\n",
       "<tr>\n",
       "  <th>Omnibus:</th>       <td>185.050</td> <th>  Durbin-Watson:     </th> <td>   1.915</td> \n",
       "</tr>\n",
       "<tr>\n",
       "  <th>Prob(Omnibus):</th> <td> 0.000</td>  <th>  Jarque-Bera (JB):  </th> <td> 823.048</td> \n",
       "</tr>\n",
       "<tr>\n",
       "  <th>Skew:</th>          <td> 0.899</td>  <th>  Prob(JB):          </th> <td>1.89e-179</td>\n",
       "</tr>\n",
       "<tr>\n",
       "  <th>Kurtosis:</th>      <td> 7.369</td>  <th>  Cond. No.          </th> <td>8.97e+03</td> \n",
       "</tr>\n",
       "</table><br/><br/>Warnings:<br/>[1] Standard Errors assume that the covariance matrix of the errors is correctly specified.<br/>[2] The condition number is large, 8.97e+03. This might indicate that there are<br/>strong multicollinearity or other numerical problems."
      ],
      "text/plain": [
       "<class 'statsmodels.iolib.summary.Summary'>\n",
       "\"\"\"\n",
       "                            OLS Regression Results                            \n",
       "==============================================================================\n",
       "Dep. Variable:                      y   R-squared:                       0.972\n",
       "Model:                            OLS   Adj. R-squared:                  0.972\n",
       "Method:                 Least Squares   F-statistic:                     5076.\n",
       "Date:                Thu, 29 Aug 2019   Prob (F-statistic):               0.00\n",
       "Time:                        19:17:46   Log-Likelihood:                -3107.9\n",
       "No. Observations:                 885   AIC:                             6230.\n",
       "Df Residuals:                     878   BIC:                             6263.\n",
       "Df Model:                           6                                         \n",
       "Covariance Type:            nonrobust                                         \n",
       "==============================================================================\n",
       "                 coef    std err          t      P>|t|      [0.025      0.975]\n",
       "------------------------------------------------------------------------------\n",
       "Intercept      5.1349      1.886      2.722      0.007       1.433       8.837\n",
       "x[0]           0.0029      0.001      4.663      0.000       0.002       0.004\n",
       "x[1]          -0.0032      0.001     -3.781      0.000      -0.005      -0.002\n",
       "x[2]           0.0737      0.018      4.160      0.000       0.039       0.109\n",
       "x[3]           0.7454      0.010     71.699      0.000       0.725       0.766\n",
       "x[4]          -0.0302      0.013     -2.304      0.021      -0.056      -0.004\n",
       "x[5]           0.2077      0.013     15.930      0.000       0.182       0.233\n",
       "==============================================================================\n",
       "Omnibus:                      185.050   Durbin-Watson:                   1.915\n",
       "Prob(Omnibus):                  0.000   Jarque-Bera (JB):              823.048\n",
       "Skew:                           0.899   Prob(JB):                    1.89e-179\n",
       "Kurtosis:                       7.369   Cond. No.                     8.97e+03\n",
       "==============================================================================\n",
       "\n",
       "Warnings:\n",
       "[1] Standard Errors assume that the covariance matrix of the errors is correctly specified.\n",
       "[2] The condition number is large, 8.97e+03. This might indicate that there are\n",
       "strong multicollinearity or other numerical problems.\n",
       "\"\"\""
      ]
     },
     "execution_count": 100,
     "metadata": {},
     "output_type": "execute_result"
    }
   ],
   "source": [
    "model=smf.ols(\"y~x\",df1).fit()\n",
    "model.summary()"
   ]
  },
  {
   "cell_type": "code",
   "execution_count": 101,
   "metadata": {},
   "outputs": [],
   "source": [
    "#As can be seen from above summary, p value of all the independent variables is less than 0.05, hence, we reject the \n",
    "#null hypothesis and that means that all the 6 independent variables contribute towards the dependent variables.\n"
   ]
  },
  {
   "cell_type": "code",
   "execution_count": 102,
   "metadata": {},
   "outputs": [],
   "source": [
    "#1.\tPrint the train and test accuracy of the model .\n"
   ]
  },
  {
   "cell_type": "code",
   "execution_count": 104,
   "metadata": {},
   "outputs": [
    {
     "name": "stdout",
     "output_type": "stream",
     "text": [
      "R squared value is 0.972\n",
      "RMSE value is 7.6260\n"
     ]
    }
   ],
   "source": [
    "print(\"R squared value is 0.972\")\n",
    "print(\"RMSE value is %1.4f\"%np.sqrt(metrics.mean_squared_error(y_test,y_pred)))"
   ]
  },
  {
   "cell_type": "code",
   "execution_count": 118,
   "metadata": {},
   "outputs": [],
   "source": [
    "#10.\tPrint the coefficient and the intercept of the model .\n"
   ]
  },
  {
   "cell_type": "code",
   "execution_count": 106,
   "metadata": {},
   "outputs": [
    {
     "data": {
      "text/plain": [
       "array([ 0.00233598, -0.00408732,  0.08763608,  0.74950082, -0.03741883,\n",
       "        0.20235867])"
      ]
     },
     "execution_count": 106,
     "metadata": {},
     "output_type": "execute_result"
    }
   ],
   "source": [
    "LR.coef_"
   ]
  },
  {
   "cell_type": "code",
   "execution_count": 107,
   "metadata": {},
   "outputs": [
    {
     "data": {
      "text/plain": [
       "5.564076516643212"
      ]
     },
     "execution_count": 107,
     "metadata": {},
     "output_type": "execute_result"
    }
   ],
   "source": [
    "LR.intercept_"
   ]
  },
  {
   "cell_type": "code",
   "execution_count": null,
   "metadata": {},
   "outputs": [],
   "source": []
  }
 ],
 "metadata": {
  "kernelspec": {
   "display_name": "Python 3",
   "language": "python",
   "name": "python3"
  },
  "language_info": {
   "codemirror_mode": {
    "name": "ipython",
    "version": 3
   },
   "file_extension": ".py",
   "mimetype": "text/x-python",
   "name": "python",
   "nbconvert_exporter": "python",
   "pygments_lexer": "ipython3",
   "version": "3.7.3"
  }
 },
 "nbformat": 4,
 "nbformat_minor": 2
}
