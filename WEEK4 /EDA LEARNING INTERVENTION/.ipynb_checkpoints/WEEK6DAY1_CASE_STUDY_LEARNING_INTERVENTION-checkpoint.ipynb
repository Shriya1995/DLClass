{
 "cells": [
  {
   "cell_type": "code",
   "execution_count": 1,
   "metadata": {},
   "outputs": [],
   "source": [
    "import numpy as np\n",
    "import pandas as pd\n",
    "import seaborn as sns\n",
    "import matplotlib.pyplot as plt\n"
   ]
  },
  {
   "cell_type": "code",
   "execution_count": null,
   "metadata": {},
   "outputs": [],
   "source": []
  },
  {
   "cell_type": "code",
   "execution_count": 61,
   "metadata": {},
   "outputs": [
    {
     "data": {
      "text/html": [
       "<div>\n",
       "<style scoped>\n",
       "    .dataframe tbody tr th:only-of-type {\n",
       "        vertical-align: middle;\n",
       "    }\n",
       "\n",
       "    .dataframe tbody tr th {\n",
       "        vertical-align: top;\n",
       "    }\n",
       "\n",
       "    .dataframe thead th {\n",
       "        text-align: right;\n",
       "    }\n",
       "</style>\n",
       "<table border=\"1\" class=\"dataframe\">\n",
       "  <thead>\n",
       "    <tr style=\"text-align: right;\">\n",
       "      <th></th>\n",
       "      <th>Month</th>\n",
       "      <th>Enquiry Date</th>\n",
       "      <th>Enquiry Id</th>\n",
       "      <th>Allocation Status</th>\n",
       "      <th>Status</th>\n",
       "      <th>State</th>\n",
       "      <th>City</th>\n",
       "      <th>Pincode</th>\n",
       "      <th>Type of Project</th>\n",
       "      <th>No of Windows</th>\n",
       "      <th>...</th>\n",
       "      <th>Second Action-Call Status.1</th>\n",
       "      <th>Remarks</th>\n",
       "      <th>Price Per Sft</th>\n",
       "      <th>Benefits</th>\n",
       "      <th>Aesthetics</th>\n",
       "      <th>Reduce Street Noise</th>\n",
       "      <th>Low Maintenance</th>\n",
       "      <th>Monsoon Proof</th>\n",
       "      <th>Better Lighting</th>\n",
       "      <th>Reduce AC Energy Cost</th>\n",
       "    </tr>\n",
       "  </thead>\n",
       "  <tbody>\n",
       "    <tr>\n",
       "      <th>0</th>\n",
       "      <td>April'16</td>\n",
       "      <td>02-Apr-16</td>\n",
       "      <td>EC02041646800</td>\n",
       "      <td>Dealer</td>\n",
       "      <td>Won</td>\n",
       "      <td>TAMILNADU</td>\n",
       "      <td>CHENNAI</td>\n",
       "      <td>600008</td>\n",
       "      <td>Renovation</td>\n",
       "      <td>6 to 10</td>\n",
       "      <td>...</td>\n",
       "      <td>NaN</td>\n",
       "      <td>NaN</td>\n",
       "      <td>1105</td>\n",
       "      <td>Aesthetics &amp; Street Noise</td>\n",
       "      <td>1.0</td>\n",
       "      <td>1.0</td>\n",
       "      <td>0.0</td>\n",
       "      <td>0.0</td>\n",
       "      <td>0.0</td>\n",
       "      <td>0.0</td>\n",
       "    </tr>\n",
       "    <tr>\n",
       "      <th>1</th>\n",
       "      <td>April'16</td>\n",
       "      <td>08-Apr-16</td>\n",
       "      <td>EC08041647157</td>\n",
       "      <td>Dealer</td>\n",
       "      <td>Lost</td>\n",
       "      <td>TAMILNADU</td>\n",
       "      <td>CHENNAI</td>\n",
       "      <td>600042</td>\n",
       "      <td>New Construction</td>\n",
       "      <td>6 to 10</td>\n",
       "      <td>...</td>\n",
       "      <td>NaN</td>\n",
       "      <td>Price Issue</td>\n",
       "      <td>985</td>\n",
       "      <td>NaN</td>\n",
       "      <td>NaN</td>\n",
       "      <td>NaN</td>\n",
       "      <td>NaN</td>\n",
       "      <td>NaN</td>\n",
       "      <td>NaN</td>\n",
       "      <td>NaN</td>\n",
       "    </tr>\n",
       "    <tr>\n",
       "      <th>2</th>\n",
       "      <td>April'16</td>\n",
       "      <td>08-Apr-16</td>\n",
       "      <td>EC08041647130</td>\n",
       "      <td>Dealer</td>\n",
       "      <td>Lost</td>\n",
       "      <td>TAMILNADU</td>\n",
       "      <td>CHENNAI</td>\n",
       "      <td>600015</td>\n",
       "      <td>New Construction</td>\n",
       "      <td>1 to 5</td>\n",
       "      <td>...</td>\n",
       "      <td>NaN</td>\n",
       "      <td>Delivery Issue</td>\n",
       "      <td>918</td>\n",
       "      <td>NaN</td>\n",
       "      <td>NaN</td>\n",
       "      <td>NaN</td>\n",
       "      <td>NaN</td>\n",
       "      <td>NaN</td>\n",
       "      <td>NaN</td>\n",
       "      <td>NaN</td>\n",
       "    </tr>\n",
       "    <tr>\n",
       "      <th>3</th>\n",
       "      <td>April'16</td>\n",
       "      <td>09-Apr-16</td>\n",
       "      <td>EC09041647202</td>\n",
       "      <td>Direct</td>\n",
       "      <td>Lost</td>\n",
       "      <td>TAMILNADU</td>\n",
       "      <td>KANCHIPURAM</td>\n",
       "      <td>600075</td>\n",
       "      <td>New Construction</td>\n",
       "      <td>21 to 40</td>\n",
       "      <td>...</td>\n",
       "      <td>NaN</td>\n",
       "      <td>Price Issue</td>\n",
       "      <td>919</td>\n",
       "      <td>NaN</td>\n",
       "      <td>NaN</td>\n",
       "      <td>NaN</td>\n",
       "      <td>NaN</td>\n",
       "      <td>NaN</td>\n",
       "      <td>NaN</td>\n",
       "      <td>NaN</td>\n",
       "    </tr>\n",
       "    <tr>\n",
       "      <th>4</th>\n",
       "      <td>April'16</td>\n",
       "      <td>11-Apr-16</td>\n",
       "      <td>æEC11041647360</td>\n",
       "      <td>Direct</td>\n",
       "      <td>Won</td>\n",
       "      <td>TAMILNADU</td>\n",
       "      <td>CHENNAI</td>\n",
       "      <td>600041</td>\n",
       "      <td>Renovation</td>\n",
       "      <td>6 to 10</td>\n",
       "      <td>...</td>\n",
       "      <td>NaN</td>\n",
       "      <td>NaN</td>\n",
       "      <td>1350</td>\n",
       "      <td>Reduce AC Energy Cost</td>\n",
       "      <td>0.0</td>\n",
       "      <td>0.0</td>\n",
       "      <td>0.0</td>\n",
       "      <td>0.0</td>\n",
       "      <td>0.0</td>\n",
       "      <td>1.0</td>\n",
       "    </tr>\n",
       "  </tbody>\n",
       "</table>\n",
       "<p>5 rows × 40 columns</p>\n",
       "</div>"
      ],
      "text/plain": [
       "      Month Enquiry Date      Enquiry Id Allocation Status Status      State  \\\n",
       "0  April'16    02-Apr-16   EC02041646800            Dealer    Won  TAMILNADU   \n",
       "1  April'16    08-Apr-16   EC08041647157            Dealer   Lost  TAMILNADU   \n",
       "2  April'16    08-Apr-16   EC08041647130            Dealer   Lost  TAMILNADU   \n",
       "3  April'16    09-Apr-16   EC09041647202            Direct   Lost  TAMILNADU   \n",
       "4  April'16    11-Apr-16  æEC11041647360            Direct    Won  TAMILNADU   \n",
       "\n",
       "          City  Pincode   Type of Project No of Windows  ...  \\\n",
       "0      CHENNAI   600008        Renovation       6 to 10  ...   \n",
       "1      CHENNAI   600042  New Construction       6 to 10  ...   \n",
       "2      CHENNAI   600015  New Construction        1 to 5  ...   \n",
       "3  KANCHIPURAM   600075  New Construction      21 to 40  ...   \n",
       "4      CHENNAI   600041        Renovation       6 to 10  ...   \n",
       "\n",
       "  Second Action-Call Status.1         Remarks Price Per Sft  \\\n",
       "0                         NaN             NaN          1105   \n",
       "1                         NaN     Price Issue           985   \n",
       "2                         NaN  Delivery Issue           918   \n",
       "3                         NaN     Price Issue           919   \n",
       "4                         NaN             NaN          1350   \n",
       "\n",
       "                    Benefits Aesthetics Reduce Street Noise Low Maintenance  \\\n",
       "0  Aesthetics & Street Noise        1.0                 1.0             0.0   \n",
       "1                        NaN        NaN                 NaN             NaN   \n",
       "2                        NaN        NaN                 NaN             NaN   \n",
       "3                        NaN        NaN                 NaN             NaN   \n",
       "4      Reduce AC Energy Cost        0.0                 0.0             0.0   \n",
       "\n",
       "  Monsoon Proof Better Lighting Reduce AC Energy Cost  \n",
       "0           0.0             0.0                   0.0  \n",
       "1           NaN             NaN                   NaN  \n",
       "2           NaN             NaN                   NaN  \n",
       "3           NaN             NaN                   NaN  \n",
       "4           0.0             0.0                   1.0  \n",
       "\n",
       "[5 rows x 40 columns]"
      ]
     },
     "execution_count": 61,
     "metadata": {},
     "output_type": "execute_result"
    }
   ],
   "source": [
    "df=pd.read_csv(\"retail_data.csv\",encoding=\"ISO-8859-1\")\n",
    "df.head()\n"
   ]
  },
  {
   "cell_type": "code",
   "execution_count": 3,
   "metadata": {
    "scrolled": true
   },
   "outputs": [
    {
     "data": {
      "text/plain": [
       "Index(['Month', 'Enquiry Date', 'Enquiry Id', 'Allocation Status', 'Status',\n",
       "       'State', 'City', 'Pincode', 'Type of Project', 'No of Windows',\n",
       "       'Source', 'Zone', 'Dealer Name', 'First Action-Call made',\n",
       "       'Date DD/MM/YY', 'First Action-Call Status',\n",
       "       'Date of Appointment (DD/MM/YY)', 'Second Action-Customer Meeting',\n",
       "       'Date DD/MM/YY.1', 'Second Action-Call Status',\n",
       "       'Third Action-Quote Given', 'Date DD/MM/YY.2', 'Q Val. (Rs. Lac)',\n",
       "       'Quote QTY', ' Order Recd\\Lost ', 'Date DD/MM/YY.3',\n",
       "       'Order Val. (Rs. Lac)', 'Order QTY',\n",
       "       'Quote ID (as per match to CCC Records)',\n",
       "       ' Remarks-Brand and value if lost to UPVC ',\n",
       "       'Second Action-Call Status.1', 'Remarks', 'Price Per Sft', 'Benefits',\n",
       "       'Aesthetics', 'Reduce Street Noise', 'Low Maintenance', 'Monsoon Proof',\n",
       "       'Better Lighting', 'Reduce AC Energy Cost'],\n",
       "      dtype='object')"
      ]
     },
     "execution_count": 3,
     "metadata": {},
     "output_type": "execute_result"
    }
   ],
   "source": [
    "df.columns"
   ]
  },
  {
   "cell_type": "code",
   "execution_count": 4,
   "metadata": {
    "scrolled": true
   },
   "outputs": [
    {
     "name": "stdout",
     "output_type": "stream",
     "text": [
      "<class 'pandas.core.frame.DataFrame'>\n",
      "RangeIndex: 229 entries, 0 to 228\n",
      "Data columns (total 40 columns):\n",
      "Month                                        229 non-null object\n",
      "Enquiry Date                                 229 non-null object\n",
      "Enquiry Id                                   229 non-null object\n",
      "Allocation Status                            229 non-null object\n",
      "Status                                       229 non-null object\n",
      "State                                        229 non-null object\n",
      "City                                         229 non-null object\n",
      "Pincode                                      229 non-null int64\n",
      "Type of Project                              229 non-null object\n",
      "No of Windows                                229 non-null object\n",
      "Source                                       229 non-null object\n",
      "Zone                                         229 non-null object\n",
      "Dealer Name                                  229 non-null object\n",
      "First Action-Call made                       229 non-null object\n",
      "Date DD/MM/YY                                229 non-null object\n",
      "First Action-Call Status                     229 non-null object\n",
      "Date of Appointment (DD/MM/YY)               192 non-null object\n",
      "Second Action-Customer Meeting               192 non-null object\n",
      "Date DD/MM/YY.1                              192 non-null object\n",
      "Second Action-Call Status                    191 non-null object\n",
      "Third Action-Quote Given                     189 non-null object\n",
      "Date DD/MM/YY.2                              188 non-null object\n",
      "Q Val. (Rs. Lac)                             183 non-null float64\n",
      "Quote QTY                                    183 non-null object\n",
      " Order Recd\\Lost                             229 non-null object\n",
      "Date DD/MM/YY.3                              48 non-null object\n",
      "Order Val. (Rs. Lac)                         48 non-null float64\n",
      "Order QTY                                    48 non-null float64\n",
      "Quote ID (as per match to CCC Records)       116 non-null object\n",
      " Remarks-Brand and value if lost to UPVC     123 non-null object\n",
      "Second Action-Call Status.1                  0 non-null float64\n",
      "Remarks                                      171 non-null object\n",
      "Price Per Sft                                229 non-null int64\n",
      "Benefits                                     53 non-null object\n",
      "Aesthetics                                   37 non-null float64\n",
      "Reduce Street Noise                          37 non-null float64\n",
      "Low Maintenance                              37 non-null float64\n",
      "Monsoon Proof                                37 non-null float64\n",
      "Better Lighting                              37 non-null float64\n",
      "Reduce AC Energy Cost                        37 non-null float64\n",
      "dtypes: float64(10), int64(2), object(28)\n",
      "memory usage: 71.6+ KB\n"
     ]
    }
   ],
   "source": [
    "df.info()"
   ]
  },
  {
   "cell_type": "code",
   "execution_count": 5,
   "metadata": {},
   "outputs": [
    {
     "data": {
      "text/html": [
       "<div>\n",
       "<style scoped>\n",
       "    .dataframe tbody tr th:only-of-type {\n",
       "        vertical-align: middle;\n",
       "    }\n",
       "\n",
       "    .dataframe tbody tr th {\n",
       "        vertical-align: top;\n",
       "    }\n",
       "\n",
       "    .dataframe thead th {\n",
       "        text-align: right;\n",
       "    }\n",
       "</style>\n",
       "<table border=\"1\" class=\"dataframe\">\n",
       "  <thead>\n",
       "    <tr style=\"text-align: right;\">\n",
       "      <th></th>\n",
       "      <th>Pincode</th>\n",
       "      <th>Q Val. (Rs. Lac)</th>\n",
       "      <th>Order Val. (Rs. Lac)</th>\n",
       "      <th>Order QTY</th>\n",
       "      <th>Second Action-Call Status.1</th>\n",
       "      <th>Price Per Sft</th>\n",
       "      <th>Aesthetics</th>\n",
       "      <th>Reduce Street Noise</th>\n",
       "      <th>Low Maintenance</th>\n",
       "      <th>Monsoon Proof</th>\n",
       "      <th>Better Lighting</th>\n",
       "      <th>Reduce AC Energy Cost</th>\n",
       "    </tr>\n",
       "  </thead>\n",
       "  <tbody>\n",
       "    <tr>\n",
       "      <th>count</th>\n",
       "      <td>229.000000</td>\n",
       "      <td>183.000000</td>\n",
       "      <td>48.000000</td>\n",
       "      <td>48.000000</td>\n",
       "      <td>0.0</td>\n",
       "      <td>229.000000</td>\n",
       "      <td>37.000000</td>\n",
       "      <td>37.000000</td>\n",
       "      <td>37.000000</td>\n",
       "      <td>37.000000</td>\n",
       "      <td>37.000000</td>\n",
       "      <td>37.000000</td>\n",
       "    </tr>\n",
       "    <tr>\n",
       "      <th>mean</th>\n",
       "      <td>601742.572052</td>\n",
       "      <td>1.842459</td>\n",
       "      <td>1.874375</td>\n",
       "      <td>10.229167</td>\n",
       "      <td>NaN</td>\n",
       "      <td>1045.323144</td>\n",
       "      <td>0.243243</td>\n",
       "      <td>0.648649</td>\n",
       "      <td>0.486486</td>\n",
       "      <td>0.081081</td>\n",
       "      <td>0.027027</td>\n",
       "      <td>0.162162</td>\n",
       "    </tr>\n",
       "    <tr>\n",
       "      <th>std</th>\n",
       "      <td>6573.378113</td>\n",
       "      <td>2.595590</td>\n",
       "      <td>2.313372</td>\n",
       "      <td>14.925688</td>\n",
       "      <td>NaN</td>\n",
       "      <td>220.032076</td>\n",
       "      <td>0.434959</td>\n",
       "      <td>0.483978</td>\n",
       "      <td>0.506712</td>\n",
       "      <td>0.276725</td>\n",
       "      <td>0.164399</td>\n",
       "      <td>0.373684</td>\n",
       "    </tr>\n",
       "    <tr>\n",
       "      <th>min</th>\n",
       "      <td>600001.000000</td>\n",
       "      <td>0.010000</td>\n",
       "      <td>0.070000</td>\n",
       "      <td>1.000000</td>\n",
       "      <td>NaN</td>\n",
       "      <td>650.000000</td>\n",
       "      <td>0.000000</td>\n",
       "      <td>0.000000</td>\n",
       "      <td>0.000000</td>\n",
       "      <td>0.000000</td>\n",
       "      <td>0.000000</td>\n",
       "      <td>0.000000</td>\n",
       "    </tr>\n",
       "    <tr>\n",
       "      <th>25%</th>\n",
       "      <td>600033.000000</td>\n",
       "      <td>0.550000</td>\n",
       "      <td>0.530000</td>\n",
       "      <td>2.000000</td>\n",
       "      <td>NaN</td>\n",
       "      <td>921.000000</td>\n",
       "      <td>0.000000</td>\n",
       "      <td>0.000000</td>\n",
       "      <td>0.000000</td>\n",
       "      <td>0.000000</td>\n",
       "      <td>0.000000</td>\n",
       "      <td>0.000000</td>\n",
       "    </tr>\n",
       "    <tr>\n",
       "      <th>50%</th>\n",
       "      <td>600059.000000</td>\n",
       "      <td>1.070000</td>\n",
       "      <td>1.150000</td>\n",
       "      <td>6.000000</td>\n",
       "      <td>NaN</td>\n",
       "      <td>1030.000000</td>\n",
       "      <td>0.000000</td>\n",
       "      <td>1.000000</td>\n",
       "      <td>0.000000</td>\n",
       "      <td>0.000000</td>\n",
       "      <td>0.000000</td>\n",
       "      <td>0.000000</td>\n",
       "    </tr>\n",
       "    <tr>\n",
       "      <th>75%</th>\n",
       "      <td>600099.000000</td>\n",
       "      <td>2.000000</td>\n",
       "      <td>1.622500</td>\n",
       "      <td>10.500000</td>\n",
       "      <td>NaN</td>\n",
       "      <td>1129.000000</td>\n",
       "      <td>0.000000</td>\n",
       "      <td>1.000000</td>\n",
       "      <td>1.000000</td>\n",
       "      <td>0.000000</td>\n",
       "      <td>0.000000</td>\n",
       "      <td>0.000000</td>\n",
       "    </tr>\n",
       "    <tr>\n",
       "      <th>max</th>\n",
       "      <td>635810.000000</td>\n",
       "      <td>25.000000</td>\n",
       "      <td>10.950000</td>\n",
       "      <td>73.000000</td>\n",
       "      <td>NaN</td>\n",
       "      <td>3121.000000</td>\n",
       "      <td>1.000000</td>\n",
       "      <td>1.000000</td>\n",
       "      <td>1.000000</td>\n",
       "      <td>1.000000</td>\n",
       "      <td>1.000000</td>\n",
       "      <td>1.000000</td>\n",
       "    </tr>\n",
       "  </tbody>\n",
       "</table>\n",
       "</div>"
      ],
      "text/plain": [
       "             Pincode  Q Val. (Rs. Lac)  Order Val. (Rs. Lac)  Order QTY  \\\n",
       "count     229.000000        183.000000             48.000000  48.000000   \n",
       "mean   601742.572052          1.842459              1.874375  10.229167   \n",
       "std      6573.378113          2.595590              2.313372  14.925688   \n",
       "min    600001.000000          0.010000              0.070000   1.000000   \n",
       "25%    600033.000000          0.550000              0.530000   2.000000   \n",
       "50%    600059.000000          1.070000              1.150000   6.000000   \n",
       "75%    600099.000000          2.000000              1.622500  10.500000   \n",
       "max    635810.000000         25.000000             10.950000  73.000000   \n",
       "\n",
       "       Second Action-Call Status.1  Price Per Sft  Aesthetics  \\\n",
       "count                          0.0     229.000000   37.000000   \n",
       "mean                           NaN    1045.323144    0.243243   \n",
       "std                            NaN     220.032076    0.434959   \n",
       "min                            NaN     650.000000    0.000000   \n",
       "25%                            NaN     921.000000    0.000000   \n",
       "50%                            NaN    1030.000000    0.000000   \n",
       "75%                            NaN    1129.000000    0.000000   \n",
       "max                            NaN    3121.000000    1.000000   \n",
       "\n",
       "       Reduce Street Noise  Low Maintenance  Monsoon Proof  Better Lighting  \\\n",
       "count            37.000000        37.000000      37.000000        37.000000   \n",
       "mean              0.648649         0.486486       0.081081         0.027027   \n",
       "std               0.483978         0.506712       0.276725         0.164399   \n",
       "min               0.000000         0.000000       0.000000         0.000000   \n",
       "25%               0.000000         0.000000       0.000000         0.000000   \n",
       "50%               1.000000         0.000000       0.000000         0.000000   \n",
       "75%               1.000000         1.000000       0.000000         0.000000   \n",
       "max               1.000000         1.000000       1.000000         1.000000   \n",
       "\n",
       "       Reduce AC Energy Cost  \n",
       "count              37.000000  \n",
       "mean                0.162162  \n",
       "std                 0.373684  \n",
       "min                 0.000000  \n",
       "25%                 0.000000  \n",
       "50%                 0.000000  \n",
       "75%                 0.000000  \n",
       "max                 1.000000  "
      ]
     },
     "execution_count": 5,
     "metadata": {},
     "output_type": "execute_result"
    }
   ],
   "source": [
    "df.describe()"
   ]
  },
  {
   "cell_type": "code",
   "execution_count": 15,
   "metadata": {},
   "outputs": [
    {
     "data": {
      "text/plain": [
       "CHENNAI           146\n",
       "KANCHIPURAM        44\n",
       "THIRUVALLUR        24\n",
       "VELLORE             6\n",
       "KRISHNAGIRI         3\n",
       "TIRUVANNAMALAI      2\n",
       "VILLUPURAM          2\n",
       "PONDICHERRY         1\n",
       "CUDDALORE           1\n",
       "Name: City, dtype: int64"
      ]
     },
     "execution_count": 15,
     "metadata": {},
     "output_type": "execute_result"
    }
   ],
   "source": [
    "df.City.value_counts()"
   ]
  },
  {
   "cell_type": "code",
   "execution_count": 153,
   "metadata": {},
   "outputs": [
    {
     "data": {
      "text/html": [
       "<div>\n",
       "<style scoped>\n",
       "    .dataframe tbody tr th:only-of-type {\n",
       "        vertical-align: middle;\n",
       "    }\n",
       "\n",
       "    .dataframe tbody tr th {\n",
       "        vertical-align: top;\n",
       "    }\n",
       "\n",
       "    .dataframe thead th {\n",
       "        text-align: right;\n",
       "    }\n",
       "</style>\n",
       "<table border=\"1\" class=\"dataframe\">\n",
       "  <thead>\n",
       "    <tr style=\"text-align: right;\">\n",
       "      <th></th>\n",
       "      <th>Month</th>\n",
       "      <th>Enquiry Date</th>\n",
       "      <th>Enquiry Id</th>\n",
       "      <th>Allocation Status</th>\n",
       "      <th>Status</th>\n",
       "      <th>State</th>\n",
       "      <th>City</th>\n",
       "      <th>Pincode</th>\n",
       "      <th>Type of Project</th>\n",
       "      <th>No of Windows</th>\n",
       "      <th>...</th>\n",
       "      <th>Quote QTY</th>\n",
       "      <th>Order Recd\\Lost</th>\n",
       "      <th>Date DD/MM/YY.3</th>\n",
       "      <th>Order Val. (Rs. Lac)</th>\n",
       "      <th>Order QTY</th>\n",
       "      <th>Quote ID (as per match to CCC Records)</th>\n",
       "      <th>Remarks-Brand and value if lost to UPVC</th>\n",
       "      <th>Remarks</th>\n",
       "      <th>Price Per Sft</th>\n",
       "      <th>Benefits</th>\n",
       "    </tr>\n",
       "  </thead>\n",
       "  <tbody>\n",
       "    <tr>\n",
       "      <th>0</th>\n",
       "      <td>April'16</td>\n",
       "      <td>02-Apr-16</td>\n",
       "      <td>EC02041646800</td>\n",
       "      <td>Dealer</td>\n",
       "      <td>Won</td>\n",
       "      <td>TAMILNADU</td>\n",
       "      <td>CHENNAI</td>\n",
       "      <td>600008</td>\n",
       "      <td>Renovation</td>\n",
       "      <td>6 to 10</td>\n",
       "      <td>...</td>\n",
       "      <td>3</td>\n",
       "      <td>Order Received</td>\n",
       "      <td>19-Aug-16</td>\n",
       "      <td>0.54</td>\n",
       "      <td>3.0</td>\n",
       "      <td>SPN58634</td>\n",
       "      <td>won</td>\n",
       "      <td>NaN</td>\n",
       "      <td>1105</td>\n",
       "      <td>Aesthetics &amp; Street Noise</td>\n",
       "    </tr>\n",
       "    <tr>\n",
       "      <th>1</th>\n",
       "      <td>April'16</td>\n",
       "      <td>08-Apr-16</td>\n",
       "      <td>EC08041647157</td>\n",
       "      <td>Dealer</td>\n",
       "      <td>Lost</td>\n",
       "      <td>TAMILNADU</td>\n",
       "      <td>CHENNAI</td>\n",
       "      <td>600042</td>\n",
       "      <td>New Construction</td>\n",
       "      <td>6 to 10</td>\n",
       "      <td>...</td>\n",
       "      <td>NaN</td>\n",
       "      <td>Lost to Aluminum</td>\n",
       "      <td>NaN</td>\n",
       "      <td>NaN</td>\n",
       "      <td>NaN</td>\n",
       "      <td>NaN</td>\n",
       "      <td>Budget constraint</td>\n",
       "      <td>Price Issue</td>\n",
       "      <td>985</td>\n",
       "      <td>NaN</td>\n",
       "    </tr>\n",
       "    <tr>\n",
       "      <th>2</th>\n",
       "      <td>April'16</td>\n",
       "      <td>08-Apr-16</td>\n",
       "      <td>EC08041647130</td>\n",
       "      <td>Dealer</td>\n",
       "      <td>Lost</td>\n",
       "      <td>TAMILNADU</td>\n",
       "      <td>CHENNAI</td>\n",
       "      <td>600015</td>\n",
       "      <td>New Construction</td>\n",
       "      <td>1 to 5</td>\n",
       "      <td>...</td>\n",
       "      <td>42</td>\n",
       "      <td>Delivery Time Not Possible</td>\n",
       "      <td>NaN</td>\n",
       "      <td>NaN</td>\n",
       "      <td>NaN</td>\n",
       "      <td>NaN</td>\n",
       "      <td>follow up</td>\n",
       "      <td>Delivery Issue</td>\n",
       "      <td>918</td>\n",
       "      <td>NaN</td>\n",
       "    </tr>\n",
       "    <tr>\n",
       "      <th>3</th>\n",
       "      <td>April'16</td>\n",
       "      <td>09-Apr-16</td>\n",
       "      <td>EC09041647202</td>\n",
       "      <td>Direct</td>\n",
       "      <td>Lost</td>\n",
       "      <td>TAMILNADU</td>\n",
       "      <td>KANCHIPURAM</td>\n",
       "      <td>600075</td>\n",
       "      <td>New Construction</td>\n",
       "      <td>21 to 40</td>\n",
       "      <td>...</td>\n",
       "      <td>9</td>\n",
       "      <td>Lost to Aluminum</td>\n",
       "      <td>NaN</td>\n",
       "      <td>NaN</td>\n",
       "      <td>NaN</td>\n",
       "      <td>no response</td>\n",
       "      <td>NaN</td>\n",
       "      <td>Price Issue</td>\n",
       "      <td>919</td>\n",
       "      <td>NaN</td>\n",
       "    </tr>\n",
       "    <tr>\n",
       "      <th>4</th>\n",
       "      <td>April'16</td>\n",
       "      <td>11-Apr-16</td>\n",
       "      <td>æEC11041647360</td>\n",
       "      <td>Direct</td>\n",
       "      <td>Won</td>\n",
       "      <td>TAMILNADU</td>\n",
       "      <td>CHENNAI</td>\n",
       "      <td>600041</td>\n",
       "      <td>Renovation</td>\n",
       "      <td>6 to 10</td>\n",
       "      <td>...</td>\n",
       "      <td>8</td>\n",
       "      <td>Order Received</td>\n",
       "      <td>21-May-16</td>\n",
       "      <td>1.63</td>\n",
       "      <td>8.0</td>\n",
       "      <td>SPN43642</td>\n",
       "      <td>follow up</td>\n",
       "      <td>NaN</td>\n",
       "      <td>1350</td>\n",
       "      <td>Reduce AC Energy Cost</td>\n",
       "    </tr>\n",
       "  </tbody>\n",
       "</table>\n",
       "<p>5 rows × 33 columns</p>\n",
       "</div>"
      ],
      "text/plain": [
       "      Month Enquiry Date      Enquiry Id Allocation Status Status      State  \\\n",
       "0  April'16    02-Apr-16   EC02041646800            Dealer    Won  TAMILNADU   \n",
       "1  April'16    08-Apr-16   EC08041647157            Dealer   Lost  TAMILNADU   \n",
       "2  April'16    08-Apr-16   EC08041647130            Dealer   Lost  TAMILNADU   \n",
       "3  April'16    09-Apr-16   EC09041647202            Direct   Lost  TAMILNADU   \n",
       "4  April'16    11-Apr-16  æEC11041647360            Direct    Won  TAMILNADU   \n",
       "\n",
       "          City  Pincode   Type of Project No of Windows  ... Quote QTY  \\\n",
       "0      CHENNAI   600008        Renovation       6 to 10  ...         3   \n",
       "1      CHENNAI   600042  New Construction       6 to 10  ...       NaN   \n",
       "2      CHENNAI   600015  New Construction        1 to 5  ...        42   \n",
       "3  KANCHIPURAM   600075  New Construction      21 to 40  ...         9   \n",
       "4      CHENNAI   600041        Renovation       6 to 10  ...         8   \n",
       "\n",
       "             Order Recd\\Lost  Date DD/MM/YY.3 Order Val. (Rs. Lac) Order QTY  \\\n",
       "0              Order Received       19-Aug-16                 0.54       3.0   \n",
       "1            Lost to Aluminum             NaN                  NaN       NaN   \n",
       "2  Delivery Time Not Possible             NaN                  NaN       NaN   \n",
       "3            Lost to Aluminum             NaN                  NaN       NaN   \n",
       "4              Order Received       21-May-16                 1.63       8.0   \n",
       "\n",
       "  Quote ID (as per match to CCC Records)  \\\n",
       "0                               SPN58634   \n",
       "1                                    NaN   \n",
       "2                                    NaN   \n",
       "3                            no response   \n",
       "4                               SPN43642   \n",
       "\n",
       "   Remarks-Brand and value if lost to UPVC          Remarks Price Per Sft  \\\n",
       "0                                       won             NaN          1105   \n",
       "1                         Budget constraint     Price Issue           985   \n",
       "2                                 follow up  Delivery Issue           918   \n",
       "3                                       NaN     Price Issue           919   \n",
       "4                                 follow up             NaN          1350   \n",
       "\n",
       "                    Benefits  \n",
       "0  Aesthetics & Street Noise  \n",
       "1                        NaN  \n",
       "2                        NaN  \n",
       "3                        NaN  \n",
       "4      Reduce AC Energy Cost  \n",
       "\n",
       "[5 rows x 33 columns]"
      ]
     },
     "execution_count": 153,
     "metadata": {},
     "output_type": "execute_result"
    }
   ],
   "source": [
    "df1=df.drop(columns=[\"Aesthetics\",\"Reduce Street Noise\",\"Reduce Street Noise\",\n",
    "                     \"Low Maintenance\",\"Monsoon Proof\",\"Better Lighting\",\"Reduce AC Energy Cost\",\n",
    "                     \"Second Action-Call Status.1\"])\n",
    "df1.head()"
   ]
  },
  {
   "cell_type": "code",
   "execution_count": 154,
   "metadata": {},
   "outputs": [],
   "source": [
    "df1[\"Status\"].fillna(0,inplace=True)"
   ]
  },
  {
   "cell_type": "code",
   "execution_count": 155,
   "metadata": {},
   "outputs": [
    {
     "name": "stdout",
     "output_type": "stream",
     "text": [
      "<class 'pandas.core.frame.DataFrame'>\n",
      "RangeIndex: 229 entries, 0 to 228\n",
      "Data columns (total 33 columns):\n",
      "Month                                        229 non-null object\n",
      "Enquiry Date                                 229 non-null object\n",
      "Enquiry Id                                   229 non-null object\n",
      "Allocation Status                            229 non-null object\n",
      "Status                                       229 non-null object\n",
      "State                                        229 non-null object\n",
      "City                                         229 non-null object\n",
      "Pincode                                      229 non-null int64\n",
      "Type of Project                              229 non-null object\n",
      "No of Windows                                229 non-null object\n",
      "Source                                       229 non-null object\n",
      "Zone                                         229 non-null object\n",
      "Dealer Name                                  229 non-null object\n",
      "First Action-Call made                       229 non-null object\n",
      "Date DD/MM/YY                                229 non-null object\n",
      "First Action-Call Status                     229 non-null object\n",
      "Date of Appointment (DD/MM/YY)               192 non-null object\n",
      "Second Action-Customer Meeting               192 non-null object\n",
      "Date DD/MM/YY.1                              192 non-null object\n",
      "Second Action-Call Status                    191 non-null object\n",
      "Third Action-Quote Given                     189 non-null object\n",
      "Date DD/MM/YY.2                              188 non-null object\n",
      "Q Val. (Rs. Lac)                             183 non-null float64\n",
      "Quote QTY                                    183 non-null object\n",
      " Order Recd\\Lost                             229 non-null object\n",
      "Date DD/MM/YY.3                              48 non-null object\n",
      "Order Val. (Rs. Lac)                         48 non-null float64\n",
      "Order QTY                                    48 non-null float64\n",
      "Quote ID (as per match to CCC Records)       116 non-null object\n",
      " Remarks-Brand and value if lost to UPVC     123 non-null object\n",
      "Remarks                                      171 non-null object\n",
      "Price Per Sft                                229 non-null int64\n",
      "Benefits                                     53 non-null object\n",
      "dtypes: float64(3), int64(2), object(28)\n",
      "memory usage: 59.1+ KB\n"
     ]
    }
   ],
   "source": [
    "df1.info()"
   ]
  },
  {
   "cell_type": "code",
   "execution_count": 156,
   "metadata": {},
   "outputs": [
    {
     "data": {
      "text/plain": [
       "Direct        63\n",
       "Windoors      45\n",
       "Sunbird       36\n",
       "Winfratech    20\n",
       "OXXO          20\n",
       "Rajtechnis    15\n",
       "ITP           14\n",
       "Pearlson       9\n",
       "pearlson       7\n",
       "Name: Dealer Name, dtype: int64"
      ]
     },
     "execution_count": 156,
     "metadata": {},
     "output_type": "execute_result"
    }
   ],
   "source": [
    "df1[\"Dealer Name\"].value_counts()"
   ]
  },
  {
   "cell_type": "code",
   "execution_count": 159,
   "metadata": {},
   "outputs": [
    {
     "data": {
      "text/plain": [
       "Lost    176\n",
       "Won      53\n",
       "Name: Status, dtype: int64"
      ]
     },
     "execution_count": 159,
     "metadata": {},
     "output_type": "execute_result"
    }
   ],
   "source": [
    "df1[\"Status\"].value_counts()"
   ]
  },
  {
   "cell_type": "code",
   "execution_count": 160,
   "metadata": {},
   "outputs": [
    {
     "data": {
      "text/plain": [
       "<pandas.core.groupby.generic.DataFrameGroupBy object at 0x1a1ceba128>"
      ]
     },
     "execution_count": 160,
     "metadata": {},
     "output_type": "execute_result"
    }
   ],
   "source": [
    "df1.groupby([\"Status\",\"Dealer Name\"])"
   ]
  },
  {
   "cell_type": "code",
   "execution_count": 161,
   "metadata": {},
   "outputs": [
    {
     "data": {
      "text/plain": [
       "(229, 33)"
      ]
     },
     "execution_count": 161,
     "metadata": {},
     "output_type": "execute_result"
    }
   ],
   "source": [
    "df1.shape"
   ]
  },
  {
   "cell_type": "code",
   "execution_count": 162,
   "metadata": {},
   "outputs": [
    {
     "data": {
      "text/plain": [
       "Text(0.5, 0, 'Enquiries in the months')"
      ]
     },
     "execution_count": 162,
     "metadata": {},
     "output_type": "execute_result"
    },
    {
     "data": {
      "image/png": "[encoded data removed]",
      "text/plain": [
       "<Figure size 432x288 with 1 Axes>"
      ]
     },
     "metadata": {
      "needs_background": "light"
     },
     "output_type": "display_data"
    }
   ],
   "source": [
    "#Inquiries per month\n",
    "\n",
    "df1.Month.value_counts().plot(kind=\"bar\")\n",
    "plt.title(\"Enquiry Dates over the year 2016\")\n",
    "plt.ylabel(\"Count\")\n",
    "plt.xlabel(\"Enquiries in the months\")"
   ]
  },
  {
   "cell_type": "code",
   "execution_count": 34,
   "metadata": {},
   "outputs": [],
   "source": [
    "#Maximum inquiries happened in the month of July."
   ]
  },
  {
   "cell_type": "code",
   "execution_count": 163,
   "metadata": {},
   "outputs": [
    {
     "data": {
      "text/plain": [
       "Text(0.5, 1.0, 'Business Type')"
      ]
     },
     "execution_count": 163,
     "metadata": {},
     "output_type": "execute_result"
    },
    {
     "data": {
      "image/png": "[encoded data removed]",
      "text/plain": [
       "<Figure size 432x288 with 1 Axes>"
      ]
     },
     "metadata": {},
     "output_type": "display_data"
    }
   ],
   "source": [
    "df1[\"Allocation Status\"].value_counts().plot(kind=\"pie\")\n",
    "\n",
    "plt.title(\"Business Type\")"
   ]
  },
  {
   "cell_type": "code",
   "execution_count": 36,
   "metadata": {},
   "outputs": [],
   "source": [
    "# max inquiries are handled by dealers than direct business."
   ]
  },
  {
   "cell_type": "code",
   "execution_count": 164,
   "metadata": {},
   "outputs": [
    {
     "data": {
      "text/plain": [
       "Text(0.5, 0, 'Lost vs Won')"
      ]
     },
     "execution_count": 164,
     "metadata": {},
     "output_type": "execute_result"
    },
    {
     "data": {
      "image/png": "[encoded data removed]",
      "text/plain": [
       "<Figure size 432x288 with 1 Axes>"
      ]
     },
     "metadata": {
      "needs_background": "light"
     },
     "output_type": "display_data"
    }
   ],
   "source": [
    "df1.Status.value_counts().plot(kind=\"bar\")\n",
    "plt.title(\"Enquiries Status\")\n",
    "plt.ylabel(\"Count\")\n",
    "plt.xlabel(\"Lost vs Won\")"
   ]
  },
  {
   "cell_type": "code",
   "execution_count": 38,
   "metadata": {},
   "outputs": [],
   "source": [
    "#Mostly  orders are lost as shown above."
   ]
  },
  {
   "cell_type": "code",
   "execution_count": 165,
   "metadata": {},
   "outputs": [
    {
     "data": {
      "text/plain": [
       "Text(0, 0.5, 'Count')"
      ]
     },
     "execution_count": 165,
     "metadata": {},
     "output_type": "execute_result"
    },
    {
     "data": {
      "image/png": "[encoded data removed]",
      "text/plain": [
       "<Figure size 432x288 with 1 Axes>"
      ]
     },
     "metadata": {
      "needs_background": "light"
     },
     "output_type": "display_data"
    }
   ],
   "source": [
    "#City wise counts:\n",
    "\n",
    "df1.City.value_counts().plot(kind=\"bar\")\n",
    "plt.xlabel(\"City\")\n",
    "plt.ylabel(\"Count\")"
   ]
  },
  {
   "cell_type": "code",
   "execution_count": 40,
   "metadata": {},
   "outputs": [],
   "source": [
    "#max no of inquiries are done in chennai and least in cuddalore.\n",
    "#chennai and kanchipuram are major businees focus areas."
   ]
  },
  {
   "cell_type": "code",
   "execution_count": 166,
   "metadata": {},
   "outputs": [
    {
     "data": {
      "text/plain": [
       "Renovation          142\n",
       "New Construction     87\n",
       "Name: Type of Project, dtype: int64"
      ]
     },
     "execution_count": 166,
     "metadata": {},
     "output_type": "execute_result"
    }
   ],
   "source": [
    "#Type of project:\n",
    "\n",
    "df1[\"Type of Project\"].value_counts()"
   ]
  },
  {
   "cell_type": "code",
   "execution_count": 167,
   "metadata": {},
   "outputs": [
    {
     "data": {
      "text/plain": [
       "<matplotlib.axes._subplots.AxesSubplot at 0x1a1d34e588>"
      ]
     },
     "execution_count": 167,
     "metadata": {},
     "output_type": "execute_result"
    },
    {
     "data": {
      "image/png": "[encoded data removed]",
      "text/plain": [
       "<Figure size 432x288 with 1 Axes>"
      ]
     },
     "metadata": {},
     "output_type": "display_data"
    }
   ],
   "source": [
    "df1[\"Type of Project\"].value_counts().plot(kind=\"pie\")\n",
    "\n"
   ]
  },
  {
   "cell_type": "code",
   "execution_count": 168,
   "metadata": {},
   "outputs": [
    {
     "data": {
      "text/plain": [
       "Internet               124\n",
       "Friends or Family       98\n",
       "Just dial                6\n",
       "Current User             1\n",
       "Name: Source, dtype: int64"
      ]
     },
     "execution_count": 168,
     "metadata": {},
     "output_type": "execute_result"
    }
   ],
   "source": [
    "# Source type:\n",
    "df1[\"Source\"].value_counts()"
   ]
  },
  {
   "cell_type": "code",
   "execution_count": 169,
   "metadata": {},
   "outputs": [
    {
     "data": {
      "text/plain": [
       "<matplotlib.axes._subplots.AxesSubplot at 0x1a1d42aa58>"
      ]
     },
     "execution_count": 169,
     "metadata": {},
     "output_type": "execute_result"
    },
    {
     "data": {
      "image/png": "[encoded data removed]",
      "text/plain": [
       "<Figure size 432x288 with 1 Axes>"
      ]
     },
     "metadata": {
      "needs_background": "light"
     },
     "output_type": "display_data"
    }
   ],
   "source": [
    "df1[\"Source\"].value_counts().plot(kind=\"bar\")"
   ]
  },
  {
   "cell_type": "code",
   "execution_count": null,
   "metadata": {},
   "outputs": [],
   "source": [
    "#Through Internet and friends or family,sources were reliable.\n"
   ]
  },
  {
   "cell_type": "code",
   "execution_count": 170,
   "metadata": {},
   "outputs": [
    {
     "data": {
      "text/plain": [
       "Direct        63\n",
       "Windoors      45\n",
       "Sunbird       36\n",
       "Winfratech    20\n",
       "OXXO          20\n",
       "Rajtechnis    15\n",
       "ITP           14\n",
       "Pearlson       9\n",
       "pearlson       7\n",
       "Name: Dealer Name, dtype: int64"
      ]
     },
     "execution_count": 170,
     "metadata": {},
     "output_type": "execute_result"
    }
   ],
   "source": [
    "df1[\"Dealer Name\"].value_counts()"
   ]
  },
  {
   "cell_type": "code",
   "execution_count": 171,
   "metadata": {},
   "outputs": [
    {
     "data": {
      "text/plain": [
       "<matplotlib.axes._subplots.AxesSubplot at 0x1a1d4d94a8>"
      ]
     },
     "execution_count": 171,
     "metadata": {},
     "output_type": "execute_result"
    },
    {
     "data": {
      "image/png": "[encoded data removed]",
      "text/plain": [
       "<Figure size 432x288 with 1 Axes>"
      ]
     },
     "metadata": {
      "needs_background": "light"
     },
     "output_type": "display_data"
    }
   ],
   "source": [
    "df1[\"Dealer Name\"].value_counts().plot(kind=\"bar\")\n",
    "\n",
    "#Direct inquiries were most. \n",
    "#bASED ON IQUIRY COUNT, TOP 3 DEALERS WERE windoors,sunbird,OXXO."
   ]
  },
  {
   "cell_type": "code",
   "execution_count": 172,
   "metadata": {},
   "outputs": [
    {
     "data": {
      "text/plain": [
       "Status  Dealer Name\n",
       "Lost    Windoors       39\n",
       "        Direct         38\n",
       "        Sunbird        25\n",
       "        Winfratech     18\n",
       "        OXXO           16\n",
       "        ITP            14\n",
       "        Rajtechnis     14\n",
       "        Pearlson        8\n",
       "        pearlson        4\n",
       "Won     Direct         25\n",
       "        Sunbird        11\n",
       "        Windoors        6\n",
       "        OXXO            4\n",
       "        pearlson        3\n",
       "        Winfratech      2\n",
       "        Pearlson        1\n",
       "        Rajtechnis      1\n",
       "Name: Dealer Name, dtype: int64"
      ]
     },
     "execution_count": 172,
     "metadata": {},
     "output_type": "execute_result"
    }
   ],
   "source": [
    "df1[\"Dealer Name\"].groupby(df1[\"Status\"]).value_counts()"
   ]
  },
  {
   "cell_type": "code",
   "execution_count": 173,
   "metadata": {},
   "outputs": [
    {
     "data": {
      "text/plain": [
       "Appointment Fixed                192\n",
       "Budget Constraint                 25\n",
       "Design not Feasible                6\n",
       "No Requirement-Awareness Call      5\n",
       "Time Frame Not Possible            1\n",
       "Name: First Action-Call Status, dtype: int64"
      ]
     },
     "execution_count": 173,
     "metadata": {},
     "output_type": "execute_result"
    }
   ],
   "source": [
    "#Visualize through 1st time enquiry count:\n",
    "\n",
    "df1[\"First Action-Call Status\"].value_counts()"
   ]
  },
  {
   "cell_type": "code",
   "execution_count": 174,
   "metadata": {},
   "outputs": [
    {
     "data": {
      "text/plain": [
       "<matplotlib.axes._subplots.AxesSubplot at 0x1a1d5e65f8>"
      ]
     },
     "execution_count": 174,
     "metadata": {},
     "output_type": "execute_result"
    },
    {
     "data": {
      "image/png": "[encoded data removed]",
      "text/plain": [
       "<Figure size 432x288 with 1 Axes>"
      ]
     },
     "metadata": {
      "needs_background": "light"
     },
     "output_type": "display_data"
    }
   ],
   "source": [
    "df1[\"First Action-Call Status\"].value_counts().plot(kind=\"bar\")"
   ]
  },
  {
   "cell_type": "code",
   "execution_count": 175,
   "metadata": {},
   "outputs": [
    {
     "data": {
      "text/plain": [
       "Quote to Be Submitted       189\n",
       "Design not Feasible           1\n",
       "Further Meeting Required      1\n",
       "Name: Second Action-Call Status, dtype: int64"
      ]
     },
     "execution_count": 175,
     "metadata": {},
     "output_type": "execute_result"
    },
    {
     "data": {
      "image/png": "[encoded data removed]",
      "text/plain": [
       "<Figure size 432x288 with 1 Axes>"
      ]
     },
     "metadata": {
      "needs_background": "light"
     },
     "output_type": "display_data"
    }
   ],
   "source": [
    "df1[\"Second Action-Call Status\"].value_counts().plot(kind=\"bar\")\n",
    "df1[\"Second Action-Call Status\"].value_counts()"
   ]
  },
  {
   "cell_type": "code",
   "execution_count": 60,
   "metadata": {},
   "outputs": [],
   "source": [
    "#189 quotes submitted in 2nd call."
   ]
  },
  {
   "cell_type": "code",
   "execution_count": 176,
   "metadata": {},
   "outputs": [
    {
     "data": {
      "text/plain": [
       "Text(0.5, 1.0, 'Third discussion status')"
      ]
     },
     "execution_count": 176,
     "metadata": {},
     "output_type": "execute_result"
    },
    {
     "data": {
      "image/png": "[encoded data removed]",
      "text/plain": [
       "<Figure size 432x288 with 1 Axes>"
      ]
     },
     "metadata": {
      "needs_background": "light"
     },
     "output_type": "display_data"
    }
   ],
   "source": [
    "#crosstab:\n",
    "\n",
    "pd.crosstab(df1[\"Third Action-Quote Given\"].count(),df1.Status).plot(kind=\"bar\")\n",
    "plt.ylabel(\"Counts\")\n",
    "plt.xlabel(\"Orders received/lost\")\n",
    "plt.title(\"Third discussion status\")"
   ]
  },
  {
   "cell_type": "code",
   "execution_count": 177,
   "metadata": {},
   "outputs": [
    {
     "data": {
      "text/html": [
       "<div>\n",
       "<style scoped>\n",
       "    .dataframe tbody tr th:only-of-type {\n",
       "        vertical-align: middle;\n",
       "    }\n",
       "\n",
       "    .dataframe tbody tr th {\n",
       "        vertical-align: top;\n",
       "    }\n",
       "\n",
       "    .dataframe thead th {\n",
       "        text-align: right;\n",
       "    }\n",
       "</style>\n",
       "<table border=\"1\" class=\"dataframe\">\n",
       "  <thead>\n",
       "    <tr style=\"text-align: right;\">\n",
       "      <th>Status</th>\n",
       "      <th>Lost</th>\n",
       "      <th>Won</th>\n",
       "    </tr>\n",
       "    <tr>\n",
       "      <th>row_0</th>\n",
       "      <th></th>\n",
       "      <th></th>\n",
       "    </tr>\n",
       "  </thead>\n",
       "  <tbody>\n",
       "    <tr>\n",
       "      <th>189</th>\n",
       "      <td>176</td>\n",
       "      <td>53</td>\n",
       "    </tr>\n",
       "  </tbody>\n",
       "</table>\n",
       "</div>"
      ],
      "text/plain": [
       "Status  Lost  Won\n",
       "row_0            \n",
       "189      176   53"
      ]
     },
     "execution_count": 177,
     "metadata": {},
     "output_type": "execute_result"
    }
   ],
   "source": [
    "pd.crosstab(df1[\"Third Action-Quote Given\"].count(),df1.Status)"
   ]
  },
  {
   "cell_type": "code",
   "execution_count": 178,
   "metadata": {},
   "outputs": [],
   "source": [
    "df1[\"Third Action-Quote Given\"].fillna(\"Others\",inplace=True)"
   ]
  },
  {
   "cell_type": "code",
   "execution_count": 14,
   "metadata": {},
   "outputs": [
    {
     "data": {
      "text/html": [
       "<div>\n",
       "<style scoped>\n",
       "    .dataframe tbody tr th:only-of-type {\n",
       "        vertical-align: middle;\n",
       "    }\n",
       "\n",
       "    .dataframe tbody tr th {\n",
       "        vertical-align: top;\n",
       "    }\n",
       "\n",
       "    .dataframe thead th {\n",
       "        text-align: right;\n",
       "    }\n",
       "</style>\n",
       "<table border=\"1\" class=\"dataframe\">\n",
       "  <thead>\n",
       "    <tr style=\"text-align: right;\">\n",
       "      <th>Status</th>\n",
       "      <th>Lost</th>\n",
       "      <th>Won</th>\n",
       "    </tr>\n",
       "    <tr>\n",
       "      <th>row_0</th>\n",
       "      <th></th>\n",
       "      <th></th>\n",
       "    </tr>\n",
       "  </thead>\n",
       "  <tbody>\n",
       "    <tr>\n",
       "      <th>229</th>\n",
       "      <td>176</td>\n",
       "      <td>53</td>\n",
       "    </tr>\n",
       "  </tbody>\n",
       "</table>\n",
       "</div>"
      ],
      "text/plain": [
       "Status  Lost  Won\n",
       "row_0            \n",
       "229      176   53"
      ]
     },
     "execution_count": 14,
     "metadata": {},
     "output_type": "execute_result"
    }
   ],
   "source": [
    "pd.crosstab(df1[\"Third Action-Quote Given\"].count(),df1[\"Status\"])"
   ]
  },
  {
   "cell_type": "code",
   "execution_count": 179,
   "metadata": {},
   "outputs": [
    {
     "data": {
      "text/plain": [
       "Price Issue                      103\n",
       "Budget Constraint                 26\n",
       "Design Infeasibility              23\n",
       "Price issue                        7\n",
       "Delivery Issue                     3\n",
       "No Requirment                      2\n",
       "Others                             1\n",
       "Design Not Feasible                1\n",
       "No Requirement                     1\n",
       "Service Infeasibility              1\n",
       "Delivery Issve                     1\n",
       "Design Infeasibe My                1\n",
       "No Requirement-Awareness Call      1\n",
       "Name: Remarks, dtype: int64"
      ]
     },
     "execution_count": 179,
     "metadata": {},
     "output_type": "execute_result"
    }
   ],
   "source": [
    "#Reasons for Non conversions:\n",
    "\n",
    "df1[\"Remarks\"].value_counts()"
   ]
  },
  {
   "cell_type": "code",
   "execution_count": 16,
   "metadata": {},
   "outputs": [],
   "source": [
    "#Mostly because of price issue, business was not getting converted."
   ]
  },
  {
   "cell_type": "code",
   "execution_count": 180,
   "metadata": {},
   "outputs": [],
   "source": [
    "df1.rename(columns={list(df1)[24]:\"Order-Recd-Lost\"},inplace=True)"
   ]
  },
  {
   "cell_type": "code",
   "execution_count": 181,
   "metadata": {},
   "outputs": [
    {
     "data": {
      "text/plain": [
       "<matplotlib.axes._subplots.AxesSubplot at 0x1a1d8c0630>"
      ]
     },
     "execution_count": 181,
     "metadata": {},
     "output_type": "execute_result"
    },
    {
     "data": {
      "image/png": "[encoded data removed]",
      "text/plain": [
       "<Figure size 432x288 with 1 Axes>"
      ]
     },
     "metadata": {
      "needs_background": "light"
     },
     "output_type": "display_data"
    }
   ],
   "source": [
    "df1[\"Order-Recd-Lost\"].value_counts().plot(kind=\"bar\")"
   ]
  },
  {
   "cell_type": "code",
   "execution_count": 34,
   "metadata": {
    "scrolled": true
   },
   "outputs": [],
   "source": [
    "#mostly, reason of order lost was due to UPVC(Provide Details)\n"
   ]
  },
  {
   "cell_type": "code",
   "execution_count": 182,
   "metadata": {},
   "outputs": [
    {
     "data": {
      "text/plain": [
       "Index(['Month', 'Enquiry Date', 'Enquiry Id', 'Allocation Status', 'Status',\n",
       "       'State', 'City', 'Pincode', 'Type of Project', 'No of Windows',\n",
       "       'Source', 'Zone', 'Dealer Name', 'First Action-Call made',\n",
       "       'Date DD/MM/YY', 'First Action-Call Status',\n",
       "       'Date of Appointment (DD/MM/YY)', 'Second Action-Customer Meeting',\n",
       "       'Date DD/MM/YY.1', 'Second Action-Call Status',\n",
       "       'Third Action-Quote Given', 'Date DD/MM/YY.2', 'Q Val. (Rs. Lac)',\n",
       "       'Quote QTY', 'Order-Recd-Lost', 'Date DD/MM/YY.3',\n",
       "       'Order Val. (Rs. Lac)', 'Order QTY',\n",
       "       'Quote ID (as per match to CCC Records)',\n",
       "       ' Remarks-Brand and value if lost to UPVC ', 'Remarks', 'Price Per Sft',\n",
       "       'Benefits'],\n",
       "      dtype='object')"
      ]
     },
     "execution_count": 182,
     "metadata": {},
     "output_type": "execute_result"
    }
   ],
   "source": [
    "df1.columns"
   ]
  },
  {
   "cell_type": "code",
   "execution_count": 183,
   "metadata": {},
   "outputs": [],
   "source": [
    "df1[\"Order QTY\"].fillna(0,inplace=True)"
   ]
  },
  {
   "cell_type": "code",
   "execution_count": 184,
   "metadata": {},
   "outputs": [],
   "source": [
    "df1[\"Order Val. (Rs. Lac)\"].fillna(0,inplace=True)"
   ]
  },
  {
   "cell_type": "code",
   "execution_count": 185,
   "metadata": {},
   "outputs": [
    {
     "name": "stdout",
     "output_type": "stream",
     "text": [
      "<class 'pandas.core.frame.DataFrame'>\n",
      "RangeIndex: 229 entries, 0 to 228\n",
      "Data columns (total 33 columns):\n",
      "Month                                        229 non-null object\n",
      "Enquiry Date                                 229 non-null object\n",
      "Enquiry Id                                   229 non-null object\n",
      "Allocation Status                            229 non-null object\n",
      "Status                                       229 non-null object\n",
      "State                                        229 non-null object\n",
      "City                                         229 non-null object\n",
      "Pincode                                      229 non-null int64\n",
      "Type of Project                              229 non-null object\n",
      "No of Windows                                229 non-null object\n",
      "Source                                       229 non-null object\n",
      "Zone                                         229 non-null object\n",
      "Dealer Name                                  229 non-null object\n",
      "First Action-Call made                       229 non-null object\n",
      "Date DD/MM/YY                                229 non-null object\n",
      "First Action-Call Status                     229 non-null object\n",
      "Date of Appointment (DD/MM/YY)               192 non-null object\n",
      "Second Action-Customer Meeting               192 non-null object\n",
      "Date DD/MM/YY.1                              192 non-null object\n",
      "Second Action-Call Status                    191 non-null object\n",
      "Third Action-Quote Given                     229 non-null object\n",
      "Date DD/MM/YY.2                              188 non-null object\n",
      "Q Val. (Rs. Lac)                             183 non-null float64\n",
      "Quote QTY                                    183 non-null object\n",
      "Order-Recd-Lost                              229 non-null object\n",
      "Date DD/MM/YY.3                              48 non-null object\n",
      "Order Val. (Rs. Lac)                         229 non-null float64\n",
      "Order QTY                                    229 non-null float64\n",
      "Quote ID (as per match to CCC Records)       116 non-null object\n",
      " Remarks-Brand and value if lost to UPVC     123 non-null object\n",
      "Remarks                                      171 non-null object\n",
      "Price Per Sft                                229 non-null int64\n",
      "Benefits                                     53 non-null object\n",
      "dtypes: float64(3), int64(2), object(28)\n",
      "memory usage: 59.1+ KB\n"
     ]
    }
   ],
   "source": [
    "df1.info()"
   ]
  },
  {
   "cell_type": "code",
   "execution_count": 186,
   "metadata": {},
   "outputs": [
    {
     "data": {
      "text/html": [
       "<div>\n",
       "<style scoped>\n",
       "    .dataframe tbody tr th:only-of-type {\n",
       "        vertical-align: middle;\n",
       "    }\n",
       "\n",
       "    .dataframe tbody tr th {\n",
       "        vertical-align: top;\n",
       "    }\n",
       "\n",
       "    .dataframe thead th {\n",
       "        text-align: right;\n",
       "    }\n",
       "</style>\n",
       "<table border=\"1\" class=\"dataframe\">\n",
       "  <thead>\n",
       "    <tr style=\"text-align: right;\">\n",
       "      <th>Status</th>\n",
       "      <th>Lost</th>\n",
       "      <th>Won</th>\n",
       "    </tr>\n",
       "    <tr>\n",
       "      <th>row_0</th>\n",
       "      <th></th>\n",
       "      <th></th>\n",
       "    </tr>\n",
       "  </thead>\n",
       "  <tbody>\n",
       "    <tr>\n",
       "      <th>229</th>\n",
       "      <td>176</td>\n",
       "      <td>53</td>\n",
       "    </tr>\n",
       "  </tbody>\n",
       "</table>\n",
       "</div>"
      ],
      "text/plain": [
       "Status  Lost  Won\n",
       "row_0            \n",
       "229      176   53"
      ]
     },
     "execution_count": 186,
     "metadata": {},
     "output_type": "execute_result"
    }
   ],
   "source": [
    "pd.crosstab(df1[\"Dealer Name\"].count(),df1.Status)"
   ]
  },
  {
   "cell_type": "code",
   "execution_count": 187,
   "metadata": {},
   "outputs": [
    {
     "data": {
      "text/html": [
       "<div>\n",
       "<style scoped>\n",
       "    .dataframe tbody tr th:only-of-type {\n",
       "        vertical-align: middle;\n",
       "    }\n",
       "\n",
       "    .dataframe tbody tr th {\n",
       "        vertical-align: top;\n",
       "    }\n",
       "\n",
       "    .dataframe thead th {\n",
       "        text-align: right;\n",
       "    }\n",
       "</style>\n",
       "<table border=\"1\" class=\"dataframe\">\n",
       "  <thead>\n",
       "    <tr style=\"text-align: right;\">\n",
       "      <th>Dealer Name</th>\n",
       "      <th>Direct</th>\n",
       "      <th>ITP</th>\n",
       "      <th>OXXO</th>\n",
       "      <th>Pearlson</th>\n",
       "      <th>Rajtechnis</th>\n",
       "      <th>Sunbird</th>\n",
       "      <th>Windoors</th>\n",
       "      <th>Winfratech</th>\n",
       "      <th>pearlson</th>\n",
       "    </tr>\n",
       "    <tr>\n",
       "      <th>row_0</th>\n",
       "      <th></th>\n",
       "      <th></th>\n",
       "      <th></th>\n",
       "      <th></th>\n",
       "      <th></th>\n",
       "      <th></th>\n",
       "      <th></th>\n",
       "      <th></th>\n",
       "      <th></th>\n",
       "    </tr>\n",
       "  </thead>\n",
       "  <tbody>\n",
       "    <tr>\n",
       "      <th>229</th>\n",
       "      <td>63</td>\n",
       "      <td>14</td>\n",
       "      <td>20</td>\n",
       "      <td>9</td>\n",
       "      <td>15</td>\n",
       "      <td>36</td>\n",
       "      <td>45</td>\n",
       "      <td>20</td>\n",
       "      <td>7</td>\n",
       "    </tr>\n",
       "  </tbody>\n",
       "</table>\n",
       "</div>"
      ],
      "text/plain": [
       "Dealer Name  Direct  ITP  OXXO  Pearlson  Rajtechnis  Sunbird  Windoors  \\\n",
       "row_0                                                                     \n",
       "229              63   14    20         9          15       36        45   \n",
       "\n",
       "Dealer Name  Winfratech  pearlson  \n",
       "row_0                              \n",
       "229                  20         7  "
      ]
     },
     "execution_count": 187,
     "metadata": {},
     "output_type": "execute_result"
    }
   ],
   "source": [
    "pd.crosstab(df1.Status.count(),df1[\"Dealer Name\"])\n"
   ]
  },
  {
   "cell_type": "code",
   "execution_count": 188,
   "metadata": {},
   "outputs": [
    {
     "data": {
      "text/plain": [
       "<matplotlib.axes._subplots.AxesSubplot at 0x1a1d6dd780>"
      ]
     },
     "execution_count": 188,
     "metadata": {},
     "output_type": "execute_result"
    },
    {
     "data": {
      "image/png": "[encoded data removed]",
      "text/plain": [
       "<Figure size 432x288 with 1 Axes>"
      ]
     },
     "metadata": {
      "needs_background": "light"
     },
     "output_type": "display_data"
    }
   ],
   "source": [
    "pd.crosstab(df1.Status.count(),df1[\"Dealer Name\"]).plot(kind=\"bar\")"
   ]
  },
  {
   "cell_type": "code",
   "execution_count": 189,
   "metadata": {},
   "outputs": [
    {
     "data": {
      "text/html": [
       "<div>\n",
       "<style scoped>\n",
       "    .dataframe tbody tr th:only-of-type {\n",
       "        vertical-align: middle;\n",
       "    }\n",
       "\n",
       "    .dataframe tbody tr th {\n",
       "        vertical-align: top;\n",
       "    }\n",
       "\n",
       "    .dataframe thead th {\n",
       "        text-align: right;\n",
       "    }\n",
       "</style>\n",
       "<table border=\"1\" class=\"dataframe\">\n",
       "  <thead>\n",
       "    <tr style=\"text-align: right;\">\n",
       "      <th>Dealer Name</th>\n",
       "      <th>Direct</th>\n",
       "      <th>ITP</th>\n",
       "      <th>OXXO</th>\n",
       "      <th>Pearlson</th>\n",
       "      <th>Rajtechnis</th>\n",
       "      <th>Sunbird</th>\n",
       "      <th>Windoors</th>\n",
       "      <th>Winfratech</th>\n",
       "      <th>pearlson</th>\n",
       "    </tr>\n",
       "    <tr>\n",
       "      <th>Status</th>\n",
       "      <th></th>\n",
       "      <th></th>\n",
       "      <th></th>\n",
       "      <th></th>\n",
       "      <th></th>\n",
       "      <th></th>\n",
       "      <th></th>\n",
       "      <th></th>\n",
       "      <th></th>\n",
       "    </tr>\n",
       "  </thead>\n",
       "  <tbody>\n",
       "    <tr>\n",
       "      <th>Lost</th>\n",
       "      <td>38</td>\n",
       "      <td>14</td>\n",
       "      <td>16</td>\n",
       "      <td>8</td>\n",
       "      <td>14</td>\n",
       "      <td>25</td>\n",
       "      <td>39</td>\n",
       "      <td>18</td>\n",
       "      <td>4</td>\n",
       "    </tr>\n",
       "    <tr>\n",
       "      <th>Won</th>\n",
       "      <td>25</td>\n",
       "      <td>0</td>\n",
       "      <td>4</td>\n",
       "      <td>1</td>\n",
       "      <td>1</td>\n",
       "      <td>11</td>\n",
       "      <td>6</td>\n",
       "      <td>2</td>\n",
       "      <td>3</td>\n",
       "    </tr>\n",
       "  </tbody>\n",
       "</table>\n",
       "</div>"
      ],
      "text/plain": [
       "Dealer Name  Direct  ITP  OXXO  Pearlson  Rajtechnis  Sunbird  Windoors  \\\n",
       "Status                                                                    \n",
       "Lost             38   14    16         8          14       25        39   \n",
       "Won              25    0     4         1           1       11         6   \n",
       "\n",
       "Dealer Name  Winfratech  pearlson  \n",
       "Status                             \n",
       "Lost                 18         4  \n",
       "Won                   2         3  "
      ]
     },
     "execution_count": 189,
     "metadata": {},
     "output_type": "execute_result"
    }
   ],
   "source": [
    "pd.crosstab(df1.Status,df1[\"Dealer Name\"])"
   ]
  },
  {
   "cell_type": "code",
   "execution_count": 190,
   "metadata": {},
   "outputs": [
    {
     "data": {
      "text/plain": [
       "<matplotlib.axes._subplots.AxesSubplot at 0x1a1da5d278>"
      ]
     },
     "execution_count": 190,
     "metadata": {},
     "output_type": "execute_result"
    },
    {
     "data": {
      "image/png": "[encoded data removed]",
      "text/plain": [
       "<Figure size 432x288 with 1 Axes>"
      ]
     },
     "metadata": {
      "needs_background": "light"
     },
     "output_type": "display_data"
    }
   ],
   "source": [
    "pd.crosstab(df1.Status,df1[\"Dealer Name\"]).plot(kind=\"bar\")"
   ]
  },
  {
   "cell_type": "code",
   "execution_count": 45,
   "metadata": {},
   "outputs": [],
   "source": [
    "#Success rate of each and every dealer:\n",
    "#Dealer wise analysis:"
   ]
  },
  {
   "cell_type": "code",
   "execution_count": 47,
   "metadata": {},
   "outputs": [],
   "source": [
    "#Import data through SQL"
   ]
  },
  {
   "cell_type": "code",
   "execution_count": 49,
   "metadata": {},
   "outputs": [
    {
     "ename": "ModuleNotFoundError",
     "evalue": "No module named 'pandasql'",
     "output_type": "error",
     "traceback": [
      "\u001b[0;31m---------------------------------------------------------------------------\u001b[0m",
      "\u001b[0;31mModuleNotFoundError\u001b[0m                       Traceback (most recent call last)",
      "\u001b[0;32m<ipython-input-49-644a528c5370>\u001b[0m in \u001b[0;36m<module>\u001b[0;34m\u001b[0m\n\u001b[0;32m----> 1\u001b[0;31m \u001b[0;32mfrom\u001b[0m \u001b[0mpandasql\u001b[0m \u001b[0;32mimport\u001b[0m \u001b[0msqldf\u001b[0m\u001b[0;34m\u001b[0m\u001b[0;34m\u001b[0m\u001b[0m\n\u001b[0m",
      "\u001b[0;31mModuleNotFoundError\u001b[0m: No module named 'pandasql'"
     ]
    }
   ],
   "source": [
    "from pandasql import sqldf"
   ]
  },
  {
   "cell_type": "code",
   "execution_count": 48,
   "metadata": {},
   "outputs": [
    {
     "ename": "ModuleNotFoundError",
     "evalue": "No module named 'pandasql'",
     "output_type": "error",
     "traceback": [
      "\u001b[0;31m---------------------------------------------------------------------------\u001b[0m",
      "\u001b[0;31mModuleNotFoundError\u001b[0m                       Traceback (most recent call last)",
      "\u001b[0;32m<ipython-input-48-d525e88b6f53>\u001b[0m in \u001b[0;36m<module>\u001b[0;34m\u001b[0m\n\u001b[0;32m----> 1\u001b[0;31m \u001b[0;32mfrom\u001b[0m \u001b[0mpandasql\u001b[0m \u001b[0;32mimport\u001b[0m \u001b[0msqldf\u001b[0m\u001b[0;34m\u001b[0m\u001b[0;34m\u001b[0m\u001b[0m\n\u001b[0m\u001b[1;32m      2\u001b[0m \u001b[0mpysqldf\u001b[0m\u001b[0;34m=\u001b[0m\u001b[0;32mlambda\u001b[0m \u001b[0mq\u001b[0m\u001b[0;34m:\u001b[0m\u001b[0msqldf\u001b[0m\u001b[0;34m(\u001b[0m\u001b[0mq\u001b[0m\u001b[0;34m,\u001b[0m\u001b[0mglobals\u001b[0m\u001b[0;34m(\u001b[0m\u001b[0;34m)\u001b[0m\u001b[0;34m)\u001b[0m\u001b[0;34m\u001b[0m\u001b[0;34m\u001b[0m\u001b[0m\n",
      "\u001b[0;31mModuleNotFoundError\u001b[0m: No module named 'pandasql'"
     ]
    }
   ],
   "source": [
    "from pandasql import sqldf\n",
    "pysqldf=lambda q:sqldf(q,globals())"
   ]
  },
  {
   "cell_type": "code",
   "execution_count": 50,
   "metadata": {},
   "outputs": [],
   "source": [
    "#Use slicing for different dealer analysis:\n"
   ]
  },
  {
   "cell_type": "code",
   "execution_count": null,
   "metadata": {},
   "outputs": [],
   "source": []
  },
  {
   "cell_type": "code",
   "execution_count": 191,
   "metadata": {},
   "outputs": [
    {
     "data": {
      "text/plain": [
       "(229, 33)"
      ]
     },
     "execution_count": 191,
     "metadata": {},
     "output_type": "execute_result"
    }
   ],
   "source": [
    "df1.shape"
   ]
  },
  {
   "cell_type": "code",
   "execution_count": 192,
   "metadata": {},
   "outputs": [],
   "source": [
    "df_Direct=df1[df1[\"Dealer Name\"]==\"Direct\"]"
   ]
  },
  {
   "cell_type": "code",
   "execution_count": 206,
   "metadata": {},
   "outputs": [],
   "source": [
    "df1[\"Second Action-Call Status\"].fillna(0,inplace=True)"
   ]
  },
  {
   "cell_type": "code",
   "execution_count": 207,
   "metadata": {},
   "outputs": [],
   "source": [
    "df1[\"Third Action-Quote Given\"].fillna(0,inplace=True)"
   ]
  },
  {
   "cell_type": "code",
   "execution_count": 208,
   "metadata": {
    "scrolled": true
   },
   "outputs": [
    {
     "data": {
      "text/html": [
       "<div>\n",
       "<style scoped>\n",
       "    .dataframe tbody tr th:only-of-type {\n",
       "        vertical-align: middle;\n",
       "    }\n",
       "\n",
       "    .dataframe tbody tr th {\n",
       "        vertical-align: top;\n",
       "    }\n",
       "\n",
       "    .dataframe thead th {\n",
       "        text-align: right;\n",
       "    }\n",
       "</style>\n",
       "<table border=\"1\" class=\"dataframe\">\n",
       "  <thead>\n",
       "    <tr style=\"text-align: right;\">\n",
       "      <th></th>\n",
       "      <th>Month</th>\n",
       "      <th>Enquiry Date</th>\n",
       "      <th>Enquiry Id</th>\n",
       "      <th>Allocation Status</th>\n",
       "      <th>Status</th>\n",
       "      <th>State</th>\n",
       "      <th>City</th>\n",
       "      <th>Pincode</th>\n",
       "      <th>Type of Project</th>\n",
       "      <th>No of Windows</th>\n",
       "      <th>...</th>\n",
       "      <th>Quote QTY</th>\n",
       "      <th>Order-Recd-Lost</th>\n",
       "      <th>Date DD/MM/YY.3</th>\n",
       "      <th>Order Val. (Rs. Lac)</th>\n",
       "      <th>Order QTY</th>\n",
       "      <th>Quote ID (as per match to CCC Records)</th>\n",
       "      <th>Remarks-Brand and value if lost to UPVC</th>\n",
       "      <th>Remarks</th>\n",
       "      <th>Price Per Sft</th>\n",
       "      <th>Benefits</th>\n",
       "    </tr>\n",
       "  </thead>\n",
       "  <tbody>\n",
       "    <tr>\n",
       "      <th>3</th>\n",
       "      <td>April'16</td>\n",
       "      <td>09-Apr-16</td>\n",
       "      <td>EC09041647202</td>\n",
       "      <td>Direct</td>\n",
       "      <td>Lost</td>\n",
       "      <td>TAMILNADU</td>\n",
       "      <td>KANCHIPURAM</td>\n",
       "      <td>600075</td>\n",
       "      <td>New Construction</td>\n",
       "      <td>21 to 40</td>\n",
       "      <td>...</td>\n",
       "      <td>9</td>\n",
       "      <td>Lost to Aluminum</td>\n",
       "      <td>NaN</td>\n",
       "      <td>0.00</td>\n",
       "      <td>0.0</td>\n",
       "      <td>no response</td>\n",
       "      <td>NaN</td>\n",
       "      <td>Price Issue</td>\n",
       "      <td>919</td>\n",
       "      <td>NaN</td>\n",
       "    </tr>\n",
       "    <tr>\n",
       "      <th>30</th>\n",
       "      <td>June'16</td>\n",
       "      <td>11-Jun-16</td>\n",
       "      <td>EC11061651852</td>\n",
       "      <td>Direct</td>\n",
       "      <td>Won</td>\n",
       "      <td>TAMILNADU</td>\n",
       "      <td>KANCHIPURAM</td>\n",
       "      <td>600044</td>\n",
       "      <td>New Construction</td>\n",
       "      <td>6 to 10</td>\n",
       "      <td>...</td>\n",
       "      <td>2</td>\n",
       "      <td>Order Received</td>\n",
       "      <td>16-Aug-16</td>\n",
       "      <td>0.42</td>\n",
       "      <td>2.0</td>\n",
       "      <td>SNT63938</td>\n",
       "      <td>won</td>\n",
       "      <td>NaN</td>\n",
       "      <td>3121</td>\n",
       "      <td>Nil</td>\n",
       "    </tr>\n",
       "    <tr>\n",
       "      <th>37</th>\n",
       "      <td>June'16</td>\n",
       "      <td>18-Jun-16</td>\n",
       "      <td>EC18061652485</td>\n",
       "      <td>Direct</td>\n",
       "      <td>Won</td>\n",
       "      <td>TAMILNADU</td>\n",
       "      <td>CHENNAI</td>\n",
       "      <td>600041</td>\n",
       "      <td>Renovation</td>\n",
       "      <td>1 to 5</td>\n",
       "      <td>...</td>\n",
       "      <td>13</td>\n",
       "      <td>Order Received</td>\n",
       "      <td>21-Jul-16</td>\n",
       "      <td>0.93</td>\n",
       "      <td>13.0</td>\n",
       "      <td>SNT58427</td>\n",
       "      <td>order received</td>\n",
       "      <td>NaN</td>\n",
       "      <td>967</td>\n",
       "      <td>Aesthetics &amp; Low Maintenance</td>\n",
       "    </tr>\n",
       "    <tr>\n",
       "      <th>43</th>\n",
       "      <td>June'16</td>\n",
       "      <td>23-Jun-16</td>\n",
       "      <td>EC07031644910</td>\n",
       "      <td>Direct</td>\n",
       "      <td>Lost</td>\n",
       "      <td>TAMILNADU</td>\n",
       "      <td>CHENNAI</td>\n",
       "      <td>600020</td>\n",
       "      <td>New Construction</td>\n",
       "      <td>6 to 10</td>\n",
       "      <td>...</td>\n",
       "      <td>25</td>\n",
       "      <td>Lost to UPVC (Provide details)</td>\n",
       "      <td>NaN</td>\n",
       "      <td>0.00</td>\n",
       "      <td>0.0</td>\n",
       "      <td>NaN</td>\n",
       "      <td>lost to linget</td>\n",
       "      <td>Price Issue</td>\n",
       "      <td>947</td>\n",
       "      <td>NaN</td>\n",
       "    </tr>\n",
       "    <tr>\n",
       "      <th>45</th>\n",
       "      <td>June'16</td>\n",
       "      <td>26-Jun-16</td>\n",
       "      <td>EC26061653135</td>\n",
       "      <td>Direct</td>\n",
       "      <td>Lost</td>\n",
       "      <td>TAMILNADU</td>\n",
       "      <td>KANCHIPURAM</td>\n",
       "      <td>600075</td>\n",
       "      <td>New Construction</td>\n",
       "      <td>6 to 10</td>\n",
       "      <td>...</td>\n",
       "      <td>4</td>\n",
       "      <td>Lost to UPVC (Provide details)</td>\n",
       "      <td>NaN</td>\n",
       "      <td>0.00</td>\n",
       "      <td>0.0</td>\n",
       "      <td>NaN</td>\n",
       "      <td>lost</td>\n",
       "      <td>Price Issue</td>\n",
       "      <td>958</td>\n",
       "      <td>NaN</td>\n",
       "    </tr>\n",
       "  </tbody>\n",
       "</table>\n",
       "<p>5 rows × 33 columns</p>\n",
       "</div>"
      ],
      "text/plain": [
       "       Month Enquiry Date     Enquiry Id Allocation Status Status      State  \\\n",
       "3   April'16    09-Apr-16  EC09041647202            Direct   Lost  TAMILNADU   \n",
       "30   June'16    11-Jun-16  EC11061651852            Direct    Won  TAMILNADU   \n",
       "37   June'16    18-Jun-16  EC18061652485            Direct    Won  TAMILNADU   \n",
       "43   June'16    23-Jun-16  EC07031644910            Direct   Lost  TAMILNADU   \n",
       "45   June'16    26-Jun-16  EC26061653135            Direct   Lost  TAMILNADU   \n",
       "\n",
       "           City  Pincode   Type of Project No of Windows  ... Quote QTY  \\\n",
       "3   KANCHIPURAM   600075  New Construction      21 to 40  ...         9   \n",
       "30  KANCHIPURAM   600044  New Construction       6 to 10  ...         2   \n",
       "37      CHENNAI   600041        Renovation        1 to 5  ...        13   \n",
       "43      CHENNAI   600020  New Construction       6 to 10  ...        25   \n",
       "45  KANCHIPURAM   600075  New Construction       6 to 10  ...         4   \n",
       "\n",
       "                   Order-Recd-Lost Date DD/MM/YY.3 Order Val. (Rs. Lac)  \\\n",
       "3                 Lost to Aluminum             NaN                 0.00   \n",
       "30                  Order Received       16-Aug-16                 0.42   \n",
       "37                  Order Received       21-Jul-16                 0.93   \n",
       "43  Lost to UPVC (Provide details)             NaN                 0.00   \n",
       "45  Lost to UPVC (Provide details)             NaN                 0.00   \n",
       "\n",
       "   Order QTY Quote ID (as per match to CCC Records)  \\\n",
       "3        0.0                            no response   \n",
       "30       2.0                               SNT63938   \n",
       "37      13.0                               SNT58427   \n",
       "43       0.0                                    NaN   \n",
       "45       0.0                                    NaN   \n",
       "\n",
       "    Remarks-Brand and value if lost to UPVC       Remarks Price Per Sft  \\\n",
       "3                                        NaN  Price Issue           919   \n",
       "30                                       won          NaN          3121   \n",
       "37                            order received          NaN           967   \n",
       "43                            lost to linget  Price Issue           947   \n",
       "45                                      lost  Price Issue           958   \n",
       "\n",
       "                        Benefits  \n",
       "3                            NaN  \n",
       "30                           Nil  \n",
       "37  Aesthetics & Low Maintenance  \n",
       "43                           NaN  \n",
       "45                           NaN  \n",
       "\n",
       "[5 rows x 33 columns]"
      ]
     },
     "execution_count": 208,
     "metadata": {},
     "output_type": "execute_result"
    }
   ],
   "source": [
    "df_Direct.head()"
   ]
  },
  {
   "cell_type": "code",
   "execution_count": 209,
   "metadata": {},
   "outputs": [
    {
     "name": "stdout",
     "output_type": "stream",
     "text": [
      "<class 'pandas.core.frame.DataFrame'>\n",
      "Int64Index: 63 entries, 3 to 228\n",
      "Data columns (total 33 columns):\n",
      "Month                                        63 non-null object\n",
      "Enquiry Date                                 63 non-null object\n",
      "Enquiry Id                                   63 non-null object\n",
      "Allocation Status                            63 non-null object\n",
      "Status                                       63 non-null object\n",
      "State                                        63 non-null object\n",
      "City                                         63 non-null object\n",
      "Pincode                                      63 non-null int64\n",
      "Type of Project                              63 non-null object\n",
      "No of Windows                                63 non-null object\n",
      "Source                                       63 non-null object\n",
      "Zone                                         63 non-null object\n",
      "Dealer Name                                  63 non-null object\n",
      "First Action-Call made                       63 non-null object\n",
      "Date DD/MM/YY                                63 non-null object\n",
      "First Action-Call Status                     63 non-null object\n",
      "Date of Appointment (DD/MM/YY)               56 non-null object\n",
      "Second Action-Customer Meeting               56 non-null object\n",
      "Date DD/MM/YY.1                              56 non-null object\n",
      "Second Action-Call Status                    56 non-null object\n",
      "Third Action-Quote Given                     63 non-null object\n",
      "Date DD/MM/YY.2                              56 non-null object\n",
      "Q Val. (Rs. Lac)                             56 non-null float64\n",
      "Quote QTY                                    56 non-null object\n",
      "Order-Recd-Lost                              63 non-null object\n",
      "Date DD/MM/YY.3                              23 non-null object\n",
      "Order Val. (Rs. Lac)                         63 non-null float64\n",
      "Order QTY                                    63 non-null float64\n",
      "Quote ID (as per match to CCC Records)       48 non-null object\n",
      " Remarks-Brand and value if lost to UPVC     20 non-null object\n",
      "Remarks                                      38 non-null object\n",
      "Price Per Sft                                63 non-null int64\n",
      "Benefits                                     25 non-null object\n",
      "dtypes: float64(3), int64(2), object(28)\n",
      "memory usage: 16.7+ KB\n"
     ]
    }
   ],
   "source": [
    "df_Direct.info()"
   ]
  },
  {
   "cell_type": "code",
   "execution_count": 210,
   "metadata": {},
   "outputs": [
    {
     "data": {
      "text/plain": [
       "(63, 33)"
      ]
     },
     "execution_count": 210,
     "metadata": {},
     "output_type": "execute_result"
    }
   ],
   "source": [
    "df_Direct.shape"
   ]
  },
  {
   "cell_type": "code",
   "execution_count": 211,
   "metadata": {},
   "outputs": [
    {
     "data": {
      "text/html": [
       "<div>\n",
       "<style scoped>\n",
       "    .dataframe tbody tr th:only-of-type {\n",
       "        vertical-align: middle;\n",
       "    }\n",
       "\n",
       "    .dataframe tbody tr th {\n",
       "        vertical-align: top;\n",
       "    }\n",
       "\n",
       "    .dataframe thead th {\n",
       "        text-align: right;\n",
       "    }\n",
       "</style>\n",
       "<table border=\"1\" class=\"dataframe\">\n",
       "  <thead>\n",
       "    <tr style=\"text-align: right;\">\n",
       "      <th>Status</th>\n",
       "      <th>Lost</th>\n",
       "      <th>Won</th>\n",
       "    </tr>\n",
       "    <tr>\n",
       "      <th>Dealer Name</th>\n",
       "      <th></th>\n",
       "      <th></th>\n",
       "    </tr>\n",
       "  </thead>\n",
       "  <tbody>\n",
       "    <tr>\n",
       "      <th>Direct</th>\n",
       "      <td>38</td>\n",
       "      <td>25</td>\n",
       "    </tr>\n",
       "    <tr>\n",
       "      <th>ITP</th>\n",
       "      <td>14</td>\n",
       "      <td>0</td>\n",
       "    </tr>\n",
       "    <tr>\n",
       "      <th>OXXO</th>\n",
       "      <td>16</td>\n",
       "      <td>4</td>\n",
       "    </tr>\n",
       "    <tr>\n",
       "      <th>Pearlson</th>\n",
       "      <td>8</td>\n",
       "      <td>1</td>\n",
       "    </tr>\n",
       "    <tr>\n",
       "      <th>Rajtechnis</th>\n",
       "      <td>14</td>\n",
       "      <td>1</td>\n",
       "    </tr>\n",
       "    <tr>\n",
       "      <th>Sunbird</th>\n",
       "      <td>25</td>\n",
       "      <td>11</td>\n",
       "    </tr>\n",
       "    <tr>\n",
       "      <th>Windoors</th>\n",
       "      <td>39</td>\n",
       "      <td>6</td>\n",
       "    </tr>\n",
       "    <tr>\n",
       "      <th>Winfratech</th>\n",
       "      <td>18</td>\n",
       "      <td>2</td>\n",
       "    </tr>\n",
       "    <tr>\n",
       "      <th>pearlson</th>\n",
       "      <td>4</td>\n",
       "      <td>3</td>\n",
       "    </tr>\n",
       "  </tbody>\n",
       "</table>\n",
       "</div>"
      ],
      "text/plain": [
       "Status       Lost  Won\n",
       "Dealer Name           \n",
       "Direct         38   25\n",
       "ITP            14    0\n",
       "OXXO           16    4\n",
       "Pearlson        8    1\n",
       "Rajtechnis     14    1\n",
       "Sunbird        25   11\n",
       "Windoors       39    6\n",
       "Winfratech     18    2\n",
       "pearlson        4    3"
      ]
     },
     "execution_count": 211,
     "metadata": {},
     "output_type": "execute_result"
    }
   ],
   "source": [
    "pd.crosstab(df1[\"Dealer Name\"],df1.Status)\n"
   ]
  },
  {
   "cell_type": "code",
   "execution_count": 212,
   "metadata": {},
   "outputs": [],
   "source": [
    "df_ITP=df1[df1[\"Dealer Name\"]==\"ITP\"]\n",
    "df_OXXO=df1[df1[\"Dealer Name\"]==\"OXXO\"]\n",
    "df_Pearlson=df1[df1[\"Dealer Name\"]==\"Pearlson\"]\n",
    "df_Rajtechnis=df1[df1[\"Dealer Name\"]==\"Rajtechnis\"]\n",
    "df_Sunbird=df1[df1[\"Dealer Name\"]==\"Sunbird\"]\n",
    "df_Windoors=df1[df1[\"Dealer Name\"]==\"Windoors\"]\n",
    "df_Winfratech=df1[df1[\"Dealer Name\"]==\"Winfratech\"]\n",
    "df_pearlson=df1[df1[\"Dealer Name\"]==\"pearlson\"]\n"
   ]
  },
  {
   "cell_type": "code",
   "execution_count": 213,
   "metadata": {},
   "outputs": [
    {
     "data": {
      "text/plain": [
       "Appointment Fixed                56\n",
       "Budget Constraint                 5\n",
       "No Requirement-Awareness Call     2\n",
       "Name: First Action-Call Status, dtype: int64"
      ]
     },
     "execution_count": 213,
     "metadata": {},
     "output_type": "execute_result"
    }
   ],
   "source": [
    "df_Direct['First Action-Call Status'].value_counts()"
   ]
  },
  {
   "cell_type": "code",
   "execution_count": 214,
   "metadata": {},
   "outputs": [
    {
     "data": {
      "text/plain": [
       "<matplotlib.axes._subplots.AxesSubplot at 0x1a1ddc8630>"
      ]
     },
     "execution_count": 214,
     "metadata": {},
     "output_type": "execute_result"
    },
    {
     "data": {
      "image/png": "[encoded data removed]",
      "text/plain": [
       "<Figure size 432x288 with 1 Axes>"
      ]
     },
     "metadata": {
      "needs_background": "light"
     },
     "output_type": "display_data"
    }
   ],
   "source": [
    "df_Direct['First Action-Call Status'].value_counts().plot(kind=\"bar\")"
   ]
  },
  {
   "cell_type": "code",
   "execution_count": 91,
   "metadata": {},
   "outputs": [],
   "source": [
    "# For dealer\"Direct\",out of 63 enquiries 56 progressed for the  second discussion\n",
    "#and 5 dropped due to budget constraint and 2 were awareness calls."
   ]
  },
  {
   "cell_type": "code",
   "execution_count": 215,
   "metadata": {},
   "outputs": [
    {
     "data": {
      "text/plain": [
       "Index(['Month', 'Enquiry Date', 'Enquiry Id', 'Allocation Status', 'Status',\n",
       "       'State', 'City', 'Pincode', 'Type of Project', 'No of Windows',\n",
       "       'Source', 'Zone', 'Dealer Name', 'First Action-Call made',\n",
       "       'Date DD/MM/YY', 'First Action-Call Status',\n",
       "       'Date of Appointment (DD/MM/YY)', 'Second Action-Customer Meeting',\n",
       "       'Date DD/MM/YY.1', 'Second Action-Call Status',\n",
       "       'Third Action-Quote Given', 'Date DD/MM/YY.2', 'Q Val. (Rs. Lac)',\n",
       "       'Quote QTY', 'Order-Recd-Lost', 'Date DD/MM/YY.3',\n",
       "       'Order Val. (Rs. Lac)', 'Order QTY',\n",
       "       'Quote ID (as per match to CCC Records)',\n",
       "       ' Remarks-Brand and value if lost to UPVC ', 'Remarks', 'Price Per Sft',\n",
       "       'Benefits'],\n",
       "      dtype='object')"
      ]
     },
     "execution_count": 215,
     "metadata": {},
     "output_type": "execute_result"
    }
   ],
   "source": [
    "df1.columns"
   ]
  },
  {
   "cell_type": "code",
   "execution_count": 216,
   "metadata": {},
   "outputs": [
    {
     "data": {
      "text/plain": [
       "Quote to Be Submitted    56\n",
       "Name: Second Action-Call Status, dtype: int64"
      ]
     },
     "execution_count": 216,
     "metadata": {},
     "output_type": "execute_result"
    }
   ],
   "source": [
    "df_Direct['Second Action-Call Status'].value_counts()"
   ]
  },
  {
   "cell_type": "code",
   "execution_count": 217,
   "metadata": {},
   "outputs": [
    {
     "data": {
      "text/plain": [
       "<matplotlib.axes._subplots.AxesSubplot at 0x1a1deb7550>"
      ]
     },
     "execution_count": 217,
     "metadata": {},
     "output_type": "execute_result"
    },
    {
     "data": {
      "image/png": "[encoded data removed]",
      "text/plain": [
       "<Figure size 432x288 with 1 Axes>"
      ]
     },
     "metadata": {
      "needs_background": "light"
     },
     "output_type": "display_data"
    }
   ],
   "source": [
    "df_Direct['Second Action-Call Status'].value_counts().plot(kind=\"bar\")"
   ]
  },
  {
   "cell_type": "code",
   "execution_count": 202,
   "metadata": {},
   "outputs": [],
   "source": [
    "df1[\"Second Action-Call Status\"].fillna(0,inplace=True)"
   ]
  },
  {
   "cell_type": "code",
   "execution_count": 203,
   "metadata": {},
   "outputs": [],
   "source": [
    "df1[\"Third Action-Quote Given\"].fillna(0,inplace=True)"
   ]
  },
  {
   "cell_type": "code",
   "execution_count": 218,
   "metadata": {},
   "outputs": [
    {
     "data": {
      "text/plain": [
       "yes       49\n",
       "Others     7\n",
       "YES        7\n",
       "Name: Third Action-Quote Given, dtype: int64"
      ]
     },
     "execution_count": 218,
     "metadata": {},
     "output_type": "execute_result"
    }
   ],
   "source": [
    "df_Direct['Third Action-Quote Given'].value_counts()"
   ]
  },
  {
   "cell_type": "code",
   "execution_count": 121,
   "metadata": {},
   "outputs": [
    {
     "data": {
      "text/plain": [
       "<matplotlib.axes._subplots.AxesSubplot at 0x1a1c996eb8>"
      ]
     },
     "execution_count": 121,
     "metadata": {},
     "output_type": "execute_result"
    },
    {
     "data": {
      "image/png": "[encoded data removed]",
      "text/plain": [
       "<Figure size 432x288 with 1 Axes>"
      ]
     },
     "metadata": {
      "needs_background": "light"
     },
     "output_type": "display_data"
    }
   ],
   "source": [
    "df_Direct['Third Action-Quote Given'].value_counts().plot(kind=\"bar\")"
   ]
  },
  {
   "cell_type": "code",
   "execution_count": 219,
   "metadata": {},
   "outputs": [],
   "source": [
    "def third_quote(x):\n",
    "    if x==\"yes\":\n",
    "        return \"YES\"\n",
    "    elif x==\"YES\":\n",
    "        return \"YES\"\n",
    "        \n",
    "    "
   ]
  },
  {
   "cell_type": "code",
   "execution_count": 220,
   "metadata": {},
   "outputs": [
    {
     "name": "stderr",
     "output_type": "stream",
     "text": [
      "/Users/shriyagupta/anaconda3/lib/python3.7/site-packages/ipykernel_launcher.py:1: SettingWithCopyWarning: \n",
      "A value is trying to be set on a copy of a slice from a DataFrame.\n",
      "Try using .loc[row_indexer,col_indexer] = value instead\n",
      "\n",
      "See the caveats in the documentation: http://pandas.pydata.org/pandas-docs/stable/indexing.html#indexing-view-versus-copy\n",
      "  \"\"\"Entry point for launching an IPython kernel.\n"
     ]
    }
   ],
   "source": [
    "df_Direct['Third Action-Quote Given']=df_Direct['Third Action-Quote Given'].apply(third_quote)"
   ]
  },
  {
   "cell_type": "code",
   "execution_count": 221,
   "metadata": {},
   "outputs": [
    {
     "data": {
      "text/plain": [
       "YES    56\n",
       "Name: Third Action-Quote Given, dtype: int64"
      ]
     },
     "execution_count": 221,
     "metadata": {},
     "output_type": "execute_result"
    }
   ],
   "source": [
    "df_Direct['Third Action-Quote Given'].value_counts()"
   ]
  },
  {
   "cell_type": "code",
   "execution_count": null,
   "metadata": {
    "scrolled": true
   },
   "outputs": [],
   "source": []
  },
  {
   "cell_type": "code",
   "execution_count": 222,
   "metadata": {},
   "outputs": [
    {
     "data": {
      "text/plain": [
       "Price Issue              22\n",
       "Budget Constraint         5\n",
       "Price issue               4\n",
       "Design Infeasibility      3\n",
       "No Requirment             1\n",
       "No Requirement            1\n",
       "Service Infeasibility     1\n",
       "Delivery Issue            1\n",
       "Name: Remarks, dtype: int64"
      ]
     },
     "execution_count": 222,
     "metadata": {},
     "output_type": "execute_result"
    }
   ],
   "source": [
    "df_Direct[\"Remarks\"].value_counts()"
   ]
  },
  {
   "cell_type": "code",
   "execution_count": 223,
   "metadata": {},
   "outputs": [
    {
     "data": {
      "text/plain": [
       "<matplotlib.axes._subplots.AxesSubplot at 0x1a1df92e10>"
      ]
     },
     "execution_count": 223,
     "metadata": {},
     "output_type": "execute_result"
    },
    {
     "data": {
      "image/png": "[encoded data removed]",
      "text/plain": [
       "<Figure size 432x288 with 1 Axes>"
      ]
     },
     "metadata": {
      "needs_background": "light"
     },
     "output_type": "display_data"
    }
   ],
   "source": [
    "pd.crosstab(df_Direct['Remarks'],df_Direct['Status']).plot(kind='bar')"
   ]
  },
  {
   "cell_type": "code",
   "execution_count": 224,
   "metadata": {},
   "outputs": [],
   "source": [
    "df1[\"Status\"].fillna(0,inplace=True)"
   ]
  },
  {
   "cell_type": "code",
   "execution_count": 225,
   "metadata": {},
   "outputs": [
    {
     "data": {
      "text/plain": [
       "38"
      ]
     },
     "execution_count": 225,
     "metadata": {},
     "output_type": "execute_result"
    }
   ],
   "source": [
    "df_Direct[df_Direct['Status']=='Lost'].Status.count()"
   ]
  },
  {
   "cell_type": "code",
   "execution_count": 226,
   "metadata": {},
   "outputs": [
    {
     "data": {
      "text/plain": [
       "Lost    38\n",
       "Won     25\n",
       "Name: Status, dtype: int64"
      ]
     },
     "execution_count": 226,
     "metadata": {},
     "output_type": "execute_result"
    }
   ],
   "source": [
    "df_Direct[\"Status\"].value_counts()"
   ]
  },
  {
   "cell_type": "code",
   "execution_count": 150,
   "metadata": {},
   "outputs": [],
   "source": [
    "# Success rate of the dealer Direct=(25/63)*100 = 39.68"
   ]
  },
  {
   "cell_type": "code",
   "execution_count": 151,
   "metadata": {},
   "outputs": [],
   "source": [
    "# ITP:\n"
   ]
  },
  {
   "cell_type": "code",
   "execution_count": 152,
   "metadata": {},
   "outputs": [
    {
     "data": {
      "text/plain": [
       "Lost    14\n",
       "Name: Status, dtype: int64"
      ]
     },
     "execution_count": 152,
     "metadata": {},
     "output_type": "execute_result"
    }
   ],
   "source": [
    "df_ITP.Status.value_counts()"
   ]
  },
  {
   "cell_type": "code",
   "execution_count": 227,
   "metadata": {},
   "outputs": [
    {
     "name": "stdout",
     "output_type": "stream",
     "text": [
      "<class 'pandas.core.frame.DataFrame'>\n",
      "Int64Index: 14 entries, 48 to 165\n",
      "Data columns (total 33 columns):\n",
      "Month                                        14 non-null object\n",
      "Enquiry Date                                 14 non-null object\n",
      "Enquiry Id                                   14 non-null object\n",
      "Allocation Status                            14 non-null object\n",
      "Status                                       14 non-null object\n",
      "State                                        14 non-null object\n",
      "City                                         14 non-null object\n",
      "Pincode                                      14 non-null int64\n",
      "Type of Project                              14 non-null object\n",
      "No of Windows                                14 non-null object\n",
      "Source                                       14 non-null object\n",
      "Zone                                         14 non-null object\n",
      "Dealer Name                                  14 non-null object\n",
      "First Action-Call made                       14 non-null object\n",
      "Date DD/MM/YY                                14 non-null object\n",
      "First Action-Call Status                     14 non-null object\n",
      "Date of Appointment (DD/MM/YY)               9 non-null object\n",
      "Second Action-Customer Meeting               9 non-null object\n",
      "Date DD/MM/YY.1                              9 non-null object\n",
      "Second Action-Call Status                    14 non-null object\n",
      "Third Action-Quote Given                     14 non-null object\n",
      "Date DD/MM/YY.2                              9 non-null object\n",
      "Q Val. (Rs. Lac)                             9 non-null float64\n",
      "Quote QTY                                    9 non-null object\n",
      "Order-Recd-Lost                              14 non-null object\n",
      "Date DD/MM/YY.3                              0 non-null object\n",
      "Order Val. (Rs. Lac)                         14 non-null float64\n",
      "Order QTY                                    14 non-null float64\n",
      "Quote ID (as per match to CCC Records)       0 non-null object\n",
      " Remarks-Brand and value if lost to UPVC     9 non-null object\n",
      "Remarks                                      14 non-null object\n",
      "Price Per Sft                                14 non-null int64\n",
      "Benefits                                     0 non-null object\n",
      "dtypes: float64(3), int64(2), object(28)\n",
      "memory usage: 3.7+ KB\n"
     ]
    }
   ],
   "source": [
    "df_ITP.info()"
   ]
  },
  {
   "cell_type": "code",
   "execution_count": 228,
   "metadata": {},
   "outputs": [
    {
     "data": {
      "text/plain": [
       "<matplotlib.axes._subplots.AxesSubplot at 0x1a1ddf2a20>"
      ]
     },
     "execution_count": 228,
     "metadata": {},
     "output_type": "execute_result"
    },
    {
     "data": {
      "image/png": "[encoded data removed]",
      "text/plain": [
       "<Figure size 432x288 with 1 Axes>"
      ]
     },
     "metadata": {
      "needs_background": "light"
     },
     "output_type": "display_data"
    }
   ],
   "source": [
    "pd.crosstab(df_ITP['Remarks'],df_ITP['Status']).plot(kind='bar')"
   ]
  },
  {
   "cell_type": "code",
   "execution_count": 229,
   "metadata": {},
   "outputs": [
    {
     "data": {
      "text/plain": [
       "Appointment Fixed      9\n",
       "Design not Feasible    3\n",
       "Budget Constraint      2\n",
       "Name: First Action-Call Status, dtype: int64"
      ]
     },
     "execution_count": 229,
     "metadata": {},
     "output_type": "execute_result"
    }
   ],
   "source": [
    "df_ITP['First Action-Call Status'].value_counts()"
   ]
  },
  {
   "cell_type": "code",
   "execution_count": 230,
   "metadata": {},
   "outputs": [
    {
     "data": {
      "text/plain": [
       "Quote to Be Submitted    9\n",
       "0                        5\n",
       "Name: Second Action-Call Status, dtype: int64"
      ]
     },
     "execution_count": 230,
     "metadata": {},
     "output_type": "execute_result"
    }
   ],
   "source": [
    "df_ITP['Second Action-Call Status'].value_counts()"
   ]
  },
  {
   "cell_type": "code",
   "execution_count": 231,
   "metadata": {},
   "outputs": [
    {
     "data": {
      "text/plain": [
       "yes       9\n",
       "Others    5\n",
       "Name: Third Action-Quote Given, dtype: int64"
      ]
     },
     "execution_count": 231,
     "metadata": {},
     "output_type": "execute_result"
    }
   ],
   "source": [
    "df_ITP['Third Action-Quote Given'].value_counts()"
   ]
  },
  {
   "cell_type": "code",
   "execution_count": null,
   "metadata": {},
   "outputs": [],
   "source": []
  }
 ],
 "metadata": {
  "kernelspec": {
   "display_name": "Python 3",
   "language": "python",
   "name": "python3"
  },
  "language_info": {
   "codemirror_mode": {
    "name": "ipython",
    "version": 3
   },
   "file_extension": ".py",
   "mimetype": "text/x-python",
   "name": "python",
   "nbconvert_exporter": "python",
   "pygments_lexer": "ipython3",
   "version": "3.7.3"
  }
 },
 "nbformat": 4,
 "nbformat_minor": 2
}
