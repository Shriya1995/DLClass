{
 "cells": [
  {
   "cell_type": "markdown",
   "metadata": {},
   "source": [
    "<span style=\"font-family: Arial; font-weight:bold;font-size:1.9em;color:#ae09ea;\">  Case Study 1"
   ]
  },
  {
   "cell_type": "markdown",
   "metadata": {},
   "source": [
    "<span style=\"font-family: Arial; font-weight:bold;font-size:1.5em;color:#ae09ea;\">  About the Data set <span style=\"font-family: Arial; font-weight:bold;font-size:0.8em;color:red;\"> (500 Person Body Information)\n",
    "\n"
   ]
  },
  {
   "cell_type": "markdown",
   "metadata": {},
   "source": [
    "    GenderGender : Male / Female\n",
    "    HeightHeight : Number (cm)\n",
    "    WeightWeight : Number (Kg)\n",
    "    IndexIndex : 0 - Extremely Weak 1 - Weak 2 - Normal 3 - Overweight 4 - Obesity 5 - Extreme Obesity"
   ]
  },
  {
   "cell_type": "markdown",
   "metadata": {},
   "source": [
    "<span style=\"font-family: Arial; font-weight:bold;font-size:1.5em;color:#ae09ea;\"> 1.1 Load the libraries:"
   ]
  },
  {
   "cell_type": "code",
   "execution_count": 6,
   "metadata": {},
   "outputs": [],
   "source": [
    "import numpy as np\n",
    "import pandas as pd\n",
    "import matplotlib.pyplot as plt\n",
    "import seaborn as sns"
   ]
  },
  {
   "cell_type": "markdown",
   "metadata": {},
   "source": [
    "<span style=\"font-family: Arial; font-weight:bold;font-size:1.5em;color:#ae09ea;\"> 1.2. Import the dataset(Titanic train.csv):"
   ]
  },
  {
   "cell_type": "code",
   "execution_count": 7,
   "metadata": {},
   "outputs": [
    {
     "data": {
      "text/html": [
       "<div>\n",
       "<style scoped>\n",
       "    .dataframe tbody tr th:only-of-type {\n",
       "        vertical-align: middle;\n",
       "    }\n",
       "\n",
       "    .dataframe tbody tr th {\n",
       "        vertical-align: top;\n",
       "    }\n",
       "\n",
       "    .dataframe thead th {\n",
       "        text-align: right;\n",
       "    }\n",
       "</style>\n",
       "<table border=\"1\" class=\"dataframe\">\n",
       "  <thead>\n",
       "    <tr style=\"text-align: right;\">\n",
       "      <th></th>\n",
       "      <th>Gender</th>\n",
       "      <th>Height</th>\n",
       "      <th>Weight</th>\n",
       "      <th>Index</th>\n",
       "    </tr>\n",
       "  </thead>\n",
       "  <tbody>\n",
       "    <tr>\n",
       "      <th>0</th>\n",
       "      <td>Male</td>\n",
       "      <td>174</td>\n",
       "      <td>96</td>\n",
       "      <td>4</td>\n",
       "    </tr>\n",
       "    <tr>\n",
       "      <th>1</th>\n",
       "      <td>Male</td>\n",
       "      <td>189</td>\n",
       "      <td>87</td>\n",
       "      <td>2</td>\n",
       "    </tr>\n",
       "    <tr>\n",
       "      <th>2</th>\n",
       "      <td>Female</td>\n",
       "      <td>185</td>\n",
       "      <td>110</td>\n",
       "      <td>4</td>\n",
       "    </tr>\n",
       "    <tr>\n",
       "      <th>3</th>\n",
       "      <td>Female</td>\n",
       "      <td>195</td>\n",
       "      <td>104</td>\n",
       "      <td>3</td>\n",
       "    </tr>\n",
       "    <tr>\n",
       "      <th>4</th>\n",
       "      <td>Male</td>\n",
       "      <td>149</td>\n",
       "      <td>61</td>\n",
       "      <td>3</td>\n",
       "    </tr>\n",
       "  </tbody>\n",
       "</table>\n",
       "</div>"
      ],
      "text/plain": [
       "   Gender  Height  Weight  Index\n",
       "0    Male     174      96      4\n",
       "1    Male     189      87      2\n",
       "2  Female     185     110      4\n",
       "3  Female     195     104      3\n",
       "4    Male     149      61      3"
      ]
     },
     "execution_count": 7,
     "metadata": {},
     "output_type": "execute_result"
    }
   ],
   "source": [
    "df=pd.read_csv(\"500_Person_Gender_Height_Weight_Index.csv\")\n",
    "df.head()"
   ]
  },
  {
   "cell_type": "markdown",
   "metadata": {},
   "source": [
    "<span style=\"font-family: Arial; font-weight:bold;font-size:1.05em;color:#ae09ea;\"> 1.2a)  How many ways we can read multiple sources (csv, text, url etc.,)?"
   ]
  },
  {
   "cell_type": "raw",
   "metadata": {},
   "source": [
    "1. CSV = pd.read_csv('train.csv')\n",
    "2. XLSX files = pd.read_excel('train.xlsx', sheetname = 'Invoice')\n",
    "\n",
    "3. ZIP files =  * import zipfile\n",
    "            * archive = zipfile.ZipFile('T.zip', 'r')\n",
    "            * df = archive.read('train.csv')\n",
    "               \n",
    "4. Text (txt) = * text_file = open(\"text.txt\", \"r\")\n",
    "            *lines = text_file.read()\n",
    "               \n",
    "5. JSON file = pd.read_json('train.json')\n",
    "\n",
    "6. XML file =   *import xml.etree.ElementTree as ET\n",
    "             *tree = ET.parse('train.xml')\n",
    "             *root = tree.getroot()\n",
    "             *print root.tag\n",
    "               \n",
    "7. HDF =  pd.read_hdf('train.h5')\n"
   ]
  },
  {
   "cell_type": "markdown",
   "metadata": {},
   "source": [
    "## EDA Descriptive Statistics:"
   ]
  },
  {
   "cell_type": "markdown",
   "metadata": {},
   "source": [
    "<span style=\"font-family: Arial; font-weight:bold;font-size:1.5em;color:#ae09ea;\">  1.3  Measures of Central Tendency\n",
    "\n",
    "Measures of Central Tendency define significant, representative and adequate values for a set of data, depending on what you want to analyze. They are the \n",
    "\n",
    "1. mean\n",
    "2. median\n",
    "3. quantiles and mode."
   ]
  },
  {
   "cell_type": "markdown",
   "metadata": {},
   "source": [
    "<span style=\"font-family: Arial; font-weight:bold;font-size:1.2em;color:#ae09ea;\">  1.3a) Check the  mean ,Mode, Median and Quantile for data?"
   ]
  },
  {
   "cell_type": "markdown",
   "metadata": {},
   "source": [
    "#### Mean"
   ]
  },
  {
   "cell_type": "code",
   "execution_count": 8,
   "metadata": {},
   "outputs": [
    {
     "data": {
      "text/plain": [
       "Height    169.944\n",
       "Weight    106.000\n",
       "Index       3.748\n",
       "dtype: float64"
      ]
     },
     "execution_count": 8,
     "metadata": {},
     "output_type": "execute_result"
    }
   ],
   "source": [
    "df.mean()"
   ]
  },
  {
   "cell_type": "markdown",
   "metadata": {},
   "source": [
    "#### Mode"
   ]
  },
  {
   "cell_type": "code",
   "execution_count": 9,
   "metadata": {},
   "outputs": [
    {
     "data": {
      "text/html": [
       "<div>\n",
       "<style scoped>\n",
       "    .dataframe tbody tr th:only-of-type {\n",
       "        vertical-align: middle;\n",
       "    }\n",
       "\n",
       "    .dataframe tbody tr th {\n",
       "        vertical-align: top;\n",
       "    }\n",
       "\n",
       "    .dataframe thead th {\n",
       "        text-align: right;\n",
       "    }\n",
       "</style>\n",
       "<table border=\"1\" class=\"dataframe\">\n",
       "  <thead>\n",
       "    <tr style=\"text-align: right;\">\n",
       "      <th></th>\n",
       "      <th>Gender</th>\n",
       "      <th>Height</th>\n",
       "      <th>Weight</th>\n",
       "      <th>Index</th>\n",
       "    </tr>\n",
       "  </thead>\n",
       "  <tbody>\n",
       "    <tr>\n",
       "      <th>0</th>\n",
       "      <td>Female</td>\n",
       "      <td>188.0</td>\n",
       "      <td>50</td>\n",
       "      <td>5.0</td>\n",
       "    </tr>\n",
       "    <tr>\n",
       "      <th>1</th>\n",
       "      <td>NaN</td>\n",
       "      <td>NaN</td>\n",
       "      <td>80</td>\n",
       "      <td>NaN</td>\n",
       "    </tr>\n",
       "    <tr>\n",
       "      <th>2</th>\n",
       "      <td>NaN</td>\n",
       "      <td>NaN</td>\n",
       "      <td>104</td>\n",
       "      <td>NaN</td>\n",
       "    </tr>\n",
       "  </tbody>\n",
       "</table>\n",
       "</div>"
      ],
      "text/plain": [
       "   Gender  Height  Weight  Index\n",
       "0  Female   188.0      50    5.0\n",
       "1     NaN     NaN      80    NaN\n",
       "2     NaN     NaN     104    NaN"
      ]
     },
     "execution_count": 9,
     "metadata": {},
     "output_type": "execute_result"
    }
   ],
   "source": [
    "df.mode()"
   ]
  },
  {
   "cell_type": "markdown",
   "metadata": {},
   "source": [
    "#### Median and Quartile"
   ]
  },
  {
   "cell_type": "code",
   "execution_count": 26,
   "metadata": {},
   "outputs": [
    {
     "name": "stdout",
     "output_type": "stream",
     "text": [
      "Height    170.5\n",
      "Weight    106.0\n",
      "Index       4.0\n",
      "dtype: float64\n",
      "156.0\n",
      "170.5\n"
     ]
    }
   ],
   "source": [
    "median=df.median()\n",
    "print(median)\n",
    "quartile=np.percentile(df.Height,25)\n",
    "print(quartile)\n",
    "quartile=np.percentile(df.Height,50)\n",
    "print(quartile)\n"
   ]
  },
  {
   "cell_type": "markdown",
   "metadata": {},
   "source": [
    "<span style=\"font-family: Arial; font-weight:bold;font-size:1.5em;color:#ae09ea;\"> 1.3b) Plot the density graph and overley mean and meadian scores for data?"
   ]
  },
  {
   "cell_type": "code",
   "execution_count": 8,
   "metadata": {
    "scrolled": true
   },
   "outputs": [],
   "source": [
    "# Create density plot kind=\"density\"\n",
    "\n",
    "# create a green line plot for mean  on the density plot:\n",
    "\n",
    "# create a red line plot for median  on the density plot:\n"
   ]
  },
  {
   "cell_type": "code",
   "execution_count": 13,
   "metadata": {
    "scrolled": true
   },
   "outputs": [
    {
     "data": {
      "text/plain": [
       "<matplotlib.axes._subplots.AxesSubplot at 0x1a22103e10>"
      ]
     },
     "execution_count": 13,
     "metadata": {},
     "output_type": "execute_result"
    },
    {
     "data": {
      "image/png": "[encoded data removed]",
      "text/plain": [
       "<Figure size 432x288 with 1 Axes>"
      ]
     },
     "metadata": {
      "needs_background": "light"
     },
     "output_type": "display_data"
    }
   ],
   "source": [
    "sns.distplot(df.mean(),color=\"g\")"
   ]
  },
  {
   "cell_type": "code",
   "execution_count": 14,
   "metadata": {},
   "outputs": [
    {
     "data": {
      "text/plain": [
       "<matplotlib.axes._subplots.AxesSubplot at 0x1a221ed6a0>"
      ]
     },
     "execution_count": 14,
     "metadata": {},
     "output_type": "execute_result"
    },
    {
     "data": {
      "image/png": "[encoded data removed]",
      "text/plain": [
       "<Figure size 432x288 with 1 Axes>"
      ]
     },
     "metadata": {
      "needs_background": "light"
     },
     "output_type": "display_data"
    }
   ],
   "source": [
    "sns.distplot(df.median(),color=\"r\")"
   ]
  },
  {
   "cell_type": "markdown",
   "metadata": {},
   "source": [
    "<span style=\"font-family: Arial; font-weight:bold;font-size:1.5em;color:#ae09ea;\"> 1.4 Check (Quantile 25%,50%,75%)?"
   ]
  },
  {
   "cell_type": "markdown",
   "metadata": {},
   "source": [
    "#### Quantile 25%"
   ]
  },
  {
   "cell_type": "code",
   "execution_count": 20,
   "metadata": {},
   "outputs": [
    {
     "name": "stdout",
     "output_type": "stream",
     "text": [
      "The quantile for Height is 156.0\n",
      "The quantile for Weight is 80.0\n",
      "The quantile for Index is 3.0\n"
     ]
    }
   ],
   "source": [
    "print(\"The quantile for Height is {}\".format(np.percentile(df.Height,25)))\n",
    "print(\"The quantile for Weight is {}\".format(np.percentile(df.Weight,25)))\n",
    "print(\"The quantile for Index is {}\".format(np.percentile(df.Index,25)))"
   ]
  },
  {
   "cell_type": "markdown",
   "metadata": {},
   "source": [
    "#### Quantile 50%"
   ]
  },
  {
   "cell_type": "code",
   "execution_count": 21,
   "metadata": {},
   "outputs": [
    {
     "name": "stdout",
     "output_type": "stream",
     "text": [
      "The quantile for Height is 170.5\n",
      "The quantile for Weight is 106.0\n",
      "The quantile for Index is 4.0\n"
     ]
    }
   ],
   "source": [
    "print(\"The quantile for Height is {}\".format(np.percentile(df.Height,50)))\n",
    "print(\"The quantile for Weight is {}\".format(np.percentile(df.Weight,50)))\n",
    "print(\"The quantile for Index is {}\".format(np.percentile(df.Index,50)))"
   ]
  },
  {
   "cell_type": "markdown",
   "metadata": {},
   "source": [
    "#### Quantile 75%"
   ]
  },
  {
   "cell_type": "code",
   "execution_count": 22,
   "metadata": {},
   "outputs": [
    {
     "name": "stdout",
     "output_type": "stream",
     "text": [
      "The quantile for Height is 184.0\n",
      "The quantile for Weight is 136.0\n",
      "The quantile for Index is 5.0\n"
     ]
    }
   ],
   "source": [
    "print(\"The quantile for Height is {}\".format(np.percentile(df.Height,75)))\n",
    "print(\"The quantile for Weight is {}\".format(np.percentile(df.Weight,75)))\n",
    "print(\"The quantile for Index is {}\".format(np.percentile(df.Index,75)))"
   ]
  },
  {
   "cell_type": "markdown",
   "metadata": {},
   "source": [
    "<span style=\"font-family: Arial; font-weight:bold;font-size:1.5em;color:#ae09ea;\"> 1.5 Measures of Dispersion"
   ]
  },
  {
   "cell_type": "markdown",
   "metadata": {},
   "source": [
    "Measures of Dispersion are measures that indicate how spread the data is, or how they vary. The measures of dispersion are range, variance, standard deviation and the absolute deviation, or mean absolute deviation."
   ]
  },
  {
   "cell_type": "markdown",
   "metadata": {},
   "source": [
    "<span style=\"font-family: Arial; font-weight:bold;font-size:1.2em;color:#ae09ea;\"> 1.5a)  check the Range,Variance,Standard Deviation,Absolute Deviation or Mean Absolute Deviation for data?"
   ]
  },
  {
   "cell_type": "markdown",
   "metadata": {},
   "source": [
    "#### Range for height"
   ]
  },
  {
   "cell_type": "code",
   "execution_count": 36,
   "metadata": {},
   "outputs": [
    {
     "name": "stdout",
     "output_type": "stream",
     "text": [
      "59\n"
     ]
    }
   ],
   "source": [
    "dfmax=df.Height.max()\n",
    "dfmin=df.Height.min()\n",
    "Rangeofheight=dfmax-dfmin\n",
    "print(Rangeofheight)\n"
   ]
  },
  {
   "cell_type": "markdown",
   "metadata": {},
   "source": [
    "#### Variance"
   ]
  },
  {
   "cell_type": "code",
   "execution_count": 37,
   "metadata": {},
   "outputs": [
    {
     "data": {
      "text/plain": [
       "Height     268.149162\n",
       "Weight    1048.633267\n",
       "Index        1.836168\n",
       "dtype: float64"
      ]
     },
     "execution_count": 37,
     "metadata": {},
     "output_type": "execute_result"
    }
   ],
   "source": [
    "df.var()"
   ]
  },
  {
   "cell_type": "markdown",
   "metadata": {},
   "source": [
    "#### Standard Deviation"
   ]
  },
  {
   "cell_type": "code",
   "execution_count": 38,
   "metadata": {},
   "outputs": [
    {
     "data": {
      "text/plain": [
       "Height    16.375261\n",
       "Weight    32.382607\n",
       "Index      1.355053\n",
       "dtype: float64"
      ]
     },
     "execution_count": 38,
     "metadata": {},
     "output_type": "execute_result"
    }
   ],
   "source": [
    "df.std()"
   ]
  },
  {
   "cell_type": "markdown",
   "metadata": {},
   "source": [
    "#### Absolute Deviation or Mean Absolute Deviation"
   ]
  },
  {
   "cell_type": "code",
   "execution_count": 12,
   "metadata": {},
   "outputs": [
    {
     "data": {
      "text/plain": [
       "<bound method NDFrame._add_numeric_operations.<locals>.mad of      Gender  Height  Weight  Index\n",
       "0      Male     174      96      4\n",
       "1      Male     189      87      2\n",
       "2    Female     185     110      4\n",
       "3    Female     195     104      3\n",
       "4      Male     149      61      3\n",
       "5      Male     189     104      3\n",
       "6      Male     147      92      5\n",
       "7      Male     154     111      5\n",
       "8      Male     174      90      3\n",
       "9    Female     169     103      4\n",
       "10     Male     195      81      2\n",
       "11   Female     159      80      4\n",
       "12   Female     192     101      3\n",
       "13     Male     155      51      2\n",
       "14     Male     191      79      2\n",
       "15   Female     153     107      5\n",
       "16   Female     157     110      5\n",
       "17     Male     140     129      5\n",
       "18     Male     144     145      5\n",
       "19     Male     172     139      5\n",
       "20     Male     157     110      5\n",
       "21   Female     153     149      5\n",
       "22   Female     169      97      4\n",
       "23     Male     185     139      5\n",
       "24   Female     172      67      2\n",
       "25   Female     151      64      3\n",
       "26     Male     190      95      3\n",
       "27     Male     187      62      1\n",
       "28   Female     163     159      5\n",
       "29     Male     179     152      5\n",
       "..      ...     ...     ...    ...\n",
       "470    Male     147     142      5\n",
       "471    Male     154     112      5\n",
       "472  Female     178      65      2\n",
       "473    Male     195     153      5\n",
       "474  Female     167      79      3\n",
       "475    Male     183     131      4\n",
       "476  Female     164     142      5\n",
       "477    Male     167      64      2\n",
       "478  Female     151      55      2\n",
       "479  Female     147     107      5\n",
       "480  Female     155     115      5\n",
       "481  Female     172     108      4\n",
       "482  Female     142      86      5\n",
       "483    Male     146      85      4\n",
       "484  Female     188     115      4\n",
       "485    Male     173     111      4\n",
       "486  Female     160     109      5\n",
       "487    Male     187      80      2\n",
       "488    Male     198     136      4\n",
       "489  Female     179     150      5\n",
       "490  Female     164      59      2\n",
       "491  Female     146     147      5\n",
       "492  Female     198      50      0\n",
       "493  Female     170      53      1\n",
       "494    Male     152      98      5\n",
       "495  Female     150     153      5\n",
       "496  Female     184     121      4\n",
       "497  Female     141     136      5\n",
       "498    Male     150      95      5\n",
       "499    Male     173     131      5\n",
       "\n",
       "[500 rows x 4 columns]>"
      ]
     },
     "execution_count": 12,
     "metadata": {},
     "output_type": "execute_result"
    }
   ],
   "source": [
    "df.mad"
   ]
  },
  {
   "cell_type": "markdown",
   "metadata": {},
   "source": [
    "<span style=\"font-family: Arial; font-weight:bold;font-size:1.5em;color:#ae09ea;\"> 1.6 Covariance and Correlation"
   ]
  },
  {
   "cell_type": "markdown",
   "metadata": {},
   "source": [
    "1. Covariance is a numerical measure that indicates the inter-dependency between two variables. \n",
    "2. Covariance indicates how two variables behave together in relation to their averages. \n",
    "3. A covariance of 0 indicates that the variables are totally independant, while a high and positive covariance value means that a variable is big when the other is big. Analogously, a negative covariance with a high absolute value means that one variable is big when the other is small.\n",
    "4. Covariance can be calculated through the cov() function. "
   ]
  },
  {
   "cell_type": "markdown",
   "metadata": {},
   "source": [
    "<span style=\"font-family: Arial; font-weight:bold;font-size:1.2em;color:#ae09ea;\"> 1.6a) Check the Covariance and Correlation scores . write your Observations?"
   ]
  },
  {
   "cell_type": "markdown",
   "metadata": {},
   "source": [
    "#### Covariance"
   ]
  },
  {
   "cell_type": "code",
   "execution_count": 10,
   "metadata": {},
   "outputs": [
    {
     "data": {
      "text/plain": [
       "array([[2.68149162e+02, 2.36472946e-01],\n",
       "       [2.36472946e-01, 1.04863327e+03]])"
      ]
     },
     "execution_count": 10,
     "metadata": {},
     "output_type": "execute_result"
    }
   ],
   "source": [
    "np.cov(df.Height,df.Weight)"
   ]
  },
  {
   "cell_type": "markdown",
   "metadata": {},
   "source": [
    "<span style=\"font-family: Arial; font-weight:bold;font-size:1.1em;color:#ae09ea;\"> Observation:\n",
    "   "
   ]
  },
  {
   "cell_type": "code",
   "execution_count": null,
   "metadata": {},
   "outputs": [],
   "source": []
  },
  {
   "cell_type": "markdown",
   "metadata": {},
   "source": [
    "#### Correlation"
   ]
  },
  {
   "cell_type": "code",
   "execution_count": 11,
   "metadata": {},
   "outputs": [
    {
     "data": {
      "text/html": [
       "<div>\n",
       "<style scoped>\n",
       "    .dataframe tbody tr th:only-of-type {\n",
       "        vertical-align: middle;\n",
       "    }\n",
       "\n",
       "    .dataframe tbody tr th {\n",
       "        vertical-align: top;\n",
       "    }\n",
       "\n",
       "    .dataframe thead th {\n",
       "        text-align: right;\n",
       "    }\n",
       "</style>\n",
       "<table border=\"1\" class=\"dataframe\">\n",
       "  <thead>\n",
       "    <tr style=\"text-align: right;\">\n",
       "      <th></th>\n",
       "      <th>Height</th>\n",
       "      <th>Weight</th>\n",
       "      <th>Index</th>\n",
       "    </tr>\n",
       "  </thead>\n",
       "  <tbody>\n",
       "    <tr>\n",
       "      <th>Height</th>\n",
       "      <td>1.000000</td>\n",
       "      <td>0.000446</td>\n",
       "      <td>-0.422223</td>\n",
       "    </tr>\n",
       "    <tr>\n",
       "      <th>Weight</th>\n",
       "      <td>0.000446</td>\n",
       "      <td>1.000000</td>\n",
       "      <td>0.804569</td>\n",
       "    </tr>\n",
       "    <tr>\n",
       "      <th>Index</th>\n",
       "      <td>-0.422223</td>\n",
       "      <td>0.804569</td>\n",
       "      <td>1.000000</td>\n",
       "    </tr>\n",
       "  </tbody>\n",
       "</table>\n",
       "</div>"
      ],
      "text/plain": [
       "          Height    Weight     Index\n",
       "Height  1.000000  0.000446 -0.422223\n",
       "Weight  0.000446  1.000000  0.804569\n",
       "Index  -0.422223  0.804569  1.000000"
      ]
     },
     "execution_count": 11,
     "metadata": {},
     "output_type": "execute_result"
    }
   ],
   "source": [
    "df.corr()"
   ]
  },
  {
   "cell_type": "markdown",
   "metadata": {},
   "source": [
    "<span style=\"font-family: Arial; font-weight:bold;font-size:1.1em;color:#ae09ea;\"> Observation:\n",
    "    \n"
   ]
  },
  {
   "cell_type": "code",
   "execution_count": null,
   "metadata": {},
   "outputs": [],
   "source": [
    "# There is strong positive correlation with weight and index. "
   ]
  },
  {
   "cell_type": "markdown",
   "metadata": {},
   "source": [
    "\n",
    "<span style=\"font-family: Arial; font-weight:bold;font-size:1.9em;color:#ae09ea;\">Case Study 2"
   ]
  },
  {
   "cell_type": "markdown",
   "metadata": {},
   "source": [
    "\n",
    "<span style=\"font-family: Arial; font-weight:bold;font-size:1.5em;color:#ae09ea;\">About the dataset:<span style=\"font-family: Arial; font-weight:bold;font-size:1em;color:red;\">(Motor Trend US Magazine)"
   ]
  },
  {
   "cell_type": "raw",
   "metadata": {},
   "source": [
    "The data was extracted from the 1974 Motor Trend US magazine, and comprises fuel consumption and 10 aspects of automobile design and performance for 32 automobiles (1973–74 models)\n",
    "\n",
    "A data frame with 32 observations on 11 (numeric) variables.\n",
    "* model= carmodels\n",
    "* mpg =\tMiles/(US) gallon\n",
    "* cyl =\tNumber of cylinders\n",
    "* disp=\tDisplacement (cu.in.)\n",
    "* hp  =Gross horsepower\n",
    "* drat=\tRear axle ratio\n",
    "* wt  =Weight (1000 lbs)\n",
    "* qsec=1/4 mile time\n",
    "* vs  =Engine (0 = V-shaped, 1 = straight)\n",
    "* am  =Transmission (0 = automatic, 1 = manual)\n",
    "* gear=\tNumber of forward gears\n",
    "* carb=\tNumber of carburetors"
   ]
  },
  {
   "cell_type": "markdown",
   "metadata": {},
   "source": [
    "\n",
    "<span style=\"font-family: Arial; font-weight:bold;font-size:1.5em;color:#ae09ea;\"> 2.1. Importing the dataset(mtcars.csv.csv):"
   ]
  },
  {
   "cell_type": "code",
   "execution_count": 63,
   "metadata": {},
   "outputs": [
    {
     "data": {
      "text/html": [
       "<div>\n",
       "<style scoped>\n",
       "    .dataframe tbody tr th:only-of-type {\n",
       "        vertical-align: middle;\n",
       "    }\n",
       "\n",
       "    .dataframe tbody tr th {\n",
       "        vertical-align: top;\n",
       "    }\n",
       "\n",
       "    .dataframe thead th {\n",
       "        text-align: right;\n",
       "    }\n",
       "</style>\n",
       "<table border=\"1\" class=\"dataframe\">\n",
       "  <thead>\n",
       "    <tr style=\"text-align: right;\">\n",
       "      <th></th>\n",
       "      <th>model</th>\n",
       "      <th>mpg</th>\n",
       "      <th>cyl</th>\n",
       "      <th>disp</th>\n",
       "      <th>hp</th>\n",
       "      <th>drat</th>\n",
       "      <th>wt</th>\n",
       "      <th>qsec</th>\n",
       "      <th>vs</th>\n",
       "      <th>am</th>\n",
       "      <th>gear</th>\n",
       "      <th>carb</th>\n",
       "    </tr>\n",
       "  </thead>\n",
       "  <tbody>\n",
       "    <tr>\n",
       "      <th>0</th>\n",
       "      <td>Mazda RX4</td>\n",
       "      <td>21.0</td>\n",
       "      <td>6</td>\n",
       "      <td>160.0</td>\n",
       "      <td>110</td>\n",
       "      <td>3.90</td>\n",
       "      <td>2.620</td>\n",
       "      <td>16.46</td>\n",
       "      <td>0</td>\n",
       "      <td>1</td>\n",
       "      <td>4</td>\n",
       "      <td>4</td>\n",
       "    </tr>\n",
       "    <tr>\n",
       "      <th>1</th>\n",
       "      <td>Mazda RX4 Wag</td>\n",
       "      <td>21.0</td>\n",
       "      <td>6</td>\n",
       "      <td>160.0</td>\n",
       "      <td>110</td>\n",
       "      <td>3.90</td>\n",
       "      <td>2.875</td>\n",
       "      <td>17.02</td>\n",
       "      <td>0</td>\n",
       "      <td>1</td>\n",
       "      <td>4</td>\n",
       "      <td>4</td>\n",
       "    </tr>\n",
       "    <tr>\n",
       "      <th>2</th>\n",
       "      <td>Datsun 710</td>\n",
       "      <td>22.8</td>\n",
       "      <td>4</td>\n",
       "      <td>108.0</td>\n",
       "      <td>93</td>\n",
       "      <td>3.85</td>\n",
       "      <td>2.320</td>\n",
       "      <td>18.61</td>\n",
       "      <td>1</td>\n",
       "      <td>1</td>\n",
       "      <td>4</td>\n",
       "      <td>1</td>\n",
       "    </tr>\n",
       "    <tr>\n",
       "      <th>3</th>\n",
       "      <td>Hornet 4 Drive</td>\n",
       "      <td>21.4</td>\n",
       "      <td>6</td>\n",
       "      <td>258.0</td>\n",
       "      <td>110</td>\n",
       "      <td>3.08</td>\n",
       "      <td>3.215</td>\n",
       "      <td>19.44</td>\n",
       "      <td>1</td>\n",
       "      <td>0</td>\n",
       "      <td>3</td>\n",
       "      <td>1</td>\n",
       "    </tr>\n",
       "    <tr>\n",
       "      <th>4</th>\n",
       "      <td>Hornet Sportabout</td>\n",
       "      <td>18.7</td>\n",
       "      <td>8</td>\n",
       "      <td>360.0</td>\n",
       "      <td>175</td>\n",
       "      <td>3.15</td>\n",
       "      <td>3.440</td>\n",
       "      <td>17.02</td>\n",
       "      <td>0</td>\n",
       "      <td>0</td>\n",
       "      <td>3</td>\n",
       "      <td>2</td>\n",
       "    </tr>\n",
       "  </tbody>\n",
       "</table>\n",
       "</div>"
      ],
      "text/plain": [
       "               model   mpg  cyl   disp   hp  drat     wt   qsec  vs  am  gear  \\\n",
       "0          Mazda RX4  21.0    6  160.0  110  3.90  2.620  16.46   0   1     4   \n",
       "1      Mazda RX4 Wag  21.0    6  160.0  110  3.90  2.875  17.02   0   1     4   \n",
       "2         Datsun 710  22.8    4  108.0   93  3.85  2.320  18.61   1   1     4   \n",
       "3     Hornet 4 Drive  21.4    6  258.0  110  3.08  3.215  19.44   1   0     3   \n",
       "4  Hornet Sportabout  18.7    8  360.0  175  3.15  3.440  17.02   0   0     3   \n",
       "\n",
       "   carb  \n",
       "0     4  \n",
       "1     4  \n",
       "2     1  \n",
       "3     1  \n",
       "4     2  "
      ]
     },
     "execution_count": 63,
     "metadata": {},
     "output_type": "execute_result"
    }
   ],
   "source": [
    "data=pd.read_csv(\"mtcars.csv\")\n",
    "data.head()"
   ]
  },
  {
   "cell_type": "markdown",
   "metadata": {},
   "source": [
    "<span style=\"font-family: Arial; font-weight:bold;font-size:1.5em;color:#ae09ea;\"> 2.2 check the mtcars.describe()?"
   ]
  },
  {
   "cell_type": "code",
   "execution_count": 64,
   "metadata": {},
   "outputs": [
    {
     "data": {
      "text/html": [
       "<div>\n",
       "<style scoped>\n",
       "    .dataframe tbody tr th:only-of-type {\n",
       "        vertical-align: middle;\n",
       "    }\n",
       "\n",
       "    .dataframe tbody tr th {\n",
       "        vertical-align: top;\n",
       "    }\n",
       "\n",
       "    .dataframe thead th {\n",
       "        text-align: right;\n",
       "    }\n",
       "</style>\n",
       "<table border=\"1\" class=\"dataframe\">\n",
       "  <thead>\n",
       "    <tr style=\"text-align: right;\">\n",
       "      <th></th>\n",
       "      <th>mpg</th>\n",
       "      <th>cyl</th>\n",
       "      <th>disp</th>\n",
       "      <th>hp</th>\n",
       "      <th>drat</th>\n",
       "      <th>wt</th>\n",
       "      <th>qsec</th>\n",
       "      <th>vs</th>\n",
       "      <th>am</th>\n",
       "      <th>gear</th>\n",
       "      <th>carb</th>\n",
       "    </tr>\n",
       "  </thead>\n",
       "  <tbody>\n",
       "    <tr>\n",
       "      <th>count</th>\n",
       "      <td>32.000000</td>\n",
       "      <td>32.000000</td>\n",
       "      <td>32.000000</td>\n",
       "      <td>32.000000</td>\n",
       "      <td>32.000000</td>\n",
       "      <td>32.000000</td>\n",
       "      <td>32.000000</td>\n",
       "      <td>32.000000</td>\n",
       "      <td>32.000000</td>\n",
       "      <td>32.000000</td>\n",
       "      <td>32.0000</td>\n",
       "    </tr>\n",
       "    <tr>\n",
       "      <th>mean</th>\n",
       "      <td>20.090625</td>\n",
       "      <td>6.187500</td>\n",
       "      <td>230.721875</td>\n",
       "      <td>146.687500</td>\n",
       "      <td>3.596563</td>\n",
       "      <td>3.217250</td>\n",
       "      <td>17.848750</td>\n",
       "      <td>0.437500</td>\n",
       "      <td>0.406250</td>\n",
       "      <td>3.687500</td>\n",
       "      <td>2.8125</td>\n",
       "    </tr>\n",
       "    <tr>\n",
       "      <th>std</th>\n",
       "      <td>6.026948</td>\n",
       "      <td>1.785922</td>\n",
       "      <td>123.938694</td>\n",
       "      <td>68.562868</td>\n",
       "      <td>0.534679</td>\n",
       "      <td>0.978457</td>\n",
       "      <td>1.786943</td>\n",
       "      <td>0.504016</td>\n",
       "      <td>0.498991</td>\n",
       "      <td>0.737804</td>\n",
       "      <td>1.6152</td>\n",
       "    </tr>\n",
       "    <tr>\n",
       "      <th>min</th>\n",
       "      <td>10.400000</td>\n",
       "      <td>4.000000</td>\n",
       "      <td>71.100000</td>\n",
       "      <td>52.000000</td>\n",
       "      <td>2.760000</td>\n",
       "      <td>1.513000</td>\n",
       "      <td>14.500000</td>\n",
       "      <td>0.000000</td>\n",
       "      <td>0.000000</td>\n",
       "      <td>3.000000</td>\n",
       "      <td>1.0000</td>\n",
       "    </tr>\n",
       "    <tr>\n",
       "      <th>25%</th>\n",
       "      <td>15.425000</td>\n",
       "      <td>4.000000</td>\n",
       "      <td>120.825000</td>\n",
       "      <td>96.500000</td>\n",
       "      <td>3.080000</td>\n",
       "      <td>2.581250</td>\n",
       "      <td>16.892500</td>\n",
       "      <td>0.000000</td>\n",
       "      <td>0.000000</td>\n",
       "      <td>3.000000</td>\n",
       "      <td>2.0000</td>\n",
       "    </tr>\n",
       "    <tr>\n",
       "      <th>50%</th>\n",
       "      <td>19.200000</td>\n",
       "      <td>6.000000</td>\n",
       "      <td>196.300000</td>\n",
       "      <td>123.000000</td>\n",
       "      <td>3.695000</td>\n",
       "      <td>3.325000</td>\n",
       "      <td>17.710000</td>\n",
       "      <td>0.000000</td>\n",
       "      <td>0.000000</td>\n",
       "      <td>4.000000</td>\n",
       "      <td>2.0000</td>\n",
       "    </tr>\n",
       "    <tr>\n",
       "      <th>75%</th>\n",
       "      <td>22.800000</td>\n",
       "      <td>8.000000</td>\n",
       "      <td>326.000000</td>\n",
       "      <td>180.000000</td>\n",
       "      <td>3.920000</td>\n",
       "      <td>3.610000</td>\n",
       "      <td>18.900000</td>\n",
       "      <td>1.000000</td>\n",
       "      <td>1.000000</td>\n",
       "      <td>4.000000</td>\n",
       "      <td>4.0000</td>\n",
       "    </tr>\n",
       "    <tr>\n",
       "      <th>max</th>\n",
       "      <td>33.900000</td>\n",
       "      <td>8.000000</td>\n",
       "      <td>472.000000</td>\n",
       "      <td>335.000000</td>\n",
       "      <td>4.930000</td>\n",
       "      <td>5.424000</td>\n",
       "      <td>22.900000</td>\n",
       "      <td>1.000000</td>\n",
       "      <td>1.000000</td>\n",
       "      <td>5.000000</td>\n",
       "      <td>8.0000</td>\n",
       "    </tr>\n",
       "  </tbody>\n",
       "</table>\n",
       "</div>"
      ],
      "text/plain": [
       "             mpg        cyl        disp          hp       drat         wt  \\\n",
       "count  32.000000  32.000000   32.000000   32.000000  32.000000  32.000000   \n",
       "mean   20.090625   6.187500  230.721875  146.687500   3.596563   3.217250   \n",
       "std     6.026948   1.785922  123.938694   68.562868   0.534679   0.978457   \n",
       "min    10.400000   4.000000   71.100000   52.000000   2.760000   1.513000   \n",
       "25%    15.425000   4.000000  120.825000   96.500000   3.080000   2.581250   \n",
       "50%    19.200000   6.000000  196.300000  123.000000   3.695000   3.325000   \n",
       "75%    22.800000   8.000000  326.000000  180.000000   3.920000   3.610000   \n",
       "max    33.900000   8.000000  472.000000  335.000000   4.930000   5.424000   \n",
       "\n",
       "            qsec         vs         am       gear     carb  \n",
       "count  32.000000  32.000000  32.000000  32.000000  32.0000  \n",
       "mean   17.848750   0.437500   0.406250   3.687500   2.8125  \n",
       "std     1.786943   0.504016   0.498991   0.737804   1.6152  \n",
       "min    14.500000   0.000000   0.000000   3.000000   1.0000  \n",
       "25%    16.892500   0.000000   0.000000   3.000000   2.0000  \n",
       "50%    17.710000   0.000000   0.000000   4.000000   2.0000  \n",
       "75%    18.900000   1.000000   1.000000   4.000000   4.0000  \n",
       "max    22.900000   1.000000   1.000000   5.000000   8.0000  "
      ]
     },
     "execution_count": 64,
     "metadata": {},
     "output_type": "execute_result"
    }
   ],
   "source": [
    "data.describe()"
   ]
  },
  {
   "cell_type": "markdown",
   "metadata": {},
   "source": [
    "<span style=\"font-family: Arial; font-weight:bold;font-size:1.5em;color:#ae09ea;\">2.3  create a boxplot to visualize the five number of summary and IQR. write your Observations?"
   ]
  },
  {
   "cell_type": "code",
   "execution_count": 44,
   "metadata": {},
   "outputs": [],
   "source": [
    "# Create boxplot for column=\"mpg\"\n",
    "\n",
    "# create text(x=0.74, y=22.25, s=\"3rd Quartile\")like Median, 1st Quartile,Min,Max,IQR:\n"
   ]
  },
  {
   "cell_type": "code",
   "execution_count": 65,
   "metadata": {
    "scrolled": true
   },
   "outputs": [
    {
     "data": {
      "text/plain": [
       "<matplotlib.axes._subplots.AxesSubplot at 0x1a234f24e0>"
      ]
     },
     "execution_count": 65,
     "metadata": {},
     "output_type": "execute_result"
    },
    {
     "data": {
      "image/png": "[encoded data removed]",
      "text/plain": [
       "<Figure size 432x288 with 1 Axes>"
      ]
     },
     "metadata": {
      "needs_background": "light"
     },
     "output_type": "display_data"
    }
   ],
   "source": [
    "sns.boxplot(data.mpg,orient=\"v\",width=0.5)"
   ]
  },
  {
   "cell_type": "markdown",
   "metadata": {},
   "source": [
    "# Observation"
   ]
  },
  {
   "cell_type": "code",
   "execution_count": 2,
   "metadata": {},
   "outputs": [],
   "source": [
    "#Milespergallon falls between 16 to 24.There is 1 positive outlier. "
   ]
  },
  {
   "cell_type": "code",
   "execution_count": 73,
   "metadata": {
    "scrolled": true
   },
   "outputs": [
    {
     "name": "stdout",
     "output_type": "stream",
     "text": [
      "The median of mpg column is 19.2\n",
      "The min of mpg column is 10.4\n",
      "The max of mpg column is 33.9\n",
      "The IQR of mpg column is 7.375\n",
      "The first quartile of mpg column is 15.425\n"
     ]
    }
   ],
   "source": [
    "IQR=np.percentile(data.mpg,[25,50,75])\n",
    "\n",
    "\n",
    "print(\"The median of mpg column is {}\".format(data.mpg.median()))\n",
    "print(\"The min of mpg column is {}\".format(data.mpg.min()))\n",
    "print(\"The max of mpg column is {}\".format(data.mpg.max()))\n",
    "print(\"The IQR of mpg column is {}\".format((IQR[2]-IQR[0])))\n",
    "print(\"The first quartile of mpg column is {}\".format((IQR[0])))"
   ]
  },
  {
   "cell_type": "code",
   "execution_count": null,
   "metadata": {},
   "outputs": [],
   "source": []
  },
  {
   "cell_type": "markdown",
   "metadata": {},
   "source": [
    "<span style=\"font-family: Arial; font-weight:bold;font-size:1.1em;color:#ae09ea;\"> Observation:\n"
   ]
  },
  {
   "cell_type": "code",
   "execution_count": null,
   "metadata": {},
   "outputs": [],
   "source": []
  },
  {
   "cell_type": "markdown",
   "metadata": {},
   "source": [
    "<span style=\"font-family: Arial; font-weight:bold;font-size:1.5em;color:#ae09ea;\"> 2.4 Creat New random.normal(size=100000) to visualize mean and median on a density plot . write your Observations ?"
   ]
  },
  {
   "cell_type": "code",
   "execution_count": 3,
   "metadata": {},
   "outputs": [],
   "source": [
    "# Create New random.normal(size=100000)\n",
    "\n",
    "\n",
    "# create density plot new data:\n",
    "\n",
    "# create a red line plot for mean on the density plot:\n",
    "\n",
    "## create a green line plot for median on the density plot:\n"
   ]
  },
  {
   "cell_type": "code",
   "execution_count": 87,
   "metadata": {},
   "outputs": [
    {
     "name": "stdout",
     "output_type": "stream",
     "text": [
      "[-0.87632281 -0.99549797 -0.07628963 ... -0.51866776  1.13771041\n",
      " -1.4486041 ]\n",
      "0.00019507879500949726\n",
      "0.0012162297286044082\n"
     ]
    },
    {
     "data": {
      "text/plain": [
       "<matplotlib.lines.Line2D at 0x1a234088d0>"
      ]
     },
     "execution_count": 87,
     "metadata": {},
     "output_type": "execute_result"
    },
    {
     "data": {
      "image/png": "[encoded data removed]",
      "text/plain": [
       "<Figure size 432x288 with 1 Axes>"
      ]
     },
     "metadata": {
      "needs_background": "light"
     },
     "output_type": "display_data"
    }
   ],
   "source": [
    "a=np.random.normal(size=100000)\n",
    "print(a)\n",
    "b=a.mean()\n",
    "print(b)\n",
    "c=np.median(a)\n",
    "print(c)\n",
    "ax=sns.distplot([b,c])\n",
    "ax.axvline(b,color=\"r\")\n",
    "ax.axvline(c,color=\"g\")\n",
    "\n"
   ]
  },
  {
   "cell_type": "markdown",
   "metadata": {},
   "source": [
    "<span style=\"font-family: Arial; font-weight:bold;font-size:1.1em;color:#ae09ea;\"> Observation:\n",
    "\n"
   ]
  },
  {
   "cell_type": "code",
   "execution_count": null,
   "metadata": {},
   "outputs": [],
   "source": [
    "# Here, mean is slight less than the median. So, left skew."
   ]
  },
  {
   "cell_type": "markdown",
   "metadata": {},
   "source": [
    "<span style=\"font-family: Arial; font-weight:bold;font-size:1.5em;color:#ae09ea;\">2.5 Creat New skewed_data random.exponential(size=100000) to visualize mean and median on a density plot.  write your Observations?"
   ]
  },
  {
   "cell_type": "code",
   "execution_count": 4,
   "metadata": {},
   "outputs": [],
   "source": [
    "# create skewed_data exponential(size=100000)):\n",
    "\n",
    "\n",
    "#create density plot for skewed_data:\n",
    "\n",
    "\n",
    "# create a red line plot for mean  on the density plot:\n",
    "\n",
    "\n",
    "## create a green line plot for median  on the density plot:\n"
   ]
  },
  {
   "cell_type": "code",
   "execution_count": 89,
   "metadata": {},
   "outputs": [
    {
     "name": "stdout",
     "output_type": "stream",
     "text": [
      "[0.39333953 0.40138368 0.65540253 ... 0.49817588 0.65343701 0.63163617]\n",
      "0.9959438631649372\n",
      "0.6897572348074477\n"
     ]
    },
    {
     "data": {
      "text/plain": [
       "<matplotlib.lines.Line2D at 0x1a2341eeb8>"
      ]
     },
     "execution_count": 89,
     "metadata": {},
     "output_type": "execute_result"
    },
    {
     "data": {
      "image/png": "[encoded data removed]",
      "text/plain": [
       "<Figure size 432x288 with 1 Axes>"
      ]
     },
     "metadata": {
      "needs_background": "light"
     },
     "output_type": "display_data"
    }
   ],
   "source": [
    "a=np.random.exponential(size=100000)\n",
    "print(a)\n",
    "b=a.mean()\n",
    "print(b)\n",
    "c=np.median(a)\n",
    "print(c)\n",
    "ax=sns.distplot(a)\n",
    "ax.axvline(b,color=\"r\")\n",
    "ax.axvline(c,color=\"g\")\n",
    "\n",
    "\n"
   ]
  },
  {
   "cell_type": "markdown",
   "metadata": {},
   "source": [
    "<span style=\"font-family: Arial; font-weight:bold;font-size:1.1em;color:#ae09ea;\"> Observation:\n",
    "\n"
   ]
  },
  {
   "cell_type": "code",
   "execution_count": 3,
   "metadata": {},
   "outputs": [],
   "source": [
    "#Here mean is greater than median so it is right skewed."
   ]
  },
  {
   "cell_type": "markdown",
   "metadata": {},
   "source": [
    "<span style=\"font-family: Arial; font-weight:bold;font-size:1.5em;color:#ae09ea;\"> 2.6 Create both (Newdata,outliers data ) using random.normal(size=50) to visualize mean and median on a density plot.  write your Observations?"
   ]
  },
  {
   "cell_type": "code",
   "execution_count": 5,
   "metadata": {
    "scrolled": true
   },
   "outputs": [],
   "source": [
    "# create a normally distributed data with mean 0 using random.normal(size=50) \n",
    "\n",
    "# create a additional outlier data uwith mean >=10 using random.normal(loc=10 size=15) \n",
    "\n",
    "\n",
    "# Concatenate both the data sets\n",
    "\n",
    "\n",
    "# Create a density plot\n",
    "\n",
    "# create a red line plot for mean on the density plot:\n",
    "\n",
    "\n",
    "# create a green line plot for median on the density plot:\n"
   ]
  },
  {
   "cell_type": "code",
   "execution_count": 98,
   "metadata": {},
   "outputs": [
    {
     "name": "stdout",
     "output_type": "stream",
     "text": [
      "[-0.4932801   0.23656733  1.33016217  1.11211807 -1.53492761 -0.42109869\n",
      " -0.44677433 -0.81844867  2.00518737  0.61397884  0.37432889 -0.27451507\n",
      " -2.17368979  0.37459108 -1.26279912  0.23204872 -0.22578679  0.40654784\n",
      "  2.02517599 -1.34793151 -0.88634034 -0.12466555  1.01811476  1.89247332\n",
      " -1.43740445 -0.44458455 -1.22886491  0.70482145 -0.33552213  0.91174572\n",
      "  0.12871676 -0.41890186  0.70103147  0.3937432   0.24744702 -2.3011143\n",
      "  1.20963766 -0.61195803 -0.83751293  1.57261063  1.54987626  0.09564257\n",
      " -0.2996927  -0.76646736  0.44199157 -0.4075769  -0.48285297  0.36991734\n",
      "  0.35533283 -0.34745929]\n",
      "[10.27859859  9.15531673 11.51999622 10.30258095  9.48559608  9.84658678\n",
      " 10.19094015 11.07923065  8.8549058  11.00363831 10.32826227  8.0536073\n",
      "  9.49109469  9.20863971  9.5178688 ]\n",
      "[-0.4932801   0.23656733  1.33016217  1.11211807 -1.53492761 -0.42109869\n",
      " -0.44677433 -0.81844867  2.00518737  0.61397884  0.37432889 -0.27451507\n",
      " -2.17368979  0.37459108 -1.26279912  0.23204872 -0.22578679  0.40654784\n",
      "  2.02517599 -1.34793151 -0.88634034 -0.12466555  1.01811476  1.89247332\n",
      " -1.43740445 -0.44458455 -1.22886491  0.70482145 -0.33552213  0.91174572\n",
      "  0.12871676 -0.41890186  0.70103147  0.3937432   0.24744702 -2.3011143\n",
      "  1.20963766 -0.61195803 -0.83751293  1.57261063  1.54987626  0.09564257\n",
      " -0.2996927  -0.76646736  0.44199157 -0.4075769  -0.48285297  0.36991734\n",
      "  0.35533283 -0.34745929 10.27859859  9.15531673 11.51999622 10.30258095\n",
      "  9.48559608  9.84658678 10.19094015 11.07923065  8.8549058  11.00363831\n",
      " 10.32826227  8.0536073   9.49109469  9.20863971  9.5178688 ]\n"
     ]
    },
    {
     "data": {
      "text/plain": [
       "<matplotlib.lines.Line2D at 0x1a23533eb8>"
      ]
     },
     "execution_count": 98,
     "metadata": {},
     "output_type": "execute_result"
    },
    {
     "data": {
      "image/png": "[encoded data removed]",
      "text/plain": [
       "<Figure size 432x288 with 1 Axes>"
      ]
     },
     "metadata": {
      "needs_background": "light"
     },
     "output_type": "display_data"
    }
   ],
   "source": [
    "x=np.random.normal(loc=0,size=50)\n",
    "print(x)\n",
    "y=np.random.normal(loc=10,size=15)\n",
    "print(y)\n",
    "z=np.append(x,y)\n",
    "print(z)\n",
    "z.shape\n",
    "\n",
    "ax=sns.distplot(z)\n",
    "b=z.mean()\n",
    "c=np.median(z)\n",
    "\n",
    "ax.axvline(b,color=\"r\")\n",
    "ax.axvline(c,color=\"g\")\n"
   ]
  },
  {
   "cell_type": "markdown",
   "metadata": {},
   "source": [
    "<span style=\"font-family: Arial; font-weight:bold;font-size:1.1em;color:#ae09ea;\">Observations:\n",
    "\n"
   ]
  },
  {
   "cell_type": "code",
   "execution_count": 4,
   "metadata": {},
   "outputs": [],
   "source": [
    "#Here, median is less than the mean,so right skewed.\n"
   ]
  },
  {
   "cell_type": "markdown",
   "metadata": {},
   "source": [
    "<span style=\"font-family: Arial; font-weight:bold;font-size:1.5em;color:#ae09ea;\"> 2.7. Skewness and Kurtosis\n",
    "\n",
    "Beyond measures of center and spread, descriptive statistics include measures that give you a sense of the shape of a distribution. Skewness measures the skew or asymmetry of a distribution while kurtosis measures the \"peakedness\" of a distribution. "
   ]
  },
  {
   "cell_type": "markdown",
   "metadata": {},
   "source": [
    "<span style=\"font-family: Arial; font-weight:bold;font-size:1.2em;color:#ae09ea;\"> 2.7a) Check the Skewness,Kurtosis for mtcars[\"mpg\"]?"
   ]
  },
  {
   "cell_type": "markdown",
   "metadata": {},
   "source": [
    "#### Skewness"
   ]
  },
  {
   "cell_type": "code",
   "execution_count": 101,
   "metadata": {},
   "outputs": [
    {
     "data": {
      "text/plain": [
       "0.6723771376290805"
      ]
     },
     "execution_count": 101,
     "metadata": {},
     "output_type": "execute_result"
    }
   ],
   "source": [
    "data.mpg.skew()"
   ]
  },
  {
   "cell_type": "markdown",
   "metadata": {},
   "source": [
    "#### Kurtosis"
   ]
  },
  {
   "cell_type": "code",
   "execution_count": 102,
   "metadata": {},
   "outputs": [
    {
     "data": {
      "text/plain": [
       "-0.0220062914240855"
      ]
     },
     "execution_count": 102,
     "metadata": {},
     "output_type": "execute_result"
    }
   ],
   "source": [
    "data.mpg.kurtosis()"
   ]
  },
  {
   "cell_type": "markdown",
   "metadata": {},
   "source": [
    "<span style=\"font-family: Arial; font-weight:bold;font-size:1.2em;color:#ae09ea;\">2.7b) To explore these two measures further, let's first create some dummy data (norm_data, skewed_data, uniform_data, peaked_data) and inspect it ?"
   ]
  },
  {
   "cell_type": "code",
   "execution_count": 6,
   "metadata": {},
   "outputs": [],
   "source": [
    "# Create a normally distributed data \n",
    "\n",
    "\n",
    "# Create a skewed_data like np.concatenate((np.random.normal(size=35000)+2,np.random.exponential(size=65000)),axis=0)\n",
    "\n",
    "\n",
    "# create uniform_data like uniform(0,2, size=100000)\n",
    "\n",
    "\n",
    "# create peaked_data np.concatenate((np.random.exponential(size=50000),np.random.exponential(size=50000)*(-1)),axis=0)\n",
    "\n",
    "\n",
    "# create density plot for (norm_data,skewed_data,uniform_data,peaked_data)\n"
   ]
  },
  {
   "cell_type": "code",
   "execution_count": 7,
   "metadata": {
    "scrolled": true
   },
   "outputs": [],
   "source": [
    "# Plot all the four data distributions and observe how they look\n"
   ]
  },
  {
   "cell_type": "code",
   "execution_count": 112,
   "metadata": {
    "scrolled": true
   },
   "outputs": [
    {
     "name": "stdout",
     "output_type": "stream",
     "text": [
      "[-1.05679913 -0.35181647 -0.22604632  0.84810034 -0.8536977  -1.01753646\n",
      "  0.11443682 -0.35277769 -1.30630574  0.9016764  -1.9260387   1.39768969\n",
      "  1.11568997  1.08557886  0.34736691 -1.47897461  1.43374676 -1.31438721\n",
      "  2.14387452  0.26653305  0.04172212  1.56308508 -0.45653833  0.15312114\n",
      " -1.61828789 -0.09249397  1.24293069 -0.06396639  1.94213049  0.34903368\n",
      " -1.31958101  0.38609663  0.74860317 -0.10110915  0.34528112  0.49640584\n",
      " -1.12965384 -2.01817763  0.89906832  0.28710826 -0.03903037 -0.27133785\n",
      " -0.97593864  1.22976181  0.62777644  0.8850142   1.07243465 -1.38078675\n",
      "  0.3818406   1.02517003]\n",
      "[1.48581263 0.0070868  2.48397694 ... 0.44387066 1.16259624 0.82536744]\n",
      "[0.70987414 1.10095145 0.08330361 ... 0.11584769 1.77499453 1.84937441]\n",
      "[ 0.79664928  0.56380911  0.13825376 ... -1.69154696 -0.75992705\n",
      " -0.22260094]\n"
     ]
    },
    {
     "data": {
      "text/plain": [
       "<matplotlib.axes._subplots.AxesSubplot at 0x1a234ad6d8>"
      ]
     },
     "execution_count": 112,
     "metadata": {},
     "output_type": "execute_result"
    },
    {
     "data": {
      "image/png": "[encoded data removed]",
      "text/plain": [
       "<Figure size 432x288 with 1 Axes>"
      ]
     },
     "metadata": {
      "needs_background": "light"
     },
     "output_type": "display_data"
    }
   ],
   "source": [
    "a=np.random.normal(size=50)\n",
    "print(a)\n",
    "b=np.concatenate((np.random.normal(size=35000)+2,np.random.exponential(size=65000)),axis=0)\n",
    "print(b)\n",
    "b.shape\n",
    "c=np.random.uniform(0,2, size=100000)\n",
    "print(c)\n",
    "d=np.concatenate((np.random.exponential(size=50000),np.random.exponential(size=50000)*(-1)),axis=0)\n",
    "print(d)\n",
    "sns.distplot(a)\n",
    "sns.distplot(b)\n",
    "sns.distplot(c)\n",
    "sns.distplot(d)"
   ]
  },
  {
   "cell_type": "code",
   "execution_count": 113,
   "metadata": {
    "scrolled": true
   },
   "outputs": [
    {
     "data": {
      "text/plain": [
       "<matplotlib.axes._subplots.AxesSubplot at 0x1a24297b70>"
      ]
     },
     "execution_count": 113,
     "metadata": {},
     "output_type": "execute_result"
    },
    {
     "data": {
      "image/png": "[encoded data removed]",
      "text/plain": [
       "<Figure size 432x288 with 1 Axes>"
      ]
     },
     "metadata": {
      "needs_background": "light"
     },
     "output_type": "display_data"
    }
   ],
   "source": [
    "sns.distplot(a)"
   ]
  },
  {
   "cell_type": "code",
   "execution_count": 114,
   "metadata": {
    "scrolled": true
   },
   "outputs": [
    {
     "data": {
      "text/plain": [
       "<matplotlib.axes._subplots.AxesSubplot at 0x1a22f9d400>"
      ]
     },
     "execution_count": 114,
     "metadata": {},
     "output_type": "execute_result"
    },
    {
     "data": {
      "image/png": "[encoded data removed]",
      "text/plain": [
       "<Figure size 432x288 with 1 Axes>"
      ]
     },
     "metadata": {
      "needs_background": "light"
     },
     "output_type": "display_data"
    }
   ],
   "source": [
    "sns.distplot(b)"
   ]
  },
  {
   "cell_type": "code",
   "execution_count": 115,
   "metadata": {
    "scrolled": true
   },
   "outputs": [
    {
     "data": {
      "text/plain": [
       "<matplotlib.axes._subplots.AxesSubplot at 0x1a243e1c88>"
      ]
     },
     "execution_count": 115,
     "metadata": {},
     "output_type": "execute_result"
    },
    {
     "data": {
      "image/png": "[encoded data removed]",
      "text/plain": [
       "<Figure size 432x288 with 1 Axes>"
      ]
     },
     "metadata": {
      "needs_background": "light"
     },
     "output_type": "display_data"
    }
   ],
   "source": [
    "sns.distplot(c)"
   ]
  },
  {
   "cell_type": "code",
   "execution_count": 116,
   "metadata": {},
   "outputs": [
    {
     "data": {
      "text/plain": [
       "<matplotlib.axes._subplots.AxesSubplot at 0x1a235bfa20>"
      ]
     },
     "execution_count": 116,
     "metadata": {},
     "output_type": "execute_result"
    },
    {
     "data": {
      "image/png": "[encoded data removed]",
      "text/plain": [
       "<Figure size 432x288 with 1 Axes>"
      ]
     },
     "metadata": {
      "needs_background": "light"
     },
     "output_type": "display_data"
    }
   ],
   "source": [
    "sns.distplot(d)"
   ]
  },
  {
   "cell_type": "markdown",
   "metadata": {},
   "source": [
    "<span style=\"font-family: Arial; font-weight:bold;font-size:1.1em;color:#ae09ea;\"> Observation:\n",
    "\n"
   ]
  },
  {
   "cell_type": "code",
   "execution_count": null,
   "metadata": {},
   "outputs": [],
   "source": []
  },
  {
   "cell_type": "markdown",
   "metadata": {},
   "source": [
    "<span style=\"font-family: Arial; font-weight:bold;font-size:1.2em;color:#ae09ea;\">2.7c) Lets check Skewness and Kurtosis for dummy data. Write your observations ?"
   ]
  },
  {
   "cell_type": "code",
   "execution_count": 119,
   "metadata": {},
   "outputs": [
    {
     "data": {
      "text/plain": [
       "0.7994066925956381"
      ]
     },
     "execution_count": 119,
     "metadata": {},
     "output_type": "execute_result"
    }
   ],
   "source": [
    "data.hp.skew()\n"
   ]
  },
  {
   "cell_type": "code",
   "execution_count": 120,
   "metadata": {},
   "outputs": [
    {
     "data": {
      "text/plain": [
       "0.2752115875371124"
      ]
     },
     "execution_count": 120,
     "metadata": {},
     "output_type": "execute_result"
    }
   ],
   "source": [
    "data.hp.kurtosis()"
   ]
  },
  {
   "cell_type": "markdown",
   "metadata": {},
   "source": [
    "<span style=\"font-family: Arial; font-weight:bold;font-size:1.1em;color:#ae09ea;\"> Observation:\n"
   ]
  },
  {
   "cell_type": "code",
   "execution_count": null,
   "metadata": {},
   "outputs": [],
   "source": []
  },
  {
   "cell_type": "markdown",
   "metadata": {},
   "source": [
    "<span style=\"font-family: Arial; font-weight:bold;font-size:2.4em;color:#dbd406;\"> THE END"
   ]
  }
 ],
 "metadata": {
  "kernelspec": {
   "display_name": "Python 3",
   "language": "python",
   "name": "python3"
  },
  "language_info": {
   "codemirror_mode": {
    "name": "ipython",
    "version": 3
   },
   "file_extension": ".py",
   "mimetype": "text/x-python",
   "name": "python",
   "nbconvert_exporter": "python",
   "pygments_lexer": "ipython3",
   "version": "3.7.3"
  }
 },
 "nbformat": 4,
 "nbformat_minor": 2
}
