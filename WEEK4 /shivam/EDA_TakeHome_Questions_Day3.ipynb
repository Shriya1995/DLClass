{
 "cells": [
  {
   "cell_type": "markdown",
   "metadata": {
    "colab_type": "text",
    "id": "CE1OxOgegU81"
   },
   "source": [
    "## Bivariate Analysis"
   ]
  },
  {
   "cell_type": "markdown",
   "metadata": {
    "colab_type": "text",
    "id": "1aQbIOU9gU82"
   },
   "source": [
    "* Bivariate analysis is a statistical method that helps you study relationships (correlation) between data sets"
   ]
  },
  {
   "cell_type": "markdown",
   "metadata": {
    "colab_type": "text",
    "id": "agQ1uB1jgU83"
   },
   "source": [
    "### Quantitative vs. Quantitative\n",
    "    1. Scatterplot\n",
    "    2. Line plot"
   ]
  },
  {
   "cell_type": "markdown",
   "metadata": {
    "colab_type": "text",
    "id": "9w6pH3oHgU84"
   },
   "source": [
    "### Categorical vs. Quantitative\n",
    "    1. Bar chart (on summary statistics)\n",
    "    2. Grouped kernel density plots\n",
    "    3. Box plots\n",
    "    4. Violin plots\n"
   ]
  },
  {
   "cell_type": "markdown",
   "metadata": {
    "colab_type": "text",
    "id": "dEsl1xjHgU84"
   },
   "source": [
    "### Categorical vs. Categorical\n",
    "    1. Stacked bar chart\n",
    "    2. Grouped bar chart\n",
    "    3. Segmented bar chart\n"
   ]
  },
  {
   "cell_type": "markdown",
   "metadata": {
    "colab_type": "text",
    "id": "dvZ1f_d9gU85"
   },
   "source": [
    "## Case study 1"
   ]
  },
  {
   "cell_type": "markdown",
   "metadata": {
    "_uuid": "8720a4ddaab64e4bff226bed9e4e200dc9b94913",
    "colab_type": "text",
    "id": "HSCe_6gQgU86"
   },
   "source": [
    "\n",
    "### Problem Feature:(Heart Disease)\n",
    "\n",
    "### Data Set: \n",
    "\n",
    "   * age - age in years \n",
    "   * sex - (1 = male; 0 = female) \n",
    "   * cp - chest pain type \n",
    "   * trestbps - resting blood pressure (in mm Hg on admission to the hospital) \n",
    "   * chol - serum cholestoral in mg/dl \n",
    "   * fbs - (fasting blood sugar > 120 mg/dl) (1 = true; 0 = false) \n",
    "   * restecg - resting electrocardiographic results \n",
    "   * exang - exercise induced angina (1 = yes; 0 = no) \n",
    "   * oldpeak - ST depression induced by exercise relative to rest \n",
    "   * slope - the slope of the peak exercise ST segment \n",
    "   * ca - number of major vessels (0-3) colored by flourosopy \n",
    "   * thal - 3 = normal; 6 = fixed defect; 7 = reversable defect \n",
    "   * target - have disease or not (1=yes, 0=no)\n",
    "\n"
   ]
  },
  {
   "cell_type": "markdown",
   "metadata": {
    "colab_type": "text",
    "id": "8JRuzZhCgU86"
   },
   "source": [
    "### 1.1 Loading the libraries"
   ]
  },
  {
   "cell_type": "code",
   "execution_count": 0,
   "metadata": {
    "colab": {},
    "colab_type": "code",
    "id": "2DF4-gDvgU87"
   },
   "outputs": [],
   "source": [
    "import pandas as pd\n",
    "import numpy as np\n",
    "import seaborn as sns\n",
    "import matplotlib.pyplot as plt"
   ]
  },
  {
   "cell_type": "markdown",
   "metadata": {
    "_uuid": "ffb6edf54635217f41255c7cf1d4eaef5cb33a74",
    "colab_type": "text",
    "id": "6PusrnLegU8-"
   },
   "source": [
    "### 1.2 import the dataset ?"
   ]
  },
  {
   "cell_type": "code",
   "execution_count": 0,
   "metadata": {
    "colab": {},
    "colab_type": "code",
    "id": "IXAMLC9FgU8_"
   },
   "outputs": [],
   "source": [
    "df = pd.read_csv('heart.csv')"
   ]
  },
  {
   "cell_type": "markdown",
   "metadata": {
    "_uuid": "cf8a6ef896748398d8791312b52bfd0d99c2e875",
    "colab_type": "text",
    "id": "XEeS6m48gU9B"
   },
   "source": [
    "### 1.3 How to see the size of your data?"
   ]
  },
  {
   "cell_type": "code",
   "execution_count": 4,
   "metadata": {
    "colab": {
     "base_uri": "https://localhost:8080/",
     "height": 34
    },
    "colab_type": "code",
    "id": "lnSwid9AgU9C",
    "outputId": "66596809-c453-4e0c-8233-903994437cae"
   },
   "outputs": [
    {
     "data": {
      "text/plain": [
       "4242"
      ]
     },
     "execution_count": 4,
     "metadata": {
      "tags": []
     },
     "output_type": "execute_result"
    }
   ],
   "source": [
    "df.size"
   ]
  },
  {
   "cell_type": "markdown",
   "metadata": {
    "_uuid": "bf0579ada55ee69eb3082a87f74afad711764358",
    "colab_type": "text",
    "id": "bYIWYc_EgU9E"
   },
   "source": [
    "### 1.4 How to view the statistical characteristics of the data?"
   ]
  },
  {
   "cell_type": "code",
   "execution_count": 12,
   "metadata": {
    "colab": {
     "base_uri": "https://localhost:8080/",
     "height": 304
    },
    "colab_type": "code",
    "id": "L_vCztXlgU9F",
    "outputId": "b6770016-5f97-4b6e-d253-08f1f66f51a0"
   },
   "outputs": [
    {
     "data": {
      "text/html": [
       "<div>\n",
       "<style scoped>\n",
       "    .dataframe tbody tr th:only-of-type {\n",
       "        vertical-align: middle;\n",
       "    }\n",
       "\n",
       "    .dataframe tbody tr th {\n",
       "        vertical-align: top;\n",
       "    }\n",
       "\n",
       "    .dataframe thead th {\n",
       "        text-align: right;\n",
       "    }\n",
       "</style>\n",
       "<table border=\"1\" class=\"dataframe\">\n",
       "  <thead>\n",
       "    <tr style=\"text-align: right;\">\n",
       "      <th></th>\n",
       "      <th>age</th>\n",
       "      <th>sex</th>\n",
       "      <th>cp</th>\n",
       "      <th>trestbps</th>\n",
       "      <th>chol</th>\n",
       "      <th>fbs</th>\n",
       "      <th>restecg</th>\n",
       "      <th>thalach</th>\n",
       "      <th>exang</th>\n",
       "      <th>oldpeak</th>\n",
       "      <th>slope</th>\n",
       "      <th>ca</th>\n",
       "      <th>thal</th>\n",
       "      <th>target</th>\n",
       "    </tr>\n",
       "  </thead>\n",
       "  <tbody>\n",
       "    <tr>\n",
       "      <th>count</th>\n",
       "      <td>303.000000</td>\n",
       "      <td>303.000000</td>\n",
       "      <td>303.000000</td>\n",
       "      <td>303.000000</td>\n",
       "      <td>303.000000</td>\n",
       "      <td>303.000000</td>\n",
       "      <td>303.000000</td>\n",
       "      <td>303.000000</td>\n",
       "      <td>303.000000</td>\n",
       "      <td>303.000000</td>\n",
       "      <td>303.000000</td>\n",
       "      <td>303.000000</td>\n",
       "      <td>303.000000</td>\n",
       "      <td>303.000000</td>\n",
       "    </tr>\n",
       "    <tr>\n",
       "      <th>mean</th>\n",
       "      <td>54.366337</td>\n",
       "      <td>0.683168</td>\n",
       "      <td>0.966997</td>\n",
       "      <td>131.623762</td>\n",
       "      <td>246.264026</td>\n",
       "      <td>0.148515</td>\n",
       "      <td>0.528053</td>\n",
       "      <td>149.646865</td>\n",
       "      <td>0.326733</td>\n",
       "      <td>1.039604</td>\n",
       "      <td>1.399340</td>\n",
       "      <td>0.729373</td>\n",
       "      <td>2.313531</td>\n",
       "      <td>0.544554</td>\n",
       "    </tr>\n",
       "    <tr>\n",
       "      <th>std</th>\n",
       "      <td>9.082101</td>\n",
       "      <td>0.466011</td>\n",
       "      <td>1.032052</td>\n",
       "      <td>17.538143</td>\n",
       "      <td>51.830751</td>\n",
       "      <td>0.356198</td>\n",
       "      <td>0.525860</td>\n",
       "      <td>22.905161</td>\n",
       "      <td>0.469794</td>\n",
       "      <td>1.161075</td>\n",
       "      <td>0.616226</td>\n",
       "      <td>1.022606</td>\n",
       "      <td>0.612277</td>\n",
       "      <td>0.498835</td>\n",
       "    </tr>\n",
       "    <tr>\n",
       "      <th>min</th>\n",
       "      <td>29.000000</td>\n",
       "      <td>0.000000</td>\n",
       "      <td>0.000000</td>\n",
       "      <td>94.000000</td>\n",
       "      <td>126.000000</td>\n",
       "      <td>0.000000</td>\n",
       "      <td>0.000000</td>\n",
       "      <td>71.000000</td>\n",
       "      <td>0.000000</td>\n",
       "      <td>0.000000</td>\n",
       "      <td>0.000000</td>\n",
       "      <td>0.000000</td>\n",
       "      <td>0.000000</td>\n",
       "      <td>0.000000</td>\n",
       "    </tr>\n",
       "    <tr>\n",
       "      <th>25%</th>\n",
       "      <td>47.500000</td>\n",
       "      <td>0.000000</td>\n",
       "      <td>0.000000</td>\n",
       "      <td>120.000000</td>\n",
       "      <td>211.000000</td>\n",
       "      <td>0.000000</td>\n",
       "      <td>0.000000</td>\n",
       "      <td>133.500000</td>\n",
       "      <td>0.000000</td>\n",
       "      <td>0.000000</td>\n",
       "      <td>1.000000</td>\n",
       "      <td>0.000000</td>\n",
       "      <td>2.000000</td>\n",
       "      <td>0.000000</td>\n",
       "    </tr>\n",
       "    <tr>\n",
       "      <th>50%</th>\n",
       "      <td>55.000000</td>\n",
       "      <td>1.000000</td>\n",
       "      <td>1.000000</td>\n",
       "      <td>130.000000</td>\n",
       "      <td>240.000000</td>\n",
       "      <td>0.000000</td>\n",
       "      <td>1.000000</td>\n",
       "      <td>153.000000</td>\n",
       "      <td>0.000000</td>\n",
       "      <td>0.800000</td>\n",
       "      <td>1.000000</td>\n",
       "      <td>0.000000</td>\n",
       "      <td>2.000000</td>\n",
       "      <td>1.000000</td>\n",
       "    </tr>\n",
       "    <tr>\n",
       "      <th>75%</th>\n",
       "      <td>61.000000</td>\n",
       "      <td>1.000000</td>\n",
       "      <td>2.000000</td>\n",
       "      <td>140.000000</td>\n",
       "      <td>274.500000</td>\n",
       "      <td>0.000000</td>\n",
       "      <td>1.000000</td>\n",
       "      <td>166.000000</td>\n",
       "      <td>1.000000</td>\n",
       "      <td>1.600000</td>\n",
       "      <td>2.000000</td>\n",
       "      <td>1.000000</td>\n",
       "      <td>3.000000</td>\n",
       "      <td>1.000000</td>\n",
       "    </tr>\n",
       "    <tr>\n",
       "      <th>max</th>\n",
       "      <td>77.000000</td>\n",
       "      <td>1.000000</td>\n",
       "      <td>3.000000</td>\n",
       "      <td>200.000000</td>\n",
       "      <td>564.000000</td>\n",
       "      <td>1.000000</td>\n",
       "      <td>2.000000</td>\n",
       "      <td>202.000000</td>\n",
       "      <td>1.000000</td>\n",
       "      <td>6.200000</td>\n",
       "      <td>2.000000</td>\n",
       "      <td>4.000000</td>\n",
       "      <td>3.000000</td>\n",
       "      <td>1.000000</td>\n",
       "    </tr>\n",
       "  </tbody>\n",
       "</table>\n",
       "</div>"
      ],
      "text/plain": [
       "              age         sex          cp  ...          ca        thal      target\n",
       "count  303.000000  303.000000  303.000000  ...  303.000000  303.000000  303.000000\n",
       "mean    54.366337    0.683168    0.966997  ...    0.729373    2.313531    0.544554\n",
       "std      9.082101    0.466011    1.032052  ...    1.022606    0.612277    0.498835\n",
       "min     29.000000    0.000000    0.000000  ...    0.000000    0.000000    0.000000\n",
       "25%     47.500000    0.000000    0.000000  ...    0.000000    2.000000    0.000000\n",
       "50%     55.000000    1.000000    1.000000  ...    0.000000    2.000000    1.000000\n",
       "75%     61.000000    1.000000    2.000000  ...    1.000000    3.000000    1.000000\n",
       "max     77.000000    1.000000    3.000000  ...    4.000000    3.000000    1.000000\n",
       "\n",
       "[8 rows x 14 columns]"
      ]
     },
     "execution_count": 12,
     "metadata": {
      "tags": []
     },
     "output_type": "execute_result"
    }
   ],
   "source": [
    "df.describe()"
   ]
  },
  {
   "cell_type": "markdown",
   "metadata": {
    "_uuid": "23954ce7b3166c58a9e121b42883d8f2382cc156",
    "colab_type": "text",
    "id": "1AxWRwb6gU9H"
   },
   "source": [
    "### 1.5 How to see just one column?"
   ]
  },
  {
   "cell_type": "code",
   "execution_count": 9,
   "metadata": {
    "colab": {
     "base_uri": "https://localhost:8080/",
     "height": 1000
    },
    "colab_type": "code",
    "id": "y0HpH3KGgU9H",
    "outputId": "bb85b57d-5797-46c6-aedb-44a84fe2a868"
   },
   "outputs": [
    {
     "data": {
      "text/plain": [
       "0      63\n",
       "1      37\n",
       "2      41\n",
       "3      56\n",
       "4      57\n",
       "5      57\n",
       "6      56\n",
       "7      44\n",
       "8      52\n",
       "9      57\n",
       "10     54\n",
       "11     48\n",
       "12     49\n",
       "13     64\n",
       "14     58\n",
       "15     50\n",
       "16     58\n",
       "17     66\n",
       "18     43\n",
       "19     69\n",
       "20     59\n",
       "21     44\n",
       "22     42\n",
       "23     61\n",
       "24     40\n",
       "25     71\n",
       "26     59\n",
       "27     51\n",
       "28     65\n",
       "29     53\n",
       "       ..\n",
       "273    58\n",
       "274    47\n",
       "275    52\n",
       "276    58\n",
       "277    57\n",
       "278    58\n",
       "279    61\n",
       "280    42\n",
       "281    52\n",
       "282    59\n",
       "283    40\n",
       "284    61\n",
       "285    46\n",
       "286    59\n",
       "287    57\n",
       "288    57\n",
       "289    55\n",
       "290    61\n",
       "291    58\n",
       "292    58\n",
       "293    67\n",
       "294    44\n",
       "295    63\n",
       "296    63\n",
       "297    59\n",
       "298    57\n",
       "299    45\n",
       "300    68\n",
       "301    57\n",
       "302    57\n",
       "Name: age, Length: 303, dtype: int64"
      ]
     },
     "execution_count": 9,
     "metadata": {
      "tags": []
     },
     "output_type": "execute_result"
    }
   ],
   "source": [
    "df.age"
   ]
  },
  {
   "cell_type": "markdown",
   "metadata": {
    "_uuid": "43fb867cf20ce5a424ee1574aca0e84f7d15f0ec",
    "colab_type": "text",
    "id": "G2YjBnJUgU9K"
   },
   "source": [
    "### 1.6 How to check the column names?"
   ]
  },
  {
   "cell_type": "code",
   "execution_count": 11,
   "metadata": {
    "colab": {
     "base_uri": "https://localhost:8080/",
     "height": 67
    },
    "colab_type": "code",
    "id": "HQfvl27hgU9L",
    "outputId": "7256d8e9-6760-45bb-bd3b-d271abee3153"
   },
   "outputs": [
    {
     "data": {
      "text/plain": [
       "array(['age', 'sex', 'cp', 'trestbps', 'chol', 'fbs', 'restecg',\n",
       "       'thalach', 'exang', 'oldpeak', 'slope', 'ca', 'thal', 'target'],\n",
       "      dtype=object)"
      ]
     },
     "execution_count": 11,
     "metadata": {
      "tags": []
     },
     "output_type": "execute_result"
    }
   ],
   "source": [
    "df.columns.values"
   ]
  },
  {
   "cell_type": "markdown",
   "metadata": {
    "colab_type": "text",
    "id": "zs_SAN2mgU9N"
   },
   "source": [
    "### 1.7 Find the Numerical Features,Categorical Features, Alphanumeric Features?"
   ]
  },
  {
   "cell_type": "code",
   "execution_count": 13,
   "metadata": {
    "colab": {
     "base_uri": "https://localhost:8080/",
     "height": 269
    },
    "colab_type": "code",
    "id": "b7D5rXQvgU9O",
    "outputId": "7920171c-4a95-470e-cad8-a0b0147dad07"
   },
   "outputs": [
    {
     "data": {
      "text/plain": [
       "age           int64\n",
       "sex           int64\n",
       "cp            int64\n",
       "trestbps      int64\n",
       "chol          int64\n",
       "fbs           int64\n",
       "restecg       int64\n",
       "thalach       int64\n",
       "exang         int64\n",
       "oldpeak     float64\n",
       "slope         int64\n",
       "ca            int64\n",
       "thal          int64\n",
       "target        int64\n",
       "dtype: object"
      ]
     },
     "execution_count": 13,
     "metadata": {
      "tags": []
     },
     "output_type": "execute_result"
    }
   ],
   "source": [
    "df.dtypes"
   ]
  },
  {
   "cell_type": "markdown",
   "metadata": {
    "colab_type": "text",
    "id": "6BiMV1gBgU9Q"
   },
   "source": [
    "#### Change the column names?"
   ]
  },
  {
   "cell_type": "code",
   "execution_count": 0,
   "metadata": {
    "colab": {},
    "colab_type": "code",
    "id": "ErA0CiTGgU9R",
    "scrolled": true
   },
   "outputs": [],
   "source": [
    "#Change the sex(0,1)=(female,male)\n",
    "df['sex'].replace(0, 'female',inplace=True)\n",
    "df['sex'].replace(1, 'male',inplace=True)"
   ]
  },
  {
   "cell_type": "markdown",
   "metadata": {
    "colab_type": "text",
    "id": "J2pvAnhKgU9T"
   },
   "source": [
    "## 1.8 Categorical vs. Quantitative"
   ]
  },
  {
   "cell_type": "markdown",
   "metadata": {
    "colab_type": "text",
    "id": "77p-LUmdgU9U"
   },
   "source": [
    "    * Categorical: chest_pain_type, Sex, fasting_blood_sugar,rest_ecg,exercise_induced_angina,st_slope,thalassemia\n",
    "    * Numerical Features: Age (Continuous), resting_blood_pressure ,cholesterol,max_heart_rate_achieved,st_depression, num_major_vessels,target"
   ]
  },
  {
   "cell_type": "markdown",
   "metadata": {
    "colab_type": "text",
    "id": "uq2_JMM6gU9U"
   },
   "source": [
    "### 1.8a) Create bar plot for showing Gender and target. And your Observation:"
   ]
  },
  {
   "cell_type": "code",
   "execution_count": 20,
   "metadata": {
    "colab": {
     "base_uri": "https://localhost:8080/",
     "height": 402
    },
    "colab_type": "code",
    "id": "olImfHqdgU9V",
    "outputId": "259fbc5c-513a-4eea-9e53-728f67f5d06a",
    "scrolled": true
   },
   "outputs": [
    {
     "data": {
      "text/html": [
       "<div>\n",
       "<style scoped>\n",
       "    .dataframe tbody tr th:only-of-type {\n",
       "        vertical-align: middle;\n",
       "    }\n",
       "\n",
       "    .dataframe tbody tr th {\n",
       "        vertical-align: top;\n",
       "    }\n",
       "\n",
       "    .dataframe thead th {\n",
       "        text-align: right;\n",
       "    }\n",
       "</style>\n",
       "<table border=\"1\" class=\"dataframe\">\n",
       "  <thead>\n",
       "    <tr style=\"text-align: right;\">\n",
       "      <th>sex</th>\n",
       "      <th>female</th>\n",
       "      <th>male</th>\n",
       "    </tr>\n",
       "    <tr>\n",
       "      <th>target</th>\n",
       "      <th></th>\n",
       "      <th></th>\n",
       "    </tr>\n",
       "  </thead>\n",
       "  <tbody>\n",
       "    <tr>\n",
       "      <th>0</th>\n",
       "      <td>17.391304</td>\n",
       "      <td>82.608696</td>\n",
       "    </tr>\n",
       "    <tr>\n",
       "      <th>1</th>\n",
       "      <td>43.636364</td>\n",
       "      <td>56.363636</td>\n",
       "    </tr>\n",
       "  </tbody>\n",
       "</table>\n",
       "</div>"
      ],
      "text/plain": [
       "sex        female       male\n",
       "target                      \n",
       "0       17.391304  82.608696\n",
       "1       43.636364  56.363636"
      ]
     },
     "execution_count": 20,
     "metadata": {
      "tags": []
     },
     "output_type": "execute_result"
    },
    {
     "data": {
      "image/png": "[encoded data removed]",
      "text/plain": [
       "<Figure size 432x288 with 1 Axes>"
      ]
     },
     "metadata": {
      "tags": []
     },
     "output_type": "display_data"
    }
   ],
   "source": [
    "\n",
    "#draw a bar plot of target by sex\n",
    "sns.barplot(x='sex',y='target',data=df)\n",
    "\n",
    "#print percentages of females vs. males Heart Disease\n",
    "pd.crosstab(df['target'],df['sex']).apply(lambda r: r/r.sum() *100, axis=1)"
   ]
  },
  {
   "cell_type": "markdown",
   "metadata": {
    "colab_type": "text",
    "id": "dCV8ITorgU9W"
   },
   "source": [
    "### Observation:\n",
    "\n"
   ]
  },
  {
   "cell_type": "code",
   "execution_count": 0,
   "metadata": {
    "colab": {},
    "colab_type": "code",
    "id": "SB_0GNTTj196"
   },
   "outputs": [],
   "source": [
    "#females will die soon "
   ]
  },
  {
   "cell_type": "markdown",
   "metadata": {
    "colab_type": "text",
    "id": "JsQxXyy-gU9X"
   },
   "source": [
    "### 1.8b) Create Bar plot for checking the both target vs Sex. And your Observations?"
   ]
  },
  {
   "cell_type": "code",
   "execution_count": 22,
   "metadata": {
    "colab": {
     "base_uri": "https://localhost:8080/",
     "height": 898
    },
    "colab_type": "code",
    "id": "TlxjZ0tegU9X",
    "outputId": "d8cab662-89a0-4320-d681-edee70ea1c47",
    "scrolled": false
   },
   "outputs": [
    {
     "data": {
      "text/plain": [
       "<matplotlib.axes._subplots.AxesSubplot at 0x7f56804389b0>"
      ]
     },
     "execution_count": 22,
     "metadata": {
      "tags": []
     },
     "output_type": "execute_result"
    },
    {
     "data": {
      "image/png": "[encoded data removed]",
      "text/plain": [
       "<Figure size 576x1080 with 3 Axes>"
      ]
     },
     "metadata": {
      "tags": []
     },
     "output_type": "display_data"
    }
   ],
   "source": [
    "#create a subplot\n",
    "fig, (ax) = plt.subplots(3,1,figsize=(8,15))\n",
    "sns.barplot(data=df,x=\"sex\",y=\"target\",estimator=sum,ax=ax[0])\n",
    "\n",
    "\n",
    "# create bar plot using groupby\n",
    "embark_perc = df[[\"sex\", \"target\"]].groupby(['sex'],as_index=False).mean()\n",
    "sns.barplot(x='sex', y='target', data=embark_perc,ax=ax[1])\n",
    "\n",
    "# create count plot\n",
    "sns.countplot('sex',hue='target',data=df,ax=ax[2])\n"
   ]
  },
  {
   "cell_type": "markdown",
   "metadata": {
    "colab_type": "text",
    "id": "1iomeGaqgU9Z"
   },
   "source": [
    "#### Observation:\n",
    "   "
   ]
  },
  {
   "cell_type": "markdown",
   "metadata": {
    "colab_type": "text",
    "id": "glOISq-SgU9a"
   },
   "source": [
    "### 1.8d) Create Bar plot for checking the both Number Of people having chest_pain_type vs chest_pain_type:Heart Disease or Not. And your Observations?"
   ]
  },
  {
   "cell_type": "code",
   "execution_count": 44,
   "metadata": {
    "colab": {
     "base_uri": "https://localhost:8080/",
     "height": 898
    },
    "colab_type": "code",
    "id": "SU0hWdJtgU9a",
    "outputId": "0bc1d05e-c193-497a-c4db-b6d5185cd3f0"
   },
   "outputs": [
    {
     "data": {
      "text/plain": [
       "<matplotlib.axes._subplots.AxesSubplot at 0x7f56802141d0>"
      ]
     },
     "execution_count": 44,
     "metadata": {
      "tags": []
     },
     "output_type": "execute_result"
    },
    {
     "data": {
      "image/png": "[encoded data removed]",
      "text/plain": [
       "<Figure size 576x1080 with 3 Axes>"
      ]
     },
     "metadata": {
      "tags": []
     },
     "output_type": "display_data"
    }
   ],
   "source": [
    "# create subplot plot\n",
    "df.head()\n",
    "fig, (ax) = plt.subplots(3,1,figsize=(8,15))\n",
    "sns.barplot(data=df,x=\"cp\",y=\"target\",estimator=sum,ax=ax[0])\n",
    "\n",
    "\n",
    "# create bar plot using groupby\n",
    "embark_perc = df[[\"cp\", \"target\"]].groupby(['cp'],as_index=False).mean()\n",
    "sns.barplot(x='cp', y='target', data=embark_perc,ax=ax[1])\n",
    "\n",
    "# # create count plot\n",
    "sns.countplot('cp',hue='target',data=df,ax=ax[2])\n"
   ]
  },
  {
   "cell_type": "markdown",
   "metadata": {
    "colab_type": "text",
    "id": "9Dh36JfAgU9c"
   },
   "source": [
    "#### Observation:\n",
    "\n",
    "  "
   ]
  },
  {
   "cell_type": "markdown",
   "metadata": {
    "colab_type": "text",
    "id": "YDGH52AQgU9c"
   },
   "source": [
    "### 1.8c) Create violinplot plot for checking the fasting_blood_sugar and Age vs target'. And your Observations?"
   ]
  },
  {
   "cell_type": "code",
   "execution_count": 32,
   "metadata": {
    "colab": {
     "base_uri": "https://localhost:8080/",
     "height": 300
    },
    "colab_type": "code",
    "id": "QZzv-Bj1gU9d",
    "outputId": "8b580c06-10bc-4d7f-94bf-f5a78e79d259"
   },
   "outputs": [
    {
     "data": {
      "text/plain": [
       "<matplotlib.axes._subplots.AxesSubplot at 0x7f5680605be0>"
      ]
     },
     "execution_count": 32,
     "metadata": {
      "tags": []
     },
     "output_type": "execute_result"
    },
    {
     "data": {
      "image/png": "[encoded data removed]",
      "text/plain": [
       "<Figure size 432x288 with 1 Axes>"
      ]
     },
     "metadata": {
      "tags": []
     },
     "output_type": "display_data"
    }
   ],
   "source": [
    "#create violinplot plot using groupby\n",
    "sns.violinplot(\"age\",\"target\", hue=\"fbs\", data=df,split=True)"
   ]
  },
  {
   "cell_type": "markdown",
   "metadata": {
    "colab_type": "text",
    "id": "hmNe2mYZgU9e"
   },
   "source": [
    "#### Observations:\n",
    "   "
   ]
  },
  {
   "cell_type": "markdown",
   "metadata": {
    "colab_type": "text",
    "id": "OP1j2aVPgU9f"
   },
   "source": [
    "## Box Plot\n",
    "a box plot or boxplot is a method for graphically depicting groups of numerical data through their quartiles. Box plots may also have lines extending vertically from the boxes (whiskers) indicating variability outside the upper and lower quartiles, "
   ]
  },
  {
   "cell_type": "markdown",
   "metadata": {
    "colab_type": "text",
    "id": "SVbLI2-HgU9f"
   },
   "source": [
    "### 1.8 d)create a box plot for Sex & Age . And your Observations?"
   ]
  },
  {
   "cell_type": "code",
   "execution_count": 33,
   "metadata": {
    "colab": {
     "base_uri": "https://localhost:8080/",
     "height": 300
    },
    "colab_type": "code",
    "id": "-TFBC39IgU9g",
    "outputId": "9f85c2a2-533c-4bc2-de72-eb6645e83fff",
    "scrolled": true
   },
   "outputs": [
    {
     "data": {
      "text/plain": [
       "<matplotlib.axes._subplots.AxesSubplot at 0x7f56804b2b38>"
      ]
     },
     "execution_count": 33,
     "metadata": {
      "tags": []
     },
     "output_type": "execute_result"
    },
    {
     "data": {
      "image/png": "[encoded data removed]",
      "text/plain": [
       "<Figure size 432x288 with 1 Axes>"
      ]
     },
     "metadata": {
      "tags": []
     },
     "output_type": "display_data"
    }
   ],
   "source": [
    "# create boxplot\n",
    "sns.boxplot(x='sex',y='age',data=df)"
   ]
  },
  {
   "cell_type": "markdown",
   "metadata": {
    "colab_type": "text",
    "id": "VDLeJ33OgU9j"
   },
   "source": [
    "### Observations: \n",
    "    "
   ]
  },
  {
   "cell_type": "markdown",
   "metadata": {
    "colab_type": "text",
    "id": "y-LDxwPhgU9k"
   },
   "source": [
    "# 1.9 Categorical vs. Categorical\n",
    "\n",
    "* Categorical: target, Sex."
   ]
  },
  {
   "cell_type": "markdown",
   "metadata": {
    "colab_type": "text",
    "id": "AeZsB4I7gU9l"
   },
   "source": [
    "### Stacked bar chart"
   ]
  },
  {
   "cell_type": "markdown",
   "metadata": {
    "colab_type": "text",
    "id": "MuZYgXVCgU9m"
   },
   "source": [
    "A stacked bar chart, also known as a stacked bar graph, is a graph that is used to break down and compare parts of a whole. Each bar in the chart represents a whole, and segments in the bar represent different parts or categories of that whole. Different colors are used to illustrate the different categories in the bar.\n",
    "\n"
   ]
  },
  {
   "cell_type": "markdown",
   "metadata": {
    "colab_type": "text",
    "id": "XWrBDJIUgU9n"
   },
   "source": [
    "### 1.9a) Create a Stacked bar chart for showing target & Sex. And your Observations?"
   ]
  },
  {
   "cell_type": "code",
   "execution_count": 36,
   "metadata": {
    "colab": {
     "base_uri": "https://localhost:8080/",
     "height": 324
    },
    "colab_type": "code",
    "id": "nISjCH64gU9n",
    "outputId": "cc599ea7-ab0e-4f9a-e87f-1aee86c73e7d",
    "scrolled": true
   },
   "outputs": [
    {
     "data": {
      "text/plain": [
       "<matplotlib.axes._subplots.AxesSubplot at 0x7f567fc39b38>"
      ]
     },
     "execution_count": 36,
     "metadata": {
      "tags": []
     },
     "output_type": "execute_result"
    },
    {
     "data": {
      "image/png": "[encoded data removed]",
      "text/plain": [
       "<Figure size 432x288 with 1 Axes>"
      ]
     },
     "metadata": {
      "tags": []
     },
     "output_type": "display_data"
    }
   ],
   "source": [
    "#create crosstab\n",
    "pd.crosstab(df.sex, df.target).apply(lambda r: r/r.sum(), axis=1)\n",
    "\n",
    "\n",
    "df_g = df.groupby(['sex'])['target'].agg([np.mean, lambda x: 1-np.mean(x)])\n",
    "df_g.columns = ['Died', 'Survived']\n",
    "df_g.plot.bar(stacked=True)"
   ]
  },
  {
   "cell_type": "markdown",
   "metadata": {
    "colab_type": "text",
    "id": "Nxe9681YgU9p"
   },
   "source": [
    "#### Observations:\n",
    "    \n",
    "    "
   ]
  },
  {
   "cell_type": "markdown",
   "metadata": {
    "colab_type": "text",
    "id": "K-YHQorUgU9q"
   },
   "source": [
    "# 1.10 Quantitative vs. Quantitative"
   ]
  },
  {
   "cell_type": "markdown",
   "metadata": {
    "colab_type": "text",
    "id": "h-yi92g0gU9q"
   },
   "source": [
    "### 1.10a) Create a scatter plot for showing age & st_depression. And your Observations?¶"
   ]
  },
  {
   "cell_type": "code",
   "execution_count": 39,
   "metadata": {
    "colab": {
     "base_uri": "https://localhost:8080/",
     "height": 300
    },
    "colab_type": "code",
    "id": "CTxWNB2CgU9r",
    "outputId": "a39c701a-e20d-4735-9ad2-9956030896d0",
    "scrolled": true
   },
   "outputs": [
    {
     "data": {
      "text/plain": [
       "<matplotlib.axes._subplots.AxesSubplot at 0x7f567fbeaef0>"
      ]
     },
     "execution_count": 39,
     "metadata": {
      "tags": []
     },
     "output_type": "execute_result"
    },
    {
     "data": {
      "image/png": "[encoded data removed]",
      "text/plain": [
       "<Figure size 432x288 with 1 Axes>"
      ]
     },
     "metadata": {
      "tags": []
     },
     "output_type": "display_data"
    }
   ],
   "source": [
    "sns.scatterplot(x=\"age\", y=\"oldpeak\", data=df)"
   ]
  },
  {
   "cell_type": "markdown",
   "metadata": {
    "colab_type": "text",
    "id": "8dHW4eNsgU9t"
   },
   "source": [
    "Observation:\n",
    "   "
   ]
  },
  {
   "cell_type": "markdown",
   "metadata": {
    "colab_type": "text",
    "id": "b1sYVJeogU9w"
   },
   "source": [
    "# 2. Seasonality and looking at trended data:\n"
   ]
  },
  {
   "cell_type": "markdown",
   "metadata": {
    "colab_type": "text",
    "id": "5Cxq0df4gU9w"
   },
   "source": [
    "### 2. 1 Create a Seasonality and looking at trended data. And write your Observations?\n"
   ]
  },
  {
   "cell_type": "code",
   "execution_count": 40,
   "metadata": {
    "colab": {
     "base_uri": "https://localhost:8080/",
     "height": 300
    },
    "colab_type": "code",
    "id": "rnAEzXJ9gU9w",
    "outputId": "60bbceb3-4973-4480-9e4a-44824441f22c"
   },
   "outputs": [
    {
     "data": {
      "text/plain": [
       "<matplotlib.axes._subplots.AxesSubplot at 0x7f567faee978>"
      ]
     },
     "execution_count": 40,
     "metadata": {
      "tags": []
     },
     "output_type": "execute_result"
    },
    {
     "data": {
      "image/png": "[encoded data removed]",
      "text/plain": [
       "<Figure size 432x288 with 1 Axes>"
      ]
     },
     "metadata": {
      "tags": []
     },
     "output_type": "display_data"
    }
   ],
   "source": [
    "#Load the data = AirPassengers.csv\n",
    "air = pd.read_csv('AirPassengers (1).csv')\n",
    "air['dateTime'] = pd.to_datetime(air.Month)\n",
    "# Plot subplot \n",
    "sns.lineplot(data=air, x='dateTime', y='#Passengers')"
   ]
  },
  {
   "cell_type": "markdown",
   "metadata": {
    "colab_type": "text",
    "id": "Cl1VP9Z2gU9y"
   },
   "source": [
    "Observations:\n"
   ]
  },
  {
   "cell_type": "markdown",
   "metadata": {
    "colab_type": "text",
    "id": "QrsJUF-fgU9y"
   },
   "source": [
    "# THE END"
   ]
  }
 ],
 "metadata": {
  "colab": {
   "name": "EDA-TakeHome-Questions-Day3.ipynb",
   "provenance": [],
   "toc_visible": true,
   "version": "0.3.2"
  },
  "kernelspec": {
   "display_name": "Python 3",
   "language": "python",
   "name": "python3"
  },
  "language_info": {
   "codemirror_mode": {
    "name": "ipython",
    "version": 3
   },
   "file_extension": ".py",
   "mimetype": "text/x-python",
   "name": "python",
   "nbconvert_exporter": "python",
   "pygments_lexer": "ipython3",
   "version": "3.7.3"
  }
 },
 "nbformat": 4,
 "nbformat_minor": 1
}
