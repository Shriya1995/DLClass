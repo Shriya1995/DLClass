{
 "cells": [
  {
   "cell_type": "markdown",
   "metadata": {},
   "source": [
    "#### 1.  Python Program to exchange the values of two numbers without using a temporary variable. "
   ]
  },
  {
   "cell_type": "code",
   "execution_count": null,
   "metadata": {
    "scrolled": true
   },
   "outputs": [],
   "source": [
    "def swap(a,b):\n",
    "    print(\"The values before swapping are a: {} and b: {}\".format(a,b))\n",
    "    a = a+b\n",
    "    b = a-b\n",
    "    a = a-b\n",
    "    print(\"The values after swapping are a: {} and b: {}\".format(a,b))"
   ]
  },
  {
   "cell_type": "code",
   "execution_count": null,
   "metadata": {},
   "outputs": [],
   "source": [
    "a = int(input(\"Enter the value of a:\"))\n",
    "b = int(input(\"Enter the value of b:\"))\n",
    "swap(a,b)"
   ]
  },
  {
   "cell_type": "markdown",
   "metadata": {},
   "source": [
    "#### 2. Write the python code for s = 'abc12321cba' which ever 'a' reaplce with 2?"
   ]
  },
  {
   "cell_type": "code",
   "execution_count": null,
   "metadata": {},
   "outputs": [],
   "source": [
    "help(str.replace)"
   ]
  },
  {
   "cell_type": "code",
   "execution_count": 2,
   "metadata": {},
   "outputs": [
    {
     "name": "stdout",
     "output_type": "stream",
     "text": [
      "2bc12321cb2\n"
     ]
    }
   ],
   "source": [
    "s = \"abc12321cba\"\n",
    "a = s.replace(\"a\",\"2\")\n",
    "print(a)"
   ]
  },
  {
   "cell_type": "markdown",
   "metadata": {},
   "source": [
    "#### 3. Python code for to  remove first character in string?"
   ]
  },
  {
   "cell_type": "code",
   "execution_count": 4,
   "metadata": {
    "scrolled": true
   },
   "outputs": [
    {
     "name": "stdout",
     "output_type": "stream",
     "text": [
      "['p', 'p', 'l', 'e']\n"
     ]
    }
   ],
   "source": [
    "a=\"apple\"\n",
    "l=list(a)\n",
    "del l[0]\n",
    "print(l)"
   ]
  },
  {
   "cell_type": "markdown",
   "metadata": {},
   "source": [
    "#### 4. Add the two strings "
   ]
  },
  {
   "cell_type": "code",
   "execution_count": 1,
   "metadata": {},
   "outputs": [
    {
     "name": "stdout",
     "output_type": "stream",
     "text": [
      "SHRIYAGUPTA\n"
     ]
    }
   ],
   "source": [
    "A=\"SHRIYA\"\n",
    "B=\"GUPTA\"\n",
    "print(A+B)\n"
   ]
  },
  {
   "cell_type": "markdown",
   "metadata": {},
   "source": [
    "#### 5. Combine two stirng with space?"
   ]
  },
  {
   "cell_type": "code",
   "execution_count": null,
   "metadata": {},
   "outputs": [],
   "source": [
    "A=\"SHRIYA\"\n",
    "B=\"GUPTA\"\n",
    "print(A+\" \"+B)"
   ]
  },
  {
   "cell_type": "markdown",
   "metadata": {},
   "source": [
    "#### 6.  Assign same values for multiple variables?"
   ]
  },
  {
   "cell_type": "code",
   "execution_count": null,
   "metadata": {},
   "outputs": [],
   "source": [
    "a=b=c=25\n",
    "print(a,b,c)"
   ]
  },
  {
   "cell_type": "markdown",
   "metadata": {},
   "source": [
    "#### 7. The height and weight of a person and calculate BMI of a person?\n"
   ]
  },
  {
   "cell_type": "code",
   "execution_count": null,
   "metadata": {},
   "outputs": [],
   "source": [
    "a=int(input(\"Enter height of a person\"))\n",
    "b=int(input(\"Enter weight of a person\"))\n",
    "BMI=(b*703)%a\n",
    "print(BMI)\n",
    "            \n",
    "      "
   ]
  },
  {
   "cell_type": "markdown",
   "metadata": {},
   "source": [
    "#### 8.Forumula area of circle = pi * r square"
   ]
  },
  {
   "cell_type": "code",
   "execution_count": null,
   "metadata": {},
   "outputs": [],
   "source": [
    "pi=3.14\n",
    "r=int(input(\"Enter the radius of circle\"))\n",
    "area=pi*r*r\n",
    "print(area)"
   ]
  },
  {
   "cell_type": "markdown",
   "metadata": {},
   "source": [
    "### IF Statement "
   ]
  },
  {
   "cell_type": "markdown",
   "metadata": {},
   "source": [
    "#### 1. x = 20 and y = 30. Write a pseudocode to find if x is less than y?"
   ]
  },
  {
   "cell_type": "raw",
   "metadata": {},
   "source": [
    "input x \n",
    "input y\n",
    "if x<y\n",
    "print yes\n"
   ]
  },
  {
   "cell_type": "markdown",
   "metadata": {},
   "source": [
    "# if-else Statement"
   ]
  },
  {
   "cell_type": "markdown",
   "metadata": {},
   "source": [
    "#### 1. Write a pseudocode to check if a student has passed a subject based on a string input (Yes, No)"
   ]
  },
  {
   "cell_type": "raw",
   "metadata": {},
   "source": [
    "input string if yes or no\n",
    "if yes, print passed\n",
    "else \n",
    "print failed"
   ]
  },
  {
   "cell_type": "markdown",
   "metadata": {},
   "source": [
    "#### 2. Take the password as an input and check if it is equal to 'great'. Show a message accordingly. Write a pseudocode for this."
   ]
  },
  {
   "cell_type": "raw",
   "metadata": {},
   "source": [
    "input password\n",
    "if password==\"great\"\n",
    "print (\"yes, great)\n",
    "else\n",
    "print(\"bad\")\n"
   ]
  },
  {
   "cell_type": "markdown",
   "metadata": {},
   "source": [
    "## Nested if Statement"
   ]
  },
  {
   "cell_type": "raw",
   "metadata": {},
   "source": [
    "1. Based on the users age, divide them in to three groups \n",
    "Group 1 : Age <18 , Minors who are not eligible to work\n",
    "Group 2 : 18<Age<60 , ELigible to work\n",
    "Group 3 : >60, Too old to work as per govt. regulations. \n",
    "\n",
    "Write a pseudocode for the same"
   ]
  },
  {
   "cell_type": "raw",
   "metadata": {},
   "source": [
    "input the age of the person\n",
    "if age<18 print(\"minors who are not eligible to work\")\n",
    "if 18<age60 print(\"eligible to work\")\n",
    "if age>60 print(\"too old to work as per govt regulation\")\n"
   ]
  },
  {
   "cell_type": "markdown",
   "metadata": {},
   "source": [
    "# While Loop"
   ]
  },
  {
   "cell_type": "raw",
   "metadata": {},
   "source": [
    "1. Take an integer as input from the user and print all the numbers from 0 to that number in reverse order. \n",
    "\n",
    "Example : if the input is 3, the output should be\n",
    "3\n",
    "2\n",
    "1\n"
   ]
  },
  {
   "cell_type": "markdown",
   "metadata": {},
   "source": []
  },
  {
   "cell_type": "raw",
   "metadata": {},
   "source": [
    "2.  Write a pseudocode to find the squares of all the numbers based on an input. \n",
    "\n",
    "Example : If the input is 10, the output should be\n",
    "1*1 ,2*2 ,3*3...... 10*10?\n",
    "\n"
   ]
  },
  {
   "cell_type": "code",
   "execution_count": 2,
   "metadata": {},
   "outputs": [
    {
     "name": "stdout",
     "output_type": "stream",
     "text": [
      "enter a number3\n",
      "3\n",
      "2\n",
      "1\n"
     ]
    }
   ],
   "source": [
    "a=int(input(\"enter a number\"))\n",
    "while (a>0):\n",
    "    print(a)\n",
    "    a=a-1\n",
    "    \n",
    "    \n"
   ]
  },
  {
   "cell_type": "code",
   "execution_count": 3,
   "metadata": {},
   "outputs": [
    {
     "name": "stdout",
     "output_type": "stream",
     "text": [
      "1*1 , 2*2 , 3*3 , 4*4 , 5*5 , 6*6 , 7*7 , 8*8 , 9*9 , 10*10 , "
     ]
    }
   ],
   "source": [
    "#question 2 : to find squares of all numbers based on an input\n",
    "for i in range(1,11):\n",
    "    print(str(i)+\"*\"+str(i)+\" ,\",end = \" \")"
   ]
  },
  {
   "cell_type": "markdown",
   "metadata": {},
   "source": [
    "# FOR LOOP"
   ]
  },
  {
   "cell_type": "raw",
   "metadata": {},
   "source": [
    "1. Write a pseudocode to print the multiplication table of a given number.\n",
    "\n",
    "Example : if the number is 3, the output should print the below :  \n",
    "3 X 1 = 3\n",
    "3 X 2 = 6\n",
    "...\n",
    "3 X 10 =30"
   ]
  },
  {
   "cell_type": "code",
   "execution_count": 4,
   "metadata": {},
   "outputs": [
    {
     "name": "stdout",
     "output_type": "stream",
     "text": [
      "3 * 1 = 3\n",
      "3 * 2 = 6\n",
      "3 * 3 = 9\n",
      "3 * 4 = 12\n",
      "3 * 5 = 15\n",
      "3 * 6 = 18\n",
      "3 * 7 = 21\n",
      "3 * 8 = 24\n",
      "3 * 9 = 27\n",
      "3 * 10 = 30\n"
     ]
    }
   ],
   "source": [
    "for i in range(1,11):\n",
    "    print(str(3)+\" * \"+str(i)+\" = \"+str(i*3))\n"
   ]
  },
  {
   "cell_type": "raw",
   "metadata": {},
   "source": [
    "\n"
   ]
  },
  {
   "cell_type": "markdown",
   "metadata": {},
   "source": [
    "#### 2. Write a pseudocode to print squares of all numbers present in a list = [1, 12, 24, 36, 11, 20,50]\n"
   ]
  },
  {
   "cell_type": "code",
   "execution_count": 5,
   "metadata": {},
   "outputs": [
    {
     "name": "stdout",
     "output_type": "stream",
     "text": [
      "1\n",
      "144\n",
      "576\n",
      "1296\n",
      "121\n",
      "400\n",
      "2500\n"
     ]
    }
   ],
   "source": [
    "list1=[1,12,24,36,11,20,50]\n",
    "for i in list1:\n",
    "    print(i*i)\n"
   ]
  },
  {
   "cell_type": "raw",
   "metadata": {},
   "source": []
  }
 ],
 "metadata": {
  "kernelspec": {
   "display_name": "Python 3",
   "language": "python",
   "name": "python3"
  },
  "language_info": {
   "codemirror_mode": {
    "name": "ipython",
    "version": 3
   },
   "file_extension": ".py",
   "mimetype": "text/x-python",
   "name": "python",
   "nbconvert_exporter": "python",
   "pygments_lexer": "ipython3",
   "version": "3.7.3"
  }
 },
 "nbformat": 4,
 "nbformat_minor": 2
}
