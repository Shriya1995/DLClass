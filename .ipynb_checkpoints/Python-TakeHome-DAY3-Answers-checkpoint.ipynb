{
 "cells": [
  {
   "cell_type": "markdown",
   "metadata": {},
   "source": [
    "### If Statement:"
   ]
  },
  {
   "cell_type": "markdown",
   "metadata": {},
   "source": [
    "#### 1. Write a python code to check if 120 is greater than 73 using if statement?"
   ]
  },
  {
   "cell_type": "raw",
   "metadata": {},
   "source": [
    "Assiging variable a is 73\n",
    "Assiging variable b is 120\n",
    "If condition for b>a than go to step 4\n",
    "print'b is greater than a'"
   ]
  },
  {
   "cell_type": "markdown",
   "metadata": {},
   "source": [
    "#### Write Python Code"
   ]
  },
  {
   "cell_type": "code",
   "execution_count": 2,
   "metadata": {
    "scrolled": true
   },
   "outputs": [
    {
     "name": "stdout",
     "output_type": "stream",
     "text": [
      "variable173\n",
      "variable2120\n",
      "b is greater than a\n"
     ]
    }
   ],
   "source": [
    "a=int(input(\"variable1\"))\n",
    "b=int(input(\"variable2\"))\n",
    "if(a<b):\n",
    "    print(\"b is greater than a\")"
   ]
  },
  {
   "cell_type": "markdown",
   "metadata": {},
   "source": [
    "### IF-ELSE Statement:"
   ]
  },
  {
   "cell_type": "markdown",
   "metadata": {},
   "source": [
    "#### 1. Write a python code which takes two numbers a = 123,b = 133 and prints the biggest number\n",
    "    condition 1 : b>a\n",
    "    condition 2 : else\n",
    "    print which is correct"
   ]
  },
  {
   "cell_type": "raw",
   "metadata": {},
   "source": [
    "Assiging variable a is 123\n",
    "Assiging variable b is 133\n",
    "if condition b>a then go to step 4 else goto step 5\n",
    "print b is greater than a\n",
    "print b is less than a"
   ]
  },
  {
   "cell_type": "markdown",
   "metadata": {},
   "source": [
    "#### Write Python Code"
   ]
  },
  {
   "cell_type": "code",
   "execution_count": 3,
   "metadata": {},
   "outputs": [
    {
     "name": "stdout",
     "output_type": "stream",
     "text": [
      "variable a123\n",
      "variable b133\n",
      "b is the biggest number\n"
     ]
    }
   ],
   "source": [
    "a=int(input(\"variable a\"))\n",
    "b=int(input(\"variable b\"))\n",
    "if (b>a):\n",
    "    print(\"b is the biggest number\")\n",
    "else:\n",
    "    print(\"a is the biggest number\")\n",
    "    "
   ]
  },
  {
   "cell_type": "markdown",
   "metadata": {},
   "source": [
    "### Nested-If Statement"
   ]
  },
  {
   "cell_type": "markdown",
   "metadata": {},
   "source": [
    "#### 1. Problem:Write a python code that takes an input from the user and shows if that number is positive or negative. Also, check if the number is two digit. "
   ]
  },
  {
   "cell_type": "raw",
   "metadata": {},
   "source": [
    "Assigning the num eqaul to 12\n",
    "if condition is num>0 the go to step 3, else go to step 4\n",
    "print the number positive\n",
    "print the number is negative\n",
    "Another if condition is -99<=num then go to step 6\n",
    "print twi digit negative number"
   ]
  },
  {
   "cell_type": "markdown",
   "metadata": {},
   "source": [
    "#### Write Python Code"
   ]
  },
  {
   "cell_type": "code",
   "execution_count": null,
   "metadata": {},
   "outputs": [],
   "source": [
    "num=int(input\"enter a number:\")\n",
    "if (num>0):\n",
    "    print(\"number is positive\")\n",
    "else:\n",
    "    print(\"number is negative\")"
   ]
  },
  {
   "cell_type": "markdown",
   "metadata": {},
   "source": [
    "## While Loop"
   ]
  },
  {
   "cell_type": "markdown",
   "metadata": {},
   "source": [
    "#### 1. Write a python code to give the below output\n",
    "    Input:10\n",
    "    Output:0,1,4,9,16,25,36,49,64,81"
   ]
  },
  {
   "cell_type": "raw",
   "metadata": {},
   "source": [
    "Take variable a = 0\n",
    "while condition is a less then 10 goto step 3\n",
    "    print condition is a**2\n",
    "    create increment a equal to a+1\n"
   ]
  },
  {
   "cell_type": "markdown",
   "metadata": {},
   "source": [
    "#### Write Python Code"
   ]
  },
  {
   "cell_type": "code",
   "execution_count": 4,
   "metadata": {},
   "outputs": [
    {
     "name": "stdout",
     "output_type": "stream",
     "text": [
      "0\n",
      "1\n",
      "4\n",
      "9\n",
      "16\n",
      "25\n",
      "36\n",
      "49\n",
      "64\n",
      "81\n"
     ]
    }
   ],
   "source": [
    "a=0\n",
    "while(a<10):\n",
    "    print(a**2)\n",
    "    a=a+1"
   ]
  },
  {
   "cell_type": "markdown",
   "metadata": {},
   "source": [
    "## For Loop"
   ]
  },
  {
   "cell_type": "markdown",
   "metadata": {},
   "source": [
    "#### 1. Use a range of 1 to 100 numbers and find out the sum of all the numbers between 1 and 100. \n",
    "    For the numbers in the range (1,100):1+2+3+4+5......+100 = 4950"
   ]
  },
  {
   "cell_type": "raw",
   "metadata": {},
   "source": [
    "Assigning the sum eqaul to 0\n",
    "For condition in range (1,100) than goto step 3\n",
    "sum = sum+value\n",
    "print the sum"
   ]
  },
  {
   "cell_type": "markdown",
   "metadata": {},
   "source": [
    "#### Write Python Code"
   ]
  },
  {
   "cell_type": "code",
   "execution_count": 9,
   "metadata": {},
   "outputs": [
    {
     "name": "stdout",
     "output_type": "stream",
     "text": [
      "4950\n"
     ]
    }
   ],
   "source": [
    "sum=0\n",
    "for i in range(1,100):\n",
    "    sum=sum+i\n",
    "    \n",
    "print(sum)\n",
    "\n"
   ]
  },
  {
   "cell_type": "markdown",
   "metadata": {},
   "source": [
    "### Some Python Programs"
   ]
  },
  {
   "cell_type": "markdown",
   "metadata": {},
   "source": [
    "#### 1. Write a program which will find all such numbers which are divisible by 7 but are not a multiple of 5, between 202 and 320 (both included)."
   ]
  },
  {
   "cell_type": "code",
   "execution_count": 10,
   "metadata": {},
   "outputs": [
    {
     "name": "stdout",
     "output_type": "stream",
     "text": [
      "203\n",
      "217\n",
      "224\n",
      "231\n",
      "238\n",
      "252\n",
      "259\n",
      "266\n",
      "273\n",
      "287\n",
      "294\n",
      "301\n",
      "308\n"
     ]
    }
   ],
   "source": [
    "for i in range(202,321):\n",
    "    if (i%7)==0 and (i%5)!=0 :\n",
    "        print(i)"
   ]
  },
  {
   "cell_type": "markdown",
   "metadata": {},
   "source": [
    "#### 2. With a given integral number n, write a program to generate a dictionary that contains the elements (i, i*i) \n",
    "    input:9\n",
    "\n",
    "    Output: {1: 1, 2: 4, 3: 9, 4: 16, 5: 25, 6: 36, 7: 49, 8: 64, 9: 81, 10: 100}"
   ]
  },
  {
   "cell_type": "code",
   "execution_count": 17,
   "metadata": {},
   "outputs": [
    {
     "name": "stdout",
     "output_type": "stream",
     "text": [
      "{1: 1, 2: 4, 3: 9, 4: 16, 5: 25, 6: 36, 7: 49, 8: 64, 9: 81, 10: 100}\n"
     ]
    }
   ],
   "source": [
    "dict1={}\n",
    "for i in range(1,11):\n",
    "    dict1[i]=i*i\n",
    "\n",
    "print(dict1)"
   ]
  },
  {
   "cell_type": "markdown",
   "metadata": {},
   "source": [
    "#### 3. Python Program to count the number of vowels in a string. Take the string input from the user."
   ]
  },
  {
   "cell_type": "code",
   "execution_count": 19,
   "metadata": {},
   "outputs": [
    {
     "name": "stdout",
     "output_type": "stream",
     "text": [
      "Enter string of your choiceshriya\n",
      "2\n"
     ]
    }
   ],
   "source": [
    "str1=str(input(\"Enter string of your choice\"))\n",
    "vowel=0\n",
    "for x in str1:\n",
    "    if (x=='a') or (x==\"e\") or (x==\"i\") or (x==\"o\") or (x==\"u\"):\n",
    "        vowel=vowel+1\n",
    "\n",
    "print(vowel)        "
   ]
  },
  {
   "cell_type": "markdown",
   "metadata": {},
   "source": [
    "### List comprehension"
   ]
  },
  {
   "cell_type": "markdown",
   "metadata": {},
   "source": [
    "#### 1. Use list comprehension to sort a given list of strings\n",
    "    Input: Great,learning,ML,world,python,Sql\n",
    "    Output: Great,ML,Sql,learning,python,world"
   ]
  },
  {
   "cell_type": "code",
   "execution_count": 24,
   "metadata": {},
   "outputs": [
    {
     "name": "stdout",
     "output_type": "stream",
     "text": [
      "['Great', 'ML', 'Sql', 'learning', 'python', 'world']\n"
     ]
    }
   ],
   "source": [
    "List1=[\"Great\",\"learning\",\"ML\",\"world\",\"python\",\"Sql\"]\n",
    "List1.sort()\n",
    "print(List1)"
   ]
  },
  {
   "cell_type": "markdown",
   "metadata": {},
   "source": [
    "#### 2. list comprehension\n",
    "\n",
    "    INPUT: 1,2,3,4,5,6\n",
    "\n",
    "    Output should be: 1,3,5"
   ]
  },
  {
   "cell_type": "code",
   "execution_count": 26,
   "metadata": {},
   "outputs": [
    {
     "name": "stdout",
     "output_type": "stream",
     "text": [
      "[1, 3, 5]\n"
     ]
    }
   ],
   "source": [
    "list5=[x for x in range(1,7) if (x%2)!=0]\n",
    "print(list5)\n"
   ]
  },
  {
   "cell_type": "code",
   "execution_count": null,
   "metadata": {},
   "outputs": [],
   "source": []
  }
 ],
 "metadata": {
  "kernelspec": {
   "display_name": "Python 3",
   "language": "python",
   "name": "python3"
  },
  "language_info": {
   "codemirror_mode": {
    "name": "ipython",
    "version": 3
   },
   "file_extension": ".py",
   "mimetype": "text/x-python",
   "name": "python",
   "nbconvert_exporter": "python",
   "pygments_lexer": "ipython3",
   "version": "3.7.3"
  }
 },
 "nbformat": 4,
 "nbformat_minor": 2
}
