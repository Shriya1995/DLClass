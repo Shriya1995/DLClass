{
 "cells": [
  {
   "cell_type": "markdown",
   "metadata": {},
   "source": [
    "# TAKE HOME LAB EXERCISE "
   ]
  },
  {
   "cell_type": "code",
   "execution_count": null,
   "metadata": {},
   "outputs": [],
   "source": [
    "import pandas as pd"
   ]
  },
  {
   "cell_type": "markdown",
   "metadata": {},
   "source": [
    "-----------------------"
   ]
  },
  {
   "cell_type": "markdown",
   "metadata": {},
   "source": [
    "**Q.no (1) . Write a code to load 'employees.csv' as `df`.** "
   ]
  },
  {
   "cell_type": "code",
   "execution_count": 50,
   "metadata": {},
   "outputs": [
    {
     "data": {
      "text/html": [
       "<div>\n",
       "<style scoped>\n",
       "    .dataframe tbody tr th:only-of-type {\n",
       "        vertical-align: middle;\n",
       "    }\n",
       "\n",
       "    .dataframe tbody tr th {\n",
       "        vertical-align: top;\n",
       "    }\n",
       "\n",
       "    .dataframe thead th {\n",
       "        text-align: right;\n",
       "    }\n",
       "</style>\n",
       "<table border=\"1\" class=\"dataframe\">\n",
       "  <thead>\n",
       "    <tr style=\"text-align: right;\">\n",
       "      <th></th>\n",
       "      <th>F_Name</th>\n",
       "      <th>S_Name</th>\n",
       "      <th>Sex</th>\n",
       "      <th>DOB</th>\n",
       "      <th>Department</th>\n",
       "      <th>Designation</th>\n",
       "      <th>Years_Exp</th>\n",
       "      <th>Location</th>\n",
       "      <th>salary</th>\n",
       "    </tr>\n",
       "  </thead>\n",
       "  <tbody>\n",
       "    <tr>\n",
       "      <th>0</th>\n",
       "      <td>A</td>\n",
       "      <td>W</td>\n",
       "      <td>Male</td>\n",
       "      <td>10/01/59</td>\n",
       "      <td>Management</td>\n",
       "      <td>Managing Director</td>\n",
       "      <td>7</td>\n",
       "      <td>Bangalore</td>\n",
       "      <td>12000000</td>\n",
       "    </tr>\n",
       "    <tr>\n",
       "      <th>1</th>\n",
       "      <td>A</td>\n",
       "      <td>W</td>\n",
       "      <td>Male</td>\n",
       "      <td>04/08/70</td>\n",
       "      <td>Management</td>\n",
       "      <td>Director</td>\n",
       "      <td>9</td>\n",
       "      <td>Bangalore</td>\n",
       "      <td>12000000</td>\n",
       "    </tr>\n",
       "    <tr>\n",
       "      <th>2</th>\n",
       "      <td>A</td>\n",
       "      <td>W</td>\n",
       "      <td>Male</td>\n",
       "      <td>15/08/76</td>\n",
       "      <td>Management</td>\n",
       "      <td>Director</td>\n",
       "      <td>7</td>\n",
       "      <td>Bangalore</td>\n",
       "      <td>12000000</td>\n",
       "    </tr>\n",
       "    <tr>\n",
       "      <th>3</th>\n",
       "      <td>A</td>\n",
       "      <td>W</td>\n",
       "      <td>Male</td>\n",
       "      <td>04/03/68</td>\n",
       "      <td>Management</td>\n",
       "      <td>CEO</td>\n",
       "      <td>3</td>\n",
       "      <td>Bangalore</td>\n",
       "      <td>12000000</td>\n",
       "    </tr>\n",
       "    <tr>\n",
       "      <th>4</th>\n",
       "      <td>A</td>\n",
       "      <td>W</td>\n",
       "      <td>Female</td>\n",
       "      <td>05/04/60</td>\n",
       "      <td>Management</td>\n",
       "      <td>CTO</td>\n",
       "      <td>4</td>\n",
       "      <td>Bangalore</td>\n",
       "      <td>12000000</td>\n",
       "    </tr>\n",
       "    <tr>\n",
       "      <th>5</th>\n",
       "      <td>B</td>\n",
       "      <td>W</td>\n",
       "      <td>Female</td>\n",
       "      <td>15/10/55</td>\n",
       "      <td>Management</td>\n",
       "      <td>CFO</td>\n",
       "      <td>4</td>\n",
       "      <td>Bangalore</td>\n",
       "      <td>12000000</td>\n",
       "    </tr>\n",
       "    <tr>\n",
       "      <th>6</th>\n",
       "      <td>B</td>\n",
       "      <td>W</td>\n",
       "      <td>Male</td>\n",
       "      <td>19/07/79</td>\n",
       "      <td>R&amp;D</td>\n",
       "      <td>Senior Engineer</td>\n",
       "      <td>6</td>\n",
       "      <td>Bangalore</td>\n",
       "      <td>5491873</td>\n",
       "    </tr>\n",
       "    <tr>\n",
       "      <th>7</th>\n",
       "      <td>B</td>\n",
       "      <td>W</td>\n",
       "      <td>Male</td>\n",
       "      <td>18/02/71</td>\n",
       "      <td>R&amp;D</td>\n",
       "      <td>Senior Engineer</td>\n",
       "      <td>5</td>\n",
       "      <td>Bangalore</td>\n",
       "      <td>7748571</td>\n",
       "    </tr>\n",
       "    <tr>\n",
       "      <th>8</th>\n",
       "      <td>B</td>\n",
       "      <td>W</td>\n",
       "      <td>Male</td>\n",
       "      <td>03/02/67</td>\n",
       "      <td>R&amp;D</td>\n",
       "      <td>Senior Engineer</td>\n",
       "      <td>2</td>\n",
       "      <td>Bangalore</td>\n",
       "      <td>6643336</td>\n",
       "    </tr>\n",
       "    <tr>\n",
       "      <th>9</th>\n",
       "      <td>B</td>\n",
       "      <td>W</td>\n",
       "      <td>Female</td>\n",
       "      <td>16/08/70</td>\n",
       "      <td>R&amp;D</td>\n",
       "      <td>Senior Engineer</td>\n",
       "      <td>7</td>\n",
       "      <td>Bangalore</td>\n",
       "      <td>4619672</td>\n",
       "    </tr>\n",
       "  </tbody>\n",
       "</table>\n",
       "</div>"
      ],
      "text/plain": [
       "  F_Name S_Name     Sex       DOB  Department        Designation  Years_Exp  \\\n",
       "0      A      W    Male  10/01/59  Management  Managing Director          7   \n",
       "1      A      W    Male  04/08/70  Management           Director          9   \n",
       "2      A      W    Male  15/08/76  Management           Director          7   \n",
       "3      A      W    Male  04/03/68  Management                CEO          3   \n",
       "4      A      W  Female  05/04/60  Management                CTO          4   \n",
       "5      B      W  Female  15/10/55  Management                CFO          4   \n",
       "6      B      W    Male  19/07/79         R&D    Senior Engineer          6   \n",
       "7      B      W    Male  18/02/71         R&D    Senior Engineer          5   \n",
       "8      B      W    Male  03/02/67         R&D    Senior Engineer          2   \n",
       "9      B      W  Female  16/08/70         R&D    Senior Engineer          7   \n",
       "\n",
       "    Location    salary  \n",
       "0  Bangalore  12000000  \n",
       "1  Bangalore  12000000  \n",
       "2  Bangalore  12000000  \n",
       "3  Bangalore  12000000  \n",
       "4  Bangalore  12000000  \n",
       "5  Bangalore  12000000  \n",
       "6  Bangalore   5491873  \n",
       "7  Bangalore   7748571  \n",
       "8  Bangalore   6643336  \n",
       "9  Bangalore   4619672  "
      ]
     },
     "execution_count": 50,
     "metadata": {},
     "output_type": "execute_result"
    }
   ],
   "source": [
    "import pandas as pd\n",
    "df=pd.read_csv(\"employee.csv\")\n",
    "df=df.drop('Id',axis=1)\n",
    "df.head(10)"
   ]
  },
  {
   "cell_type": "markdown",
   "metadata": {},
   "source": [
    "----------------"
   ]
  },
  {
   "cell_type": "markdown",
   "metadata": {},
   "source": [
    "**Q.no(2).Write a code to `MERGE`(`outer`)  df1 & df2 as `data`.** "
   ]
  },
  {
   "cell_type": "code",
   "execution_count": 33,
   "metadata": {},
   "outputs": [
    {
     "data": {
      "text/html": [
       "<div>\n",
       "<style scoped>\n",
       "    .dataframe tbody tr th:only-of-type {\n",
       "        vertical-align: middle;\n",
       "    }\n",
       "\n",
       "    .dataframe tbody tr th {\n",
       "        vertical-align: top;\n",
       "    }\n",
       "\n",
       "    .dataframe thead th {\n",
       "        text-align: right;\n",
       "    }\n",
       "</style>\n",
       "<table border=\"1\" class=\"dataframe\">\n",
       "  <thead>\n",
       "    <tr style=\"text-align: right;\">\n",
       "      <th></th>\n",
       "      <th>emp</th>\n",
       "      <th>dept</th>\n",
       "      <th>location</th>\n",
       "      <th>start</th>\n",
       "    </tr>\n",
       "  </thead>\n",
       "  <tbody>\n",
       "    <tr>\n",
       "      <th>0</th>\n",
       "      <td>anil</td>\n",
       "      <td>admin</td>\n",
       "      <td>blr</td>\n",
       "      <td>2004.0</td>\n",
       "    </tr>\n",
       "    <tr>\n",
       "      <th>1</th>\n",
       "      <td>raju</td>\n",
       "      <td>eng</td>\n",
       "      <td>hyd</td>\n",
       "      <td>2008.0</td>\n",
       "    </tr>\n",
       "    <tr>\n",
       "      <th>2</th>\n",
       "      <td>mahesh</td>\n",
       "      <td>eng</td>\n",
       "      <td>blr</td>\n",
       "      <td>NaN</td>\n",
       "    </tr>\n",
       "    <tr>\n",
       "      <th>3</th>\n",
       "      <td>bikram</td>\n",
       "      <td>hr</td>\n",
       "      <td>del</td>\n",
       "      <td>NaN</td>\n",
       "    </tr>\n",
       "    <tr>\n",
       "      <th>4</th>\n",
       "      <td>sunil</td>\n",
       "      <td>NaN</td>\n",
       "      <td>blr</td>\n",
       "      <td>2012.0</td>\n",
       "    </tr>\n",
       "    <tr>\n",
       "      <th>5</th>\n",
       "      <td>sandeep</td>\n",
       "      <td>NaN</td>\n",
       "      <td>del</td>\n",
       "      <td>2104.0</td>\n",
       "    </tr>\n",
       "  </tbody>\n",
       "</table>\n",
       "</div>"
      ],
      "text/plain": [
       "       emp   dept location   start\n",
       "0     anil  admin      blr  2004.0\n",
       "1     raju    eng      hyd  2008.0\n",
       "2   mahesh    eng      blr     NaN\n",
       "3   bikram     hr      del     NaN\n",
       "4    sunil    NaN      blr  2012.0\n",
       "5  sandeep    NaN      del  2104.0"
      ]
     },
     "execution_count": 33,
     "metadata": {},
     "output_type": "execute_result"
    }
   ],
   "source": [
    "df1=pd.read_csv(\"Dataset4.csv\")\n",
    "df2=pd.read_csv(\"Dataset5.csv\")\n",
    "dfm=pd.merge(df1,df2,how=\"outer\")\n",
    "dfm"
   ]
  },
  {
   "cell_type": "markdown",
   "metadata": {},
   "source": [
    "----------------"
   ]
  },
  {
   "cell_type": "markdown",
   "metadata": {},
   "source": [
    "**Q.no(3) . Write a code to `RENAME` the column from `salary` to `earnings`  of `employees dataset` and assign it to the new dataframe named as `data_01` .**"
   ]
  },
  {
   "cell_type": "code",
   "execution_count": 51,
   "metadata": {},
   "outputs": [
    {
     "data": {
      "text/html": [
       "<div>\n",
       "<style scoped>\n",
       "    .dataframe tbody tr th:only-of-type {\n",
       "        vertical-align: middle;\n",
       "    }\n",
       "\n",
       "    .dataframe tbody tr th {\n",
       "        vertical-align: top;\n",
       "    }\n",
       "\n",
       "    .dataframe thead th {\n",
       "        text-align: right;\n",
       "    }\n",
       "</style>\n",
       "<table border=\"1\" class=\"dataframe\">\n",
       "  <thead>\n",
       "    <tr style=\"text-align: right;\">\n",
       "      <th></th>\n",
       "      <th>F_Name</th>\n",
       "      <th>S_Name</th>\n",
       "      <th>Sex</th>\n",
       "      <th>DOB</th>\n",
       "      <th>Department</th>\n",
       "      <th>Designation</th>\n",
       "      <th>Years_Exp</th>\n",
       "      <th>Location</th>\n",
       "      <th>earnings</th>\n",
       "    </tr>\n",
       "  </thead>\n",
       "  <tbody>\n",
       "    <tr>\n",
       "      <th>0</th>\n",
       "      <td>A</td>\n",
       "      <td>W</td>\n",
       "      <td>Male</td>\n",
       "      <td>10/01/59</td>\n",
       "      <td>Management</td>\n",
       "      <td>Managing Director</td>\n",
       "      <td>7</td>\n",
       "      <td>Bangalore</td>\n",
       "      <td>12000000</td>\n",
       "    </tr>\n",
       "    <tr>\n",
       "      <th>1</th>\n",
       "      <td>A</td>\n",
       "      <td>W</td>\n",
       "      <td>Male</td>\n",
       "      <td>04/08/70</td>\n",
       "      <td>Management</td>\n",
       "      <td>Director</td>\n",
       "      <td>9</td>\n",
       "      <td>Bangalore</td>\n",
       "      <td>12000000</td>\n",
       "    </tr>\n",
       "    <tr>\n",
       "      <th>2</th>\n",
       "      <td>A</td>\n",
       "      <td>W</td>\n",
       "      <td>Male</td>\n",
       "      <td>15/08/76</td>\n",
       "      <td>Management</td>\n",
       "      <td>Director</td>\n",
       "      <td>7</td>\n",
       "      <td>Bangalore</td>\n",
       "      <td>12000000</td>\n",
       "    </tr>\n",
       "    <tr>\n",
       "      <th>3</th>\n",
       "      <td>A</td>\n",
       "      <td>W</td>\n",
       "      <td>Male</td>\n",
       "      <td>04/03/68</td>\n",
       "      <td>Management</td>\n",
       "      <td>CEO</td>\n",
       "      <td>3</td>\n",
       "      <td>Bangalore</td>\n",
       "      <td>12000000</td>\n",
       "    </tr>\n",
       "    <tr>\n",
       "      <th>4</th>\n",
       "      <td>A</td>\n",
       "      <td>W</td>\n",
       "      <td>Female</td>\n",
       "      <td>05/04/60</td>\n",
       "      <td>Management</td>\n",
       "      <td>CTO</td>\n",
       "      <td>4</td>\n",
       "      <td>Bangalore</td>\n",
       "      <td>12000000</td>\n",
       "    </tr>\n",
       "    <tr>\n",
       "      <th>5</th>\n",
       "      <td>B</td>\n",
       "      <td>W</td>\n",
       "      <td>Female</td>\n",
       "      <td>15/10/55</td>\n",
       "      <td>Management</td>\n",
       "      <td>CFO</td>\n",
       "      <td>4</td>\n",
       "      <td>Bangalore</td>\n",
       "      <td>12000000</td>\n",
       "    </tr>\n",
       "    <tr>\n",
       "      <th>6</th>\n",
       "      <td>B</td>\n",
       "      <td>W</td>\n",
       "      <td>Male</td>\n",
       "      <td>19/07/79</td>\n",
       "      <td>R&amp;D</td>\n",
       "      <td>Senior Engineer</td>\n",
       "      <td>6</td>\n",
       "      <td>Bangalore</td>\n",
       "      <td>5491873</td>\n",
       "    </tr>\n",
       "    <tr>\n",
       "      <th>7</th>\n",
       "      <td>B</td>\n",
       "      <td>W</td>\n",
       "      <td>Male</td>\n",
       "      <td>18/02/71</td>\n",
       "      <td>R&amp;D</td>\n",
       "      <td>Senior Engineer</td>\n",
       "      <td>5</td>\n",
       "      <td>Bangalore</td>\n",
       "      <td>7748571</td>\n",
       "    </tr>\n",
       "    <tr>\n",
       "      <th>8</th>\n",
       "      <td>B</td>\n",
       "      <td>W</td>\n",
       "      <td>Male</td>\n",
       "      <td>03/02/67</td>\n",
       "      <td>R&amp;D</td>\n",
       "      <td>Senior Engineer</td>\n",
       "      <td>2</td>\n",
       "      <td>Bangalore</td>\n",
       "      <td>6643336</td>\n",
       "    </tr>\n",
       "    <tr>\n",
       "      <th>9</th>\n",
       "      <td>B</td>\n",
       "      <td>W</td>\n",
       "      <td>Female</td>\n",
       "      <td>16/08/70</td>\n",
       "      <td>R&amp;D</td>\n",
       "      <td>Senior Engineer</td>\n",
       "      <td>7</td>\n",
       "      <td>Bangalore</td>\n",
       "      <td>4619672</td>\n",
       "    </tr>\n",
       "  </tbody>\n",
       "</table>\n",
       "</div>"
      ],
      "text/plain": [
       "  F_Name S_Name     Sex       DOB  Department        Designation  Years_Exp  \\\n",
       "0      A      W    Male  10/01/59  Management  Managing Director          7   \n",
       "1      A      W    Male  04/08/70  Management           Director          9   \n",
       "2      A      W    Male  15/08/76  Management           Director          7   \n",
       "3      A      W    Male  04/03/68  Management                CEO          3   \n",
       "4      A      W  Female  05/04/60  Management                CTO          4   \n",
       "5      B      W  Female  15/10/55  Management                CFO          4   \n",
       "6      B      W    Male  19/07/79         R&D    Senior Engineer          6   \n",
       "7      B      W    Male  18/02/71         R&D    Senior Engineer          5   \n",
       "8      B      W    Male  03/02/67         R&D    Senior Engineer          2   \n",
       "9      B      W  Female  16/08/70         R&D    Senior Engineer          7   \n",
       "\n",
       "    Location  earnings  \n",
       "0  Bangalore  12000000  \n",
       "1  Bangalore  12000000  \n",
       "2  Bangalore  12000000  \n",
       "3  Bangalore  12000000  \n",
       "4  Bangalore  12000000  \n",
       "5  Bangalore  12000000  \n",
       "6  Bangalore   5491873  \n",
       "7  Bangalore   7748571  \n",
       "8  Bangalore   6643336  \n",
       "9  Bangalore   4619672  "
      ]
     },
     "execution_count": 51,
     "metadata": {},
     "output_type": "execute_result"
    }
   ],
   "source": [
    "data_01=df.rename({\"salary\":\"earnings\"},axis=1)\n",
    "data_01.head(10)\n",
    "                   "
   ]
  },
  {
   "cell_type": "markdown",
   "metadata": {},
   "source": [
    "-----------------"
   ]
  },
  {
   "cell_type": "markdown",
   "metadata": {},
   "source": [
    "**Q.no(4) . Write a code to `drop` the column 'DOB' of `employees dataset` and assign it to the new dataframe named as `data_02`.** "
   ]
  },
  {
   "cell_type": "code",
   "execution_count": 52,
   "metadata": {},
   "outputs": [
    {
     "data": {
      "text/html": [
       "<div>\n",
       "<style scoped>\n",
       "    .dataframe tbody tr th:only-of-type {\n",
       "        vertical-align: middle;\n",
       "    }\n",
       "\n",
       "    .dataframe tbody tr th {\n",
       "        vertical-align: top;\n",
       "    }\n",
       "\n",
       "    .dataframe thead th {\n",
       "        text-align: right;\n",
       "    }\n",
       "</style>\n",
       "<table border=\"1\" class=\"dataframe\">\n",
       "  <thead>\n",
       "    <tr style=\"text-align: right;\">\n",
       "      <th></th>\n",
       "      <th>F_Name</th>\n",
       "      <th>S_Name</th>\n",
       "      <th>Sex</th>\n",
       "      <th>Department</th>\n",
       "      <th>Designation</th>\n",
       "      <th>Years_Exp</th>\n",
       "      <th>Location</th>\n",
       "      <th>salary</th>\n",
       "    </tr>\n",
       "  </thead>\n",
       "  <tbody>\n",
       "    <tr>\n",
       "      <th>0</th>\n",
       "      <td>A</td>\n",
       "      <td>W</td>\n",
       "      <td>Male</td>\n",
       "      <td>Management</td>\n",
       "      <td>Managing Director</td>\n",
       "      <td>7</td>\n",
       "      <td>Bangalore</td>\n",
       "      <td>12000000</td>\n",
       "    </tr>\n",
       "    <tr>\n",
       "      <th>1</th>\n",
       "      <td>A</td>\n",
       "      <td>W</td>\n",
       "      <td>Male</td>\n",
       "      <td>Management</td>\n",
       "      <td>Director</td>\n",
       "      <td>9</td>\n",
       "      <td>Bangalore</td>\n",
       "      <td>12000000</td>\n",
       "    </tr>\n",
       "    <tr>\n",
       "      <th>2</th>\n",
       "      <td>A</td>\n",
       "      <td>W</td>\n",
       "      <td>Male</td>\n",
       "      <td>Management</td>\n",
       "      <td>Director</td>\n",
       "      <td>7</td>\n",
       "      <td>Bangalore</td>\n",
       "      <td>12000000</td>\n",
       "    </tr>\n",
       "    <tr>\n",
       "      <th>3</th>\n",
       "      <td>A</td>\n",
       "      <td>W</td>\n",
       "      <td>Male</td>\n",
       "      <td>Management</td>\n",
       "      <td>CEO</td>\n",
       "      <td>3</td>\n",
       "      <td>Bangalore</td>\n",
       "      <td>12000000</td>\n",
       "    </tr>\n",
       "    <tr>\n",
       "      <th>4</th>\n",
       "      <td>A</td>\n",
       "      <td>W</td>\n",
       "      <td>Female</td>\n",
       "      <td>Management</td>\n",
       "      <td>CTO</td>\n",
       "      <td>4</td>\n",
       "      <td>Bangalore</td>\n",
       "      <td>12000000</td>\n",
       "    </tr>\n",
       "    <tr>\n",
       "      <th>5</th>\n",
       "      <td>B</td>\n",
       "      <td>W</td>\n",
       "      <td>Female</td>\n",
       "      <td>Management</td>\n",
       "      <td>CFO</td>\n",
       "      <td>4</td>\n",
       "      <td>Bangalore</td>\n",
       "      <td>12000000</td>\n",
       "    </tr>\n",
       "    <tr>\n",
       "      <th>6</th>\n",
       "      <td>B</td>\n",
       "      <td>W</td>\n",
       "      <td>Male</td>\n",
       "      <td>R&amp;D</td>\n",
       "      <td>Senior Engineer</td>\n",
       "      <td>6</td>\n",
       "      <td>Bangalore</td>\n",
       "      <td>5491873</td>\n",
       "    </tr>\n",
       "    <tr>\n",
       "      <th>7</th>\n",
       "      <td>B</td>\n",
       "      <td>W</td>\n",
       "      <td>Male</td>\n",
       "      <td>R&amp;D</td>\n",
       "      <td>Senior Engineer</td>\n",
       "      <td>5</td>\n",
       "      <td>Bangalore</td>\n",
       "      <td>7748571</td>\n",
       "    </tr>\n",
       "    <tr>\n",
       "      <th>8</th>\n",
       "      <td>B</td>\n",
       "      <td>W</td>\n",
       "      <td>Male</td>\n",
       "      <td>R&amp;D</td>\n",
       "      <td>Senior Engineer</td>\n",
       "      <td>2</td>\n",
       "      <td>Bangalore</td>\n",
       "      <td>6643336</td>\n",
       "    </tr>\n",
       "    <tr>\n",
       "      <th>9</th>\n",
       "      <td>B</td>\n",
       "      <td>W</td>\n",
       "      <td>Female</td>\n",
       "      <td>R&amp;D</td>\n",
       "      <td>Senior Engineer</td>\n",
       "      <td>7</td>\n",
       "      <td>Bangalore</td>\n",
       "      <td>4619672</td>\n",
       "    </tr>\n",
       "  </tbody>\n",
       "</table>\n",
       "</div>"
      ],
      "text/plain": [
       "  F_Name S_Name     Sex  Department        Designation  Years_Exp   Location  \\\n",
       "0      A      W    Male  Management  Managing Director          7  Bangalore   \n",
       "1      A      W    Male  Management           Director          9  Bangalore   \n",
       "2      A      W    Male  Management           Director          7  Bangalore   \n",
       "3      A      W    Male  Management                CEO          3  Bangalore   \n",
       "4      A      W  Female  Management                CTO          4  Bangalore   \n",
       "5      B      W  Female  Management                CFO          4  Bangalore   \n",
       "6      B      W    Male         R&D    Senior Engineer          6  Bangalore   \n",
       "7      B      W    Male         R&D    Senior Engineer          5  Bangalore   \n",
       "8      B      W    Male         R&D    Senior Engineer          2  Bangalore   \n",
       "9      B      W  Female         R&D    Senior Engineer          7  Bangalore   \n",
       "\n",
       "     salary  \n",
       "0  12000000  \n",
       "1  12000000  \n",
       "2  12000000  \n",
       "3  12000000  \n",
       "4  12000000  \n",
       "5  12000000  \n",
       "6   5491873  \n",
       "7   7748571  \n",
       "8   6643336  \n",
       "9   4619672  "
      ]
     },
     "execution_count": 52,
     "metadata": {},
     "output_type": "execute_result"
    }
   ],
   "source": [
    "data_02=df.drop(\"DOB\",axis=1)\n",
    "data_02.head(10)"
   ]
  },
  {
   "cell_type": "markdown",
   "metadata": {},
   "source": [
    "-----------------"
   ]
  },
  {
   "cell_type": "markdown",
   "metadata": {},
   "source": [
    "**Q.no(5) . Write a code to `drop` the `column no. 3 ` of `data_02` as per there `index position` .** "
   ]
  },
  {
   "cell_type": "code",
   "execution_count": 53,
   "metadata": {},
   "outputs": [
    {
     "data": {
      "text/html": [
       "<div>\n",
       "<style scoped>\n",
       "    .dataframe tbody tr th:only-of-type {\n",
       "        vertical-align: middle;\n",
       "    }\n",
       "\n",
       "    .dataframe tbody tr th {\n",
       "        vertical-align: top;\n",
       "    }\n",
       "\n",
       "    .dataframe thead th {\n",
       "        text-align: right;\n",
       "    }\n",
       "</style>\n",
       "<table border=\"1\" class=\"dataframe\">\n",
       "  <thead>\n",
       "    <tr style=\"text-align: right;\">\n",
       "      <th></th>\n",
       "      <th>F_Name</th>\n",
       "      <th>S_Name</th>\n",
       "      <th>Department</th>\n",
       "      <th>Designation</th>\n",
       "      <th>Years_Exp</th>\n",
       "      <th>Location</th>\n",
       "      <th>salary</th>\n",
       "    </tr>\n",
       "  </thead>\n",
       "  <tbody>\n",
       "    <tr>\n",
       "      <th>0</th>\n",
       "      <td>A</td>\n",
       "      <td>W</td>\n",
       "      <td>Management</td>\n",
       "      <td>Managing Director</td>\n",
       "      <td>7</td>\n",
       "      <td>Bangalore</td>\n",
       "      <td>12000000</td>\n",
       "    </tr>\n",
       "    <tr>\n",
       "      <th>1</th>\n",
       "      <td>A</td>\n",
       "      <td>W</td>\n",
       "      <td>Management</td>\n",
       "      <td>Director</td>\n",
       "      <td>9</td>\n",
       "      <td>Bangalore</td>\n",
       "      <td>12000000</td>\n",
       "    </tr>\n",
       "    <tr>\n",
       "      <th>2</th>\n",
       "      <td>A</td>\n",
       "      <td>W</td>\n",
       "      <td>Management</td>\n",
       "      <td>Director</td>\n",
       "      <td>7</td>\n",
       "      <td>Bangalore</td>\n",
       "      <td>12000000</td>\n",
       "    </tr>\n",
       "    <tr>\n",
       "      <th>3</th>\n",
       "      <td>A</td>\n",
       "      <td>W</td>\n",
       "      <td>Management</td>\n",
       "      <td>CEO</td>\n",
       "      <td>3</td>\n",
       "      <td>Bangalore</td>\n",
       "      <td>12000000</td>\n",
       "    </tr>\n",
       "    <tr>\n",
       "      <th>4</th>\n",
       "      <td>A</td>\n",
       "      <td>W</td>\n",
       "      <td>Management</td>\n",
       "      <td>CTO</td>\n",
       "      <td>4</td>\n",
       "      <td>Bangalore</td>\n",
       "      <td>12000000</td>\n",
       "    </tr>\n",
       "    <tr>\n",
       "      <th>5</th>\n",
       "      <td>B</td>\n",
       "      <td>W</td>\n",
       "      <td>Management</td>\n",
       "      <td>CFO</td>\n",
       "      <td>4</td>\n",
       "      <td>Bangalore</td>\n",
       "      <td>12000000</td>\n",
       "    </tr>\n",
       "    <tr>\n",
       "      <th>6</th>\n",
       "      <td>B</td>\n",
       "      <td>W</td>\n",
       "      <td>R&amp;D</td>\n",
       "      <td>Senior Engineer</td>\n",
       "      <td>6</td>\n",
       "      <td>Bangalore</td>\n",
       "      <td>5491873</td>\n",
       "    </tr>\n",
       "    <tr>\n",
       "      <th>7</th>\n",
       "      <td>B</td>\n",
       "      <td>W</td>\n",
       "      <td>R&amp;D</td>\n",
       "      <td>Senior Engineer</td>\n",
       "      <td>5</td>\n",
       "      <td>Bangalore</td>\n",
       "      <td>7748571</td>\n",
       "    </tr>\n",
       "    <tr>\n",
       "      <th>8</th>\n",
       "      <td>B</td>\n",
       "      <td>W</td>\n",
       "      <td>R&amp;D</td>\n",
       "      <td>Senior Engineer</td>\n",
       "      <td>2</td>\n",
       "      <td>Bangalore</td>\n",
       "      <td>6643336</td>\n",
       "    </tr>\n",
       "    <tr>\n",
       "      <th>9</th>\n",
       "      <td>B</td>\n",
       "      <td>W</td>\n",
       "      <td>R&amp;D</td>\n",
       "      <td>Senior Engineer</td>\n",
       "      <td>7</td>\n",
       "      <td>Bangalore</td>\n",
       "      <td>4619672</td>\n",
       "    </tr>\n",
       "  </tbody>\n",
       "</table>\n",
       "</div>"
      ],
      "text/plain": [
       "  F_Name S_Name  Department        Designation  Years_Exp   Location    salary\n",
       "0      A      W  Management  Managing Director          7  Bangalore  12000000\n",
       "1      A      W  Management           Director          9  Bangalore  12000000\n",
       "2      A      W  Management           Director          7  Bangalore  12000000\n",
       "3      A      W  Management                CEO          3  Bangalore  12000000\n",
       "4      A      W  Management                CTO          4  Bangalore  12000000\n",
       "5      B      W  Management                CFO          4  Bangalore  12000000\n",
       "6      B      W         R&D    Senior Engineer          6  Bangalore   5491873\n",
       "7      B      W         R&D    Senior Engineer          5  Bangalore   7748571\n",
       "8      B      W         R&D    Senior Engineer          2  Bangalore   6643336\n",
       "9      B      W         R&D    Senior Engineer          7  Bangalore   4619672"
      ]
     },
     "execution_count": 53,
     "metadata": {},
     "output_type": "execute_result"
    }
   ],
   "source": [
    "data_x=data_02.drop(data_02.columns[2],axis=1)\n",
    "data_x.head(10)"
   ]
  },
  {
   "cell_type": "markdown",
   "metadata": {},
   "source": [
    "-----------------"
   ]
  },
  {
   "cell_type": "markdown",
   "metadata": {},
   "source": [
    "**Q.no(6). Write a code to replace all the `1` in the `year of experience` to `2` of `data_02`and assign it to the new dataframe named as `data_03`.**"
   ]
  },
  {
   "cell_type": "code",
   "execution_count": 37,
   "metadata": {},
   "outputs": [
    {
     "data": {
      "text/plain": [
       "0    7\n",
       "1    9\n",
       "2    7\n",
       "3    3\n",
       "4    4\n",
       "5    4\n",
       "6    6\n",
       "7    5\n",
       "8    2\n",
       "9    7\n",
       "Name: Years_Exp, dtype: int64"
      ]
     },
     "execution_count": 37,
     "metadata": {},
     "output_type": "execute_result"
    }
   ],
   "source": [
    "data_03=data_02[\"Years_Exp\"].replace(1,2)\n",
    "data_03.head(10)"
   ]
  },
  {
   "cell_type": "markdown",
   "metadata": {},
   "source": [
    "-----------------"
   ]
  },
  {
   "cell_type": "markdown",
   "metadata": {},
   "source": [
    "**Q.no(7). Write a code to identify duplicates in `Designation` column and show a `count` of it from `data_02`.**"
   ]
  },
  {
   "cell_type": "code",
   "execution_count": 39,
   "metadata": {},
   "outputs": [
    {
     "data": {
      "text/plain": [
       "36"
      ]
     },
     "execution_count": 39,
     "metadata": {},
     "output_type": "execute_result"
    }
   ],
   "source": [
    "data_dp=data_02[data_02.duplicated(\"Designation\")]\n",
    "data_dp[\"Designation\"].count()"
   ]
  },
  {
   "cell_type": "markdown",
   "metadata": {},
   "source": [
    "--------------"
   ]
  },
  {
   "cell_type": "markdown",
   "metadata": {},
   "source": [
    "**Q.no(8). Write a code to show `average` `salary` of all the employees.**"
   ]
  },
  {
   "cell_type": "code",
   "execution_count": 40,
   "metadata": {},
   "outputs": [
    {
     "data": {
      "text/plain": [
       "6361413.64"
      ]
     },
     "execution_count": 40,
     "metadata": {},
     "output_type": "execute_result"
    }
   ],
   "source": [
    "data_02[\"salary\"].mean()"
   ]
  },
  {
   "cell_type": "markdown",
   "metadata": {},
   "source": [
    "---------------"
   ]
  },
  {
   "cell_type": "markdown",
   "metadata": {},
   "source": [
    "**Q.no(9). Write a code to show mostly `designated position` for all the employees from employees dataset.** "
   ]
  },
  {
   "cell_type": "code",
   "execution_count": 55,
   "metadata": {},
   "outputs": [
    {
     "data": {
      "text/plain": [
       "Senior Engineer                 7\n",
       "Junior Engineer                 6\n",
       "Manager                         5\n",
       "Financial Accountant            5\n",
       "Business Development Manager    5\n",
       "Name: Designation, dtype: int64"
      ]
     },
     "execution_count": 55,
     "metadata": {},
     "output_type": "execute_result"
    }
   ],
   "source": [
    "data_02[\"Designation\"].value_counts().head()"
   ]
  },
  {
   "cell_type": "markdown",
   "metadata": {},
   "source": [
    "----------------"
   ]
  },
  {
   "cell_type": "markdown",
   "metadata": {},
   "source": [
    "**Q.no(10). Write a code to show the `average salary` for all `individual` `'designations'`.**"
   ]
  },
  {
   "cell_type": "code",
   "execution_count": 47,
   "metadata": {},
   "outputs": [
    {
     "data": {
      "text/plain": [
       "Designation\n",
       "Business Development Manager    6.478631e+06\n",
       "CEO                             1.200000e+07\n",
       "CFO                             1.200000e+07\n",
       "CTO                             1.200000e+07\n",
       "Director                        1.200000e+07\n",
       "Financial Accountant            5.075276e+06\n",
       "Junior Engineer                 4.387178e+06\n",
       "Manager                         5.433516e+06\n",
       "Managing Director               1.200000e+07\n",
       "Marketing Manager               5.655196e+06\n",
       "Marketing Research Analyst      4.195794e+06\n",
       "Sales Consultant                5.950907e+06\n",
       "Sales Executive                 6.103663e+06\n",
       "Senior Engineer                 6.741181e+06\n",
       "Name: salary, dtype: float64"
      ]
     },
     "execution_count": 47,
     "metadata": {},
     "output_type": "execute_result"
    }
   ],
   "source": [
    "data_02.groupby([\"Designation\"])[\"salary\"].mean()"
   ]
  },
  {
   "cell_type": "markdown",
   "metadata": {},
   "source": [
    "-----------------"
   ]
  },
  {
   "cell_type": "markdown",
   "metadata": {},
   "source": [
    "**Q.no(11). Write a code to show how much do the `salary` is `skewed` in `employees dataset`.**"
   ]
  },
  {
   "cell_type": "code",
   "execution_count": 48,
   "metadata": {},
   "outputs": [
    {
     "data": {
      "text/plain": [
       "0.44302256672395685"
      ]
     },
     "execution_count": 48,
     "metadata": {},
     "output_type": "execute_result"
    }
   ],
   "source": [
    "data_02[\"salary\"].skew()"
   ]
  },
  {
   "cell_type": "markdown",
   "metadata": {},
   "source": [
    "-------------------------"
   ]
  },
  {
   "cell_type": "markdown",
   "metadata": {},
   "source": [
    "**Q.no(12). Write a code to show how much is the `kurtosis` in `salary` column for employees dataset.**"
   ]
  },
  {
   "cell_type": "code",
   "execution_count": 49,
   "metadata": {},
   "outputs": [
    {
     "data": {
      "text/plain": [
       "-0.5480818630814084"
      ]
     },
     "execution_count": 49,
     "metadata": {},
     "output_type": "execute_result"
    }
   ],
   "source": [
    "data_02[\"salary\"].kurtosis()"
   ]
  },
  {
   "cell_type": "markdown",
   "metadata": {},
   "source": [
    "# --------------------------------------- HAPPY LEARNING --------------------------------------------"
   ]
  },
  {
   "cell_type": "markdown",
   "metadata": {},
   "source": [
    "--------------------"
   ]
  }
 ],
 "metadata": {
  "kernelspec": {
   "display_name": "Python 3",
   "language": "python",
   "name": "python3"
  },
  "language_info": {
   "codemirror_mode": {
    "name": "ipython",
    "version": 3
   },
   "file_extension": ".py",
   "mimetype": "text/x-python",
   "name": "python",
   "nbconvert_exporter": "python",
   "pygments_lexer": "ipython3",
   "version": "3.7.3"
  }
 },
 "nbformat": 4,
 "nbformat_minor": 2
}
