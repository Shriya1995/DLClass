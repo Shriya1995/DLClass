{
 "cells": [
  {
   "cell_type": "markdown",
   "metadata": {},
   "source": [
    "# <center>PGP Data Science Engineering</center>\n",
    "## <center>Introduction to Programming – Mini Project:</center>\n"
   ]
  },
  {
   "cell_type": "markdown",
   "metadata": {},
   "source": [
    "### Problem 1:\n",
    "\n",
    "1. Write a program to calculate area of shapes. Your program should be capable of calculating the area of a square, rectangle, triangle and a circle. The user should be presented with options to select the shape. Based on which shape is chosed by the user, the program should ask for the appropriate input and print the resulting area on the screen.\n",
    "\n",
    "When the program is run, the screen should display something like this:\n",
    "\n",
    "**Which shape would you like to calculate the area for? Please enter the option number-**<br>\n",
    "**1. Square**<br>\n",
    "**2. Rectangle**<br>\n",
    "**3. Triangle**<br>\n",
    "**4. Circle**<br>\n",
    "**Enter Option: _**\n",
    "\n",
    "Say the user enters the option 1.\n",
    "\n",
    "**Please enter the length of a side: _**\n",
    "\n",
    "If the user enters a value of 5. The output should be:\n",
    "\n",
    "**The area of the square is 25**\n",
    "\n",
    "This program should indicate that the input is invalid if the user enters a character instead of a number as input. For instance if the user enters a value of ‘a’ instead of 5 in the previous example the program should prompt:\n",
    "\n",
    "**Invalid input, please enter a number: _**\n"
   ]
  },
  {
   "cell_type": "code",
   "execution_count": null,
   "metadata": {},
   "outputs": [],
   "source": [
    "def area(num):\n",
    "    if(num==1):\n",
    "        a=int(input(\"enter side\"))\n",
    "        area = a*a\n",
    "        return area\n",
    "    elif(num==2):\n",
    "        l=int(input(\"enter length\"))\n",
    "        b=int(input(\"enter breadth\"))\n",
    "        area=l*b\n",
    "        return area\n",
    "    elif(num==3):\n",
    "        ba=int(input(\"enter base\"))\n",
    "        he=int(input(\"enter height\"))\n",
    "        area=(ba*he)/2\n",
    "        return area\n",
    "    elif(num==4):\n",
    "        r=int(input(\"enter radius\"))\n",
    "        area=3.141*r*r\n",
    "        return area\n",
    "    else:\n",
    "        return \"invalid\"\n",
    "    \n",
    "\n",
    "num=int(input(\"enter choice\"))\n",
    "print(area(num))\n",
    "    "
   ]
  },
  {
   "cell_type": "markdown",
   "metadata": {},
   "source": [
    "### Problem 2:\n",
    "\n",
    "Create and encrypter in python based on the ceaser cipher. It is a substitution cipher where each character of the original text is shifted a certain number characters in the alphabet. Write a function that would require 2 arguments – the input text to be encrypted and a key. For eg: Given the input text ‘hello’ and the key 3, the resulting encryted text would be ‘khoor’. Here you can see that every character in the string hello is shifted by 3 characters. ‘h’ has shifted to ‘k’, ‘e’ has shifted to ‘h’ and so on. If a key of 5 were used, the resulting string would be ‘mjqqt’. This function should be capable of ignoring any characters which are not alphabets. Th2 character ‘z’ entered b\n",
    "y the user for a key of 3 would result in ‘c’.\n",
    "\n",
    "Usage:<br>\n",
    "**encrypt(‘hello world!’, 3)**<br>\n",
    "**‘khoor zruog!’**\n",
    "\n",
    "Similarly create decrypter which can decode the encryted text when provided the input text and key\n",
    "\n",
    "Usage:<br>\n",
    "**decrypt(‘khoor zruog!’, 3)**<br>\n",
    "**‘hello world!’**\n",
    "\n",
    "For the sake of simplicity you can assume that input solely consists of lowercase alphabets, spaces and punctuation symbols. Numbers in the input text would also be ignored similar to symbols."
   ]
  },
  {
   "cell_type": "code",
   "execution_count": 7,
   "metadata": {},
   "outputs": [
    {
     "name": "stdout",
     "output_type": "stream",
     "text": [
      "enter a stringxyz\n",
      "encrypt(e,E) or decrypt(d,D)e\n",
      "enter key3\n",
      "{|}"
     ]
    }
   ],
   "source": [
    "def encrypt(string,a):\n",
    "    x=string.lower()\n",
    "    for i in x:\n",
    "        if i in alphabet:\n",
    "            i=chr(ord(i)+a)\n",
    "        print(i,end=\"\")\n",
    "        \n",
    "\n",
    "def decrypt(string,a):\n",
    "    y = string.lower()\n",
    "    for j in y:\n",
    "        if j in alphabet:\n",
    "            j= chr(ord(j)-a)\n",
    "        print(j,end=\"\")\n",
    "        \n",
    "        \n",
    "alphabet = \"abcdefghijklmnopqrstuvwxyz\"\n",
    "string=input(\"enter a string\")\n",
    "e= input(\"encrypt(e,E) or decrypt(d,D)\")\n",
    "a= int(input(\"enter key\"))\n",
    "if(e=='e' or e=='E'):\n",
    "    encrypt(string,a)\n",
    "elif(e=='d' or e=='D'):\n",
    "    decrypt(string,a)\n",
    "else:\n",
    "    print(\"invalid\")\n"
   ]
  },
  {
   "cell_type": "code",
   "execution_count": null,
   "metadata": {},
   "outputs": [],
   "source": []
  }
 ],
 "metadata": {
  "kernelspec": {
   "display_name": "Python 3",
   "language": "python",
   "name": "python3"
  },
  "language_info": {
   "codemirror_mode": {
    "name": "ipython",
    "version": 3
   },
   "file_extension": ".py",
   "mimetype": "text/x-python",
   "name": "python",
   "nbconvert_exporter": "python",
   "pygments_lexer": "ipython3",
   "version": "3.7.3"
  }
 },
 "nbformat": 4,
 "nbformat_minor": 2
}
