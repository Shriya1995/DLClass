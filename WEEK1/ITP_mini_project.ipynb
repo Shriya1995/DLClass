{
 "cells": [
  {
   "cell_type": "markdown",
   "metadata": {},
   "source": [
    "# <center>PGP Data Science Engineering</center>\n",
    "## <center>Introduction to Programming – Mini Project:</center>\n"
   ]
  },
  {
   "cell_type": "markdown",
   "metadata": {},
   "source": [
    "### Problem 1:\n",
    "\n",
    "1. Write a program to calculate area of shapes. Your program should be capable of calculating the area of a square, rectangle, triangle and a circle. The user should be presented with options to select the shape. Based on which shape is chosed by the user, the program should ask for the appropriate input and print the resulting area on the screen.\n",
    "\n",
    "When the program is run, the screen should display something like this:\n",
    "\n",
    "**Which shape would you like to calculate the area for? Please enter the option number-**<br>\n",
    "**1. Square**<br>\n",
    "**2. Rectangle**<br>\n",
    "**3. Triangle**<br>\n",
    "**4. Circle**<br>\n",
    "**Enter Option: _**\n",
    "\n",
    "Say the user enters the option 1.\n",
    "\n",
    "**Please enter the length of a side: _**\n",
    "\n",
    "If the user enters a value of 5. The output should be:\n",
    "\n",
    "**The area of the square is 25**\n",
    "\n",
    "This program should indicate that the input is invalid if the user enters a character instead of a number as input. For instance if the user enters a value of ‘a’ instead of 5 in the previous example the program should prompt:\n",
    "\n",
    "**Invalid input, please enter a number: _**\n"
   ]
  },
  {
   "cell_type": "code",
   "execution_count": 17,
   "metadata": {},
   "outputs": [
    {
     "name": "stdout",
     "output_type": "stream",
     "text": [
      "Wanna more?\n",
      "Yes/NoYes\n",
      "Which shape would you like to calculate the area for? Please enter the option number-\n",
      "1. Square\n",
      "2. Rectangle\n",
      "3. Triangle\n",
      "4. Circle\n",
      "Enter option:1\n",
      "Enter length of a side3\n",
      "The area of the square is 9\n",
      "Wanna more?\n",
      "Yes/NoYes\n",
      "Which shape would you like to calculate the area for? Please enter the option number-\n",
      "1. Square\n",
      "2. Rectangle\n",
      "3. Triangle\n",
      "4. Circle\n",
      "Enter option:4\n",
      "Enter radius12\n",
      "The area of the circle is 452.3893421169302\n",
      "Wanna more?\n",
      "Yes/NoNo\n"
     ]
    }
   ],
   "source": [
    "import math\n",
    "def areaofshape():\n",
    "    print(\"Which shape would you like to calculate the area for? Please enter the option number-\")\n",
    "    print(\"1. Square\")\n",
    "    print(\"2. Rectangle\")\n",
    "    print(\"3. Triangle\")\n",
    "    print(\"4. Circle\")\n",
    "    try:\n",
    "        x=int(input(\"Enter option:\"))\n",
    "        if(x==1):\n",
    "            side=int(input(\"Enter length of a side\"))\n",
    "            area=side*side\n",
    "            print(\"The area of the square is {}\".format(area))\n",
    "        elif(x==2):\n",
    "            side1=int(input(\"Enter length\"))\n",
    "            side2=int(input(\"Enter breadth\"))\n",
    "            area=side1*side2\n",
    "            print(\"The area of the rectangle is {}\".format(area))\n",
    "        elif(x==3):\n",
    "            base=int(input(\"Enter base\"))\n",
    "            height=int(input(\"Enter height\"))\n",
    "            area=0.5*base*height\n",
    "            print(\"The area of the triangle is {}\".format(area))\n",
    "        elif(x==4):\n",
    "            radius=int(input(\"Enter radius\"))\n",
    "            area=math.pi*radius*radius\n",
    "            print(\"The area of the circle is {}\".format(area))\n",
    "        else:\n",
    "            print(\"Invalid input\")\n",
    "    except ValueError:\n",
    "        print(\"Invalid input\")\n",
    "\n",
    "while(1==1):\n",
    "    print(\"Wanna more?\")\n",
    "    x = input(\"Yes/No\")\n",
    "    if(x==\"No\"):\n",
    "        break\n",
    "    areaofshape()"
   ]
  },
  {
   "cell_type": "markdown",
   "metadata": {},
   "source": [
    "### Problem 2:\n",
    "\n",
    "Create and encrypter in python based on the ceaser cipher. It is a substitution cipher where each character of the original text is shifted a certain number characters in the alphabet. Write a function that would require 2 arguments – the input text to be encrypted and a key. For eg: Given the input text ‘hello’ and the key 3, the resulting encryted text would be ‘khoor’. Here you can see that every character in the string hello is shifted by 3 characters. ‘h’ has shifted to ‘k’, ‘e’ has shifted to ‘h’ and so on. If a key of 5 were used, the resulting string would be ‘mjqqt’. This function should be capable of ignoring any characters which are not alphabets. Th2 character ‘z’ entered b\n",
    "y the user for a key of 3 would result in ‘c’.\n",
    "\n",
    "Usage:<br>\n",
    "**encrypt(‘hello world!’, 3)**<br>\n",
    "**‘khoor zruog!’**\n",
    "\n",
    "Similarly create decrypter which can decode the encryted text when provided the input text and key\n",
    "\n",
    "Usage:<br>\n",
    "**decrypt(‘khoor zruog!’, 3)**<br>\n",
    "**‘hello world!’**\n",
    "\n",
    "For the sake of simplicity you can assume that input solely consists of lowercase alphabets, spaces and punctuation symbols. Numbers in the input text would also be ignored similar to symbols."
   ]
  },
  {
   "cell_type": "code",
   "execution_count": 28,
   "metadata": {},
   "outputs": [
    {
     "name": "stdout",
     "output_type": "stream",
     "text": [
      "khoor zruog!\n",
      "hello world!\n"
     ]
    }
   ],
   "source": [
    "def encrypt(string,shift):\n",
    "    for i in string:\n",
    "        if i.isalpha():\n",
    "            val=ord(i)\n",
    "            val+=shift\n",
    "            i=chr(val)\n",
    "        print(i,end='')\n",
    "    print()\n",
    "\n",
    "def decrypt(string,shift):\n",
    "    for i in string:\n",
    "        if i.isalpha():\n",
    "            val=ord(i)\n",
    "            val-=shift\n",
    "            i=chr(val)\n",
    "        print(i,end='')\n",
    "    print()\n",
    "encrypt(\"hello world!\",3)\n",
    "decrypt(\"khoor zruog!\",3)  "
   ]
  },
  {
   "cell_type": "code",
   "execution_count": null,
   "metadata": {},
   "outputs": [],
   "source": []
  }
 ],
 "metadata": {
  "kernelspec": {
   "display_name": "Python 3",
   "language": "python",
   "name": "python3"
  },
  "language_info": {
   "codemirror_mode": {
    "name": "ipython",
    "version": 3
   },
   "file_extension": ".py",
   "mimetype": "text/x-python",
   "name": "python",
   "nbconvert_exporter": "python",
   "pygments_lexer": "ipython3",
   "version": "3.7.3"
  }
 },
 "nbformat": 4,
 "nbformat_minor": 2
}
