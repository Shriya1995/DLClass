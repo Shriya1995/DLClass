{
 "cells": [
  {
   "cell_type": "markdown",
   "metadata": {
    "colab_type": "text",
    "id": "7bFX4eN0o9Ma"
   },
   "source": [
    "<span style=\"font-family: Arial; font-weight:bold;font-size:1em;color:#f0f0f0;\">.....................\n",
    "    <span style=\"font-family: Arial; font-weight:bold;font-size:3.2em;color:#5d067d;\">ITP EXAM SET -1 (Without Solution)"
   ]
  },
  {
   "cell_type": "code",
   "execution_count": null,
   "metadata": {},
   "outputs": [],
   "source": [
    "from IPython.display import Image\n",
    "Image('1.png')"
   ]
  },
  {
   "cell_type": "markdown",
   "metadata": {},
   "source": [
    "--------------"
   ]
  },
  {
   "cell_type": "markdown",
   "metadata": {
    "colab_type": "text",
    "id": "hEaO0m08o9Mh"
   },
   "source": [
    "# 4 Questions X 5 Marks = 20 Marks"
   ]
  },
  {
   "cell_type": "markdown",
   "metadata": {},
   "source": [
    "----------"
   ]
  },
  {
   "cell_type": "markdown",
   "metadata": {},
   "source": [
    "<span style=\"font-family: Arial; font-weight:bold;font-size:1.5em;color:#5d067d;\">1. Write a pseudocode and python program to Reverse a Given Number?"
   ]
  },
  {
   "cell_type": "markdown",
   "metadata": {},
   "source": [
    "**Hint:**     \n",
    "\n",
    "             INPUT:12345\n",
    "\n",
    "             OUTPUT:54321"
   ]
  },
  {
   "cell_type": "markdown",
   "metadata": {},
   "source": [
    "#### pseudocode:\n",
    "\n",
    "   "
   ]
  },
  {
   "cell_type": "markdown",
   "metadata": {},
   "source": [
    "1. Read a number 12345 into a variable\n",
    "2. print(a)\n",
    "3. Read str(a) into a as string can be indexed\n",
    "4. Read a[::-1] into b\n",
    "5. print(b)\n",
    "6. Read int(b) into b and print b "
   ]
  },
  {
   "cell_type": "markdown",
   "metadata": {},
   "source": [
    "#### Python Code:"
   ]
  },
  {
   "cell_type": "code",
   "execution_count": null,
   "metadata": {},
   "outputs": [],
   "source": [
    "a = 12345\n",
    "a = str(a)\n",
    "b = a[::-1]\n",
    "b = int(b)\n",
    "b"
   ]
  },
  {
   "cell_type": "markdown",
   "metadata": {
    "colab_type": "text",
    "id": "rnECmnEyo9M2"
   },
   "source": [
    "<span style=\"font-family: Arial; font-weight:bold;font-size:1.5em;color:#5d067d;\">2.Difference between break and continue statements?"
   ]
  },
  {
   "cell_type": "markdown",
   "metadata": {
    "colab_type": "text",
    "id": "jVJsD7XRo9M4"
   },
   "source": [
    "1. Break :\n",
    "    \n",
    "    \n",
    "2. Continue :\n",
    "  \n"
   ]
  },
  {
   "cell_type": "markdown",
   "metadata": {},
   "source": [
    "1. When we need to get the control out of the loop then we make use of Break\n",
    "2. And when we want to skip a particular iteration in a loop then we make use of continue"
   ]
  },
  {
   "cell_type": "markdown",
   "metadata": {},
   "source": [
    "## Example"
   ]
  },
  {
   "cell_type": "code",
   "execution_count": null,
   "metadata": {},
   "outputs": [],
   "source": [
    "i = 1\n",
    "while(i<10):\n",
    "    print('Val of i is :',i)\n",
    "    if(i==4):\n",
    "        break\n",
    "    i+=1"
   ]
  },
  {
   "cell_type": "code",
   "execution_count": null,
   "metadata": {},
   "outputs": [],
   "source": [
    "i = 1\n",
    "for i in range(1,11):\n",
    "    if(i==5):\n",
    "        continue\n",
    "    print('Val of i is :',i)"
   ]
  },
  {
   "cell_type": "markdown",
   "metadata": {
    "colab_type": "text",
    "id": "_0buB1M4o9Mi"
   },
   "source": [
    "<span style=\"font-family: Arial; font-weight:bold;font-size:1.5em;color:#5d067d;\">3.Write a program to print the sum of squares of first 10 natural numbers using lambda, map and reduce?"
   ]
  },
  {
   "cell_type": "code",
   "execution_count": null,
   "metadata": {},
   "outputs": [],
   "source": [
    "from functools import reduce\n",
    "ls = [i for i in range(1,11)]\n",
    "print(ls)\n",
    "fun = lambda x : x**2\n",
    "ls1 = list(map(fun,ls))\n",
    "print(ls1)\n",
    "ls2 = reduce(lambda x,y:x+y,ls1)\n",
    "print(ls2)"
   ]
  },
  {
   "cell_type": "markdown",
   "metadata": {
    "colab_type": "text",
    "id": "f9j1EIxDo9M6"
   },
   "source": [
    "<span style=\"font-family: Arial; font-weight:bold;font-size:1.5em;color:#5d067d;\">4.Write a program to replace the last element in a list with another list?\n",
    "\n",
    "    * list1 = [1, 3, 5, 7, 9, 10]\n",
    "    \n",
    "    * lilst2 = [20, 40, 60, 80]"
   ]
  },
  {
   "cell_type": "markdown",
   "metadata": {},
   "source": [
    "-----------"
   ]
  },
  {
   "cell_type": "code",
   "execution_count": null,
   "metadata": {},
   "outputs": [],
   "source": [
    "list1 = [1, 3, 5, 7, 9, 10]\n",
    "list2 = [20, 40, 60, 80]\n",
    "list1[-1] = list2\n",
    "list1"
   ]
  },
  {
   "cell_type": "markdown",
   "metadata": {
    "colab_type": "text",
    "id": "E_HG3-eMo9NS"
   },
   "source": [
    "# 5 Questions X 10 Marks = 50 Marks"
   ]
  },
  {
   "cell_type": "markdown",
   "metadata": {},
   "source": [
    "------------"
   ]
  },
  {
   "cell_type": "markdown",
   "metadata": {},
   "source": [
    "<span style=\"font-family: Arial; font-weight:bold;font-size:1.5em;color:#5d067d;\">1. Write a pseudocode and python Program to Find the Sum of the Series: 1 + 1/2 + 1/3 + ….. + 1/N?"
   ]
  },
  {
   "cell_type": "markdown",
   "metadata": {},
   "source": [
    "#### pseudocode:\n",
    "\n",
    " "
   ]
  },
  {
   "cell_type": "markdown",
   "metadata": {},
   "source": [
    "1. Store 0 in a variable named s to keep a track of sum\n",
    "2. Read n from the user\n",
    "3. for (i in range(1,11))\n",
    "    1. Store in s the value of s + (1/i)\n",
    "4. Print s"
   ]
  },
  {
   "cell_type": "markdown",
   "metadata": {},
   "source": [
    "#### Python Code:\n"
   ]
  },
  {
   "cell_type": "code",
   "execution_count": null,
   "metadata": {},
   "outputs": [],
   "source": [
    "s = 0\n",
    "for i in range(1,11):\n",
    "    s = s + (1/(i))\n",
    "print(s)"
   ]
  },
  {
   "cell_type": "markdown",
   "metadata": {
    "colab_type": "text",
    "id": "ecmvzWp-o9NH"
   },
   "source": [
    "<span style=\"font-family: Arial; font-weight:bold;font-size:1.5em;color:#5d067d;\">2.Write a program that accepts a string from the user and calculate the number of digits and letters present in the string?"
   ]
  },
  {
   "cell_type": "code",
   "execution_count": null,
   "metadata": {},
   "outputs": [],
   "source": [
    "st = input('Enter a string with digits and letters')\n",
    "let = [str.isalpha(i) for i in st]\n",
    "let_count = let.count(True)\n",
    "dig = [str.isdigit(i) for i in st]\n",
    "dig_count = dig.count(True)\n",
    "print('The number of Letters in the string is {} and the number of digits are {}'.format(let_count,dig_count))"
   ]
  },
  {
   "cell_type": "markdown",
   "metadata": {
    "colab_type": "text",
    "id": "RYzl6Uxso9NV"
   },
   "source": [
    "<span style=\"font-family: Arial; font-weight:bold;font-size:1.5em;color:#5d067d;\">3.Two list of integers are given, create a third list by user defined function such that it should contain only odd numbers from the first list and even numbers from the second list?\n",
    "\n",
    "    * list1 = [10, 20, 23, 11, 17]\n",
    "    * list2 = [13, 43, 24, 36, 12]"
   ]
  },
  {
   "cell_type": "code",
   "execution_count": null,
   "metadata": {},
   "outputs": [],
   "source": [
    "list1 = [10, 20, 23, 11, 17]\n",
    "list2 = [13, 43, 24, 36, 12]\n",
    "final_ls = []\n",
    "def fun(ls,ls1):\n",
    "    for i in range(len(ls)):\n",
    "        if(ls[i]%2!=0):\n",
    "            final_ls.append(ls[i])\n",
    "    for i in range(len(ls1)):\n",
    "        if(ls1[i]%2==0):\n",
    "            final_ls.append(ls1[i])\n",
    "    return final_ls"
   ]
  },
  {
   "cell_type": "code",
   "execution_count": null,
   "metadata": {},
   "outputs": [],
   "source": [
    "ls2 = fun(list1,list2)\n",
    "ls2"
   ]
  },
  {
   "cell_type": "markdown",
   "metadata": {
    "colab_type": "text",
    "id": "57p2YH0ao9Nf"
   },
   "source": [
    "<span style=\"font-family: Arial; font-weight:bold;font-size:1.5em;color:#5d067d;\">4. Write a Program to print inverted half pyramid using an asterisk (star) (get the row count from the user)?"
   ]
  },
  {
   "cell_type": "code",
   "execution_count": null,
   "metadata": {},
   "outputs": [],
   "source": [
    "i = 4\n",
    "while(i>0):\n",
    "    print('* '*i)\n",
    "    i-=1"
   ]
  },
  {
   "cell_type": "raw",
   "metadata": {
    "colab": {},
    "colab_type": "code",
    "id": "FdePqYDTo9Nh"
   },
   "source": [
    "* * * * \n",
    "* * * \n",
    "* * \n",
    "*"
   ]
  },
  {
   "cell_type": "markdown",
   "metadata": {
    "colab_type": "text",
    "id": "6bBm1F6oo9Ny"
   },
   "source": [
    "<span style=\"font-family: Arial; font-weight:bold;font-size:1.5em;color:#5d067d;\">5. Write a function to find the median of the given lists which are having odd and even count?"
   ]
  },
  {
   "cell_type": "markdown",
   "metadata": {},
   "source": [
    "lst = [21,3,4,5,12]"
   ]
  },
  {
   "cell_type": "markdown",
   "metadata": {},
   "source": [
    "2nd = [21,76,3,4,5,12]"
   ]
  },
  {
   "cell_type": "code",
   "execution_count": null,
   "metadata": {},
   "outputs": [],
   "source": [
    "ls1 = [21,3,4,5,12]\n",
    "ls2 = [21,76,3,4,5,12]\n",
    "med = 0\n",
    "def med(ls):\n",
    "    ls.sort()\n",
    "    if(len(ls)%2!=0):\n",
    "        med = ls[len(ls)//2]\n",
    "    else:\n",
    "        one = ls[len(ls)//2]\n",
    "        two = ls[(len(ls)//2)-1]\n",
    "        med = (one+two)/2\n",
    "    return med"
   ]
  },
  {
   "cell_type": "code",
   "execution_count": null,
   "metadata": {},
   "outputs": [],
   "source": [
    "median1 = med(ls1)\n",
    "median2 = med(ls2)\n",
    "\n",
    "print(median1,median2)"
   ]
  },
  {
   "cell_type": "markdown",
   "metadata": {},
   "source": [
    "---------"
   ]
  },
  {
   "cell_type": "markdown",
   "metadata": {},
   "source": [
    "## 1 Questions X 30 Marks = 30 Marks"
   ]
  },
  {
   "cell_type": "markdown",
   "metadata": {},
   "source": [
    "---------"
   ]
  },
  {
   "cell_type": "markdown",
   "metadata": {
    "colab_type": "text",
    "id": "wzRhch7Uo9OO"
   },
   "source": [
    "<span style=\"font-family: Arial; font-weight:bold;font-size:1.5em;color:#5d067d;\">1.A Write a program which accepts range of numbers from the user and prints all the armstrong numbers in that given interval?(10 MARKS)\n",
    "  \n",
    "  \n",
    "  * Note :A number is called Armstrong number if it is equal to the sum of the cubes of its own digits. \n",
    "            For example: 407 is an Armstrong number since 407 = 4*4*4 + 0*0*0 + 7*7*7\n",
    "   \n",
    "   * Output : Armstrong nos. in the given range (100,1000) - 153, 370, 371, 407\n",
    "    "
   ]
  },
  {
   "cell_type": "code",
   "execution_count": null,
   "metadata": {},
   "outputs": [],
   "source": [
    "a = '123'\n",
    "int(a[1])"
   ]
  },
  {
   "cell_type": "code",
   "execution_count": null,
   "metadata": {},
   "outputs": [],
   "source": [
    "print('Input the range of values seperated with a space :')\n",
    "st = input()\n",
    "st = st.split(' ')\n",
    "n1 = int(st[0])\n",
    "n2 = int(st[1])\n",
    "s = 0\n",
    "for i in range(n1,n2+1):\n",
    "    i = str(i)\n",
    "    s = (int(i[0])**3) + (int(i[1])**3) + (int(i[2])**3)\n",
    "    i = int(i)\n",
    "    if (i==s):\n",
    "        print('{} is an Armstrong Number'.format(i))"
   ]
  },
  {
   "cell_type": "markdown",
   "metadata": {
    "colab_type": "text",
    "id": "OmLB5YSpo9Og"
   },
   "source": [
    "<span style=\"font-family: Arial; font-weight:bold;font-size:1.5em;color:#5d067d;\">1.B Write a Python program to check the validity of password input by users?(10 MARKS)\n",
    "\n",
    "1.   List item\n",
    "2.   List item\n",
    "\n",
    "\n",
    "    * At least 1 letter between [a-z] and 1 letter between [A-Z].\n",
    "    * At least 1 number between [0-9].\n",
    "    * At least 1 character from [$#@].\n",
    "    * Minimum length 6 characters.\n",
    "    * Maximum length 16 characters."
   ]
  },
  {
   "cell_type": "code",
   "execution_count": null,
   "metadata": {},
   "outputs": [],
   "source": [
    "a = 'kus'\n",
    "len(a)"
   ]
  },
  {
   "cell_type": "code",
   "execution_count": 9,
   "metadata": {},
   "outputs": [
    {
     "name": "stdout",
     "output_type": "stream",
     "text": [
      "Enter your password: \n",
      "The password must contain :\n",
      "* At least 1 letter between [a-z] and 1 letter between [A-Z].* At least 1 number between [0-9].* At least 1 character from [$#@].* Minimum length 6 characters.* Maximum length 16 characters\n",
      "\n",
      "Kus8777@\n",
      "Password Accepted!\n"
     ]
    }
   ],
   "source": [
    "print('Enter your password: ')\n",
    "print('The password must contain :')\n",
    "print(\"* At least 1 letter between [a-z] and 1 letter between [A-Z].\\\n",
    "* At least 1 number between [0-9].\\\n",
    "* At least 1 character from [$#@].\\\n",
    "* Minimum length 6 characters.\\\n",
    "* Maximum length 16 characters\")\n",
    "print()\n",
    "pas = input()\n",
    "let = [str.isalpha(i) for i in pas]\n",
    "let_low = [str.islower(i) for i in pas]\n",
    "let_up = [str.isupper(i) for i in pas]\n",
    "let_dig = [str.isdigit(i) for i in pas]\n",
    "let_sp = [str.isalnum(i) for i in pas]\n",
    "total_len = len(pas)\n",
    "count_low = let_low.count(True)\n",
    "count_up = let_up.count(True)\n",
    "count_dig = let_dig.count(True)\n",
    "count_sp = total_len-count_low-count_up-count_dig\n",
    "\n",
    "if(total_len>6 and total_len<16):\n",
    "    if(count_low>0):\n",
    "        if(count_up>0):\n",
    "            if(count_dig>0):\n",
    "                if(count_sp>0):\n",
    "                    print('Password Accepted!')\n",
    "                else:\n",
    "                    print('Please Try Again')\n",
    "            else:\n",
    "                print('Please Try Again')\n",
    "        else:\n",
    "            print('Please Try Again')\n",
    "    else:\n",
    "        print('Please Try Again')\n",
    "else:\n",
    "    print('Please Try Again')"
   ]
  },
  {
   "cell_type": "markdown",
   "metadata": {
    "colab_type": "text",
    "id": "-GqiNBS3o9PH"
   },
   "source": [
    "<span style=\"font-family: Arial; font-weight:bold;font-size:1.5em;color:#5d067d;\">3.C Write a program to print Fibonacci Series?(10 MARKS)   "
   ]
  },
  {
   "cell_type": "code",
   "execution_count": 19,
   "metadata": {},
   "outputs": [],
   "source": [
    "def fibonacci(n): \n",
    "    a = 0\n",
    "    b = 1\n",
    "    if n < 0: \n",
    "        print(\"Incorrect input\") \n",
    "    elif n == 0: \n",
    "        return a \n",
    "    elif n == 1: \n",
    "        return b \n",
    "    else: \n",
    "        for i in range(2,n+1): \n",
    "            c = a + b \n",
    "            a = b \n",
    "            b = c \n",
    "        return c "
   ]
  },
  {
   "cell_type": "code",
   "execution_count": 21,
   "metadata": {},
   "outputs": [
    {
     "name": "stdout",
     "output_type": "stream",
     "text": [
      "34\n"
     ]
    }
   ],
   "source": [
    "print(fibonacci(9))"
   ]
  },
  {
   "cell_type": "markdown",
   "metadata": {},
   "source": [
    "<span style=\"font-family: Arial; font-weight:bold;font-size:3em;color:#95b80b;\"> THE END"
   ]
  },
  {
   "cell_type": "markdown",
   "metadata": {},
   "source": [
    "---------"
   ]
  }
 ],
 "metadata": {
  "colab": {
   "name": "IPT-Exam-Sampleset-New (1).ipynb",
   "provenance": [],
   "version": "0.3.2"
  },
  "kernelspec": {
   "display_name": "Python 3",
   "language": "python",
   "name": "python3"
  },
  "language_info": {
   "codemirror_mode": {
    "name": "ipython",
    "version": 3
   },
   "file_extension": ".py",
   "mimetype": "text/x-python",
   "name": "python",
   "nbconvert_exporter": "python",
   "pygments_lexer": "ipython3",
   "version": "3.7.3"
  }
 },
 "nbformat": 4,
 "nbformat_minor": 1
}
